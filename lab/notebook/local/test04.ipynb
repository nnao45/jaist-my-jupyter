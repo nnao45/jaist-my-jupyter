{
 "cells": [
  {
   "cell_type": "code",
   "execution_count": 1,
   "metadata": {
    "pycharm": {
     "name": "#%%\n"
    }
   },
   "outputs": [
    {
     "name": "stderr",
     "output_type": "stream",
     "text": [
      "/Users/s02435/ghq/github.com/nnao45/jaist-my-jupyter/.venv/lib/python3.8/site-packages/statsmodels/tools/_testing.py:19: FutureWarning: pandas.util.testing is deprecated. Use the functions in the public API at pandas.testing instead.\n",
      "  import pandas.util.testing as tm\n",
      "/Users/s02435/ghq/github.com/nnao45/jaist-my-jupyter/.venv/lib/python3.8/site-packages/statsmodels/tsa/base/tsa_model.py:8: FutureWarning: pandas.Int64Index is deprecated and will be removed from pandas in a future version. Use pandas.Index with the appropriate dtype instead.\n",
      "  from pandas import (to_datetime, Int64Index, DatetimeIndex, Period,\n",
      "/Users/s02435/ghq/github.com/nnao45/jaist-my-jupyter/.venv/lib/python3.8/site-packages/statsmodels/tsa/base/tsa_model.py:8: FutureWarning: pandas.Float64Index is deprecated and will be removed from pandas in a future version. Use pandas.Index with the appropriate dtype instead.\n",
      "  from pandas import (to_datetime, Int64Index, DatetimeIndex, Period,\n"
     ]
    }
   ],
   "source": [
    "%matplotlib inline\n",
    "import numpy as np\n",
    "import pandas as pd\n",
    "from sklearn.linear_model import Ridge, Lasso, ElasticNet\n",
    "from sklearn.metrics import mean_squared_error,r2_score\n",
    "from sklearn.model_selection import train_test_split, cross_val_score\n",
    "from sklearn import model_selection\n",
    "import matplotlib.pyplot as plt\n",
    "from sklearn.linear_model import LinearRegression, RidgeCV, LassoCV,ElasticNetCV\n",
    "from pyentrp import entropy as pyent\n",
    "import EntropyHub as EH\n",
    "import neurokit2 as nk\n",
    "import random\n",
    "import sampen\n",
    "import requests\n",
    "import io\n",
    "from pprint import pprint\n",
    "import os\n",
    "from sklearn import preprocessing\n",
    "from influxdb_client import InfluxDBClient, Point\n",
    "from influxdb_client.client.write_api import SYNCHRONOUS\n",
    "from influxdb_client.client.flux_table import FluxTable\n",
    "import datetime\n",
    "from typing import List, Callable\n",
    "import itertools\n",
    "import datetime\n",
    "from statsmodels.stats.diagnostic import breaks_cusumolsresid\n",
    "import npd_entropy\n",
    "from sidpy import *\n"
   ]
  },
  {
   "cell_type": "code",
   "execution_count": 2,
   "metadata": {
    "pycharm": {
     "name": "#%%\n"
    }
   },
   "outputs": [],
   "source": [
    "def compute_enet( x_train, y_train, alpha = 1.0, l1_ratio = 0.5) -> ElasticNet:\n",
    "    return ElasticNet(alpha=alpha, l1_ratio=l1_ratio).fit(x_train, y_train)\n",
    "\n",
    "def enet_loop(x, y, alpha = 1.0, l1_ratio = 0.5, batch_size = 300, incr = 30):\n",
    "    y_pred = pd.DataFrame([])\n",
    "    counter = batch_size\n",
    "    while len(x) > counter:\n",
    "        try:\n",
    "            x_train = x[counter-batch_size:counter]\n",
    "            y_train = y[counter-batch_size:counter]\n",
    "            x_test = x[counter:counter+incr].reshape(-1, 1)\n",
    "            enet = compute_enet(x_train, y_train, alpha, l1_ratio)\n",
    "            target_y_pred = enet.predict(x_test)\n",
    "            y_pred = y_pred.append(pd.DataFrame(target_y_pred), ignore_index=True)\n",
    "            counter += incr\n",
    "        except Exception as e:\n",
    "            print(e)\n",
    "            counter += incr\n",
    "    return y_pred"
   ]
  },
  {
   "cell_type": "code",
   "execution_count": 3,
   "metadata": {
    "pycharm": {
     "name": "#%%\n"
    }
   },
   "outputs": [],
   "source": [
    "def fuzzy_loop(ser: List[float], batch_size = 300) -> List[float]:\n",
    "    return [nk.entropy_fuzzy(np.array(ser[index-batch_size:index]))[0] for index in range(len(ser))[batch_size:]]"
   ]
  },
  {
   "cell_type": "code",
   "execution_count": 5,
   "metadata": {
    "pycharm": {
     "name": "#%%\n"
    }
   },
   "outputs": [],
   "source": [
    "# InfluxDBサーバーのIPアドレスとポート\n",
    "url = \"http://localhost:8086\"\n",
    "# 対象organization\n",
    "org = \"nnao45\"\n",
    "# 対象bucket\n",
    "bucket = \"lab\"\n",
    "# 発行したToken\n",
    "token = \"a5MLHcVrgLgeemWgvTnvNwx83ay4at6l9mmEjB8Zm8KxTr5VHYto-qYMyizBQ0tsORqdaxt3LK2xs1IjCnE6vw==\""
   ]
  },
  {
   "cell_type": "code",
   "execution_count": 7,
   "metadata": {
    "pycharm": {
     "name": "#%%\n"
    }
   },
   "outputs": [],
   "source": [
    "client = InfluxDBClient(url=url, token=token, org=org)\n",
    " \n",
    "write_api = client.write_api(write_options=SYNCHRONOUS)\n",
    "query_api = client.query_api()"
   ]
  },
  {
   "cell_type": "code",
   "execution_count": 8,
   "metadata": {
    "pycharm": {
     "name": "#%%\n"
    }
   },
   "outputs": [],
   "source": [
    "p = Point(\"my_measurement\").tag(\"location\", \"Prague\").field(\"temperature\", 25.3)\n",
    "write_api.write(bucket=bucket, record=p)"
   ]
  },
  {
   "cell_type": "code",
   "execution_count": 9,
   "metadata": {
    "pycharm": {
     "name": "#%%\n"
    }
   },
   "outputs": [
    {
     "data": {
      "text/plain": [
       "[<FluxTable: 9 columns, 1 records>]"
      ]
     },
     "execution_count": 9,
     "metadata": {},
     "output_type": "execute_result"
    }
   ],
   "source": [
    "query_api.query('from(bucket:\"' + bucket + '\") |> range(start: -10m)')\n"
   ]
  },
  {
   "cell_type": "code",
   "execution_count": 4,
   "metadata": {
    "pycharm": {
     "name": "#%%\n"
    }
   },
   "outputs": [],
   "source": [
    "def fetch_gatling_records(start_at: datetime.datetime, end_at: datetime.datetime):\n",
    "    tables: List[FluxTable] = query_api.query((\n",
    "        'from(bucket: \"' + bucket + '\")' +\n",
    "        ' |> range(start: ' + start_at.isoformat() + 'Z, stop: ' + end_at.isoformat() + 'Z)' +\n",
    "        ' |> filter(fn: (r) => r[\"_measurement\"] == \"gatlingLog\")' +\n",
    "        ' |> filter(fn: (r) => r[\"_field\"] == \"status\")' +\n",
    "        ' |> truncateTimeColumn(unit: 1s)' +\n",
    "        ' |> group(columns: [\"_time\"])' +\n",
    "        ' |> count()' +\n",
    "        ' |> yield(name: \"counts\")'\n",
    "    ))\n",
    "    return [[{\"timestamp\": row.values[\"_time\"], \"count\": row.values[\"_value\"]} for row in table.records][0] for table in tables]\n",
    "\n",
    "def fetch_top_records(measurement: str, tag: str, start_at: datetime.datetime, end_at: datetime.datetime):\n",
    "    tables: List[FluxTable] = query_api.query((\n",
    "        'cpu =' +\n",
    "        ' from(bucket: \"' + bucket + '\")' +\n",
    "        ' |> range(start: time(v: \"' + start_at.isoformat() + 'Z\"), stop: time(v: \"' + end_at.isoformat() + 'Z\"))' +\n",
    "        ' |> filter(fn: (r) => r[\"_measurement\"] == \"' + measurement + '\")' +\n",
    "        ' |> filter(fn: (r) => r[\"_field\"] == \"cpu\")' +\n",
    "        ' ' +\n",
    "        'mem =' +\n",
    "        ' from(bucket: \"' + bucket + '\")' +\n",
    "        ' |> range(start: time(v: \"' + start_at.isoformat() + 'Z\"), stop: time(v: \"' + end_at.isoformat() + 'Z\"))' +\n",
    "        ' |> filter(fn: (r) => r[\"_measurement\"] == \"' + measurement + '\")' +\n",
    "        ' |> filter(fn: (r) => r[\"_field\"] == \"mem\")' +\n",
    "        ' ' +\n",
    "        'join(tables: {t1: cpu, t2: mem}, on: [\"_time\", \"' + tag + '\"], method: \"inner\")' +\n",
    "        ' |> keep(columns: [\"_time\", \"' + tag +'\", \"_field_t1\", \"_field_t2\", \"_value_t1\", \"_value_t2\"])'\n",
    "        \n",
    "    ))\n",
    "    return [[row.values for row in table.records] for table in tables]"
   ]
  },
  {
   "cell_type": "code",
   "execution_count": 10,
   "metadata": {
    "pycharm": {
     "name": "#%%\n"
    }
   },
   "outputs": [],
   "source": [
    "gatling_01 = fetch_gatling_records(datetime.datetime(2022, 6, 1), datetime.datetime(2022, 6, 3))"
   ]
  },
  {
   "cell_type": "code",
   "execution_count": 15,
   "metadata": {
    "pycharm": {
     "name": "#%%\n"
    }
   },
   "outputs": [],
   "source": [
    "gatling_01_x = np.array([g[\"timestamp\"].timestamp() for g in gatling_01]).reshape(-1, 1)\n",
    "gatling_01_y = np.array([g[\"count\"] for g in gatling_01]).reshape(-1, 1)"
   ]
  },
  {
   "cell_type": "code",
   "execution_count": 16,
   "metadata": {
    "pycharm": {
     "name": "#%%\n"
    }
   },
   "outputs": [
    {
     "data": {
      "text/plain": [
       "[<matplotlib.lines.Line2D at 0x14b56f580>]"
      ]
     },
     "execution_count": 16,
     "metadata": {},
     "output_type": "execute_result"
    },
    {
     "data": {
      "image/png": "[encoded data removed]",
      "text/plain": [
       "<Figure size 432x288 with 1 Axes>"
      ]
     },
     "metadata": {
      "needs_background": "light"
     },
     "output_type": "display_data"
    }
   ],
   "source": [
    "plt.plot(gatling_01_x, gatling_01_y)"
   ]
  },
  {
   "cell_type": "code",
   "execution_count": null,
   "metadata": {
    "pycharm": {
     "name": "#%%\n"
    }
   },
   "outputs": [],
   "source": []
  }
 ],
 "metadata": {
  "interpreter": {
   "hash": "ed3e3cd7eaae78a028302f8c60b23327bead7311331f61381685cdcdea648c8d"
  },
  "kernelspec": {
   "display_name": "Python 3.9.1 ('.venv': poetry)",
   "language": "python",
   "name": "python3"
  },
  "language_info": {
   "codemirror_mode": {
    "name": "ipython",
    "version": 3
   },
   "file_extension": ".py",
   "mimetype": "text/x-python",
   "name": "python",
   "nbconvert_exporter": "python",
   "pygments_lexer": "ipython3",
   "version": "3.8.10"
  },
  "orig_nbformat": 4
 },
 "nbformat": 4,
 "nbformat_minor": 2
}