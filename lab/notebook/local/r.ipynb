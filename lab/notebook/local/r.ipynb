{
 "cells": [
  {
   "cell_type": "code",
   "execution_count": 3,
   "metadata": {},
   "outputs": [
    {
     "data": {
      "text/plain": [
       "\"try({source(file='scatter.R')})\\n\""
      ]
     },
     "execution_count": 3,
     "metadata": {},
     "output_type": "execute_result"
    }
   ],
   "source": [
    "import pyper\n",
    "import pandas as pd\n",
    "\n",
    "# Python で CSV のデータを読み出す\n",
    "wine = pd.read_csv(\"wine.csv\")\n",
    "\n",
    "# R のインスタンスを作る\n",
    "r = pyper.R(use_pandas='True')\n",
    "\n",
    "# Python のオブジェクトを R に渡す\n",
    "r.assign(\"data\", wine)\n",
    "\n",
    "# R のソースコードを実行する\n",
    "r(\"source(file='scatter.R')\")"
   ]
  },
  {
   "cell_type": "code",
   "execution_count": null,
   "metadata": {},
   "outputs": [],
   "source": []
  }
 ],
 "metadata": {
  "interpreter": {
   "hash": "ed3e3cd7eaae78a028302f8c60b23327bead7311331f61381685cdcdea648c8d"
  },
  "kernelspec": {
   "display_name": "Python 3.8.10 ('.venv': poetry)",
   "language": "python",
   "name": "python3"
  },
  "language_info": {
   "codemirror_mode": {
    "name": "ipython",
    "version": 3
   },
   "file_extension": ".py",
   "mimetype": "text/x-python",
   "name": "python",
   "nbconvert_exporter": "python",
   "pygments_lexer": "ipython3",
   "version": "3.8.10"
  },
  "orig_nbformat": 4
 },
 "nbformat": 4,
 "nbformat_minor": 2
}
