{
 "cells": [
  {
   "cell_type": "code",
   "execution_count": 1,
   "outputs": [],
   "source": [
    "%matplotlib inline\n",
    "import numpy as np\n",
    "import pandas as pd\n",
    "import sys\n",
    "import math\n",
    "from sklearn.linear_model import Ridge, Lasso, ElasticNet\n",
    "from sklearn.metrics import mean_squared_error,r2_score\n",
    "from sklearn.model_selection import train_test_split, cross_val_score\n",
    "from sklearn import model_selection\n",
    "import matplotlib.pyplot as plt\n",
    "from sklearn.linear_model import LinearRegression, RidgeCV, LassoCV,ElasticNetCV\n",
    "from pyentrp import entropy as pyent\n",
    "import EntropyHub as EH\n",
    "import neurokit2 as nk\n",
    "import random\n",
    "import sampen\n",
    "import requests\n",
    "import io\n",
    "from pprint import pprint\n",
    "import os\n",
    "from sklearn import preprocessing\n",
    "from influxdb_client import InfluxDBClient, Point\n",
    "from influxdb_client.client.write_api import SYNCHRONOUS\n",
    "from influxdb_client.client.flux_table import FluxTable\n",
    "from datetime import datetime, timedelta\n",
    "from typing import List\n",
    "import itertools\n",
    "from datetime import datetime\n",
    "import itertools\n",
    "from sklearn.tree import DecisionTreeRegressor"
   ],
   "metadata": {
    "collapsed": false,
    "pycharm": {
     "name": "#%%\n"
    }
   }
  },
  {
   "cell_type": "code",
   "execution_count": 2,
   "outputs": [
    {
     "data": {
      "text/plain": "                          date  size\n0    2022-11-26T14:01:04+00:00     7\n1    2022-11-26T14:01:05+00:00     7\n2    2022-11-26T14:01:07+00:00     7\n3    2022-11-26T14:01:08+00:00     7\n4    2022-11-26T14:01:09+00:00     7\n..                         ...   ...\n599  2022-11-26T14:12:31+00:00    28\n600  2022-11-26T14:12:32+00:00    28\n601  2022-11-26T14:12:34+00:00    28\n602  2022-11-26T14:12:35+00:00    28\n603  2022-11-26T14:12:36+00:00    28\n\n[604 rows x 2 columns]",
      "text/html": "<div>\n<style scoped>\n    .dataframe tbody tr th:only-of-type {\n        vertical-align: middle;\n    }\n\n    .dataframe tbody tr th {\n        vertical-align: top;\n    }\n\n    .dataframe thead th {\n        text-align: right;\n    }\n</style>\n<table border=\"1\" class=\"dataframe\">\n  <thead>\n    <tr style=\"text-align: right;\">\n      <th></th>\n      <th>date</th>\n      <th>size</th>\n    </tr>\n  </thead>\n  <tbody>\n    <tr>\n      <th>0</th>\n      <td>2022-11-26T14:01:04+00:00</td>\n      <td>7</td>\n    </tr>\n    <tr>\n      <th>1</th>\n      <td>2022-11-26T14:01:05+00:00</td>\n      <td>7</td>\n    </tr>\n    <tr>\n      <th>2</th>\n      <td>2022-11-26T14:01:07+00:00</td>\n      <td>7</td>\n    </tr>\n    <tr>\n      <th>3</th>\n      <td>2022-11-26T14:01:08+00:00</td>\n      <td>7</td>\n    </tr>\n    <tr>\n      <th>4</th>\n      <td>2022-11-26T14:01:09+00:00</td>\n      <td>7</td>\n    </tr>\n    <tr>\n      <th>...</th>\n      <td>...</td>\n      <td>...</td>\n    </tr>\n    <tr>\n      <th>599</th>\n      <td>2022-11-26T14:12:31+00:00</td>\n      <td>28</td>\n    </tr>\n    <tr>\n      <th>600</th>\n      <td>2022-11-26T14:12:32+00:00</td>\n      <td>28</td>\n    </tr>\n    <tr>\n      <th>601</th>\n      <td>2022-11-26T14:12:34+00:00</td>\n      <td>28</td>\n    </tr>\n    <tr>\n      <th>602</th>\n      <td>2022-11-26T14:12:35+00:00</td>\n      <td>28</td>\n    </tr>\n    <tr>\n      <th>603</th>\n      <td>2022-11-26T14:12:36+00:00</td>\n      <td>28</td>\n    </tr>\n  </tbody>\n</table>\n<p>604 rows × 2 columns</p>\n</div>"
     },
     "execution_count": 2,
     "metadata": {},
     "output_type": "execute_result"
    }
   ],
   "source": [
    "c_01 = pd.read_csv(\"hpq_20221126135959.log\", names=[\"date\", \"size\"])\n",
    "c_01"
   ],
   "metadata": {
    "collapsed": false,
    "pycharm": {
     "name": "#%%\n"
    }
   }
  },
  {
   "cell_type": "code",
   "execution_count": 3,
   "outputs": [
    {
     "data": {
      "text/plain": "9778"
     },
     "execution_count": 3,
     "metadata": {},
     "output_type": "execute_result"
    }
   ],
   "source": [
    "c_01[\"size\"].sum()"
   ],
   "metadata": {
    "collapsed": false,
    "pycharm": {
     "name": "#%%\n"
    }
   }
  },
  {
   "cell_type": "code",
   "execution_count": 4,
   "outputs": [],
   "source": [
    "def parse(path: str) -> pd.DataFrame:\n",
    "    # CSVから読み取る\n",
    "    try:\n",
    "        df = pd.read_csv(path,  delimiter='\\t', header=None, names=[ 'c{0:02d}'.format(i) for i in range(10) ])\n",
    "    except Exception as e:\n",
    "        raise(e)\n",
    "    df_target = df.to_numpy()\n",
    "\n",
    "    # いい感じに整形\n",
    "    requests = pd.DataFrame([{\"date\": datetime.fromtimestamp(float(d[4])/1000), \"status\": d[6], \"count\": 1} for d in df_target if (d[0] == \"REQUEST\" and not math.isnan(float(d[4])) )])\n",
    "    if len(requests) == 0:\n",
    "        return pd.DataFrame([])\n",
    "\n",
    "    # 1秒ごとにサマる\n",
    "    grouped1 = requests.groupby([pd.Grouper(key=(\"status\")),pd.Grouper(key=(\"date\"), freq=\"S\")]).sum().reset_index()\n",
    "\n",
    "    # 全部同じ数は困るので乱数を入れておく\n",
    "    for x in range(len(grouped1)):\n",
    "        grouped1.iat[x, 2] += np.random.rand() * sys.float_info.epsilon\n",
    "\n",
    "    return grouped1"
   ],
   "metadata": {
    "collapsed": false,
    "pycharm": {
     "name": "#%%\n"
    }
   }
  },
  {
   "cell_type": "code",
   "execution_count": 5,
   "outputs": [
    {
     "name": "stderr",
     "output_type": "stream",
     "text": [
      "/var/folders/zk/cf948rq56631k5dgzn62fkjm0000gn/T/ipykernel_14083/600845077.py:4: DtypeWarning: Columns (2,4,5) have mixed types. Specify dtype option on import or set low_memory=False.\n",
      "  df = pd.read_csv(path,  delimiter='\\t', header=None, names=[ 'c{0:02d}'.format(i) for i in range(10) ])\n"
     ]
    }
   ],
   "source": [
    "df_01 = parse(\"./simulation_bse.log\")"
   ],
   "metadata": {
    "collapsed": false,
    "pycharm": {
     "name": "#%%\n"
    }
   }
  },
  {
   "cell_type": "code",
   "execution_count": 6,
   "outputs": [],
   "source": [
    "def reg_tree() -> DecisionTreeRegressor:\n",
    "    X = [\n",
    "        [60],\n",
    "        [100],\n",
    "        [140],\n",
    "        [175],\n",
    "        [210],\n",
    "        [255],\n",
    "        [300],\n",
    "        [330],\n",
    "        [360],\n",
    "        [390],\n",
    "        [420],\n",
    "        [460],\n",
    "        [500],\n",
    "        [540],\n",
    "        [580],\n",
    "        [610],\n",
    "        [640],\n",
    "        [670],\n",
    "        [700],\n",
    "        [730],\n",
    "        [760],\n",
    "        [790],\n",
    "        [820],\n",
    "        [850],\n",
    "        [880],\n",
    "        [910],\n",
    "        [940],\n",
    "        [970],\n",
    "        [1000],\n",
    "        [1030],\n",
    "        [1060],\n",
    "    ]\n",
    "\n",
    "    y = [\n",
    "        4,\n",
    "        5,\n",
    "        6,\n",
    "        7,\n",
    "        8,\n",
    "        9,\n",
    "        10,\n",
    "        11,\n",
    "        12,\n",
    "        13,\n",
    "        14,\n",
    "        15,\n",
    "        16,\n",
    "        17,\n",
    "        18,\n",
    "        19,\n",
    "        20,\n",
    "        21,\n",
    "        22,\n",
    "        23,\n",
    "        24,\n",
    "        25,\n",
    "        26,\n",
    "        27,\n",
    "        28,\n",
    "        29,\n",
    "        30,\n",
    "        31,\n",
    "        32,\n",
    "        33,\n",
    "        34,\n",
    "    ]\n",
    "\n",
    "    return DecisionTreeRegressor().fit(X, y)"
   ],
   "metadata": {
    "collapsed": false,
    "pycharm": {
     "name": "#%%\n"
    }
   }
  },
  {
   "cell_type": "code",
   "execution_count": 7,
   "outputs": [],
   "source": [
    "def reg_tree_loop(ser: List[List[float]], batch_size = 50) -> List[float]:\n",
    "    return [max(reg_tree().predict(np.array(ser[index-batch_size:index]))) for index in range(len(ser))[batch_size:]]"
   ],
   "metadata": {
    "collapsed": false,
    "pycharm": {
     "name": "#%%\n"
    }
   }
  },
  {
   "cell_type": "code",
   "execution_count": 8,
   "outputs": [
    {
     "data": {
      "text/plain": "                         date  size\n0   2022-11-26 23:01:04+00:00     7\n1   2022-11-26 23:01:05+00:00     7\n2   2022-11-26 23:01:07+00:00     7\n3   2022-11-26 23:01:08+00:00     7\n4   2022-11-26 23:01:09+00:00     7\n..                        ...   ...\n599 2022-11-26 23:12:31+00:00    28\n600 2022-11-26 23:12:32+00:00    28\n601 2022-11-26 23:12:34+00:00    28\n602 2022-11-26 23:12:35+00:00    28\n603 2022-11-26 23:12:36+00:00    28\n\n[604 rows x 2 columns]",
      "text/html": "<div>\n<style scoped>\n    .dataframe tbody tr th:only-of-type {\n        vertical-align: middle;\n    }\n\n    .dataframe tbody tr th {\n        vertical-align: top;\n    }\n\n    .dataframe thead th {\n        text-align: right;\n    }\n</style>\n<table border=\"1\" class=\"dataframe\">\n  <thead>\n    <tr style=\"text-align: right;\">\n      <th></th>\n      <th>date</th>\n      <th>size</th>\n    </tr>\n  </thead>\n  <tbody>\n    <tr>\n      <th>0</th>\n      <td>2022-11-26 23:01:04+00:00</td>\n      <td>7</td>\n    </tr>\n    <tr>\n      <th>1</th>\n      <td>2022-11-26 23:01:05+00:00</td>\n      <td>7</td>\n    </tr>\n    <tr>\n      <th>2</th>\n      <td>2022-11-26 23:01:07+00:00</td>\n      <td>7</td>\n    </tr>\n    <tr>\n      <th>3</th>\n      <td>2022-11-26 23:01:08+00:00</td>\n      <td>7</td>\n    </tr>\n    <tr>\n      <th>4</th>\n      <td>2022-11-26 23:01:09+00:00</td>\n      <td>7</td>\n    </tr>\n    <tr>\n      <th>...</th>\n      <td>...</td>\n      <td>...</td>\n    </tr>\n    <tr>\n      <th>599</th>\n      <td>2022-11-26 23:12:31+00:00</td>\n      <td>28</td>\n    </tr>\n    <tr>\n      <th>600</th>\n      <td>2022-11-26 23:12:32+00:00</td>\n      <td>28</td>\n    </tr>\n    <tr>\n      <th>601</th>\n      <td>2022-11-26 23:12:34+00:00</td>\n      <td>28</td>\n    </tr>\n    <tr>\n      <th>602</th>\n      <td>2022-11-26 23:12:35+00:00</td>\n      <td>28</td>\n    </tr>\n    <tr>\n      <th>603</th>\n      <td>2022-11-26 23:12:36+00:00</td>\n      <td>28</td>\n    </tr>\n  </tbody>\n</table>\n<p>604 rows × 2 columns</p>\n</div>"
     },
     "execution_count": 8,
     "metadata": {},
     "output_type": "execute_result"
    }
   ],
   "source": [
    "replaced_c_01 = c_01\n",
    "replaced_c_01[\"date\"] = pd.to_datetime(c_01[\"date\"], utc = False) + pd.to_timedelta(9, unit='h')\n",
    "replaced_c_01"
   ],
   "metadata": {
    "collapsed": false,
    "pycharm": {
     "name": "#%%\n"
    }
   }
  },
  {
   "cell_type": "code",
   "execution_count": 9,
   "outputs": [
    {
     "name": "stderr",
     "output_type": "stream",
     "text": [
      "/var/folders/zk/cf948rq56631k5dgzn62fkjm0000gn/T/ipykernel_14083/3566697410.py:2: SettingWithCopyWarning: \n",
      "A value is trying to be set on a copy of a slice from a DataFrame.\n",
      "Try using .loc[row_indexer,col_indexer] = value instead\n",
      "\n",
      "See the caveats in the documentation: https://pandas.pydata.org/pandas-docs/stable/user_guide/indexing.html#returning-a-view-versus-a-copy\n",
      "  replaced_df_01[\"date\"] = pd.to_datetime(df_01[\"date\"], utc=True)\n"
     ]
    },
    {
     "data": {
      "text/plain": "    status                      date  count\n26      OK 2022-11-26 23:01:04+00:00   26.0\n27      OK 2022-11-26 23:01:05+00:00  233.0\n28      OK 2022-11-26 23:01:06+00:00  183.0\n29      OK 2022-11-26 23:01:07+00:00  209.0\n30      OK 2022-11-26 23:01:08+00:00  214.0\n..     ...                       ...    ...\n712     OK 2022-11-26 23:12:30+00:00  422.0\n713     OK 2022-11-26 23:12:31+00:00  406.0\n714     OK 2022-11-26 23:12:32+00:00  385.0\n715     OK 2022-11-26 23:12:33+00:00  414.0\n716     OK 2022-11-26 23:12:34+00:00  343.0\n\n[691 rows x 3 columns]",
      "text/html": "<div>\n<style scoped>\n    .dataframe tbody tr th:only-of-type {\n        vertical-align: middle;\n    }\n\n    .dataframe tbody tr th {\n        vertical-align: top;\n    }\n\n    .dataframe thead th {\n        text-align: right;\n    }\n</style>\n<table border=\"1\" class=\"dataframe\">\n  <thead>\n    <tr style=\"text-align: right;\">\n      <th></th>\n      <th>status</th>\n      <th>date</th>\n      <th>count</th>\n    </tr>\n  </thead>\n  <tbody>\n    <tr>\n      <th>26</th>\n      <td>OK</td>\n      <td>2022-11-26 23:01:04+00:00</td>\n      <td>26.0</td>\n    </tr>\n    <tr>\n      <th>27</th>\n      <td>OK</td>\n      <td>2022-11-26 23:01:05+00:00</td>\n      <td>233.0</td>\n    </tr>\n    <tr>\n      <th>28</th>\n      <td>OK</td>\n      <td>2022-11-26 23:01:06+00:00</td>\n      <td>183.0</td>\n    </tr>\n    <tr>\n      <th>29</th>\n      <td>OK</td>\n      <td>2022-11-26 23:01:07+00:00</td>\n      <td>209.0</td>\n    </tr>\n    <tr>\n      <th>30</th>\n      <td>OK</td>\n      <td>2022-11-26 23:01:08+00:00</td>\n      <td>214.0</td>\n    </tr>\n    <tr>\n      <th>...</th>\n      <td>...</td>\n      <td>...</td>\n      <td>...</td>\n    </tr>\n    <tr>\n      <th>712</th>\n      <td>OK</td>\n      <td>2022-11-26 23:12:30+00:00</td>\n      <td>422.0</td>\n    </tr>\n    <tr>\n      <th>713</th>\n      <td>OK</td>\n      <td>2022-11-26 23:12:31+00:00</td>\n      <td>406.0</td>\n    </tr>\n    <tr>\n      <th>714</th>\n      <td>OK</td>\n      <td>2022-11-26 23:12:32+00:00</td>\n      <td>385.0</td>\n    </tr>\n    <tr>\n      <th>715</th>\n      <td>OK</td>\n      <td>2022-11-26 23:12:33+00:00</td>\n      <td>414.0</td>\n    </tr>\n    <tr>\n      <th>716</th>\n      <td>OK</td>\n      <td>2022-11-26 23:12:34+00:00</td>\n      <td>343.0</td>\n    </tr>\n  </tbody>\n</table>\n<p>691 rows × 3 columns</p>\n</div>"
     },
     "execution_count": 9,
     "metadata": {},
     "output_type": "execute_result"
    }
   ],
   "source": [
    "replaced_df_01 = df_01[df_01[\"status\"] != \"KO\"]\n",
    "replaced_df_01[\"date\"] = pd.to_datetime(df_01[\"date\"], utc=True)\n",
    "replaced_df_01"
   ],
   "metadata": {
    "collapsed": false,
    "pycharm": {
     "name": "#%%\n"
    }
   }
  },
  {
   "cell_type": "code",
   "execution_count": 10,
   "outputs": [
    {
     "data": {
      "text/plain": "    status                      date  count  size\n0       OK 2022-11-26 23:01:04+00:00   26.0     7\n1       OK 2022-11-26 23:01:05+00:00  233.0     7\n2       OK 2022-11-26 23:01:07+00:00  209.0     7\n3       OK 2022-11-26 23:01:08+00:00  214.0     7\n4       OK 2022-11-26 23:01:09+00:00  194.0     7\n..     ...                       ...    ...   ...\n597     OK 2022-11-26 23:12:29+00:00  420.0    28\n598     OK 2022-11-26 23:12:30+00:00  422.0    28\n599     OK 2022-11-26 23:12:31+00:00  406.0    28\n600     OK 2022-11-26 23:12:32+00:00  385.0    28\n601     OK 2022-11-26 23:12:34+00:00  343.0    28\n\n[602 rows x 4 columns]",
      "text/html": "<div>\n<style scoped>\n    .dataframe tbody tr th:only-of-type {\n        vertical-align: middle;\n    }\n\n    .dataframe tbody tr th {\n        vertical-align: top;\n    }\n\n    .dataframe thead th {\n        text-align: right;\n    }\n</style>\n<table border=\"1\" class=\"dataframe\">\n  <thead>\n    <tr style=\"text-align: right;\">\n      <th></th>\n      <th>status</th>\n      <th>date</th>\n      <th>count</th>\n      <th>size</th>\n    </tr>\n  </thead>\n  <tbody>\n    <tr>\n      <th>0</th>\n      <td>OK</td>\n      <td>2022-11-26 23:01:04+00:00</td>\n      <td>26.0</td>\n      <td>7</td>\n    </tr>\n    <tr>\n      <th>1</th>\n      <td>OK</td>\n      <td>2022-11-26 23:01:05+00:00</td>\n      <td>233.0</td>\n      <td>7</td>\n    </tr>\n    <tr>\n      <th>2</th>\n      <td>OK</td>\n      <td>2022-11-26 23:01:07+00:00</td>\n      <td>209.0</td>\n      <td>7</td>\n    </tr>\n    <tr>\n      <th>3</th>\n      <td>OK</td>\n      <td>2022-11-26 23:01:08+00:00</td>\n      <td>214.0</td>\n      <td>7</td>\n    </tr>\n    <tr>\n      <th>4</th>\n      <td>OK</td>\n      <td>2022-11-26 23:01:09+00:00</td>\n      <td>194.0</td>\n      <td>7</td>\n    </tr>\n    <tr>\n      <th>...</th>\n      <td>...</td>\n      <td>...</td>\n      <td>...</td>\n      <td>...</td>\n    </tr>\n    <tr>\n      <th>597</th>\n      <td>OK</td>\n      <td>2022-11-26 23:12:29+00:00</td>\n      <td>420.0</td>\n      <td>28</td>\n    </tr>\n    <tr>\n      <th>598</th>\n      <td>OK</td>\n      <td>2022-11-26 23:12:30+00:00</td>\n      <td>422.0</td>\n      <td>28</td>\n    </tr>\n    <tr>\n      <th>599</th>\n      <td>OK</td>\n      <td>2022-11-26 23:12:31+00:00</td>\n      <td>406.0</td>\n      <td>28</td>\n    </tr>\n    <tr>\n      <th>600</th>\n      <td>OK</td>\n      <td>2022-11-26 23:12:32+00:00</td>\n      <td>385.0</td>\n      <td>28</td>\n    </tr>\n    <tr>\n      <th>601</th>\n      <td>OK</td>\n      <td>2022-11-26 23:12:34+00:00</td>\n      <td>343.0</td>\n      <td>28</td>\n    </tr>\n  </tbody>\n</table>\n<p>602 rows × 4 columns</p>\n</div>"
     },
     "execution_count": 10,
     "metadata": {},
     "output_type": "execute_result"
    }
   ],
   "source": [
    "merged_01 = pd.merge(replaced_df_01, replaced_c_01, left_on=\"date\", right_on=\"date\")\n",
    "merged_01"
   ],
   "metadata": {
    "collapsed": false,
    "pycharm": {
     "name": "#%%\n"
    }
   }
  },
  {
   "cell_type": "code",
   "execution_count": 11,
   "outputs": [
    {
     "data": {
      "text/plain": "    status                      date  count  size  expected_size\n0       OK 2022-11-26 23:01:04+00:00   26.0     7            4.0\n1       OK 2022-11-26 23:01:05+00:00  233.0     7            9.0\n2       OK 2022-11-26 23:01:07+00:00  209.0     7            8.0\n3       OK 2022-11-26 23:01:08+00:00  214.0     7            8.0\n4       OK 2022-11-26 23:01:09+00:00  194.0     7            8.0\n..     ...                       ...    ...   ...            ...\n597     OK 2022-11-26 23:12:29+00:00  420.0    28           14.0\n598     OK 2022-11-26 23:12:30+00:00  422.0    28           14.0\n599     OK 2022-11-26 23:12:31+00:00  406.0    28           14.0\n600     OK 2022-11-26 23:12:32+00:00  385.0    28           13.0\n601     OK 2022-11-26 23:12:34+00:00  343.0    28           11.0\n\n[602 rows x 5 columns]",
      "text/html": "<div>\n<style scoped>\n    .dataframe tbody tr th:only-of-type {\n        vertical-align: middle;\n    }\n\n    .dataframe tbody tr th {\n        vertical-align: top;\n    }\n\n    .dataframe thead th {\n        text-align: right;\n    }\n</style>\n<table border=\"1\" class=\"dataframe\">\n  <thead>\n    <tr style=\"text-align: right;\">\n      <th></th>\n      <th>status</th>\n      <th>date</th>\n      <th>count</th>\n      <th>size</th>\n      <th>expected_size</th>\n    </tr>\n  </thead>\n  <tbody>\n    <tr>\n      <th>0</th>\n      <td>OK</td>\n      <td>2022-11-26 23:01:04+00:00</td>\n      <td>26.0</td>\n      <td>7</td>\n      <td>4.0</td>\n    </tr>\n    <tr>\n      <th>1</th>\n      <td>OK</td>\n      <td>2022-11-26 23:01:05+00:00</td>\n      <td>233.0</td>\n      <td>7</td>\n      <td>9.0</td>\n    </tr>\n    <tr>\n      <th>2</th>\n      <td>OK</td>\n      <td>2022-11-26 23:01:07+00:00</td>\n      <td>209.0</td>\n      <td>7</td>\n      <td>8.0</td>\n    </tr>\n    <tr>\n      <th>3</th>\n      <td>OK</td>\n      <td>2022-11-26 23:01:08+00:00</td>\n      <td>214.0</td>\n      <td>7</td>\n      <td>8.0</td>\n    </tr>\n    <tr>\n      <th>4</th>\n      <td>OK</td>\n      <td>2022-11-26 23:01:09+00:00</td>\n      <td>194.0</td>\n      <td>7</td>\n      <td>8.0</td>\n    </tr>\n    <tr>\n      <th>...</th>\n      <td>...</td>\n      <td>...</td>\n      <td>...</td>\n      <td>...</td>\n      <td>...</td>\n    </tr>\n    <tr>\n      <th>597</th>\n      <td>OK</td>\n      <td>2022-11-26 23:12:29+00:00</td>\n      <td>420.0</td>\n      <td>28</td>\n      <td>14.0</td>\n    </tr>\n    <tr>\n      <th>598</th>\n      <td>OK</td>\n      <td>2022-11-26 23:12:30+00:00</td>\n      <td>422.0</td>\n      <td>28</td>\n      <td>14.0</td>\n    </tr>\n    <tr>\n      <th>599</th>\n      <td>OK</td>\n      <td>2022-11-26 23:12:31+00:00</td>\n      <td>406.0</td>\n      <td>28</td>\n      <td>14.0</td>\n    </tr>\n    <tr>\n      <th>600</th>\n      <td>OK</td>\n      <td>2022-11-26 23:12:32+00:00</td>\n      <td>385.0</td>\n      <td>28</td>\n      <td>13.0</td>\n    </tr>\n    <tr>\n      <th>601</th>\n      <td>OK</td>\n      <td>2022-11-26 23:12:34+00:00</td>\n      <td>343.0</td>\n      <td>28</td>\n      <td>11.0</td>\n    </tr>\n  </tbody>\n</table>\n<p>602 rows × 5 columns</p>\n</div>"
     },
     "execution_count": 11,
     "metadata": {},
     "output_type": "execute_result"
    }
   ],
   "source": [
    "merged_02 = merged_01\n",
    "merged_02[\"expected_size\"] = merged_01[\"count\"].map(lambda x: reg_tree().predict([[x]])[0])\n",
    "merged_02"
   ],
   "metadata": {
    "collapsed": false,
    "pycharm": {
     "name": "#%%\n"
    }
   }
  },
  {
   "cell_type": "code",
   "execution_count": 15,
   "outputs": [
    {
     "data": {
      "text/plain": "<Figure size 640x480 with 1 Axes>",
      "image/png": "[encoded data removed]"
     },
     "metadata": {},
     "output_type": "display_data"
    }
   ],
   "source": [
    "plt.xlabel(xlabel=\"time interval\")\n",
    "plt.ylabel(ylabel=\"cluster size\")\n",
    "plt.plot([k for k, v in enumerate(merged_02[\"date\"])], merged_02[\"size\"], color=\"red\", linestyle='dashdot', label='actual size')\n",
    "plt.plot([k for k, v in enumerate(merged_02[\"date\"])], merged_02[\"expected_size\"], color=\"blue\", label='expected size')\n",
    "plt.legend()\n",
    "plt.savefig(\"fb2015_bse_20221126_1.png\")"
   ],
   "metadata": {
    "collapsed": false,
    "pycharm": {
     "name": "#%%\n"
    }
   }
  },
  {
   "cell_type": "code",
   "execution_count": 18,
   "outputs": [
    {
     "data": {
      "text/plain": "27.69933554817276"
     },
     "execution_count": 18,
     "metadata": {},
     "output_type": "execute_result"
    }
   ],
   "source": [
    "mean_squared_error(merged_02[\"size\"], merged_02[\"expected_size\"])"
   ],
   "metadata": {
    "collapsed": false,
    "pycharm": {
     "name": "#%%\n"
    }
   }
  },
  {
   "cell_type": "code",
   "execution_count": null,
   "outputs": [],
   "source": [],
   "metadata": {
    "collapsed": false,
    "pycharm": {
     "name": "#%%\n"
    }
   }
  }
 ],
 "metadata": {
  "kernelspec": {
   "display_name": "Python 3",
   "language": "python",
   "name": "python3"
  },
  "language_info": {
   "codemirror_mode": {
    "name": "ipython",
    "version": 2
   },
   "file_extension": ".py",
   "mimetype": "text/x-python",
   "name": "python",
   "nbconvert_exporter": "python",
   "pygments_lexer": "ipython2",
   "version": "2.7.6"
  }
 },
 "nbformat": 4,
 "nbformat_minor": 0
}