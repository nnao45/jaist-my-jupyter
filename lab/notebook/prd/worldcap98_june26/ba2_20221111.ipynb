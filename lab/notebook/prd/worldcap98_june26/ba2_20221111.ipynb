{
 "cells": [
  {
   "cell_type": "code",
   "execution_count": 2,
   "outputs": [],
   "source": [
    "%matplotlib inline\n",
    "import numpy as np\n",
    "import pandas as pd\n",
    "import sys\n",
    "import math\n",
    "from sklearn.linear_model import Ridge, Lasso, ElasticNet\n",
    "from sklearn.metrics import mean_squared_error,r2_score\n",
    "from sklearn.model_selection import train_test_split, cross_val_score\n",
    "from sklearn import model_selection\n",
    "import matplotlib.pyplot as plt\n",
    "from sklearn.linear_model import LinearRegression, RidgeCV, LassoCV,ElasticNetCV\n",
    "from pyentrp import entropy as pyent\n",
    "import EntropyHub as EH\n",
    "import neurokit2 as nk\n",
    "import random\n",
    "import sampen\n",
    "import requests\n",
    "import io\n",
    "from pprint import pprint\n",
    "import os\n",
    "from sklearn import preprocessing\n",
    "from influxdb_client import InfluxDBClient, Point\n",
    "from influxdb_client.client.write_api import SYNCHRONOUS\n",
    "from influxdb_client.client.flux_table import FluxTable\n",
    "from datetime import datetime, timedelta\n",
    "from typing import List\n",
    "import itertools\n",
    "from datetime import datetime\n",
    "import itertools"
   ],
   "metadata": {
    "collapsed": false,
    "pycharm": {
     "name": "#%%\n"
    }
   }
  },
  {
   "cell_type": "code",
   "execution_count": null,
   "outputs": [],
   "source": [
    "pred_01 = pd.read_csv(\"pred_20221110144836.log\", names=[\"index\", \"date\", \"fuzzy\", \"sample\", \"pairwise\",  \"trend\", \"burst_mode\", \"entropy_mode\", \"pred_traffic\", \"pred_container\", \"max_cpu_usage\"])\n",
    "pred_01"
   ],
   "metadata": {
    "collapsed": false,
    "pycharm": {
     "name": "#%%\n"
    }
   }
  },
  {
   "cell_type": "code",
   "execution_count": 4,
   "outputs": [
    {
     "data": {
      "text/plain": "                           date  size\n0     2022-11-11T15:14:49+00:00     6\n1     2022-11-11T15:14:50+00:00     6\n2     2022-11-11T15:14:51+00:00     6\n3     2022-11-11T15:14:52+00:00     6\n4     2022-11-11T15:14:54+00:00     6\n...                         ...   ...\n1110  2022-11-11T15:35:44+00:00     6\n1111  2022-11-11T15:35:45+00:00     6\n1112  2022-11-11T15:35:46+00:00     6\n1113  2022-11-11T15:35:47+00:00     6\n1114  2022-11-11T15:35:49+00:00     6\n\n[1115 rows x 2 columns]",
      "text/html": "<div>\n<style scoped>\n    .dataframe tbody tr th:only-of-type {\n        vertical-align: middle;\n    }\n\n    .dataframe tbody tr th {\n        vertical-align: top;\n    }\n\n    .dataframe thead th {\n        text-align: right;\n    }\n</style>\n<table border=\"1\" class=\"dataframe\">\n  <thead>\n    <tr style=\"text-align: right;\">\n      <th></th>\n      <th>date</th>\n      <th>size</th>\n    </tr>\n  </thead>\n  <tbody>\n    <tr>\n      <th>0</th>\n      <td>2022-11-11T15:14:49+00:00</td>\n      <td>6</td>\n    </tr>\n    <tr>\n      <th>1</th>\n      <td>2022-11-11T15:14:50+00:00</td>\n      <td>6</td>\n    </tr>\n    <tr>\n      <th>2</th>\n      <td>2022-11-11T15:14:51+00:00</td>\n      <td>6</td>\n    </tr>\n    <tr>\n      <th>3</th>\n      <td>2022-11-11T15:14:52+00:00</td>\n      <td>6</td>\n    </tr>\n    <tr>\n      <th>4</th>\n      <td>2022-11-11T15:14:54+00:00</td>\n      <td>6</td>\n    </tr>\n    <tr>\n      <th>...</th>\n      <td>...</td>\n      <td>...</td>\n    </tr>\n    <tr>\n      <th>1110</th>\n      <td>2022-11-11T15:35:44+00:00</td>\n      <td>6</td>\n    </tr>\n    <tr>\n      <th>1111</th>\n      <td>2022-11-11T15:35:45+00:00</td>\n      <td>6</td>\n    </tr>\n    <tr>\n      <th>1112</th>\n      <td>2022-11-11T15:35:46+00:00</td>\n      <td>6</td>\n    </tr>\n    <tr>\n      <th>1113</th>\n      <td>2022-11-11T15:35:47+00:00</td>\n      <td>6</td>\n    </tr>\n    <tr>\n      <th>1114</th>\n      <td>2022-11-11T15:35:49+00:00</td>\n      <td>6</td>\n    </tr>\n  </tbody>\n</table>\n<p>1115 rows × 2 columns</p>\n</div>"
     },
     "execution_count": 4,
     "metadata": {},
     "output_type": "execute_result"
    }
   ],
   "source": [
    "c_01 = pd.read_csv(\"hpq_20221111151430.log\", names=[\"date\", \"size\"])\n",
    "c_01"
   ],
   "metadata": {
    "collapsed": false,
    "pycharm": {
     "name": "#%%\n"
    }
   }
  },
  {
   "cell_type": "code",
   "execution_count": 4,
   "outputs": [],
   "source": [],
   "metadata": {
    "collapsed": false,
    "pycharm": {
     "name": "#%%\n"
    }
   }
  },
  {
   "cell_type": "code",
   "execution_count": 6,
   "outputs": [
    {
     "data": {
      "text/plain": "19633"
     },
     "execution_count": 6,
     "metadata": {},
     "output_type": "execute_result"
    }
   ],
   "source": [
    "c_01[\"size\"].sum()"
   ],
   "metadata": {
    "collapsed": false,
    "pycharm": {
     "name": "#%%\n"
    }
   }
  },
  {
   "cell_type": "code",
   "execution_count": null,
   "outputs": [],
   "source": [],
   "metadata": {
    "collapsed": false,
    "pycharm": {
     "name": "#%%\n"
    }
   }
  }
 ],
 "metadata": {
  "kernelspec": {
   "display_name": "Python 3",
   "language": "python",
   "name": "python3"
  },
  "language_info": {
   "codemirror_mode": {
    "name": "ipython",
    "version": 2
   },
   "file_extension": ".py",
   "mimetype": "text/x-python",
   "name": "python",
   "nbconvert_exporter": "python",
   "pygments_lexer": "ipython2",
   "version": "2.7.6"
  }
 },
 "nbformat": 4,
 "nbformat_minor": 0
}