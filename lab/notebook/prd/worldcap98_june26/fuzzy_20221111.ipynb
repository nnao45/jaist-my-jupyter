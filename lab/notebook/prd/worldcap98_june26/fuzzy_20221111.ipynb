{
 "cells": [
  {
   "cell_type": "code",
   "execution_count": 5,
   "outputs": [],
   "source": [
    "%matplotlib inline\n",
    "import numpy as np\n",
    "import pandas as pd\n",
    "import sys\n",
    "import math\n",
    "from sklearn.linear_model import Ridge, Lasso, ElasticNet\n",
    "from sklearn.metrics import mean_squared_error,r2_score\n",
    "from sklearn.model_selection import train_test_split, cross_val_score\n",
    "from sklearn import model_selection\n",
    "import matplotlib.pyplot as plt\n",
    "from sklearn.linear_model import LinearRegression, RidgeCV, LassoCV,ElasticNetCV\n",
    "from pyentrp import entropy as pyent\n",
    "import EntropyHub as EH\n",
    "import neurokit2 as nk\n",
    "import random\n",
    "import sampen\n",
    "import requests\n",
    "import io\n",
    "from pprint import pprint\n",
    "import os\n",
    "from sklearn import preprocessing\n",
    "from influxdb_client import InfluxDBClient, Point\n",
    "from influxdb_client.client.write_api import SYNCHRONOUS\n",
    "from influxdb_client.client.flux_table import FluxTable\n",
    "from datetime import datetime, timedelta\n",
    "from typing import List\n",
    "import itertools\n",
    "from datetime import datetime\n",
    "import itertools\n",
    "from sklearn.tree import DecisionTreeRegressor"
   ],
   "metadata": {
    "collapsed": false,
    "pycharm": {
     "name": "#%%\n"
    }
   }
  },
  {
   "cell_type": "code",
   "execution_count": 9,
   "outputs": [
    {
     "data": {
      "text/plain": "     index                        date     fuzzy    sample  pairwise  \\\n0        0  2022-11-11T14:18:48.274724  1.474402      -inf  0.307327   \n1        0  2022-11-11T14:18:58.247494  1.617818       inf  0.103140   \n2        0  2022-11-11T14:19:08.250427  1.592778       inf  0.202274   \n3        0  2022-11-11T14:19:18.239006  1.495794       inf  0.265473   \n4        0  2022-11-11T14:19:28.266599  1.444611  1.435085  0.240082   \n..     ...                         ...       ...       ...       ...   \n121      0  2022-11-11T14:39:03.221333  1.732934  2.772589 -0.070771   \n122      0  2022-11-11T14:39:13.248604  1.719467  2.251292  0.029650   \n123      0  2022-11-11T14:39:23.315277  1.610885  2.079442  0.195476   \n124      0  2022-11-11T14:39:35.718713  1.528124  1.722767 -0.065398   \n125      0  2022-11-11T14:39:46.300847  1.528124  1.722767 -0.065398   \n\n            trend      burst_mode          entropy_mode  pred_traffic  \\\n0        Trend.Up  BurstMode.POOR  EntropyMode.EXPECTED    139.108742   \n1    Trend.MIDDLE  BurstMode.POOR  EntropyMode.EXPECTED    125.135399   \n2        Trend.Up  BurstMode.POOR  EntropyMode.EXPECTED    130.114151   \n3        Trend.Up  BurstMode.POOR  EntropyMode.EXPECTED    132.346705   \n4        Trend.Up  BurstMode.POOR  EntropyMode.EXPECTED    131.005579   \n..            ...             ...                   ...           ...   \n121  Trend.MIDDLE  BurstMode.POOR  EntropyMode.EXPECTED    143.815289   \n122  Trend.MIDDLE  BurstMode.POOR  EntropyMode.EXPECTED    145.854278   \n123  Trend.MIDDLE  BurstMode.POOR  EntropyMode.EXPECTED    150.717253   \n124  Trend.MIDDLE  BurstMode.POOR  EntropyMode.EXPECTED    143.489460   \n125  Trend.MIDDLE  BurstMode.POOR  EntropyMode.EXPECTED    143.489460   \n\n     pred_container  max_cpu_usage  \n0                 6          167.0  \n1                 6          167.0  \n2                 6          167.0  \n3                 6          167.0  \n4                 6          119.0  \n..              ...            ...  \n121               6          132.0  \n122               6          132.0  \n123               6          132.0  \n124               6          138.0  \n125               6          138.0  \n\n[126 rows x 11 columns]",
      "text/html": "<div>\n<style scoped>\n    .dataframe tbody tr th:only-of-type {\n        vertical-align: middle;\n    }\n\n    .dataframe tbody tr th {\n        vertical-align: top;\n    }\n\n    .dataframe thead th {\n        text-align: right;\n    }\n</style>\n<table border=\"1\" class=\"dataframe\">\n  <thead>\n    <tr style=\"text-align: right;\">\n      <th></th>\n      <th>index</th>\n      <th>date</th>\n      <th>fuzzy</th>\n      <th>sample</th>\n      <th>pairwise</th>\n      <th>trend</th>\n      <th>burst_mode</th>\n      <th>entropy_mode</th>\n      <th>pred_traffic</th>\n      <th>pred_container</th>\n      <th>max_cpu_usage</th>\n    </tr>\n  </thead>\n  <tbody>\n    <tr>\n      <th>0</th>\n      <td>0</td>\n      <td>2022-11-11T14:18:48.274724</td>\n      <td>1.474402</td>\n      <td>-inf</td>\n      <td>0.307327</td>\n      <td>Trend.Up</td>\n      <td>BurstMode.POOR</td>\n      <td>EntropyMode.EXPECTED</td>\n      <td>139.108742</td>\n      <td>6</td>\n      <td>167.0</td>\n    </tr>\n    <tr>\n      <th>1</th>\n      <td>0</td>\n      <td>2022-11-11T14:18:58.247494</td>\n      <td>1.617818</td>\n      <td>inf</td>\n      <td>0.103140</td>\n      <td>Trend.MIDDLE</td>\n      <td>BurstMode.POOR</td>\n      <td>EntropyMode.EXPECTED</td>\n      <td>125.135399</td>\n      <td>6</td>\n      <td>167.0</td>\n    </tr>\n    <tr>\n      <th>2</th>\n      <td>0</td>\n      <td>2022-11-11T14:19:08.250427</td>\n      <td>1.592778</td>\n      <td>inf</td>\n      <td>0.202274</td>\n      <td>Trend.Up</td>\n      <td>BurstMode.POOR</td>\n      <td>EntropyMode.EXPECTED</td>\n      <td>130.114151</td>\n      <td>6</td>\n      <td>167.0</td>\n    </tr>\n    <tr>\n      <th>3</th>\n      <td>0</td>\n      <td>2022-11-11T14:19:18.239006</td>\n      <td>1.495794</td>\n      <td>inf</td>\n      <td>0.265473</td>\n      <td>Trend.Up</td>\n      <td>BurstMode.POOR</td>\n      <td>EntropyMode.EXPECTED</td>\n      <td>132.346705</td>\n      <td>6</td>\n      <td>167.0</td>\n    </tr>\n    <tr>\n      <th>4</th>\n      <td>0</td>\n      <td>2022-11-11T14:19:28.266599</td>\n      <td>1.444611</td>\n      <td>1.435085</td>\n      <td>0.240082</td>\n      <td>Trend.Up</td>\n      <td>BurstMode.POOR</td>\n      <td>EntropyMode.EXPECTED</td>\n      <td>131.005579</td>\n      <td>6</td>\n      <td>119.0</td>\n    </tr>\n    <tr>\n      <th>...</th>\n      <td>...</td>\n      <td>...</td>\n      <td>...</td>\n      <td>...</td>\n      <td>...</td>\n      <td>...</td>\n      <td>...</td>\n      <td>...</td>\n      <td>...</td>\n      <td>...</td>\n      <td>...</td>\n    </tr>\n    <tr>\n      <th>121</th>\n      <td>0</td>\n      <td>2022-11-11T14:39:03.221333</td>\n      <td>1.732934</td>\n      <td>2.772589</td>\n      <td>-0.070771</td>\n      <td>Trend.MIDDLE</td>\n      <td>BurstMode.POOR</td>\n      <td>EntropyMode.EXPECTED</td>\n      <td>143.815289</td>\n      <td>6</td>\n      <td>132.0</td>\n    </tr>\n    <tr>\n      <th>122</th>\n      <td>0</td>\n      <td>2022-11-11T14:39:13.248604</td>\n      <td>1.719467</td>\n      <td>2.251292</td>\n      <td>0.029650</td>\n      <td>Trend.MIDDLE</td>\n      <td>BurstMode.POOR</td>\n      <td>EntropyMode.EXPECTED</td>\n      <td>145.854278</td>\n      <td>6</td>\n      <td>132.0</td>\n    </tr>\n    <tr>\n      <th>123</th>\n      <td>0</td>\n      <td>2022-11-11T14:39:23.315277</td>\n      <td>1.610885</td>\n      <td>2.079442</td>\n      <td>0.195476</td>\n      <td>Trend.MIDDLE</td>\n      <td>BurstMode.POOR</td>\n      <td>EntropyMode.EXPECTED</td>\n      <td>150.717253</td>\n      <td>6</td>\n      <td>132.0</td>\n    </tr>\n    <tr>\n      <th>124</th>\n      <td>0</td>\n      <td>2022-11-11T14:39:35.718713</td>\n      <td>1.528124</td>\n      <td>1.722767</td>\n      <td>-0.065398</td>\n      <td>Trend.MIDDLE</td>\n      <td>BurstMode.POOR</td>\n      <td>EntropyMode.EXPECTED</td>\n      <td>143.489460</td>\n      <td>6</td>\n      <td>138.0</td>\n    </tr>\n    <tr>\n      <th>125</th>\n      <td>0</td>\n      <td>2022-11-11T14:39:46.300847</td>\n      <td>1.528124</td>\n      <td>1.722767</td>\n      <td>-0.065398</td>\n      <td>Trend.MIDDLE</td>\n      <td>BurstMode.POOR</td>\n      <td>EntropyMode.EXPECTED</td>\n      <td>143.489460</td>\n      <td>6</td>\n      <td>138.0</td>\n    </tr>\n  </tbody>\n</table>\n<p>126 rows × 11 columns</p>\n</div>"
     },
     "execution_count": 9,
     "metadata": {},
     "output_type": "execute_result"
    }
   ],
   "source": [
    "\n",
    "pred_01 = pd.read_csv(\"pred_20221111141848.log\", names=[\"index\", \"date\", \"fuzzy\", \"sample\", \"pairwise\",  \"trend\", \"burst_mode\", \"entropy_mode\", \"pred_traffic\", \"pred_container\", \"max_cpu_usage\"])\n",
    "pred_01"
   ],
   "metadata": {
    "collapsed": false,
    "pycharm": {
     "name": "#%%\n"
    }
   }
  },
  {
   "cell_type": "code",
   "execution_count": 7,
   "outputs": [
    {
     "data": {
      "text/plain": "1911"
     },
     "execution_count": 7,
     "metadata": {},
     "output_type": "execute_result"
    }
   ],
   "source": [
    "pred_01[\"pred_container\"].sum()"
   ],
   "metadata": {
    "collapsed": false,
    "pycharm": {
     "name": "#%%\n"
    }
   }
  },
  {
   "cell_type": "code",
   "execution_count": 3,
   "outputs": [],
   "source": [
    "def parse(path: str) -> pd.DataFrame:\n",
    "    # CSVから読み取る\n",
    "    try:\n",
    "        df = pd.read_csv(path,  delimiter='\\t', header=None, names=[ 'c{0:02d}'.format(i) for i in range(10) ])\n",
    "    except Exception as e:\n",
    "        raise(e)\n",
    "    df_target = df.to_numpy()\n",
    "\n",
    "    # いい感じに整形\n",
    "    requests = pd.DataFrame([{\"date\": datetime.fromtimestamp(float(d[4])/1000), \"status\": d[6], \"count\": 1} for d in df_target if (d[0] == \"REQUEST\" and not math.isnan(float(d[4])) )])\n",
    "    if len(requests) == 0:\n",
    "        return pd.DataFrame([])\n",
    "\n",
    "    # 1秒ごとにサマる\n",
    "    grouped1 = requests.groupby([pd.Grouper(key=(\"status\")),pd.Grouper(key=(\"date\"), freq=\"S\")]).sum().reset_index()\n",
    "\n",
    "    # 全部同じ数は困るので乱数を入れておく\n",
    "    for x in range(len(grouped1)):\n",
    "        grouped1.iat[x, 2] += np.random.rand() * sys.float_info.epsilon\n",
    "\n",
    "    return grouped1"
   ],
   "metadata": {
    "collapsed": false,
    "pycharm": {
     "name": "#%%\n"
    }
   }
  },
  {
   "cell_type": "code",
   "execution_count": 11,
   "outputs": [
    {
     "data": {
      "text/plain": "                           date  size\n0     2022-11-11T14:18:30+00:00     6\n1     2022-11-11T14:18:31+00:00     6\n2     2022-11-11T14:18:32+00:00     6\n3     2022-11-11T14:18:33+00:00     6\n4     2022-11-11T14:18:34+00:00     6\n...                         ...   ...\n1117  2022-11-11T14:39:26+00:00     6\n1118  2022-11-11T14:39:27+00:00     6\n1119  2022-11-11T14:39:28+00:00     6\n1120  2022-11-11T14:39:30+00:00     6\n1121  2022-11-11T14:39:31+00:00     6\n\n[1122 rows x 2 columns]",
      "text/html": "<div>\n<style scoped>\n    .dataframe tbody tr th:only-of-type {\n        vertical-align: middle;\n    }\n\n    .dataframe tbody tr th {\n        vertical-align: top;\n    }\n\n    .dataframe thead th {\n        text-align: right;\n    }\n</style>\n<table border=\"1\" class=\"dataframe\">\n  <thead>\n    <tr style=\"text-align: right;\">\n      <th></th>\n      <th>date</th>\n      <th>size</th>\n    </tr>\n  </thead>\n  <tbody>\n    <tr>\n      <th>0</th>\n      <td>2022-11-11T14:18:30+00:00</td>\n      <td>6</td>\n    </tr>\n    <tr>\n      <th>1</th>\n      <td>2022-11-11T14:18:31+00:00</td>\n      <td>6</td>\n    </tr>\n    <tr>\n      <th>2</th>\n      <td>2022-11-11T14:18:32+00:00</td>\n      <td>6</td>\n    </tr>\n    <tr>\n      <th>3</th>\n      <td>2022-11-11T14:18:33+00:00</td>\n      <td>6</td>\n    </tr>\n    <tr>\n      <th>4</th>\n      <td>2022-11-11T14:18:34+00:00</td>\n      <td>6</td>\n    </tr>\n    <tr>\n      <th>...</th>\n      <td>...</td>\n      <td>...</td>\n    </tr>\n    <tr>\n      <th>1117</th>\n      <td>2022-11-11T14:39:26+00:00</td>\n      <td>6</td>\n    </tr>\n    <tr>\n      <th>1118</th>\n      <td>2022-11-11T14:39:27+00:00</td>\n      <td>6</td>\n    </tr>\n    <tr>\n      <th>1119</th>\n      <td>2022-11-11T14:39:28+00:00</td>\n      <td>6</td>\n    </tr>\n    <tr>\n      <th>1120</th>\n      <td>2022-11-11T14:39:30+00:00</td>\n      <td>6</td>\n    </tr>\n    <tr>\n      <th>1121</th>\n      <td>2022-11-11T14:39:31+00:00</td>\n      <td>6</td>\n    </tr>\n  </tbody>\n</table>\n<p>1122 rows × 2 columns</p>\n</div>"
     },
     "execution_count": 11,
     "metadata": {},
     "output_type": "execute_result"
    }
   ],
   "source": [
    "c_01 = pd.read_csv(\"hpq_20221111141818.log\", names=[\"date\", \"size\"])\n",
    "c_01"
   ],
   "metadata": {
    "collapsed": false,
    "pycharm": {
     "name": "#%%\n"
    }
   }
  },
  {
   "cell_type": "code",
   "execution_count": 12,
   "outputs": [
    {
     "data": {
      "text/plain": "17163"
     },
     "execution_count": 12,
     "metadata": {},
     "output_type": "execute_result"
    }
   ],
   "source": [
    "c_01[\"size\"].sum()"
   ],
   "metadata": {
    "collapsed": false,
    "pycharm": {
     "name": "#%%\n"
    }
   }
  },
  {
   "cell_type": "code",
   "execution_count": 11,
   "outputs": [
    {
     "name": "stderr",
     "output_type": "stream",
     "text": [
      "/var/folders/zk/cf948rq56631k5dgzn62fkjm0000gn/T/ipykernel_75384/600845077.py:4: DtypeWarning: Columns (2,4,5) have mixed types. Specify dtype option on import or set low_memory=False.\n",
      "  df = pd.read_csv(path,  delimiter='\\t', header=None, names=[ 'c{0:02d}'.format(i) for i in range(10) ])\n"
     ]
    },
    {
     "data": {
      "text/plain": "[<matplotlib.lines.Line2D at 0x11ed19af0>]"
     },
     "execution_count": 11,
     "metadata": {},
     "output_type": "execute_result"
    },
    {
     "data": {
      "text/plain": "<Figure size 640x480 with 1 Axes>",
      "image/png": "[encoded data removed]"
     },
     "metadata": {},
     "output_type": "display_data"
    }
   ],
   "source": [
    "simulation_log_01 = parse(\"fuzzy-worldcap98june26simulation-20221111141828441.log\")\n",
    "simulation_log_date_01 = simulation_log_01[\"date\"]\n",
    "simulation_log_count_10 = simulation_log_01[\"count\"]\n",
    "plt.plot(simulation_log_date_01[27:], simulation_log_count_10[27:])"
   ],
   "metadata": {
    "collapsed": false,
    "pycharm": {
     "name": "#%%\n"
    }
   }
  },
  {
   "cell_type": "code",
   "execution_count": 7,
   "outputs": [],
   "source": [
    "def reg_tree() -> DecisionTreeRegressor:\n",
    "    X = [\n",
    "        [60],\n",
    "        [100],\n",
    "        [140],\n",
    "        [175],\n",
    "        [210],\n",
    "        [255],\n",
    "        [300],\n",
    "        [330],\n",
    "        [360],\n",
    "        [390],\n",
    "        [420],\n",
    "        [460],\n",
    "        [500],\n",
    "        [540],\n",
    "        [580],\n",
    "        [610],\n",
    "        [640],\n",
    "        [670],\n",
    "        [700],\n",
    "        [730],\n",
    "        [760],\n",
    "        [790],\n",
    "        [820],\n",
    "        [850],\n",
    "        [880],\n",
    "        [910],\n",
    "        [940],\n",
    "        [970],\n",
    "        [1000],\n",
    "        [1030],\n",
    "        [1060],\n",
    "    ]\n",
    "\n",
    "    y = [\n",
    "        4,\n",
    "        5,\n",
    "        6,\n",
    "        7,\n",
    "        8,\n",
    "        9,\n",
    "        10,\n",
    "        11,\n",
    "        12,\n",
    "        13,\n",
    "        14,\n",
    "        15,\n",
    "        16,\n",
    "        17,\n",
    "        18,\n",
    "        19,\n",
    "        20,\n",
    "        21,\n",
    "        22,\n",
    "        23,\n",
    "        24,\n",
    "        25,\n",
    "        26,\n",
    "        27,\n",
    "        28,\n",
    "        29,\n",
    "        30,\n",
    "        31,\n",
    "        32,\n",
    "        33,\n",
    "        34,\n",
    "    ]\n",
    "\n",
    "    return DecisionTreeRegressor().fit(X, y)"
   ],
   "metadata": {
    "collapsed": false,
    "pycharm": {
     "name": "#%%\n"
    }
   }
  },
  {
   "cell_type": "code",
   "execution_count": 8,
   "outputs": [],
   "source": [
    "def reg_tree_loop(ser: List[List[float]], batch_size = 50) -> List[float]:\n",
    "    return [max(reg_tree().predict(np.array(ser[index-batch_size:index]))) for index in range(len(ser))[batch_size:]]"
   ],
   "metadata": {
    "collapsed": false,
    "pycharm": {
     "name": "#%%\n"
    }
   }
  },
  {
   "cell_type": "code",
   "execution_count": 9,
   "outputs": [
    {
     "data": {
      "text/plain": "0         1.0\n1         3.0\n2         4.0\n3         8.0\n4        10.0\n        ...  \n1282    140.0\n1283    140.0\n1284    150.0\n1285    139.0\n1286    149.0\nName: count, Length: 1287, dtype: float64"
     },
     "execution_count": 9,
     "metadata": {},
     "output_type": "execute_result"
    }
   ],
   "source": [
    "simulation_log_count_10"
   ],
   "metadata": {
    "collapsed": false,
    "pycharm": {
     "name": "#%%\n"
    }
   }
  },
  {
   "cell_type": "code",
   "execution_count": null,
   "outputs": [],
   "source": [],
   "metadata": {
    "collapsed": false,
    "pycharm": {
     "name": "#%%\n"
    }
   }
  }
 ],
 "metadata": {
  "kernelspec": {
   "display_name": "Python 3",
   "language": "python",
   "name": "python3"
  },
  "language_info": {
   "codemirror_mode": {
    "name": "ipython",
    "version": 2
   },
   "file_extension": ".py",
   "mimetype": "text/x-python",
   "name": "python",
   "nbconvert_exporter": "python",
   "pygments_lexer": "ipython2",
   "version": "2.7.6"
  }
 },
 "nbformat": 4,
 "nbformat_minor": 0
}