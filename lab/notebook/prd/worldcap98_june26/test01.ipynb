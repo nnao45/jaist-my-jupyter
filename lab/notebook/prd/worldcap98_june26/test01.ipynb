{
 "cells": [
  {
   "cell_type": "code",
   "execution_count": 20,
   "outputs": [],
   "source": [
    "%matplotlib inline\n",
    "import numpy as np\n",
    "import pandas as pd\n",
    "import sys\n",
    "import math\n",
    "from sklearn.linear_model import Ridge, Lasso, ElasticNet\n",
    "from sklearn.metrics import mean_squared_error,r2_score\n",
    "from sklearn.model_selection import train_test_split, cross_val_score\n",
    "from sklearn import model_selection\n",
    "import matplotlib.pyplot as plt\n",
    "from sklearn.linear_model import LinearRegression, RidgeCV, LassoCV,ElasticNetCV\n",
    "from pyentrp import entropy as pyent\n",
    "import EntropyHub as EH\n",
    "import neurokit2 as nk\n",
    "import random\n",
    "import sampen\n",
    "import requests\n",
    "import io\n",
    "from pprint import pprint\n",
    "import os\n",
    "from sklearn import preprocessing\n",
    "from influxdb_client import InfluxDBClient, Point\n",
    "from influxdb_client.client.write_api import SYNCHRONOUS\n",
    "from influxdb_client.client.flux_table import FluxTable\n",
    "import datetime\n",
    "from typing import List\n",
    "import itertools\n",
    "import datetime\n",
    "import itertools\n",
    "\n"
   ],
   "metadata": {
    "collapsed": false,
    "pycharm": {
     "name": "#%%\n"
    }
   }
  },
  {
   "cell_type": "code",
   "execution_count": 22,
   "outputs": [
    {
     "name": "stdout",
     "output_type": "stream",
     "text": [
      "helaloa\n"
     ]
    }
   ],
   "source": [
    "print(\"hela\"\n",
    "      \"loa\")"
   ],
   "metadata": {
    "collapsed": false,
    "pycharm": {
     "name": "#%%\n"
    }
   }
  },
  {
   "cell_type": "code",
   "execution_count": 10,
   "outputs": [
    {
     "data": {
      "text/plain": "    0  2022-07-09T13:12:12.804472  28.069699198007584  0.81431251769512  \\\n0   0  2022-07-09T13:12:42.798128           25.881415          0.834032   \n1   0  2022-07-09T13:13:12.782506           23.887159          1.256744   \n2   0  2022-07-09T13:13:42.810523           21.890204          0.578721   \n3   0  2022-07-09T13:14:12.865097           19.918746          0.569485   \n4   0  2022-07-09T13:14:42.879212           35.102004          0.219878   \n5   0  2022-07-09T13:15:12.947155           70.106424          0.110175   \n6   0  2022-07-09T13:15:42.934023          112.203619          0.068767   \n7   0  2022-07-09T13:16:13.037232          154.639854          0.080039   \n8   0  2022-07-09T13:16:43.173351          197.468159          0.119692   \n9   0  2022-07-09T13:17:13.161854          251.482788          0.150248   \n10  0  2022-07-09T13:17:43.217780          287.314365          0.290178   \n11  0  2022-07-09T13:18:13.176500          293.189083          0.331409   \n12  0  2022-07-09T13:18:43.224793          271.343377          0.160454   \n13  0  2022-07-09T13:19:13.252144          228.493525          0.161336   \n14  0  2022-07-09T13:19:43.228211          178.080566          0.175060   \n15  0  2022-07-09T13:20:13.292488          135.141741          0.189713   \n16  0  2022-07-09T13:20:43.211966           99.482989          0.205068   \n17  0  2022-07-09T13:21:14.038729           73.547596          0.317588   \n18  0  2022-07-09T13:21:43.229503           59.077861          0.648732   \n19  0  2022-07-09T13:22:13.308456           68.191378          0.302272   \n20  0  2022-07-09T13:22:43.339773           98.678391          0.142145   \n21  0  2022-07-09T13:23:13.436321          144.442138          0.095460   \n22  0  2022-07-09T13:23:43.502883          199.975578          0.114568   \n23  0  2022-07-09T13:24:13.685021          254.661548          0.165518   \n24  0  2022-07-09T13:24:43.822520          305.556430          0.233364   \n25  0  2022-07-09T13:25:13.709234          323.705841          0.362528   \n26  0  2022-07-09T13:25:43.821469          289.249958          0.150589   \n27  0  2022-07-09T13:26:13.583459          213.927260          0.063146   \n28  0  2022-07-09T13:26:43.810258          126.422397          0.080642   \n29  0  2022-07-09T13:27:13.625149           55.876024          0.140217   \n30  0  2022-07-09T13:27:43.793934            1.970078          0.327985   \n31  0  2022-07-09T13:28:15.687406          -34.343622          0.555361   \n32  0  2022-07-09T13:28:43.664819          -34.343622          0.555361   \n33  0  2022-07-09T13:29:13.581065          -34.343622          0.555361   \n\n    0.9044562742271522  0.81431251769512.1  0.9044562742271522.1  \n0             1.026639            0.739584              0.990399  \n1             1.252763            0.612159              0.995072  \n2             1.011601            0.507873              0.997260  \n3             0.982613            0.423928              0.979660  \n4             0.091998            0.233235              0.206327  \n5             0.046044            0.122449              0.046189  \n6             0.042995            0.083893              0.023042  \n7             0.075738            0.065317              0.013998  \n8             0.095083            0.056737              0.015064  \n9             0.143732            0.051045              0.018762  \n10            0.405465            0.054987              0.026582  \n11            0.634058            0.064601              0.040191  \n12            0.198211            0.079064              0.061469  \n13            0.150823            0.102075              0.080437  \n14            0.165269            0.127133              0.103278  \n15            0.213165            0.128601              0.121509  \n16            0.198205            0.108125              0.079634  \n17            0.481120            0.091288              0.044828  \n18            1.545925            0.079146              0.024696  \n19            0.272946            0.097236              0.048018  \n20            0.055542            0.134070              0.080809  \n21            0.079337            0.130357              0.081362  \n22            0.111226            0.096809              0.044491  \n23            0.160890            0.078049              0.030785  \n24            0.300927            0.072886              0.028024  \n25            0.649228            0.083094              0.042871  \n26            0.111313            0.104910              0.075805  \n27            0.041445            0.111620              0.094768  \n28            0.008822            0.097230              0.073978  \n29            0.001037            0.083334              0.049434  \n30            0.201153            0.071309              0.027909  \n31            1.584120            0.062590              0.016223  \n32            1.584120            0.062590              0.016223  \n33            1.584120            0.062590              0.016223  ",
      "text/html": "<div>\n<style scoped>\n    .dataframe tbody tr th:only-of-type {\n        vertical-align: middle;\n    }\n\n    .dataframe tbody tr th {\n        vertical-align: top;\n    }\n\n    .dataframe thead th {\n        text-align: right;\n    }\n</style>\n<table border=\"1\" class=\"dataframe\">\n  <thead>\n    <tr style=\"text-align: right;\">\n      <th></th>\n      <th>0</th>\n      <th>2022-07-09T13:12:12.804472</th>\n      <th>28.069699198007584</th>\n      <th>0.81431251769512</th>\n      <th>0.9044562742271522</th>\n      <th>0.81431251769512.1</th>\n      <th>0.9044562742271522.1</th>\n    </tr>\n  </thead>\n  <tbody>\n    <tr>\n      <th>0</th>\n      <td>0</td>\n      <td>2022-07-09T13:12:42.798128</td>\n      <td>25.881415</td>\n      <td>0.834032</td>\n      <td>1.026639</td>\n      <td>0.739584</td>\n      <td>0.990399</td>\n    </tr>\n    <tr>\n      <th>1</th>\n      <td>0</td>\n      <td>2022-07-09T13:13:12.782506</td>\n      <td>23.887159</td>\n      <td>1.256744</td>\n      <td>1.252763</td>\n      <td>0.612159</td>\n      <td>0.995072</td>\n    </tr>\n    <tr>\n      <th>2</th>\n      <td>0</td>\n      <td>2022-07-09T13:13:42.810523</td>\n      <td>21.890204</td>\n      <td>0.578721</td>\n      <td>1.011601</td>\n      <td>0.507873</td>\n      <td>0.997260</td>\n    </tr>\n    <tr>\n      <th>3</th>\n      <td>0</td>\n      <td>2022-07-09T13:14:12.865097</td>\n      <td>19.918746</td>\n      <td>0.569485</td>\n      <td>0.982613</td>\n      <td>0.423928</td>\n      <td>0.979660</td>\n    </tr>\n    <tr>\n      <th>4</th>\n      <td>0</td>\n      <td>2022-07-09T13:14:42.879212</td>\n      <td>35.102004</td>\n      <td>0.219878</td>\n      <td>0.091998</td>\n      <td>0.233235</td>\n      <td>0.206327</td>\n    </tr>\n    <tr>\n      <th>5</th>\n      <td>0</td>\n      <td>2022-07-09T13:15:12.947155</td>\n      <td>70.106424</td>\n      <td>0.110175</td>\n      <td>0.046044</td>\n      <td>0.122449</td>\n      <td>0.046189</td>\n    </tr>\n    <tr>\n      <th>6</th>\n      <td>0</td>\n      <td>2022-07-09T13:15:42.934023</td>\n      <td>112.203619</td>\n      <td>0.068767</td>\n      <td>0.042995</td>\n      <td>0.083893</td>\n      <td>0.023042</td>\n    </tr>\n    <tr>\n      <th>7</th>\n      <td>0</td>\n      <td>2022-07-09T13:16:13.037232</td>\n      <td>154.639854</td>\n      <td>0.080039</td>\n      <td>0.075738</td>\n      <td>0.065317</td>\n      <td>0.013998</td>\n    </tr>\n    <tr>\n      <th>8</th>\n      <td>0</td>\n      <td>2022-07-09T13:16:43.173351</td>\n      <td>197.468159</td>\n      <td>0.119692</td>\n      <td>0.095083</td>\n      <td>0.056737</td>\n      <td>0.015064</td>\n    </tr>\n    <tr>\n      <th>9</th>\n      <td>0</td>\n      <td>2022-07-09T13:17:13.161854</td>\n      <td>251.482788</td>\n      <td>0.150248</td>\n      <td>0.143732</td>\n      <td>0.051045</td>\n      <td>0.018762</td>\n    </tr>\n    <tr>\n      <th>10</th>\n      <td>0</td>\n      <td>2022-07-09T13:17:43.217780</td>\n      <td>287.314365</td>\n      <td>0.290178</td>\n      <td>0.405465</td>\n      <td>0.054987</td>\n      <td>0.026582</td>\n    </tr>\n    <tr>\n      <th>11</th>\n      <td>0</td>\n      <td>2022-07-09T13:18:13.176500</td>\n      <td>293.189083</td>\n      <td>0.331409</td>\n      <td>0.634058</td>\n      <td>0.064601</td>\n      <td>0.040191</td>\n    </tr>\n    <tr>\n      <th>12</th>\n      <td>0</td>\n      <td>2022-07-09T13:18:43.224793</td>\n      <td>271.343377</td>\n      <td>0.160454</td>\n      <td>0.198211</td>\n      <td>0.079064</td>\n      <td>0.061469</td>\n    </tr>\n    <tr>\n      <th>13</th>\n      <td>0</td>\n      <td>2022-07-09T13:19:13.252144</td>\n      <td>228.493525</td>\n      <td>0.161336</td>\n      <td>0.150823</td>\n      <td>0.102075</td>\n      <td>0.080437</td>\n    </tr>\n    <tr>\n      <th>14</th>\n      <td>0</td>\n      <td>2022-07-09T13:19:43.228211</td>\n      <td>178.080566</td>\n      <td>0.175060</td>\n      <td>0.165269</td>\n      <td>0.127133</td>\n      <td>0.103278</td>\n    </tr>\n    <tr>\n      <th>15</th>\n      <td>0</td>\n      <td>2022-07-09T13:20:13.292488</td>\n      <td>135.141741</td>\n      <td>0.189713</td>\n      <td>0.213165</td>\n      <td>0.128601</td>\n      <td>0.121509</td>\n    </tr>\n    <tr>\n      <th>16</th>\n      <td>0</td>\n      <td>2022-07-09T13:20:43.211966</td>\n      <td>99.482989</td>\n      <td>0.205068</td>\n      <td>0.198205</td>\n      <td>0.108125</td>\n      <td>0.079634</td>\n    </tr>\n    <tr>\n      <th>17</th>\n      <td>0</td>\n      <td>2022-07-09T13:21:14.038729</td>\n      <td>73.547596</td>\n      <td>0.317588</td>\n      <td>0.481120</td>\n      <td>0.091288</td>\n      <td>0.044828</td>\n    </tr>\n    <tr>\n      <th>18</th>\n      <td>0</td>\n      <td>2022-07-09T13:21:43.229503</td>\n      <td>59.077861</td>\n      <td>0.648732</td>\n      <td>1.545925</td>\n      <td>0.079146</td>\n      <td>0.024696</td>\n    </tr>\n    <tr>\n      <th>19</th>\n      <td>0</td>\n      <td>2022-07-09T13:22:13.308456</td>\n      <td>68.191378</td>\n      <td>0.302272</td>\n      <td>0.272946</td>\n      <td>0.097236</td>\n      <td>0.048018</td>\n    </tr>\n    <tr>\n      <th>20</th>\n      <td>0</td>\n      <td>2022-07-09T13:22:43.339773</td>\n      <td>98.678391</td>\n      <td>0.142145</td>\n      <td>0.055542</td>\n      <td>0.134070</td>\n      <td>0.080809</td>\n    </tr>\n    <tr>\n      <th>21</th>\n      <td>0</td>\n      <td>2022-07-09T13:23:13.436321</td>\n      <td>144.442138</td>\n      <td>0.095460</td>\n      <td>0.079337</td>\n      <td>0.130357</td>\n      <td>0.081362</td>\n    </tr>\n    <tr>\n      <th>22</th>\n      <td>0</td>\n      <td>2022-07-09T13:23:43.502883</td>\n      <td>199.975578</td>\n      <td>0.114568</td>\n      <td>0.111226</td>\n      <td>0.096809</td>\n      <td>0.044491</td>\n    </tr>\n    <tr>\n      <th>23</th>\n      <td>0</td>\n      <td>2022-07-09T13:24:13.685021</td>\n      <td>254.661548</td>\n      <td>0.165518</td>\n      <td>0.160890</td>\n      <td>0.078049</td>\n      <td>0.030785</td>\n    </tr>\n    <tr>\n      <th>24</th>\n      <td>0</td>\n      <td>2022-07-09T13:24:43.822520</td>\n      <td>305.556430</td>\n      <td>0.233364</td>\n      <td>0.300927</td>\n      <td>0.072886</td>\n      <td>0.028024</td>\n    </tr>\n    <tr>\n      <th>25</th>\n      <td>0</td>\n      <td>2022-07-09T13:25:13.709234</td>\n      <td>323.705841</td>\n      <td>0.362528</td>\n      <td>0.649228</td>\n      <td>0.083094</td>\n      <td>0.042871</td>\n    </tr>\n    <tr>\n      <th>26</th>\n      <td>0</td>\n      <td>2022-07-09T13:25:43.821469</td>\n      <td>289.249958</td>\n      <td>0.150589</td>\n      <td>0.111313</td>\n      <td>0.104910</td>\n      <td>0.075805</td>\n    </tr>\n    <tr>\n      <th>27</th>\n      <td>0</td>\n      <td>2022-07-09T13:26:13.583459</td>\n      <td>213.927260</td>\n      <td>0.063146</td>\n      <td>0.041445</td>\n      <td>0.111620</td>\n      <td>0.094768</td>\n    </tr>\n    <tr>\n      <th>28</th>\n      <td>0</td>\n      <td>2022-07-09T13:26:43.810258</td>\n      <td>126.422397</td>\n      <td>0.080642</td>\n      <td>0.008822</td>\n      <td>0.097230</td>\n      <td>0.073978</td>\n    </tr>\n    <tr>\n      <th>29</th>\n      <td>0</td>\n      <td>2022-07-09T13:27:13.625149</td>\n      <td>55.876024</td>\n      <td>0.140217</td>\n      <td>0.001037</td>\n      <td>0.083334</td>\n      <td>0.049434</td>\n    </tr>\n    <tr>\n      <th>30</th>\n      <td>0</td>\n      <td>2022-07-09T13:27:43.793934</td>\n      <td>1.970078</td>\n      <td>0.327985</td>\n      <td>0.201153</td>\n      <td>0.071309</td>\n      <td>0.027909</td>\n    </tr>\n    <tr>\n      <th>31</th>\n      <td>0</td>\n      <td>2022-07-09T13:28:15.687406</td>\n      <td>-34.343622</td>\n      <td>0.555361</td>\n      <td>1.584120</td>\n      <td>0.062590</td>\n      <td>0.016223</td>\n    </tr>\n    <tr>\n      <th>32</th>\n      <td>0</td>\n      <td>2022-07-09T13:28:43.664819</td>\n      <td>-34.343622</td>\n      <td>0.555361</td>\n      <td>1.584120</td>\n      <td>0.062590</td>\n      <td>0.016223</td>\n    </tr>\n    <tr>\n      <th>33</th>\n      <td>0</td>\n      <td>2022-07-09T13:29:13.581065</td>\n      <td>-34.343622</td>\n      <td>0.555361</td>\n      <td>1.584120</td>\n      <td>0.062590</td>\n      <td>0.016223</td>\n    </tr>\n  </tbody>\n</table>\n</div>"
     },
     "execution_count": 10,
     "metadata": {},
     "output_type": "execute_result"
    }
   ],
   "source": [
    "pred_01 = pd.read_csv(\"pred_20220709131141.log\")\n",
    "pred_01"
   ],
   "metadata": {
    "collapsed": false,
    "pycharm": {
     "name": "#%%\n"
    }
   }
  },
  {
   "cell_type": "code",
   "execution_count": 11,
   "outputs": [
    {
     "data": {
      "text/plain": "           0         2022-07-09 13:06:40+00:00  Unnamed: 2  \\\n0          1         2022-07-09 13:06:41+00:00       133.0   \n1          2         2022-07-09 13:06:42+00:00       133.0   \n2          3         2022-07-09 13:06:43+00:00       133.0   \n3          4         2022-07-09 13:06:44+00:00       133.0   \n4          5         2022-07-09 13:06:45+00:00       133.0   \n...      ...                               ...         ...   \n148464  4237         2022-07-09 13:11:38+00:00         8.0   \n148465  4238         2022-07-09 13:11:39+00:00         8.0   \n148466  4239         2022-07-09 13:11:40+00:00         8.0   \n148467  4240         2022-07-09 13:11:41+00:00         8.0   \n148468  4241  2022-07-09 13:11:41.369222+00:00         8.0   \n\n        query-api-app-74f9d6bb6f-6nfkj  \n0       query-api-app-74f9d6bb6f-6nfkj  \n1       query-api-app-74f9d6bb6f-6nfkj  \n2       query-api-app-74f9d6bb6f-6nfkj  \n3       query-api-app-74f9d6bb6f-6nfkj  \n4       query-api-app-74f9d6bb6f-6nfkj  \n...                                ...  \n148464  query-api-app-74f9d6bb6f-zln5n  \n148465  query-api-app-74f9d6bb6f-zln5n  \n148466  query-api-app-74f9d6bb6f-zln5n  \n148467  query-api-app-74f9d6bb6f-zln5n  \n148468  query-api-app-74f9d6bb6f-zln5n  \n\n[148469 rows x 4 columns]",
      "text/html": "<div>\n<style scoped>\n    .dataframe tbody tr th:only-of-type {\n        vertical-align: middle;\n    }\n\n    .dataframe tbody tr th {\n        vertical-align: top;\n    }\n\n    .dataframe thead th {\n        text-align: right;\n    }\n</style>\n<table border=\"1\" class=\"dataframe\">\n  <thead>\n    <tr style=\"text-align: right;\">\n      <th></th>\n      <th>0</th>\n      <th>2022-07-09 13:06:40+00:00</th>\n      <th>Unnamed: 2</th>\n      <th>query-api-app-74f9d6bb6f-6nfkj</th>\n    </tr>\n  </thead>\n  <tbody>\n    <tr>\n      <th>0</th>\n      <td>1</td>\n      <td>2022-07-09 13:06:41+00:00</td>\n      <td>133.0</td>\n      <td>query-api-app-74f9d6bb6f-6nfkj</td>\n    </tr>\n    <tr>\n      <th>1</th>\n      <td>2</td>\n      <td>2022-07-09 13:06:42+00:00</td>\n      <td>133.0</td>\n      <td>query-api-app-74f9d6bb6f-6nfkj</td>\n    </tr>\n    <tr>\n      <th>2</th>\n      <td>3</td>\n      <td>2022-07-09 13:06:43+00:00</td>\n      <td>133.0</td>\n      <td>query-api-app-74f9d6bb6f-6nfkj</td>\n    </tr>\n    <tr>\n      <th>3</th>\n      <td>4</td>\n      <td>2022-07-09 13:06:44+00:00</td>\n      <td>133.0</td>\n      <td>query-api-app-74f9d6bb6f-6nfkj</td>\n    </tr>\n    <tr>\n      <th>4</th>\n      <td>5</td>\n      <td>2022-07-09 13:06:45+00:00</td>\n      <td>133.0</td>\n      <td>query-api-app-74f9d6bb6f-6nfkj</td>\n    </tr>\n    <tr>\n      <th>...</th>\n      <td>...</td>\n      <td>...</td>\n      <td>...</td>\n      <td>...</td>\n    </tr>\n    <tr>\n      <th>148464</th>\n      <td>4237</td>\n      <td>2022-07-09 13:11:38+00:00</td>\n      <td>8.0</td>\n      <td>query-api-app-74f9d6bb6f-zln5n</td>\n    </tr>\n    <tr>\n      <th>148465</th>\n      <td>4238</td>\n      <td>2022-07-09 13:11:39+00:00</td>\n      <td>8.0</td>\n      <td>query-api-app-74f9d6bb6f-zln5n</td>\n    </tr>\n    <tr>\n      <th>148466</th>\n      <td>4239</td>\n      <td>2022-07-09 13:11:40+00:00</td>\n      <td>8.0</td>\n      <td>query-api-app-74f9d6bb6f-zln5n</td>\n    </tr>\n    <tr>\n      <th>148467</th>\n      <td>4240</td>\n      <td>2022-07-09 13:11:41+00:00</td>\n      <td>8.0</td>\n      <td>query-api-app-74f9d6bb6f-zln5n</td>\n    </tr>\n    <tr>\n      <th>148468</th>\n      <td>4241</td>\n      <td>2022-07-09 13:11:41.369222+00:00</td>\n      <td>8.0</td>\n      <td>query-api-app-74f9d6bb6f-zln5n</td>\n    </tr>\n  </tbody>\n</table>\n<p>148469 rows × 4 columns</p>\n</div>"
     },
     "execution_count": 11,
     "metadata": {},
     "output_type": "execute_result"
    }
   ],
   "source": [
    "metric_01 = pd.read_csv(\"metrics_20220709131141.log\")\n",
    "metric_01"
   ],
   "metadata": {
    "collapsed": false,
    "pycharm": {
     "name": "#%%\n"
    }
   }
  },
  {
   "cell_type": "code",
   "execution_count": 23,
   "outputs": [],
   "source": [
    "def parse(path: str) -> pd.DataFrame:\n",
    "      # CSVから読み取る\n",
    "      try:\n",
    "            df = pd.read_csv(path,  delimiter='\\t', header=None, names=[ 'c{0:02d}'.format(i) for i in range(10) ])\n",
    "      except Exception as e:\n",
    "            raise(e)\n",
    "      df_target = df.to_numpy()\n",
    "\n",
    "      # いい感じに整形\n",
    "      requests = pd.DataFrame([{\"date\": datetime.datetime.fromtimestamp(float(d[4])/1000), \"status\": d[6], \"count\": 1} for d in df_target if (d[0] == \"REQUEST\" and not math.isnan(float(d[4])) )])\n",
    "      if len(requests) == 0:\n",
    "            return pd.DataFrame([])\n",
    "\n",
    "      # 1秒ごとにサマる\n",
    "      grouped1 = requests.groupby([pd.Grouper(key=(\"status\")),pd.Grouper(key=(\"date\"), freq=\"S\")]).sum().reset_index()\n",
    "\n",
    "      #if len(grouped) >= INTERVAL:\n",
    "      #    SKIP_ROW_COUNTS += len(df)\n",
    "      #    print(f\"skip!! {SKIP_ROW_COUNTS}\")\n",
    "\n",
    "      # 全部同じ数は困るので乱数を入れておく\n",
    "      for x in range(len(grouped1)):\n",
    "            grouped1.iat[x, 2] += np.random.rand() * sys.float_info.epsilon\n",
    "\n",
    "      # grouped.iat[0, 1] += LATEST_DF_COUNT\n",
    "      # LATEST_DF_COUNT = grouped.iat[len(grouped)-1, 1]\n",
    "      return grouped1"
   ],
   "metadata": {
    "collapsed": false,
    "pycharm": {
     "name": "#%%\n"
    }
   }
  },
  {
   "cell_type": "code",
   "execution_count": 24,
   "outputs": [
    {
     "name": "stderr",
     "output_type": "stream",
     "text": [
      "/var/folders/zk/cf948rq56631k5dgzn62fkjm0000gn/T/ipykernel_96609/491063320.py:4: DtypeWarning: Columns (2,4,5) have mixed types. Specify dtype option on import or set low_memory=False.\n",
      "  df = pd.read_csv(path,  delimiter='\\t', header=None, names=[ 'c{0:02d}'.format(i) for i in range(10) ])\n"
     ]
    }
   ],
   "source": [
    "simulation_log = parse(\"simulation.log\")"
   ],
   "metadata": {
    "collapsed": false,
    "pycharm": {
     "name": "#%%\n"
    }
   }
  },
  {
   "cell_type": "code",
   "execution_count": 25,
   "outputs": [
    {
     "data": {
      "text/plain": "    status                date  count\n0       OK 2022-07-09 22:11:39     28\n1       OK 2022-07-09 22:11:40     30\n2       OK 2022-07-09 22:11:41     31\n3       OK 2022-07-09 22:11:42     30\n4       OK 2022-07-09 22:11:43     30\n..     ...                 ...    ...\n985     OK 2022-07-09 22:28:04     21\n986     OK 2022-07-09 22:28:05     20\n987     OK 2022-07-09 22:28:06     20\n988     OK 2022-07-09 22:28:07     20\n989     OK 2022-07-09 22:28:08     21\n\n[990 rows x 3 columns]",
      "text/html": "<div>\n<style scoped>\n    .dataframe tbody tr th:only-of-type {\n        vertical-align: middle;\n    }\n\n    .dataframe tbody tr th {\n        vertical-align: top;\n    }\n\n    .dataframe thead th {\n        text-align: right;\n    }\n</style>\n<table border=\"1\" class=\"dataframe\">\n  <thead>\n    <tr style=\"text-align: right;\">\n      <th></th>\n      <th>status</th>\n      <th>date</th>\n      <th>count</th>\n    </tr>\n  </thead>\n  <tbody>\n    <tr>\n      <th>0</th>\n      <td>OK</td>\n      <td>2022-07-09 22:11:39</td>\n      <td>28</td>\n    </tr>\n    <tr>\n      <th>1</th>\n      <td>OK</td>\n      <td>2022-07-09 22:11:40</td>\n      <td>30</td>\n    </tr>\n    <tr>\n      <th>2</th>\n      <td>OK</td>\n      <td>2022-07-09 22:11:41</td>\n      <td>31</td>\n    </tr>\n    <tr>\n      <th>3</th>\n      <td>OK</td>\n      <td>2022-07-09 22:11:42</td>\n      <td>30</td>\n    </tr>\n    <tr>\n      <th>4</th>\n      <td>OK</td>\n      <td>2022-07-09 22:11:43</td>\n      <td>30</td>\n    </tr>\n    <tr>\n      <th>...</th>\n      <td>...</td>\n      <td>...</td>\n      <td>...</td>\n    </tr>\n    <tr>\n      <th>985</th>\n      <td>OK</td>\n      <td>2022-07-09 22:28:04</td>\n      <td>21</td>\n    </tr>\n    <tr>\n      <th>986</th>\n      <td>OK</td>\n      <td>2022-07-09 22:28:05</td>\n      <td>20</td>\n    </tr>\n    <tr>\n      <th>987</th>\n      <td>OK</td>\n      <td>2022-07-09 22:28:06</td>\n      <td>20</td>\n    </tr>\n    <tr>\n      <th>988</th>\n      <td>OK</td>\n      <td>2022-07-09 22:28:07</td>\n      <td>20</td>\n    </tr>\n    <tr>\n      <th>989</th>\n      <td>OK</td>\n      <td>2022-07-09 22:28:08</td>\n      <td>21</td>\n    </tr>\n  </tbody>\n</table>\n<p>990 rows × 3 columns</p>\n</div>"
     },
     "execution_count": 25,
     "metadata": {},
     "output_type": "execute_result"
    }
   ],
   "source": [
    "simulation_log"
   ],
   "metadata": {
    "collapsed": false,
    "pycharm": {
     "name": "#%%\n"
    }
   }
  },
  {
   "cell_type": "code",
   "execution_count": null,
   "outputs": [],
   "source": [],
   "metadata": {
    "collapsed": false,
    "pycharm": {
     "name": "#%%\n"
    }
   }
  }
 ],
 "metadata": {
  "kernelspec": {
   "display_name": "Python 3",
   "language": "python",
   "name": "python3"
  },
  "language_info": {
   "codemirror_mode": {
    "name": "ipython",
    "version": 2
   },
   "file_extension": ".py",
   "mimetype": "text/x-python",
   "name": "python",
   "nbconvert_exporter": "python",
   "pygments_lexer": "ipython2",
   "version": "2.7.6"
  }
 },
 "nbformat": 4,
 "nbformat_minor": 0
}