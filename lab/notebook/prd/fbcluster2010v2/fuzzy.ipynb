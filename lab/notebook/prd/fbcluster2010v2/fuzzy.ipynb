{
 "cells": [
  {
   "cell_type": "code",
   "execution_count": 21,
   "outputs": [],
   "source": [
    "%matplotlib inline\n",
    "import numpy as np\n",
    "import pandas as pd\n",
    "import sys\n",
    "import math\n",
    "from sklearn.linear_model import Ridge, Lasso, ElasticNet\n",
    "from sklearn.metrics import mean_squared_error,r2_score\n",
    "from sklearn.model_selection import train_test_split, cross_val_score\n",
    "from sklearn import model_selection\n",
    "import matplotlib.pyplot as plt\n",
    "from sklearn.linear_model import LinearRegression, RidgeCV, LassoCV,ElasticNetCV\n",
    "from pyentrp import entropy as pyent\n",
    "import EntropyHub as EH\n",
    "import neurokit2 as nk\n",
    "import random\n",
    "import sampen\n",
    "import requests\n",
    "import io\n",
    "from pprint import pprint\n",
    "import os\n",
    "from sklearn import preprocessing\n",
    "from influxdb_client import InfluxDBClient, Point\n",
    "from influxdb_client.client.write_api import SYNCHRONOUS\n",
    "from influxdb_client.client.flux_table import FluxTable\n",
    "from datetime import datetime, timedelta\n",
    "from typing import List\n",
    "import itertools\n",
    "from datetime import datetime\n",
    "import itertools\n",
    "from sklearn.tree import DecisionTreeRegressor"
   ],
   "metadata": {
    "collapsed": false,
    "pycharm": {
     "name": "#%%\n"
    }
   }
  },
  {
   "cell_type": "code",
   "execution_count": 22,
   "outputs": [
    {
     "data": {
      "text/plain": "                          date  size\n0    2023-02-18T15:20:56+00:00    14\n1    2023-02-18T15:20:57+00:00    14\n2    2023-02-18T15:20:59+00:00    14\n3    2023-02-18T15:21:00+00:00    14\n4    2023-02-18T15:21:01+00:00    14\n..                         ...   ...\n631  2023-02-18T15:32:38+00:00    14\n632  2023-02-18T15:32:40+00:00    14\n633  2023-02-18T15:32:41+00:00    14\n634  2023-02-18T15:32:42+00:00    14\n635  2023-02-18T15:32:43+00:00    14\n\n[636 rows x 2 columns]",
      "text/html": "<div>\n<style scoped>\n    .dataframe tbody tr th:only-of-type {\n        vertical-align: middle;\n    }\n\n    .dataframe tbody tr th {\n        vertical-align: top;\n    }\n\n    .dataframe thead th {\n        text-align: right;\n    }\n</style>\n<table border=\"1\" class=\"dataframe\">\n  <thead>\n    <tr style=\"text-align: right;\">\n      <th></th>\n      <th>date</th>\n      <th>size</th>\n    </tr>\n  </thead>\n  <tbody>\n    <tr>\n      <th>0</th>\n      <td>2023-02-18T15:20:56+00:00</td>\n      <td>14</td>\n    </tr>\n    <tr>\n      <th>1</th>\n      <td>2023-02-18T15:20:57+00:00</td>\n      <td>14</td>\n    </tr>\n    <tr>\n      <th>2</th>\n      <td>2023-02-18T15:20:59+00:00</td>\n      <td>14</td>\n    </tr>\n    <tr>\n      <th>3</th>\n      <td>2023-02-18T15:21:00+00:00</td>\n      <td>14</td>\n    </tr>\n    <tr>\n      <th>4</th>\n      <td>2023-02-18T15:21:01+00:00</td>\n      <td>14</td>\n    </tr>\n    <tr>\n      <th>...</th>\n      <td>...</td>\n      <td>...</td>\n    </tr>\n    <tr>\n      <th>631</th>\n      <td>2023-02-18T15:32:38+00:00</td>\n      <td>14</td>\n    </tr>\n    <tr>\n      <th>632</th>\n      <td>2023-02-18T15:32:40+00:00</td>\n      <td>14</td>\n    </tr>\n    <tr>\n      <th>633</th>\n      <td>2023-02-18T15:32:41+00:00</td>\n      <td>14</td>\n    </tr>\n    <tr>\n      <th>634</th>\n      <td>2023-02-18T15:32:42+00:00</td>\n      <td>14</td>\n    </tr>\n    <tr>\n      <th>635</th>\n      <td>2023-02-18T15:32:43+00:00</td>\n      <td>14</td>\n    </tr>\n  </tbody>\n</table>\n<p>636 rows × 2 columns</p>\n</div>"
     },
     "execution_count": 22,
     "metadata": {},
     "output_type": "execute_result"
    }
   ],
   "source": [
    "c_01 = pd.read_csv(\"hpq_20230218152055.log\", names=[\"date\", \"size\"])\n",
    "c_01"
   ],
   "metadata": {
    "collapsed": false,
    "pycharm": {
     "name": "#%%\n"
    }
   }
  },
  {
   "cell_type": "code",
   "execution_count": 23,
   "outputs": [
    {
     "data": {
      "text/plain": "[<matplotlib.lines.Line2D at 0x135b24a60>]"
     },
     "execution_count": 23,
     "metadata": {},
     "output_type": "execute_result"
    },
    {
     "data": {
      "text/plain": "<Figure size 640x480 with 1 Axes>",
      "image/png": "[encoded data removed]"
     },
     "metadata": {},
     "output_type": "display_data"
    }
   ],
   "source": [
    "plt.plot(c_01[\"date\"], c_01[\"size\"])"
   ],
   "metadata": {
    "collapsed": false,
    "pycharm": {
     "name": "#%%\n"
    }
   }
  },
  {
   "cell_type": "code",
   "execution_count": 24,
   "outputs": [],
   "source": [
    "def parse(path: str) -> pd.DataFrame:\n",
    "    # CSVから読み取る\n",
    "    try:\n",
    "        df = pd.read_csv(path,  delimiter='\\t', header=None, names=[ 'c{0:02d}'.format(i) for i in range(10) ])\n",
    "    except Exception as e:\n",
    "        raise(e)\n",
    "    df_target = df.to_numpy()\n",
    "\n",
    "    # いい感じに整形\n",
    "    requests = pd.DataFrame([{\"date\": datetime.fromtimestamp(float(d[4])/1000), \"status\": d[6], \"count\": 1} for d in df_target if (d[0] == \"REQUEST\" and not math.isnan(float(d[4])) )])\n",
    "    if len(requests) == 0:\n",
    "        return pd.DataFrame([])\n",
    "\n",
    "    # 1秒ごとにサマる\n",
    "    grouped1 = requests.groupby([pd.Grouper(key=(\"status\")),pd.Grouper(key=(\"date\"), freq=\"S\")]).sum().reset_index()\n",
    "\n",
    "    # 全部同じ数は困るので乱数を入れておく\n",
    "    for x in range(len(grouped1)):\n",
    "        grouped1.iat[x, 2] += np.random.rand() * sys.float_info.epsilon\n",
    "\n",
    "    return grouped1"
   ],
   "metadata": {
    "collapsed": false,
    "pycharm": {
     "name": "#%%\n"
    }
   }
  },
  {
   "cell_type": "code",
   "execution_count": 25,
   "outputs": [
    {
     "name": "stderr",
     "output_type": "stream",
     "text": [
      "/var/folders/zk/cf948rq56631k5dgzn62fkjm0000gn/T/ipykernel_93325/600845077.py:4: DtypeWarning: Columns (2,4,5) have mixed types. Specify dtype option on import or set low_memory=False.\n",
      "  df = pd.read_csv(path,  delimiter='\\t', header=None, names=[ 'c{0:02d}'.format(i) for i in range(10) ])\n"
     ]
    }
   ],
   "source": [
    "df_01 = parse(\"./simulation_02.log\")"
   ],
   "metadata": {
    "collapsed": false,
    "pycharm": {
     "name": "#%%\n"
    }
   }
  },
  {
   "cell_type": "code",
   "execution_count": 26,
   "outputs": [],
   "source": [
    "def reg_tree() -> DecisionTreeRegressor:\n",
    "    X = [\n",
    "        [60],\n",
    "        [100],\n",
    "        [140],\n",
    "        [175],\n",
    "        [210],\n",
    "        [255],\n",
    "        [300],\n",
    "        [330],\n",
    "        [360],\n",
    "        [390],\n",
    "        [420],\n",
    "        [460],\n",
    "        [500],\n",
    "        [540],\n",
    "        [580],\n",
    "        [610],\n",
    "        [640],\n",
    "        [670],\n",
    "        [700],\n",
    "        [730],\n",
    "        [760],\n",
    "        [790],\n",
    "        [820],\n",
    "        [850],\n",
    "        [880],\n",
    "        [910],\n",
    "        [940],\n",
    "        [970],\n",
    "        [1000],\n",
    "        [1030],\n",
    "        [1060],\n",
    "    ]\n",
    "\n",
    "    y = [\n",
    "        4,\n",
    "        5,\n",
    "        6,\n",
    "        7,\n",
    "        8,\n",
    "        9,\n",
    "        10,\n",
    "        11,\n",
    "        12,\n",
    "        13,\n",
    "        14,\n",
    "        15,\n",
    "        16,\n",
    "        17,\n",
    "        18,\n",
    "        19,\n",
    "        20,\n",
    "        21,\n",
    "        22,\n",
    "        23,\n",
    "        24,\n",
    "        25,\n",
    "        26,\n",
    "        27,\n",
    "        28,\n",
    "        29,\n",
    "        30,\n",
    "        31,\n",
    "        32,\n",
    "        33,\n",
    "        34,\n",
    "    ]\n",
    "\n",
    "    return DecisionTreeRegressor().fit(X, y)"
   ],
   "metadata": {
    "collapsed": false,
    "pycharm": {
     "name": "#%%\n"
    }
   }
  },
  {
   "cell_type": "code",
   "execution_count": 27,
   "outputs": [
    {
     "data": {
      "text/plain": "                         date  size\n0   2023-02-19 00:20:56+00:00    14\n1   2023-02-19 00:20:57+00:00    14\n2   2023-02-19 00:20:59+00:00    14\n3   2023-02-19 00:21:00+00:00    14\n4   2023-02-19 00:21:01+00:00    14\n..                        ...   ...\n631 2023-02-19 00:32:38+00:00    14\n632 2023-02-19 00:32:40+00:00    14\n633 2023-02-19 00:32:41+00:00    14\n634 2023-02-19 00:32:42+00:00    14\n635 2023-02-19 00:32:43+00:00    14\n\n[636 rows x 2 columns]",
      "text/html": "<div>\n<style scoped>\n    .dataframe tbody tr th:only-of-type {\n        vertical-align: middle;\n    }\n\n    .dataframe tbody tr th {\n        vertical-align: top;\n    }\n\n    .dataframe thead th {\n        text-align: right;\n    }\n</style>\n<table border=\"1\" class=\"dataframe\">\n  <thead>\n    <tr style=\"text-align: right;\">\n      <th></th>\n      <th>date</th>\n      <th>size</th>\n    </tr>\n  </thead>\n  <tbody>\n    <tr>\n      <th>0</th>\n      <td>2023-02-19 00:20:56+00:00</td>\n      <td>14</td>\n    </tr>\n    <tr>\n      <th>1</th>\n      <td>2023-02-19 00:20:57+00:00</td>\n      <td>14</td>\n    </tr>\n    <tr>\n      <th>2</th>\n      <td>2023-02-19 00:20:59+00:00</td>\n      <td>14</td>\n    </tr>\n    <tr>\n      <th>3</th>\n      <td>2023-02-19 00:21:00+00:00</td>\n      <td>14</td>\n    </tr>\n    <tr>\n      <th>4</th>\n      <td>2023-02-19 00:21:01+00:00</td>\n      <td>14</td>\n    </tr>\n    <tr>\n      <th>...</th>\n      <td>...</td>\n      <td>...</td>\n    </tr>\n    <tr>\n      <th>631</th>\n      <td>2023-02-19 00:32:38+00:00</td>\n      <td>14</td>\n    </tr>\n    <tr>\n      <th>632</th>\n      <td>2023-02-19 00:32:40+00:00</td>\n      <td>14</td>\n    </tr>\n    <tr>\n      <th>633</th>\n      <td>2023-02-19 00:32:41+00:00</td>\n      <td>14</td>\n    </tr>\n    <tr>\n      <th>634</th>\n      <td>2023-02-19 00:32:42+00:00</td>\n      <td>14</td>\n    </tr>\n    <tr>\n      <th>635</th>\n      <td>2023-02-19 00:32:43+00:00</td>\n      <td>14</td>\n    </tr>\n  </tbody>\n</table>\n<p>636 rows × 2 columns</p>\n</div>"
     },
     "execution_count": 27,
     "metadata": {},
     "output_type": "execute_result"
    }
   ],
   "source": [
    "replaced_c_01 = c_01\n",
    "replaced_c_01[\"date\"] = pd.to_datetime(c_01[\"date\"], utc = False) + pd.to_timedelta(9, unit='h')\n",
    "replaced_c_01"
   ],
   "metadata": {
    "collapsed": false,
    "pycharm": {
     "name": "#%%\n"
    }
   }
  },
  {
   "cell_type": "code",
   "execution_count": 28,
   "outputs": [
    {
     "name": "stderr",
     "output_type": "stream",
     "text": [
      "/var/folders/zk/cf948rq56631k5dgzn62fkjm0000gn/T/ipykernel_93325/3566697410.py:2: SettingWithCopyWarning: \n",
      "A value is trying to be set on a copy of a slice from a DataFrame.\n",
      "Try using .loc[row_indexer,col_indexer] = value instead\n",
      "\n",
      "See the caveats in the documentation: https://pandas.pydata.org/pandas-docs/stable/user_guide/indexing.html#returning-a-view-versus-a-copy\n",
      "  replaced_df_01[\"date\"] = pd.to_datetime(df_01[\"date\"], utc=True)\n"
     ]
    },
    {
     "data": {
      "text/plain": "    status                      date  count\n15      OK 2023-02-19 00:21:02+00:00    137\n16      OK 2023-02-19 00:21:03+00:00    381\n17      OK 2023-02-19 00:21:04+00:00    424\n18      OK 2023-02-19 00:21:05+00:00    413\n19      OK 2023-02-19 00:21:06+00:00    402\n..     ...                       ...    ...\n641     OK 2023-02-19 00:31:28+00:00    397\n642     OK 2023-02-19 00:31:29+00:00    383\n643     OK 2023-02-19 00:31:30+00:00    397\n644     OK 2023-02-19 00:31:31+00:00    398\n645     OK 2023-02-19 00:31:32+00:00    293\n\n[631 rows x 3 columns]",
      "text/html": "<div>\n<style scoped>\n    .dataframe tbody tr th:only-of-type {\n        vertical-align: middle;\n    }\n\n    .dataframe tbody tr th {\n        vertical-align: top;\n    }\n\n    .dataframe thead th {\n        text-align: right;\n    }\n</style>\n<table border=\"1\" class=\"dataframe\">\n  <thead>\n    <tr style=\"text-align: right;\">\n      <th></th>\n      <th>status</th>\n      <th>date</th>\n      <th>count</th>\n    </tr>\n  </thead>\n  <tbody>\n    <tr>\n      <th>15</th>\n      <td>OK</td>\n      <td>2023-02-19 00:21:02+00:00</td>\n      <td>137</td>\n    </tr>\n    <tr>\n      <th>16</th>\n      <td>OK</td>\n      <td>2023-02-19 00:21:03+00:00</td>\n      <td>381</td>\n    </tr>\n    <tr>\n      <th>17</th>\n      <td>OK</td>\n      <td>2023-02-19 00:21:04+00:00</td>\n      <td>424</td>\n    </tr>\n    <tr>\n      <th>18</th>\n      <td>OK</td>\n      <td>2023-02-19 00:21:05+00:00</td>\n      <td>413</td>\n    </tr>\n    <tr>\n      <th>19</th>\n      <td>OK</td>\n      <td>2023-02-19 00:21:06+00:00</td>\n      <td>402</td>\n    </tr>\n    <tr>\n      <th>...</th>\n      <td>...</td>\n      <td>...</td>\n      <td>...</td>\n    </tr>\n    <tr>\n      <th>641</th>\n      <td>OK</td>\n      <td>2023-02-19 00:31:28+00:00</td>\n      <td>397</td>\n    </tr>\n    <tr>\n      <th>642</th>\n      <td>OK</td>\n      <td>2023-02-19 00:31:29+00:00</td>\n      <td>383</td>\n    </tr>\n    <tr>\n      <th>643</th>\n      <td>OK</td>\n      <td>2023-02-19 00:31:30+00:00</td>\n      <td>397</td>\n    </tr>\n    <tr>\n      <th>644</th>\n      <td>OK</td>\n      <td>2023-02-19 00:31:31+00:00</td>\n      <td>398</td>\n    </tr>\n    <tr>\n      <th>645</th>\n      <td>OK</td>\n      <td>2023-02-19 00:31:32+00:00</td>\n      <td>293</td>\n    </tr>\n  </tbody>\n</table>\n<p>631 rows × 3 columns</p>\n</div>"
     },
     "execution_count": 28,
     "metadata": {},
     "output_type": "execute_result"
    }
   ],
   "source": [
    "replaced_df_01 = df_01[df_01[\"status\"] != \"KO\"]\n",
    "replaced_df_01[\"date\"] = pd.to_datetime(df_01[\"date\"], utc=True)\n",
    "replaced_df_01"
   ],
   "metadata": {
    "collapsed": false,
    "pycharm": {
     "name": "#%%\n"
    }
   }
  },
  {
   "cell_type": "code",
   "execution_count": 29,
   "outputs": [
    {
     "data": {
      "text/plain": "    status                      date  count  size\n0       OK 2023-02-19 00:21:02+00:00    137    14\n1       OK 2023-02-19 00:21:03+00:00    381    14\n2       OK 2023-02-19 00:21:04+00:00    424    14\n3       OK 2023-02-19 00:21:06+00:00    402    14\n4       OK 2023-02-19 00:21:07+00:00    389    14\n..     ...                       ...    ...   ...\n562     OK 2023-02-19 00:31:27+00:00    379    15\n563     OK 2023-02-19 00:31:28+00:00    397    15\n564     OK 2023-02-19 00:31:29+00:00    383    15\n565     OK 2023-02-19 00:31:30+00:00    397    15\n566     OK 2023-02-19 00:31:32+00:00    293    15\n\n[567 rows x 4 columns]",
      "text/html": "<div>\n<style scoped>\n    .dataframe tbody tr th:only-of-type {\n        vertical-align: middle;\n    }\n\n    .dataframe tbody tr th {\n        vertical-align: top;\n    }\n\n    .dataframe thead th {\n        text-align: right;\n    }\n</style>\n<table border=\"1\" class=\"dataframe\">\n  <thead>\n    <tr style=\"text-align: right;\">\n      <th></th>\n      <th>status</th>\n      <th>date</th>\n      <th>count</th>\n      <th>size</th>\n    </tr>\n  </thead>\n  <tbody>\n    <tr>\n      <th>0</th>\n      <td>OK</td>\n      <td>2023-02-19 00:21:02+00:00</td>\n      <td>137</td>\n      <td>14</td>\n    </tr>\n    <tr>\n      <th>1</th>\n      <td>OK</td>\n      <td>2023-02-19 00:21:03+00:00</td>\n      <td>381</td>\n      <td>14</td>\n    </tr>\n    <tr>\n      <th>2</th>\n      <td>OK</td>\n      <td>2023-02-19 00:21:04+00:00</td>\n      <td>424</td>\n      <td>14</td>\n    </tr>\n    <tr>\n      <th>3</th>\n      <td>OK</td>\n      <td>2023-02-19 00:21:06+00:00</td>\n      <td>402</td>\n      <td>14</td>\n    </tr>\n    <tr>\n      <th>4</th>\n      <td>OK</td>\n      <td>2023-02-19 00:21:07+00:00</td>\n      <td>389</td>\n      <td>14</td>\n    </tr>\n    <tr>\n      <th>...</th>\n      <td>...</td>\n      <td>...</td>\n      <td>...</td>\n      <td>...</td>\n    </tr>\n    <tr>\n      <th>562</th>\n      <td>OK</td>\n      <td>2023-02-19 00:31:27+00:00</td>\n      <td>379</td>\n      <td>15</td>\n    </tr>\n    <tr>\n      <th>563</th>\n      <td>OK</td>\n      <td>2023-02-19 00:31:28+00:00</td>\n      <td>397</td>\n      <td>15</td>\n    </tr>\n    <tr>\n      <th>564</th>\n      <td>OK</td>\n      <td>2023-02-19 00:31:29+00:00</td>\n      <td>383</td>\n      <td>15</td>\n    </tr>\n    <tr>\n      <th>565</th>\n      <td>OK</td>\n      <td>2023-02-19 00:31:30+00:00</td>\n      <td>397</td>\n      <td>15</td>\n    </tr>\n    <tr>\n      <th>566</th>\n      <td>OK</td>\n      <td>2023-02-19 00:31:32+00:00</td>\n      <td>293</td>\n      <td>15</td>\n    </tr>\n  </tbody>\n</table>\n<p>567 rows × 4 columns</p>\n</div>"
     },
     "execution_count": 29,
     "metadata": {},
     "output_type": "execute_result"
    }
   ],
   "source": [
    "merged_01 = pd.merge(replaced_df_01, replaced_c_01, left_on=\"date\", right_on=\"date\")\n",
    "merged_01"
   ],
   "metadata": {
    "collapsed": false,
    "pycharm": {
     "name": "#%%\n"
    }
   }
  },
  {
   "cell_type": "code",
   "execution_count": 30,
   "outputs": [
    {
     "data": {
      "text/plain": "    status                      date  count  size  expected_size\n0       OK 2023-02-19 00:21:02+00:00    137    14            6.0\n1       OK 2023-02-19 00:21:03+00:00    381    14           13.0\n2       OK 2023-02-19 00:21:04+00:00    424    14           14.0\n3       OK 2023-02-19 00:21:06+00:00    402    14           13.0\n4       OK 2023-02-19 00:21:07+00:00    389    14           13.0\n..     ...                       ...    ...   ...            ...\n562     OK 2023-02-19 00:31:27+00:00    379    15           13.0\n563     OK 2023-02-19 00:31:28+00:00    397    15           13.0\n564     OK 2023-02-19 00:31:29+00:00    383    15           13.0\n565     OK 2023-02-19 00:31:30+00:00    397    15           13.0\n566     OK 2023-02-19 00:31:32+00:00    293    15           10.0\n\n[567 rows x 5 columns]",
      "text/html": "<div>\n<style scoped>\n    .dataframe tbody tr th:only-of-type {\n        vertical-align: middle;\n    }\n\n    .dataframe tbody tr th {\n        vertical-align: top;\n    }\n\n    .dataframe thead th {\n        text-align: right;\n    }\n</style>\n<table border=\"1\" class=\"dataframe\">\n  <thead>\n    <tr style=\"text-align: right;\">\n      <th></th>\n      <th>status</th>\n      <th>date</th>\n      <th>count</th>\n      <th>size</th>\n      <th>expected_size</th>\n    </tr>\n  </thead>\n  <tbody>\n    <tr>\n      <th>0</th>\n      <td>OK</td>\n      <td>2023-02-19 00:21:02+00:00</td>\n      <td>137</td>\n      <td>14</td>\n      <td>6.0</td>\n    </tr>\n    <tr>\n      <th>1</th>\n      <td>OK</td>\n      <td>2023-02-19 00:21:03+00:00</td>\n      <td>381</td>\n      <td>14</td>\n      <td>13.0</td>\n    </tr>\n    <tr>\n      <th>2</th>\n      <td>OK</td>\n      <td>2023-02-19 00:21:04+00:00</td>\n      <td>424</td>\n      <td>14</td>\n      <td>14.0</td>\n    </tr>\n    <tr>\n      <th>3</th>\n      <td>OK</td>\n      <td>2023-02-19 00:21:06+00:00</td>\n      <td>402</td>\n      <td>14</td>\n      <td>13.0</td>\n    </tr>\n    <tr>\n      <th>4</th>\n      <td>OK</td>\n      <td>2023-02-19 00:21:07+00:00</td>\n      <td>389</td>\n      <td>14</td>\n      <td>13.0</td>\n    </tr>\n    <tr>\n      <th>...</th>\n      <td>...</td>\n      <td>...</td>\n      <td>...</td>\n      <td>...</td>\n      <td>...</td>\n    </tr>\n    <tr>\n      <th>562</th>\n      <td>OK</td>\n      <td>2023-02-19 00:31:27+00:00</td>\n      <td>379</td>\n      <td>15</td>\n      <td>13.0</td>\n    </tr>\n    <tr>\n      <th>563</th>\n      <td>OK</td>\n      <td>2023-02-19 00:31:28+00:00</td>\n      <td>397</td>\n      <td>15</td>\n      <td>13.0</td>\n    </tr>\n    <tr>\n      <th>564</th>\n      <td>OK</td>\n      <td>2023-02-19 00:31:29+00:00</td>\n      <td>383</td>\n      <td>15</td>\n      <td>13.0</td>\n    </tr>\n    <tr>\n      <th>565</th>\n      <td>OK</td>\n      <td>2023-02-19 00:31:30+00:00</td>\n      <td>397</td>\n      <td>15</td>\n      <td>13.0</td>\n    </tr>\n    <tr>\n      <th>566</th>\n      <td>OK</td>\n      <td>2023-02-19 00:31:32+00:00</td>\n      <td>293</td>\n      <td>15</td>\n      <td>10.0</td>\n    </tr>\n  </tbody>\n</table>\n<p>567 rows × 5 columns</p>\n</div>"
     },
     "execution_count": 30,
     "metadata": {},
     "output_type": "execute_result"
    }
   ],
   "source": [
    "merged_02 = merged_01\n",
    "merged_02[\"expected_size\"] = merged_01[\"count\"].map(lambda x: reg_tree().predict([[x]])[0])\n",
    "merged_02"
   ],
   "metadata": {
    "collapsed": false,
    "pycharm": {
     "name": "#%%\n"
    }
   }
  },
  {
   "cell_type": "code",
   "execution_count": 31,
   "outputs": [
    {
     "data": {
      "text/plain": "<Figure size 640x480 with 1 Axes>",
      "image/png": "[encoded data removed]"
     },
     "metadata": {},
     "output_type": "display_data"
    }
   ],
   "source": [
    "plt.xlabel(xlabel=\"time interval\")\n",
    "plt.ylabel(ylabel=\"cluster size\")\n",
    "plt.plot([k for k, v in enumerate(merged_02[\"date\"])], merged_02[\"size\"], color=\"red\", linestyle='dashdot', label='actual size')\n",
    "plt.plot([k for k, v in enumerate(merged_02[\"date\"])], merged_02[\"expected_size\"], color=\"blue\", label='expected size')\n",
    "plt.legend()\n",
    "plt.savefig(\"fb2010v2_fuzzy_20230218_1.png\")"
   ],
   "metadata": {
    "collapsed": false,
    "pycharm": {
     "name": "#%%\n"
    }
   }
  },
  {
   "cell_type": "code",
   "execution_count": 32,
   "outputs": [
    {
     "data": {
      "text/plain": "6.37742504409171"
     },
     "execution_count": 32,
     "metadata": {},
     "output_type": "execute_result"
    }
   ],
   "source": [
    "mean_squared_error(merged_02[\"size\"], merged_02[\"expected_size\"])"
   ],
   "metadata": {
    "collapsed": false,
    "pycharm": {
     "name": "#%%\n"
    }
   }
  },
  {
   "cell_type": "code",
   "execution_count": null,
   "outputs": [],
   "source": [],
   "metadata": {
    "collapsed": false,
    "pycharm": {
     "name": "#%%\n"
    }
   }
  }
 ],
 "metadata": {
  "kernelspec": {
   "display_name": "Python 3",
   "language": "python",
   "name": "python3"
  },
  "language_info": {
   "codemirror_mode": {
    "name": "ipython",
    "version": 2
   },
   "file_extension": ".py",
   "mimetype": "text/x-python",
   "name": "python",
   "nbconvert_exporter": "python",
   "pygments_lexer": "ipython2",
   "version": "2.7.6"
  }
 },
 "nbformat": 4,
 "nbformat_minor": 0
}