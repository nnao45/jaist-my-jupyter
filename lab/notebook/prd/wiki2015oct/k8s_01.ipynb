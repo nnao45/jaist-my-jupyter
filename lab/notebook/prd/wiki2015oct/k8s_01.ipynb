{
 "cells": [
  {
   "cell_type": "code",
   "execution_count": 1,
   "outputs": [],
   "source": [
    "%matplotlib inline\n",
    "import numpy as np\n",
    "import pandas as pd\n",
    "import sys\n",
    "import math\n",
    "from sklearn.linear_model import Ridge, Lasso, ElasticNet\n",
    "from sklearn.metrics import mean_squared_error,r2_score\n",
    "from sklearn.model_selection import train_test_split, cross_val_score\n",
    "from sklearn import model_selection\n",
    "import matplotlib.pyplot as plt\n",
    "from sklearn.linear_model import LinearRegression, RidgeCV, LassoCV,ElasticNetCV\n",
    "from pyentrp import entropy as pyent\n",
    "import EntropyHub as EH\n",
    "import neurokit2 as nk\n",
    "import random\n",
    "import sampen\n",
    "import requests\n",
    "import io\n",
    "from pprint import pprint\n",
    "import os\n",
    "from sklearn import preprocessing\n",
    "from influxdb_client import InfluxDBClient, Point\n",
    "from influxdb_client.client.write_api import SYNCHRONOUS\n",
    "from influxdb_client.client.flux_table import FluxTable\n",
    "from datetime import datetime, timedelta\n",
    "from typing import List\n",
    "import itertools\n",
    "from datetime import datetime\n",
    "import itertools\n",
    "from sklearn.tree import DecisionTreeRegressor"
   ],
   "metadata": {
    "collapsed": false,
    "pycharm": {
     "name": "#%%\n"
    }
   }
  },
  {
   "cell_type": "code",
   "execution_count": 2,
   "outputs": [
    {
     "data": {
      "text/plain": "                           date  size\n0     2023-07-11T13:22:23+00:00    40\n1     2023-07-11T13:22:24+00:00    40\n2     2023-07-11T13:22:26+00:00    40\n3     2023-07-11T13:22:27+00:00    40\n4     2023-07-11T13:22:28+00:00    40\n...                         ...   ...\n1105  2023-07-11T13:43:04+00:00    40\n1106  2023-07-11T13:43:05+00:00    40\n1107  2023-07-11T13:43:07+00:00    40\n1108  2023-07-11T13:43:08+00:00    40\n1109  2023-07-11T13:43:09+00:00    40\n\n[1110 rows x 2 columns]",
      "text/html": "<div>\n<style scoped>\n    .dataframe tbody tr th:only-of-type {\n        vertical-align: middle;\n    }\n\n    .dataframe tbody tr th {\n        vertical-align: top;\n    }\n\n    .dataframe thead th {\n        text-align: right;\n    }\n</style>\n<table border=\"1\" class=\"dataframe\">\n  <thead>\n    <tr style=\"text-align: right;\">\n      <th></th>\n      <th>date</th>\n      <th>size</th>\n    </tr>\n  </thead>\n  <tbody>\n    <tr>\n      <th>0</th>\n      <td>2023-07-11T13:22:23+00:00</td>\n      <td>40</td>\n    </tr>\n    <tr>\n      <th>1</th>\n      <td>2023-07-11T13:22:24+00:00</td>\n      <td>40</td>\n    </tr>\n    <tr>\n      <th>2</th>\n      <td>2023-07-11T13:22:26+00:00</td>\n      <td>40</td>\n    </tr>\n    <tr>\n      <th>3</th>\n      <td>2023-07-11T13:22:27+00:00</td>\n      <td>40</td>\n    </tr>\n    <tr>\n      <th>4</th>\n      <td>2023-07-11T13:22:28+00:00</td>\n      <td>40</td>\n    </tr>\n    <tr>\n      <th>...</th>\n      <td>...</td>\n      <td>...</td>\n    </tr>\n    <tr>\n      <th>1105</th>\n      <td>2023-07-11T13:43:04+00:00</td>\n      <td>40</td>\n    </tr>\n    <tr>\n      <th>1106</th>\n      <td>2023-07-11T13:43:05+00:00</td>\n      <td>40</td>\n    </tr>\n    <tr>\n      <th>1107</th>\n      <td>2023-07-11T13:43:07+00:00</td>\n      <td>40</td>\n    </tr>\n    <tr>\n      <th>1108</th>\n      <td>2023-07-11T13:43:08+00:00</td>\n      <td>40</td>\n    </tr>\n    <tr>\n      <th>1109</th>\n      <td>2023-07-11T13:43:09+00:00</td>\n      <td>40</td>\n    </tr>\n  </tbody>\n</table>\n<p>1110 rows × 2 columns</p>\n</div>"
     },
     "execution_count": 2,
     "metadata": {},
     "output_type": "execute_result"
    }
   ],
   "source": [
    "c_01 = pd.read_csv(\"hpq_20230711132220.log\", names=[\"date\", \"size\"])\n",
    "c_01"
   ],
   "metadata": {
    "collapsed": false,
    "pycharm": {
     "name": "#%%\n"
    }
   }
  },
  {
   "cell_type": "code",
   "execution_count": 5,
   "outputs": [
    {
     "data": {
      "text/plain": "19315"
     },
     "execution_count": 5,
     "metadata": {},
     "output_type": "execute_result"
    }
   ],
   "source": [
    "c_01[\"size\"].sum()"
   ],
   "metadata": {
    "collapsed": false,
    "pycharm": {
     "name": "#%%\n"
    }
   }
  },
  {
   "cell_type": "code",
   "execution_count": 3,
   "outputs": [
    {
     "data": {
      "text/plain": "    index                        date     fuzzy    sample  pairwise  \\\n0       0  2022-10-28T16:14:00.053120  1.959083       inf -0.257474   \n1       0  2022-10-28T16:14:15.540205  1.215506  1.504077 -0.830278   \n2       0  2022-10-28T16:14:30.080990  0.852753  1.526056 -0.931850   \n3       0  2022-10-28T16:14:45.386902  0.752690  1.098612 -0.956864   \n4       0  2022-10-28T16:15:00.317686  0.621394  1.029619 -0.971986   \n5       0  2022-10-28T16:15:15.498564  0.571210  1.105127 -0.973220   \n6       0  2022-10-28T16:15:30.341938  0.597269  0.963067 -0.959494   \n7       0  2022-10-28T16:15:45.532180  0.688282  1.049822 -0.923400   \n8       0  2022-10-28T16:16:00.373906  0.893289  1.420196 -0.863080   \n9       0  2022-10-28T16:16:15.464280  1.148243  1.497520 -0.788342   \n10      0  2022-10-28T16:16:30.708880  1.399469  2.043074 -0.479637   \n11      0  2022-10-28T16:16:45.741278  1.493751  2.197225  0.113852   \n12      0  2022-10-28T16:17:00.588035  1.278653  1.977163  0.626468   \n13      0  2022-10-28T16:17:15.729476  1.069279  1.536235  0.813731   \n14      0  2022-10-28T16:17:30.768461  0.887324  1.473306  0.915416   \n15      0  2022-10-28T16:17:45.814005  0.730455  1.351203  0.953899   \n16      0  2022-10-28T16:18:01.041097  0.693460  1.147065  0.957711   \n17      0  2022-10-28T16:18:16.061453  0.654584  1.194627  0.964359   \n18      0  2022-10-28T16:18:31.345723  0.633418  1.066036  0.965897   \n19      0  2022-10-28T16:18:46.529904  0.661249  1.056940  0.962273   \n20      0  2022-10-28T16:19:01.641952  0.775064  1.451434  0.816361   \n21      0  2022-10-28T16:19:16.731744  0.945975  1.414732  0.290735   \n22      0  2022-10-28T16:19:31.738585  0.863595  1.529395 -0.495346   \n23      0  2022-10-28T16:19:46.732687  0.705907  1.146079 -0.843558   \n24      0  2022-10-28T16:20:01.749193  0.582924  1.040456 -0.955252   \n25      0  2022-10-28T16:20:16.983932  0.549696  0.824389 -0.971659   \n26      0  2022-10-28T16:20:31.854628  0.610592  0.868663 -0.946604   \n27      0  2022-10-28T16:20:47.159051  0.715571  1.067841 -0.897669   \n28      0  2022-10-28T16:21:01.886610  0.914873  1.441019 -0.842902   \n29      0  2022-10-28T16:21:17.208139  1.074807  1.754019 -0.809649   \n30      0  2022-10-28T16:21:31.992185  1.290635  1.742969 -0.639292   \n31      0  2022-10-28T16:21:47.284968  1.283304  1.734601  0.004814   \n32      0  2022-10-28T16:22:02.475837  1.112095  1.515127  0.519756   \n33      0  2022-10-28T16:22:17.175169  0.866897  1.170071  0.819366   \n34      0  2022-10-28T16:22:32.365522  0.750518  1.296438  0.929655   \n35      0  2022-10-28T16:22:47.505397  0.707287  1.031019  0.960642   \n36      0  2022-10-28T16:23:02.974894  0.734330  1.149906  0.957679   \n37      0  2022-10-28T16:23:18.017954  0.693604  1.149906  0.961448   \n38      0  2022-10-28T16:23:32.858132  0.628979  1.105533  0.965909   \n39      0  2022-10-28T16:23:48.068598  0.681571  1.304464  0.952756   \n40      0  2022-10-28T16:24:03.225676  0.804327  1.348554  0.750160   \n41      0  2022-10-28T16:24:18.528123  0.937092  1.609438  0.193115   \n42      0  2022-10-28T16:24:33.342613  0.850796  1.704748 -0.528041   \n43      0  2022-10-28T16:24:48.489728  0.699598  1.342234 -0.872109   \n44      0  2022-10-28T16:25:03.639993  0.548900  0.837598 -0.961668   \n45      0  2022-10-28T16:25:18.384978  0.493783  0.631454 -0.968063   \n46      0  2022-10-28T16:25:33.476276  0.555960  0.793231 -0.952550   \n47      0  2022-10-28T16:25:48.553267  0.623105  1.015435 -0.926281   \n48      0  2022-10-28T16:26:03.659784  0.776118  1.399366 -0.856302   \n49      0  2022-10-28T16:26:21.647250  0.939955  1.904237 -0.823655   \n\n           trend           burst_mode          entropy_mode  pred_traffic  \\\n0     Trend.Down       BurstMode.POOR  EntropyMode.EXPECTED    757.095948   \n1     Trend.Down       BurstMode.POOR  EntropyMode.EXPECTED    665.495232   \n2     Trend.Down     BurstMode.MIDDLE  EntropyMode.SURPRISE    638.056249   \n3     Trend.Down     BurstMode.MIDDLE  EntropyMode.SURPRISE    571.298596   \n4     Trend.Down     BurstMode.MIDDLE  EntropyMode.SURPRISE    502.137767   \n5     Trend.Down     BurstMode.MIDDLE  EntropyMode.SURPRISE    455.564544   \n6     Trend.Down     BurstMode.MIDDLE  EntropyMode.SURPRISE    418.225142   \n7     Trend.Down     BurstMode.MIDDLE  EntropyMode.SURPRISE    410.336020   \n8     Trend.Down     BurstMode.MIDDLE  EntropyMode.SURPRISE    423.176940   \n9     Trend.Down       BurstMode.POOR  EntropyMode.EXPECTED    385.447227   \n10    Trend.Down       BurstMode.POOR  EntropyMode.EXPECTED    406.891165   \n11  Trend.MIDDLE  BurstMode.STRONGEST  EntropyMode.EXPECTED    598.614608   \n12      Trend.Up  BurstMode.STRONGEST  EntropyMode.EXPECTED    662.440260   \n13      Trend.Up       BurstMode.POOR  EntropyMode.EXPECTED    545.805191   \n14      Trend.Up     BurstMode.STRONG  EntropyMode.SURPRISE    694.775710   \n15      Trend.Up     BurstMode.MIDDLE  EntropyMode.SURPRISE    723.798730   \n16      Trend.Up     BurstMode.MIDDLE  EntropyMode.SURPRISE    776.639011   \n17      Trend.Up     BurstMode.MIDDLE  EntropyMode.SURPRISE    819.995831   \n18      Trend.Up     BurstMode.MIDDLE  EntropyMode.SURPRISE    885.470747   \n19      Trend.Up     BurstMode.MIDDLE  EntropyMode.SURPRISE    936.901638   \n20      Trend.Up     BurstMode.MIDDLE  EntropyMode.SURPRISE    906.431535   \n21      Trend.Up     BurstMode.MIDDLE  EntropyMode.SURPRISE    822.476041   \n22    Trend.Down       BurstMode.POOR  EntropyMode.SURPRISE    665.697843   \n23    Trend.Down     BurstMode.MIDDLE  EntropyMode.SURPRISE    612.938381   \n24    Trend.Down     BurstMode.MIDDLE  EntropyMode.SURPRISE    514.738309   \n25    Trend.Down     BurstMode.MIDDLE  EntropyMode.SURPRISE    436.992161   \n26    Trend.Down     BurstMode.MIDDLE  EntropyMode.SURPRISE    424.697744   \n27    Trend.Down     BurstMode.MIDDLE  EntropyMode.SURPRISE    419.637799   \n28    Trend.Down     BurstMode.MIDDLE  EntropyMode.SURPRISE    425.625303   \n29    Trend.Down       BurstMode.POOR  EntropyMode.EXPECTED    386.156161   \n30    Trend.Down       BurstMode.POOR  EntropyMode.EXPECTED    397.379397   \n31  Trend.MIDDLE  BurstMode.STRONGEST  EntropyMode.EXPECTED    573.447460   \n32      Trend.Up  BurstMode.STRONGEST  EntropyMode.EXPECTED    680.877687   \n33      Trend.Up     BurstMode.MIDDLE  EntropyMode.SURPRISE    593.916422   \n34      Trend.Up     BurstMode.MIDDLE  EntropyMode.SURPRISE    666.651530   \n35      Trend.Up     BurstMode.MIDDLE  EntropyMode.SURPRISE    737.665823   \n36      Trend.Up     BurstMode.MIDDLE  EntropyMode.SURPRISE    791.502031   \n37      Trend.Up     BurstMode.MIDDLE  EntropyMode.SURPRISE    837.644684   \n38      Trend.Up     BurstMode.MIDDLE  EntropyMode.SURPRISE    910.363386   \n39      Trend.Up     BurstMode.MIDDLE  EntropyMode.SURPRISE    994.778994   \n40      Trend.Up     BurstMode.MIDDLE  EntropyMode.SURPRISE    939.540322   \n41  Trend.MIDDLE       BurstMode.POOR  EntropyMode.SURPRISE    772.261181   \n42    Trend.Down     BurstMode.MIDDLE  EntropyMode.SURPRISE    705.802163   \n43    Trend.Down     BurstMode.MIDDLE  EntropyMode.SURPRISE    593.788010   \n44    Trend.Down     BurstMode.MIDDLE  EntropyMode.SURPRISE    500.987376   \n45    Trend.Down     BurstMode.MIDDLE  EntropyMode.SURPRISE    436.574833   \n46    Trend.Down     BurstMode.MIDDLE  EntropyMode.SURPRISE    435.093280   \n47    Trend.Down     BurstMode.MIDDLE  EntropyMode.SURPRISE    424.692165   \n48    Trend.Down     BurstMode.MIDDLE  EntropyMode.SURPRISE    428.527364   \n49    Trend.Down     BurstMode.MIDDLE  EntropyMode.SURPRISE    433.902501   \n\n    pred_container  max_cpu_usage  \n0               24          147.0  \n1               21          147.0  \n2               20          147.0  \n3               18          147.0  \n4               16          147.0  \n5               15          147.0  \n6               14          147.0  \n7               14          153.0  \n8               14          153.0  \n9               13          162.0  \n10              14          166.0  \n11              19          166.0  \n12              21          166.0  \n13              19          197.0  \n14              24          197.0  \n15              25          197.0  \n16              27          197.0  \n17              28          197.0  \n18              30          197.0  \n19              32          197.0  \n20              31          197.0  \n21              27          180.0  \n22              22          180.0  \n23              20          180.0  \n24              17          180.0  \n25              14          161.0  \n26              14          161.0  \n27              14          161.0  \n28              14          165.0  \n29              13          165.0  \n30              13          166.0  \n31              18          166.0  \n32              24          200.0  \n33              21          200.0  \n34              24          200.0  \n35              26          200.0  \n36              28          200.0  \n37              30          200.0  \n38              32          200.0  \n39              35          200.0  \n40              33          200.0  \n41              25          189.0  \n42              23          189.0  \n43              18          168.0  \n44              16          168.0  \n45              14          161.0  \n46              14          161.0  \n47              14          153.0  \n48              14          163.0  \n49              14          163.0  ",
      "text/html": "<div>\n<style scoped>\n    .dataframe tbody tr th:only-of-type {\n        vertical-align: middle;\n    }\n\n    .dataframe tbody tr th {\n        vertical-align: top;\n    }\n\n    .dataframe thead th {\n        text-align: right;\n    }\n</style>\n<table border=\"1\" class=\"dataframe\">\n  <thead>\n    <tr style=\"text-align: right;\">\n      <th></th>\n      <th>index</th>\n      <th>date</th>\n      <th>fuzzy</th>\n      <th>sample</th>\n      <th>pairwise</th>\n      <th>trend</th>\n      <th>burst_mode</th>\n      <th>entropy_mode</th>\n      <th>pred_traffic</th>\n      <th>pred_container</th>\n      <th>max_cpu_usage</th>\n    </tr>\n  </thead>\n  <tbody>\n    <tr>\n      <th>0</th>\n      <td>0</td>\n      <td>2022-10-28T16:14:00.053120</td>\n      <td>1.959083</td>\n      <td>inf</td>\n      <td>-0.257474</td>\n      <td>Trend.Down</td>\n      <td>BurstMode.POOR</td>\n      <td>EntropyMode.EXPECTED</td>\n      <td>757.095948</td>\n      <td>24</td>\n      <td>147.0</td>\n    </tr>\n    <tr>\n      <th>1</th>\n      <td>0</td>\n      <td>2022-10-28T16:14:15.540205</td>\n      <td>1.215506</td>\n      <td>1.504077</td>\n      <td>-0.830278</td>\n      <td>Trend.Down</td>\n      <td>BurstMode.POOR</td>\n      <td>EntropyMode.EXPECTED</td>\n      <td>665.495232</td>\n      <td>21</td>\n      <td>147.0</td>\n    </tr>\n    <tr>\n      <th>2</th>\n      <td>0</td>\n      <td>2022-10-28T16:14:30.080990</td>\n      <td>0.852753</td>\n      <td>1.526056</td>\n      <td>-0.931850</td>\n      <td>Trend.Down</td>\n      <td>BurstMode.MIDDLE</td>\n      <td>EntropyMode.SURPRISE</td>\n      <td>638.056249</td>\n      <td>20</td>\n      <td>147.0</td>\n    </tr>\n    <tr>\n      <th>3</th>\n      <td>0</td>\n      <td>2022-10-28T16:14:45.386902</td>\n      <td>0.752690</td>\n      <td>1.098612</td>\n      <td>-0.956864</td>\n      <td>Trend.Down</td>\n      <td>BurstMode.MIDDLE</td>\n      <td>EntropyMode.SURPRISE</td>\n      <td>571.298596</td>\n      <td>18</td>\n      <td>147.0</td>\n    </tr>\n    <tr>\n      <th>4</th>\n      <td>0</td>\n      <td>2022-10-28T16:15:00.317686</td>\n      <td>0.621394</td>\n      <td>1.029619</td>\n      <td>-0.971986</td>\n      <td>Trend.Down</td>\n      <td>BurstMode.MIDDLE</td>\n      <td>EntropyMode.SURPRISE</td>\n      <td>502.137767</td>\n      <td>16</td>\n      <td>147.0</td>\n    </tr>\n    <tr>\n      <th>5</th>\n      <td>0</td>\n      <td>2022-10-28T16:15:15.498564</td>\n      <td>0.571210</td>\n      <td>1.105127</td>\n      <td>-0.973220</td>\n      <td>Trend.Down</td>\n      <td>BurstMode.MIDDLE</td>\n      <td>EntropyMode.SURPRISE</td>\n      <td>455.564544</td>\n      <td>15</td>\n      <td>147.0</td>\n    </tr>\n    <tr>\n      <th>6</th>\n      <td>0</td>\n      <td>2022-10-28T16:15:30.341938</td>\n      <td>0.597269</td>\n      <td>0.963067</td>\n      <td>-0.959494</td>\n      <td>Trend.Down</td>\n      <td>BurstMode.MIDDLE</td>\n      <td>EntropyMode.SURPRISE</td>\n      <td>418.225142</td>\n      <td>14</td>\n      <td>147.0</td>\n    </tr>\n    <tr>\n      <th>7</th>\n      <td>0</td>\n      <td>2022-10-28T16:15:45.532180</td>\n      <td>0.688282</td>\n      <td>1.049822</td>\n      <td>-0.923400</td>\n      <td>Trend.Down</td>\n      <td>BurstMode.MIDDLE</td>\n      <td>EntropyMode.SURPRISE</td>\n      <td>410.336020</td>\n      <td>14</td>\n      <td>153.0</td>\n    </tr>\n    <tr>\n      <th>8</th>\n      <td>0</td>\n      <td>2022-10-28T16:16:00.373906</td>\n      <td>0.893289</td>\n      <td>1.420196</td>\n      <td>-0.863080</td>\n      <td>Trend.Down</td>\n      <td>BurstMode.MIDDLE</td>\n      <td>EntropyMode.SURPRISE</td>\n      <td>423.176940</td>\n      <td>14</td>\n      <td>153.0</td>\n    </tr>\n    <tr>\n      <th>9</th>\n      <td>0</td>\n      <td>2022-10-28T16:16:15.464280</td>\n      <td>1.148243</td>\n      <td>1.497520</td>\n      <td>-0.788342</td>\n      <td>Trend.Down</td>\n      <td>BurstMode.POOR</td>\n      <td>EntropyMode.EXPECTED</td>\n      <td>385.447227</td>\n      <td>13</td>\n      <td>162.0</td>\n    </tr>\n    <tr>\n      <th>10</th>\n      <td>0</td>\n      <td>2022-10-28T16:16:30.708880</td>\n      <td>1.399469</td>\n      <td>2.043074</td>\n      <td>-0.479637</td>\n      <td>Trend.Down</td>\n      <td>BurstMode.POOR</td>\n      <td>EntropyMode.EXPECTED</td>\n      <td>406.891165</td>\n      <td>14</td>\n      <td>166.0</td>\n    </tr>\n    <tr>\n      <th>11</th>\n      <td>0</td>\n      <td>2022-10-28T16:16:45.741278</td>\n      <td>1.493751</td>\n      <td>2.197225</td>\n      <td>0.113852</td>\n      <td>Trend.MIDDLE</td>\n      <td>BurstMode.STRONGEST</td>\n      <td>EntropyMode.EXPECTED</td>\n      <td>598.614608</td>\n      <td>19</td>\n      <td>166.0</td>\n    </tr>\n    <tr>\n      <th>12</th>\n      <td>0</td>\n      <td>2022-10-28T16:17:00.588035</td>\n      <td>1.278653</td>\n      <td>1.977163</td>\n      <td>0.626468</td>\n      <td>Trend.Up</td>\n      <td>BurstMode.STRONGEST</td>\n      <td>EntropyMode.EXPECTED</td>\n      <td>662.440260</td>\n      <td>21</td>\n      <td>166.0</td>\n    </tr>\n    <tr>\n      <th>13</th>\n      <td>0</td>\n      <td>2022-10-28T16:17:15.729476</td>\n      <td>1.069279</td>\n      <td>1.536235</td>\n      <td>0.813731</td>\n      <td>Trend.Up</td>\n      <td>BurstMode.POOR</td>\n      <td>EntropyMode.EXPECTED</td>\n      <td>545.805191</td>\n      <td>19</td>\n      <td>197.0</td>\n    </tr>\n    <tr>\n      <th>14</th>\n      <td>0</td>\n      <td>2022-10-28T16:17:30.768461</td>\n      <td>0.887324</td>\n      <td>1.473306</td>\n      <td>0.915416</td>\n      <td>Trend.Up</td>\n      <td>BurstMode.STRONG</td>\n      <td>EntropyMode.SURPRISE</td>\n      <td>694.775710</td>\n      <td>24</td>\n      <td>197.0</td>\n    </tr>\n    <tr>\n      <th>15</th>\n      <td>0</td>\n      <td>2022-10-28T16:17:45.814005</td>\n      <td>0.730455</td>\n      <td>1.351203</td>\n      <td>0.953899</td>\n      <td>Trend.Up</td>\n      <td>BurstMode.MIDDLE</td>\n      <td>EntropyMode.SURPRISE</td>\n      <td>723.798730</td>\n      <td>25</td>\n      <td>197.0</td>\n    </tr>\n    <tr>\n      <th>16</th>\n      <td>0</td>\n      <td>2022-10-28T16:18:01.041097</td>\n      <td>0.693460</td>\n      <td>1.147065</td>\n      <td>0.957711</td>\n      <td>Trend.Up</td>\n      <td>BurstMode.MIDDLE</td>\n      <td>EntropyMode.SURPRISE</td>\n      <td>776.639011</td>\n      <td>27</td>\n      <td>197.0</td>\n    </tr>\n    <tr>\n      <th>17</th>\n      <td>0</td>\n      <td>2022-10-28T16:18:16.061453</td>\n      <td>0.654584</td>\n      <td>1.194627</td>\n      <td>0.964359</td>\n      <td>Trend.Up</td>\n      <td>BurstMode.MIDDLE</td>\n      <td>EntropyMode.SURPRISE</td>\n      <td>819.995831</td>\n      <td>28</td>\n      <td>197.0</td>\n    </tr>\n    <tr>\n      <th>18</th>\n      <td>0</td>\n      <td>2022-10-28T16:18:31.345723</td>\n      <td>0.633418</td>\n      <td>1.066036</td>\n      <td>0.965897</td>\n      <td>Trend.Up</td>\n      <td>BurstMode.MIDDLE</td>\n      <td>EntropyMode.SURPRISE</td>\n      <td>885.470747</td>\n      <td>30</td>\n      <td>197.0</td>\n    </tr>\n    <tr>\n      <th>19</th>\n      <td>0</td>\n      <td>2022-10-28T16:18:46.529904</td>\n      <td>0.661249</td>\n      <td>1.056940</td>\n      <td>0.962273</td>\n      <td>Trend.Up</td>\n      <td>BurstMode.MIDDLE</td>\n      <td>EntropyMode.SURPRISE</td>\n      <td>936.901638</td>\n      <td>32</td>\n      <td>197.0</td>\n    </tr>\n    <tr>\n      <th>20</th>\n      <td>0</td>\n      <td>2022-10-28T16:19:01.641952</td>\n      <td>0.775064</td>\n      <td>1.451434</td>\n      <td>0.816361</td>\n      <td>Trend.Up</td>\n      <td>BurstMode.MIDDLE</td>\n      <td>EntropyMode.SURPRISE</td>\n      <td>906.431535</td>\n      <td>31</td>\n      <td>197.0</td>\n    </tr>\n    <tr>\n      <th>21</th>\n      <td>0</td>\n      <td>2022-10-28T16:19:16.731744</td>\n      <td>0.945975</td>\n      <td>1.414732</td>\n      <td>0.290735</td>\n      <td>Trend.Up</td>\n      <td>BurstMode.MIDDLE</td>\n      <td>EntropyMode.SURPRISE</td>\n      <td>822.476041</td>\n      <td>27</td>\n      <td>180.0</td>\n    </tr>\n    <tr>\n      <th>22</th>\n      <td>0</td>\n      <td>2022-10-28T16:19:31.738585</td>\n      <td>0.863595</td>\n      <td>1.529395</td>\n      <td>-0.495346</td>\n      <td>Trend.Down</td>\n      <td>BurstMode.POOR</td>\n      <td>EntropyMode.SURPRISE</td>\n      <td>665.697843</td>\n      <td>22</td>\n      <td>180.0</td>\n    </tr>\n    <tr>\n      <th>23</th>\n      <td>0</td>\n      <td>2022-10-28T16:19:46.732687</td>\n      <td>0.705907</td>\n      <td>1.146079</td>\n      <td>-0.843558</td>\n      <td>Trend.Down</td>\n      <td>BurstMode.MIDDLE</td>\n      <td>EntropyMode.SURPRISE</td>\n      <td>612.938381</td>\n      <td>20</td>\n      <td>180.0</td>\n    </tr>\n    <tr>\n      <th>24</th>\n      <td>0</td>\n      <td>2022-10-28T16:20:01.749193</td>\n      <td>0.582924</td>\n      <td>1.040456</td>\n      <td>-0.955252</td>\n      <td>Trend.Down</td>\n      <td>BurstMode.MIDDLE</td>\n      <td>EntropyMode.SURPRISE</td>\n      <td>514.738309</td>\n      <td>17</td>\n      <td>180.0</td>\n    </tr>\n    <tr>\n      <th>25</th>\n      <td>0</td>\n      <td>2022-10-28T16:20:16.983932</td>\n      <td>0.549696</td>\n      <td>0.824389</td>\n      <td>-0.971659</td>\n      <td>Trend.Down</td>\n      <td>BurstMode.MIDDLE</td>\n      <td>EntropyMode.SURPRISE</td>\n      <td>436.992161</td>\n      <td>14</td>\n      <td>161.0</td>\n    </tr>\n    <tr>\n      <th>26</th>\n      <td>0</td>\n      <td>2022-10-28T16:20:31.854628</td>\n      <td>0.610592</td>\n      <td>0.868663</td>\n      <td>-0.946604</td>\n      <td>Trend.Down</td>\n      <td>BurstMode.MIDDLE</td>\n      <td>EntropyMode.SURPRISE</td>\n      <td>424.697744</td>\n      <td>14</td>\n      <td>161.0</td>\n    </tr>\n    <tr>\n      <th>27</th>\n      <td>0</td>\n      <td>2022-10-28T16:20:47.159051</td>\n      <td>0.715571</td>\n      <td>1.067841</td>\n      <td>-0.897669</td>\n      <td>Trend.Down</td>\n      <td>BurstMode.MIDDLE</td>\n      <td>EntropyMode.SURPRISE</td>\n      <td>419.637799</td>\n      <td>14</td>\n      <td>161.0</td>\n    </tr>\n    <tr>\n      <th>28</th>\n      <td>0</td>\n      <td>2022-10-28T16:21:01.886610</td>\n      <td>0.914873</td>\n      <td>1.441019</td>\n      <td>-0.842902</td>\n      <td>Trend.Down</td>\n      <td>BurstMode.MIDDLE</td>\n      <td>EntropyMode.SURPRISE</td>\n      <td>425.625303</td>\n      <td>14</td>\n      <td>165.0</td>\n    </tr>\n    <tr>\n      <th>29</th>\n      <td>0</td>\n      <td>2022-10-28T16:21:17.208139</td>\n      <td>1.074807</td>\n      <td>1.754019</td>\n      <td>-0.809649</td>\n      <td>Trend.Down</td>\n      <td>BurstMode.POOR</td>\n      <td>EntropyMode.EXPECTED</td>\n      <td>386.156161</td>\n      <td>13</td>\n      <td>165.0</td>\n    </tr>\n    <tr>\n      <th>30</th>\n      <td>0</td>\n      <td>2022-10-28T16:21:31.992185</td>\n      <td>1.290635</td>\n      <td>1.742969</td>\n      <td>-0.639292</td>\n      <td>Trend.Down</td>\n      <td>BurstMode.POOR</td>\n      <td>EntropyMode.EXPECTED</td>\n      <td>397.379397</td>\n      <td>13</td>\n      <td>166.0</td>\n    </tr>\n    <tr>\n      <th>31</th>\n      <td>0</td>\n      <td>2022-10-28T16:21:47.284968</td>\n      <td>1.283304</td>\n      <td>1.734601</td>\n      <td>0.004814</td>\n      <td>Trend.MIDDLE</td>\n      <td>BurstMode.STRONGEST</td>\n      <td>EntropyMode.EXPECTED</td>\n      <td>573.447460</td>\n      <td>18</td>\n      <td>166.0</td>\n    </tr>\n    <tr>\n      <th>32</th>\n      <td>0</td>\n      <td>2022-10-28T16:22:02.475837</td>\n      <td>1.112095</td>\n      <td>1.515127</td>\n      <td>0.519756</td>\n      <td>Trend.Up</td>\n      <td>BurstMode.STRONGEST</td>\n      <td>EntropyMode.EXPECTED</td>\n      <td>680.877687</td>\n      <td>24</td>\n      <td>200.0</td>\n    </tr>\n    <tr>\n      <th>33</th>\n      <td>0</td>\n      <td>2022-10-28T16:22:17.175169</td>\n      <td>0.866897</td>\n      <td>1.170071</td>\n      <td>0.819366</td>\n      <td>Trend.Up</td>\n      <td>BurstMode.MIDDLE</td>\n      <td>EntropyMode.SURPRISE</td>\n      <td>593.916422</td>\n      <td>21</td>\n      <td>200.0</td>\n    </tr>\n    <tr>\n      <th>34</th>\n      <td>0</td>\n      <td>2022-10-28T16:22:32.365522</td>\n      <td>0.750518</td>\n      <td>1.296438</td>\n      <td>0.929655</td>\n      <td>Trend.Up</td>\n      <td>BurstMode.MIDDLE</td>\n      <td>EntropyMode.SURPRISE</td>\n      <td>666.651530</td>\n      <td>24</td>\n      <td>200.0</td>\n    </tr>\n    <tr>\n      <th>35</th>\n      <td>0</td>\n      <td>2022-10-28T16:22:47.505397</td>\n      <td>0.707287</td>\n      <td>1.031019</td>\n      <td>0.960642</td>\n      <td>Trend.Up</td>\n      <td>BurstMode.MIDDLE</td>\n      <td>EntropyMode.SURPRISE</td>\n      <td>737.665823</td>\n      <td>26</td>\n      <td>200.0</td>\n    </tr>\n    <tr>\n      <th>36</th>\n      <td>0</td>\n      <td>2022-10-28T16:23:02.974894</td>\n      <td>0.734330</td>\n      <td>1.149906</td>\n      <td>0.957679</td>\n      <td>Trend.Up</td>\n      <td>BurstMode.MIDDLE</td>\n      <td>EntropyMode.SURPRISE</td>\n      <td>791.502031</td>\n      <td>28</td>\n      <td>200.0</td>\n    </tr>\n    <tr>\n      <th>37</th>\n      <td>0</td>\n      <td>2022-10-28T16:23:18.017954</td>\n      <td>0.693604</td>\n      <td>1.149906</td>\n      <td>0.961448</td>\n      <td>Trend.Up</td>\n      <td>BurstMode.MIDDLE</td>\n      <td>EntropyMode.SURPRISE</td>\n      <td>837.644684</td>\n      <td>30</td>\n      <td>200.0</td>\n    </tr>\n    <tr>\n      <th>38</th>\n      <td>0</td>\n      <td>2022-10-28T16:23:32.858132</td>\n      <td>0.628979</td>\n      <td>1.105533</td>\n      <td>0.965909</td>\n      <td>Trend.Up</td>\n      <td>BurstMode.MIDDLE</td>\n      <td>EntropyMode.SURPRISE</td>\n      <td>910.363386</td>\n      <td>32</td>\n      <td>200.0</td>\n    </tr>\n    <tr>\n      <th>39</th>\n      <td>0</td>\n      <td>2022-10-28T16:23:48.068598</td>\n      <td>0.681571</td>\n      <td>1.304464</td>\n      <td>0.952756</td>\n      <td>Trend.Up</td>\n      <td>BurstMode.MIDDLE</td>\n      <td>EntropyMode.SURPRISE</td>\n      <td>994.778994</td>\n      <td>35</td>\n      <td>200.0</td>\n    </tr>\n    <tr>\n      <th>40</th>\n      <td>0</td>\n      <td>2022-10-28T16:24:03.225676</td>\n      <td>0.804327</td>\n      <td>1.348554</td>\n      <td>0.750160</td>\n      <td>Trend.Up</td>\n      <td>BurstMode.MIDDLE</td>\n      <td>EntropyMode.SURPRISE</td>\n      <td>939.540322</td>\n      <td>33</td>\n      <td>200.0</td>\n    </tr>\n    <tr>\n      <th>41</th>\n      <td>0</td>\n      <td>2022-10-28T16:24:18.528123</td>\n      <td>0.937092</td>\n      <td>1.609438</td>\n      <td>0.193115</td>\n      <td>Trend.MIDDLE</td>\n      <td>BurstMode.POOR</td>\n      <td>EntropyMode.SURPRISE</td>\n      <td>772.261181</td>\n      <td>25</td>\n      <td>189.0</td>\n    </tr>\n    <tr>\n      <th>42</th>\n      <td>0</td>\n      <td>2022-10-28T16:24:33.342613</td>\n      <td>0.850796</td>\n      <td>1.704748</td>\n      <td>-0.528041</td>\n      <td>Trend.Down</td>\n      <td>BurstMode.MIDDLE</td>\n      <td>EntropyMode.SURPRISE</td>\n      <td>705.802163</td>\n      <td>23</td>\n      <td>189.0</td>\n    </tr>\n    <tr>\n      <th>43</th>\n      <td>0</td>\n      <td>2022-10-28T16:24:48.489728</td>\n      <td>0.699598</td>\n      <td>1.342234</td>\n      <td>-0.872109</td>\n      <td>Trend.Down</td>\n      <td>BurstMode.MIDDLE</td>\n      <td>EntropyMode.SURPRISE</td>\n      <td>593.788010</td>\n      <td>18</td>\n      <td>168.0</td>\n    </tr>\n    <tr>\n      <th>44</th>\n      <td>0</td>\n      <td>2022-10-28T16:25:03.639993</td>\n      <td>0.548900</td>\n      <td>0.837598</td>\n      <td>-0.961668</td>\n      <td>Trend.Down</td>\n      <td>BurstMode.MIDDLE</td>\n      <td>EntropyMode.SURPRISE</td>\n      <td>500.987376</td>\n      <td>16</td>\n      <td>168.0</td>\n    </tr>\n    <tr>\n      <th>45</th>\n      <td>0</td>\n      <td>2022-10-28T16:25:18.384978</td>\n      <td>0.493783</td>\n      <td>0.631454</td>\n      <td>-0.968063</td>\n      <td>Trend.Down</td>\n      <td>BurstMode.MIDDLE</td>\n      <td>EntropyMode.SURPRISE</td>\n      <td>436.574833</td>\n      <td>14</td>\n      <td>161.0</td>\n    </tr>\n    <tr>\n      <th>46</th>\n      <td>0</td>\n      <td>2022-10-28T16:25:33.476276</td>\n      <td>0.555960</td>\n      <td>0.793231</td>\n      <td>-0.952550</td>\n      <td>Trend.Down</td>\n      <td>BurstMode.MIDDLE</td>\n      <td>EntropyMode.SURPRISE</td>\n      <td>435.093280</td>\n      <td>14</td>\n      <td>161.0</td>\n    </tr>\n    <tr>\n      <th>47</th>\n      <td>0</td>\n      <td>2022-10-28T16:25:48.553267</td>\n      <td>0.623105</td>\n      <td>1.015435</td>\n      <td>-0.926281</td>\n      <td>Trend.Down</td>\n      <td>BurstMode.MIDDLE</td>\n      <td>EntropyMode.SURPRISE</td>\n      <td>424.692165</td>\n      <td>14</td>\n      <td>153.0</td>\n    </tr>\n    <tr>\n      <th>48</th>\n      <td>0</td>\n      <td>2022-10-28T16:26:03.659784</td>\n      <td>0.776118</td>\n      <td>1.399366</td>\n      <td>-0.856302</td>\n      <td>Trend.Down</td>\n      <td>BurstMode.MIDDLE</td>\n      <td>EntropyMode.SURPRISE</td>\n      <td>428.527364</td>\n      <td>14</td>\n      <td>163.0</td>\n    </tr>\n    <tr>\n      <th>49</th>\n      <td>0</td>\n      <td>2022-10-28T16:26:21.647250</td>\n      <td>0.939955</td>\n      <td>1.904237</td>\n      <td>-0.823655</td>\n      <td>Trend.Down</td>\n      <td>BurstMode.MIDDLE</td>\n      <td>EntropyMode.SURPRISE</td>\n      <td>433.902501</td>\n      <td>14</td>\n      <td>163.0</td>\n    </tr>\n  </tbody>\n</table>\n</div>"
     },
     "execution_count": 3,
     "metadata": {},
     "output_type": "execute_result"
    }
   ],
   "source": [
    "pred_01 = pd.read_csv(\"pred_20221028161359.log\", names=[\"index\", \"date\", \"fuzzy\", \"sample\", \"pairwise\",  \"trend\", \"burst_mode\", \"entropy_mode\", \"pred_traffic\", \"pred_container\", \"max_cpu_usage\"])\n",
    "pred_01"
   ],
   "metadata": {
    "collapsed": false,
    "pycharm": {
     "name": "#%%\n"
    }
   }
  },
  {
   "cell_type": "code",
   "execution_count": 3,
   "outputs": [],
   "source": [
    "def parse(path: str) -> pd.DataFrame:\n",
    "    # CSVから読み取る\n",
    "    try:\n",
    "        df = pd.read_csv(path,  delimiter='\\t', header=None, names=[ 'c{0:02d}'.format(i) for i in range(10) ])\n",
    "    except Exception as e:\n",
    "        raise(e)\n",
    "    df_target = df.to_numpy()\n",
    "\n",
    "    # いい感じに整形\n",
    "    requests = pd.DataFrame([{\"date\": datetime.fromtimestamp(float(d[4])/1000), \"status\": d[6], \"count\": 1} for d in df_target if (d[0] == \"REQUEST\" and not math.isnan(float(d[4])) )])\n",
    "    if len(requests) == 0:\n",
    "        return pd.DataFrame([])\n",
    "\n",
    "    # 1秒ごとにサマる\n",
    "    grouped1 = requests.groupby([pd.Grouper(key=(\"status\")),pd.Grouper(key=(\"date\"), freq=\"S\")]).sum().reset_index()\n",
    "\n",
    "    # 全部同じ数は困るので乱数を入れておく\n",
    "    for x in range(len(grouped1)):\n",
    "        grouped1.iat[x, 2] += np.random.rand() * sys.float_info.epsilon\n",
    "\n",
    "    return grouped1"
   ],
   "metadata": {
    "collapsed": false,
    "pycharm": {
     "name": "#%%\n"
    }
   }
  },
  {
   "cell_type": "code",
   "execution_count": 4,
   "outputs": [],
   "source": [
    "def reg_tree() -> DecisionTreeRegressor:\n",
    "    X = [\n",
    "        [60],\n",
    "        [100],\n",
    "        [140],\n",
    "        [175],\n",
    "        [210],\n",
    "        [255],\n",
    "        [300],\n",
    "        [330],\n",
    "        [360],\n",
    "        [390],\n",
    "        [420],\n",
    "        [460],\n",
    "        [500],\n",
    "        [540],\n",
    "        [580],\n",
    "        [610],\n",
    "        [640],\n",
    "        [670],\n",
    "        [700],\n",
    "        [730],\n",
    "        [760],\n",
    "        [790],\n",
    "        [820],\n",
    "        [850],\n",
    "        [880],\n",
    "        [910],\n",
    "        [940],\n",
    "        [970],\n",
    "        [1000],\n",
    "        [1030],\n",
    "        [1060],\n",
    "    ]\n",
    "\n",
    "    y = [\n",
    "        4,\n",
    "        5,\n",
    "        6,\n",
    "        7,\n",
    "        8,\n",
    "        9,\n",
    "        10,\n",
    "        11,\n",
    "        12,\n",
    "        13,\n",
    "        14,\n",
    "        15,\n",
    "        16,\n",
    "        17,\n",
    "        18,\n",
    "        19,\n",
    "        20,\n",
    "        21,\n",
    "        22,\n",
    "        23,\n",
    "        24,\n",
    "        25,\n",
    "        26,\n",
    "        27,\n",
    "        28,\n",
    "        29,\n",
    "        30,\n",
    "        31,\n",
    "        32,\n",
    "        33,\n",
    "        34,\n",
    "    ]\n",
    "\n",
    "    return DecisionTreeRegressor().fit(X, y)"
   ],
   "metadata": {
    "collapsed": false,
    "pycharm": {
     "name": "#%%\n"
    }
   }
  },
  {
   "cell_type": "code",
   "execution_count": 5,
   "outputs": [
    {
     "name": "stderr",
     "output_type": "stream",
     "text": [
      "/var/folders/zk/cf948rq56631k5dgzn62fkjm0000gn/T/ipykernel_85058/600845077.py:4: DtypeWarning: Columns (2,4,5) have mixed types. Specify dtype option on import or set low_memory=False.\n",
      "  df = pd.read_csv(path,  delimiter='\\t', header=None, names=[ 'c{0:02d}'.format(i) for i in range(10) ])\n"
     ]
    }
   ],
   "source": [
    "df_01 = parse(\"./simulation_k8s_01.log\")"
   ],
   "metadata": {
    "collapsed": false,
    "pycharm": {
     "name": "#%%\n"
    }
   }
  },
  {
   "cell_type": "code",
   "execution_count": 6,
   "outputs": [
    {
     "data": {
      "text/plain": "                          date  size\n0    2023-07-11 22:22:23+00:00    40\n1    2023-07-11 22:22:24+00:00    40\n2    2023-07-11 22:22:26+00:00    40\n3    2023-07-11 22:22:27+00:00    40\n4    2023-07-11 22:22:28+00:00    40\n...                        ...   ...\n1105 2023-07-11 22:43:04+00:00    40\n1106 2023-07-11 22:43:05+00:00    40\n1107 2023-07-11 22:43:07+00:00    40\n1108 2023-07-11 22:43:08+00:00    40\n1109 2023-07-11 22:43:09+00:00    40\n\n[1110 rows x 2 columns]",
      "text/html": "<div>\n<style scoped>\n    .dataframe tbody tr th:only-of-type {\n        vertical-align: middle;\n    }\n\n    .dataframe tbody tr th {\n        vertical-align: top;\n    }\n\n    .dataframe thead th {\n        text-align: right;\n    }\n</style>\n<table border=\"1\" class=\"dataframe\">\n  <thead>\n    <tr style=\"text-align: right;\">\n      <th></th>\n      <th>date</th>\n      <th>size</th>\n    </tr>\n  </thead>\n  <tbody>\n    <tr>\n      <th>0</th>\n      <td>2023-07-11 22:22:23+00:00</td>\n      <td>40</td>\n    </tr>\n    <tr>\n      <th>1</th>\n      <td>2023-07-11 22:22:24+00:00</td>\n      <td>40</td>\n    </tr>\n    <tr>\n      <th>2</th>\n      <td>2023-07-11 22:22:26+00:00</td>\n      <td>40</td>\n    </tr>\n    <tr>\n      <th>3</th>\n      <td>2023-07-11 22:22:27+00:00</td>\n      <td>40</td>\n    </tr>\n    <tr>\n      <th>4</th>\n      <td>2023-07-11 22:22:28+00:00</td>\n      <td>40</td>\n    </tr>\n    <tr>\n      <th>...</th>\n      <td>...</td>\n      <td>...</td>\n    </tr>\n    <tr>\n      <th>1105</th>\n      <td>2023-07-11 22:43:04+00:00</td>\n      <td>40</td>\n    </tr>\n    <tr>\n      <th>1106</th>\n      <td>2023-07-11 22:43:05+00:00</td>\n      <td>40</td>\n    </tr>\n    <tr>\n      <th>1107</th>\n      <td>2023-07-11 22:43:07+00:00</td>\n      <td>40</td>\n    </tr>\n    <tr>\n      <th>1108</th>\n      <td>2023-07-11 22:43:08+00:00</td>\n      <td>40</td>\n    </tr>\n    <tr>\n      <th>1109</th>\n      <td>2023-07-11 22:43:09+00:00</td>\n      <td>40</td>\n    </tr>\n  </tbody>\n</table>\n<p>1110 rows × 2 columns</p>\n</div>"
     },
     "execution_count": 6,
     "metadata": {},
     "output_type": "execute_result"
    }
   ],
   "source": [
    "replaced_c_01 = c_01\n",
    "replaced_c_01[\"date\"] = pd.to_datetime(c_01[\"date\"], utc = False) + pd.to_timedelta(9, unit='h')\n",
    "replaced_c_01"
   ],
   "metadata": {
    "collapsed": false,
    "pycharm": {
     "name": "#%%\n"
    }
   }
  },
  {
   "cell_type": "code",
   "execution_count": 7,
   "outputs": [
    {
     "name": "stderr",
     "output_type": "stream",
     "text": [
      "/var/folders/zk/cf948rq56631k5dgzn62fkjm0000gn/T/ipykernel_85058/3566697410.py:2: SettingWithCopyWarning: \n",
      "A value is trying to be set on a copy of a slice from a DataFrame.\n",
      "Try using .loc[row_indexer,col_indexer] = value instead\n",
      "\n",
      "See the caveats in the documentation: https://pandas.pydata.org/pandas-docs/stable/user_guide/indexing.html#returning-a-view-versus-a-copy\n",
      "  replaced_df_01[\"date\"] = pd.to_datetime(df_01[\"date\"], utc=True)\n"
     ]
    },
    {
     "data": {
      "text/plain": "     status                      date  count\n4        OK 2023-07-11 22:23:26+00:00  227.0\n5        OK 2023-07-11 22:23:27+00:00  488.0\n6        OK 2023-07-11 22:23:28+00:00  471.0\n7        OK 2023-07-11 22:23:29+00:00  462.0\n8        OK 2023-07-11 22:23:30+00:00  477.0\n...     ...                       ...    ...\n1170     OK 2023-07-11 22:42:52+00:00  371.0\n1171     OK 2023-07-11 22:42:53+00:00  406.0\n1172     OK 2023-07-11 22:42:54+00:00  393.0\n1173     OK 2023-07-11 22:42:55+00:00  408.0\n1174     OK 2023-07-11 22:42:56+00:00  170.0\n\n[1171 rows x 3 columns]",
      "text/html": "<div>\n<style scoped>\n    .dataframe tbody tr th:only-of-type {\n        vertical-align: middle;\n    }\n\n    .dataframe tbody tr th {\n        vertical-align: top;\n    }\n\n    .dataframe thead th {\n        text-align: right;\n    }\n</style>\n<table border=\"1\" class=\"dataframe\">\n  <thead>\n    <tr style=\"text-align: right;\">\n      <th></th>\n      <th>status</th>\n      <th>date</th>\n      <th>count</th>\n    </tr>\n  </thead>\n  <tbody>\n    <tr>\n      <th>4</th>\n      <td>OK</td>\n      <td>2023-07-11 22:23:26+00:00</td>\n      <td>227.0</td>\n    </tr>\n    <tr>\n      <th>5</th>\n      <td>OK</td>\n      <td>2023-07-11 22:23:27+00:00</td>\n      <td>488.0</td>\n    </tr>\n    <tr>\n      <th>6</th>\n      <td>OK</td>\n      <td>2023-07-11 22:23:28+00:00</td>\n      <td>471.0</td>\n    </tr>\n    <tr>\n      <th>7</th>\n      <td>OK</td>\n      <td>2023-07-11 22:23:29+00:00</td>\n      <td>462.0</td>\n    </tr>\n    <tr>\n      <th>8</th>\n      <td>OK</td>\n      <td>2023-07-11 22:23:30+00:00</td>\n      <td>477.0</td>\n    </tr>\n    <tr>\n      <th>...</th>\n      <td>...</td>\n      <td>...</td>\n      <td>...</td>\n    </tr>\n    <tr>\n      <th>1170</th>\n      <td>OK</td>\n      <td>2023-07-11 22:42:52+00:00</td>\n      <td>371.0</td>\n    </tr>\n    <tr>\n      <th>1171</th>\n      <td>OK</td>\n      <td>2023-07-11 22:42:53+00:00</td>\n      <td>406.0</td>\n    </tr>\n    <tr>\n      <th>1172</th>\n      <td>OK</td>\n      <td>2023-07-11 22:42:54+00:00</td>\n      <td>393.0</td>\n    </tr>\n    <tr>\n      <th>1173</th>\n      <td>OK</td>\n      <td>2023-07-11 22:42:55+00:00</td>\n      <td>408.0</td>\n    </tr>\n    <tr>\n      <th>1174</th>\n      <td>OK</td>\n      <td>2023-07-11 22:42:56+00:00</td>\n      <td>170.0</td>\n    </tr>\n  </tbody>\n</table>\n<p>1171 rows × 3 columns</p>\n</div>"
     },
     "execution_count": 7,
     "metadata": {},
     "output_type": "execute_result"
    }
   ],
   "source": [
    "replaced_df_01 = df_01[df_01[\"status\"] != \"KO\"]\n",
    "replaced_df_01[\"date\"] = pd.to_datetime(df_01[\"date\"], utc=True)\n",
    "replaced_df_01"
   ],
   "metadata": {
    "collapsed": false,
    "pycharm": {
     "name": "#%%\n"
    }
   }
  },
  {
   "cell_type": "code",
   "execution_count": 8,
   "outputs": [
    {
     "data": {
      "text/plain": "     status                      date  count  size\n0        OK 2023-07-11 22:23:26+00:00  227.0    20\n1        OK 2023-07-11 22:23:28+00:00  471.0    20\n2        OK 2023-07-11 22:23:29+00:00  462.0    20\n3        OK 2023-07-11 22:23:30+00:00  477.0    20\n4        OK 2023-07-11 22:23:31+00:00  419.0    20\n...     ...                       ...    ...   ...\n1037     OK 2023-07-11 22:42:51+00:00  402.0    40\n1038     OK 2023-07-11 22:42:52+00:00  371.0    40\n1039     OK 2023-07-11 22:42:53+00:00  406.0    40\n1040     OK 2023-07-11 22:42:55+00:00  408.0    40\n1041     OK 2023-07-11 22:42:56+00:00  170.0    40\n\n[1042 rows x 4 columns]",
      "text/html": "<div>\n<style scoped>\n    .dataframe tbody tr th:only-of-type {\n        vertical-align: middle;\n    }\n\n    .dataframe tbody tr th {\n        vertical-align: top;\n    }\n\n    .dataframe thead th {\n        text-align: right;\n    }\n</style>\n<table border=\"1\" class=\"dataframe\">\n  <thead>\n    <tr style=\"text-align: right;\">\n      <th></th>\n      <th>status</th>\n      <th>date</th>\n      <th>count</th>\n      <th>size</th>\n    </tr>\n  </thead>\n  <tbody>\n    <tr>\n      <th>0</th>\n      <td>OK</td>\n      <td>2023-07-11 22:23:26+00:00</td>\n      <td>227.0</td>\n      <td>20</td>\n    </tr>\n    <tr>\n      <th>1</th>\n      <td>OK</td>\n      <td>2023-07-11 22:23:28+00:00</td>\n      <td>471.0</td>\n      <td>20</td>\n    </tr>\n    <tr>\n      <th>2</th>\n      <td>OK</td>\n      <td>2023-07-11 22:23:29+00:00</td>\n      <td>462.0</td>\n      <td>20</td>\n    </tr>\n    <tr>\n      <th>3</th>\n      <td>OK</td>\n      <td>2023-07-11 22:23:30+00:00</td>\n      <td>477.0</td>\n      <td>20</td>\n    </tr>\n    <tr>\n      <th>4</th>\n      <td>OK</td>\n      <td>2023-07-11 22:23:31+00:00</td>\n      <td>419.0</td>\n      <td>20</td>\n    </tr>\n    <tr>\n      <th>...</th>\n      <td>...</td>\n      <td>...</td>\n      <td>...</td>\n      <td>...</td>\n    </tr>\n    <tr>\n      <th>1037</th>\n      <td>OK</td>\n      <td>2023-07-11 22:42:51+00:00</td>\n      <td>402.0</td>\n      <td>40</td>\n    </tr>\n    <tr>\n      <th>1038</th>\n      <td>OK</td>\n      <td>2023-07-11 22:42:52+00:00</td>\n      <td>371.0</td>\n      <td>40</td>\n    </tr>\n    <tr>\n      <th>1039</th>\n      <td>OK</td>\n      <td>2023-07-11 22:42:53+00:00</td>\n      <td>406.0</td>\n      <td>40</td>\n    </tr>\n    <tr>\n      <th>1040</th>\n      <td>OK</td>\n      <td>2023-07-11 22:42:55+00:00</td>\n      <td>408.0</td>\n      <td>40</td>\n    </tr>\n    <tr>\n      <th>1041</th>\n      <td>OK</td>\n      <td>2023-07-11 22:42:56+00:00</td>\n      <td>170.0</td>\n      <td>40</td>\n    </tr>\n  </tbody>\n</table>\n<p>1042 rows × 4 columns</p>\n</div>"
     },
     "execution_count": 8,
     "metadata": {},
     "output_type": "execute_result"
    }
   ],
   "source": [
    "merged_01 = pd.merge(replaced_df_01, replaced_c_01, left_on=\"date\", right_on=\"date\")\n",
    "merged_01"
   ],
   "metadata": {
    "collapsed": false,
    "pycharm": {
     "name": "#%%\n"
    }
   }
  },
  {
   "cell_type": "code",
   "execution_count": 9,
   "outputs": [
    {
     "data": {
      "text/plain": "     status                      date  count  size  expected_size\n0        OK 2023-07-11 22:23:26+00:00  227.0    20            8.0\n1        OK 2023-07-11 22:23:28+00:00  471.0    20           15.0\n2        OK 2023-07-11 22:23:29+00:00  462.0    20           15.0\n3        OK 2023-07-11 22:23:30+00:00  477.0    20           15.0\n4        OK 2023-07-11 22:23:31+00:00  419.0    20           14.0\n...     ...                       ...    ...   ...            ...\n1037     OK 2023-07-11 22:42:51+00:00  402.0    40           13.0\n1038     OK 2023-07-11 22:42:52+00:00  371.0    40           12.0\n1039     OK 2023-07-11 22:42:53+00:00  406.0    40           14.0\n1040     OK 2023-07-11 22:42:55+00:00  408.0    40           14.0\n1041     OK 2023-07-11 22:42:56+00:00  170.0    40            7.0\n\n[1042 rows x 5 columns]",
      "text/html": "<div>\n<style scoped>\n    .dataframe tbody tr th:only-of-type {\n        vertical-align: middle;\n    }\n\n    .dataframe tbody tr th {\n        vertical-align: top;\n    }\n\n    .dataframe thead th {\n        text-align: right;\n    }\n</style>\n<table border=\"1\" class=\"dataframe\">\n  <thead>\n    <tr style=\"text-align: right;\">\n      <th></th>\n      <th>status</th>\n      <th>date</th>\n      <th>count</th>\n      <th>size</th>\n      <th>expected_size</th>\n    </tr>\n  </thead>\n  <tbody>\n    <tr>\n      <th>0</th>\n      <td>OK</td>\n      <td>2023-07-11 22:23:26+00:00</td>\n      <td>227.0</td>\n      <td>20</td>\n      <td>8.0</td>\n    </tr>\n    <tr>\n      <th>1</th>\n      <td>OK</td>\n      <td>2023-07-11 22:23:28+00:00</td>\n      <td>471.0</td>\n      <td>20</td>\n      <td>15.0</td>\n    </tr>\n    <tr>\n      <th>2</th>\n      <td>OK</td>\n      <td>2023-07-11 22:23:29+00:00</td>\n      <td>462.0</td>\n      <td>20</td>\n      <td>15.0</td>\n    </tr>\n    <tr>\n      <th>3</th>\n      <td>OK</td>\n      <td>2023-07-11 22:23:30+00:00</td>\n      <td>477.0</td>\n      <td>20</td>\n      <td>15.0</td>\n    </tr>\n    <tr>\n      <th>4</th>\n      <td>OK</td>\n      <td>2023-07-11 22:23:31+00:00</td>\n      <td>419.0</td>\n      <td>20</td>\n      <td>14.0</td>\n    </tr>\n    <tr>\n      <th>...</th>\n      <td>...</td>\n      <td>...</td>\n      <td>...</td>\n      <td>...</td>\n      <td>...</td>\n    </tr>\n    <tr>\n      <th>1037</th>\n      <td>OK</td>\n      <td>2023-07-11 22:42:51+00:00</td>\n      <td>402.0</td>\n      <td>40</td>\n      <td>13.0</td>\n    </tr>\n    <tr>\n      <th>1038</th>\n      <td>OK</td>\n      <td>2023-07-11 22:42:52+00:00</td>\n      <td>371.0</td>\n      <td>40</td>\n      <td>12.0</td>\n    </tr>\n    <tr>\n      <th>1039</th>\n      <td>OK</td>\n      <td>2023-07-11 22:42:53+00:00</td>\n      <td>406.0</td>\n      <td>40</td>\n      <td>14.0</td>\n    </tr>\n    <tr>\n      <th>1040</th>\n      <td>OK</td>\n      <td>2023-07-11 22:42:55+00:00</td>\n      <td>408.0</td>\n      <td>40</td>\n      <td>14.0</td>\n    </tr>\n    <tr>\n      <th>1041</th>\n      <td>OK</td>\n      <td>2023-07-11 22:42:56+00:00</td>\n      <td>170.0</td>\n      <td>40</td>\n      <td>7.0</td>\n    </tr>\n  </tbody>\n</table>\n<p>1042 rows × 5 columns</p>\n</div>"
     },
     "execution_count": 9,
     "metadata": {},
     "output_type": "execute_result"
    }
   ],
   "source": [
    "merged_02 = merged_01\n",
    "merged_02[\"expected_size\"] = merged_01[\"count\"].map(lambda x: reg_tree().predict([[x]])[0])\n",
    "merged_02"
   ],
   "metadata": {
    "collapsed": false,
    "pycharm": {
     "name": "#%%\n"
    }
   }
  },
  {
   "cell_type": "code",
   "execution_count": 10,
   "outputs": [
    {
     "data": {
      "text/plain": "<Figure size 640x480 with 1 Axes>",
      "image/png": "[encoded data removed]"
     },
     "metadata": {},
     "output_type": "display_data"
    }
   ],
   "source": [
    "plt.xlabel(xlabel=\"time interval\")\n",
    "plt.ylabel(ylabel=\"cluster size\")\n",
    "plt.plot([k for k, v in enumerate(merged_02[\"date\"])], merged_02[\"expected_size\"], color=\"blue\", label='expected size')\n",
    "plt.plot([k for k, v in enumerate(merged_02[\"date\"])], merged_02[\"size\"], color=\"red\", linestyle='dashdot', label='actual size')\n",
    "plt.legend()\n",
    "plt.savefig(\"wiki15_k8s_1.png\")"
   ],
   "metadata": {
    "collapsed": false,
    "pycharm": {
     "name": "#%%\n"
    }
   }
  },
  {
   "cell_type": "code",
   "execution_count": 11,
   "outputs": [
    {
     "data": {
      "text/plain": "403.06238003838774"
     },
     "execution_count": 11,
     "metadata": {},
     "output_type": "execute_result"
    }
   ],
   "source": [
    "mean_squared_error(merged_02[\"size\"], merged_02[\"expected_size\"])"
   ],
   "metadata": {
    "collapsed": false,
    "pycharm": {
     "name": "#%%\n"
    }
   }
  },
  {
   "cell_type": "code",
   "execution_count": null,
   "outputs": [],
   "source": [],
   "metadata": {
    "collapsed": false,
    "pycharm": {
     "name": "#%%\n"
    }
   }
  }
 ],
 "metadata": {
  "kernelspec": {
   "display_name": "Python 3",
   "language": "python",
   "name": "python3"
  },
  "language_info": {
   "codemirror_mode": {
    "name": "ipython",
    "version": 2
   },
   "file_extension": ".py",
   "mimetype": "text/x-python",
   "name": "python",
   "nbconvert_exporter": "python",
   "pygments_lexer": "ipython2",
   "version": "2.7.6"
  }
 },
 "nbformat": 4,
 "nbformat_minor": 0
}