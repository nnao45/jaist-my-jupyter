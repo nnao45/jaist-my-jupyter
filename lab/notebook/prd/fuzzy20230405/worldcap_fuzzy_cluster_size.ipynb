{
 "cells": [
  {
   "cell_type": "code",
   "execution_count": null,
   "outputs": [],
   "source": [
    "%matplotlib inline\n",
    "import numpy as np\n",
    "import pandas as pd\n",
    "import sys\n",
    "import math\n",
    "from sklearn.linear_model import Ridge, Lasso, ElasticNet\n",
    "from sklearn.metrics import mean_squared_error,r2_score\n",
    "from sklearn.model_selection import train_test_split, cross_val_score\n",
    "from sklearn import model_selection\n",
    "import matplotlib.pyplot as plt\n",
    "from sklearn.linear_model import LinearRegression, RidgeCV, LassoCV,ElasticNetCV\n",
    "from pyentrp import entropy as pyent\n",
    "import EntropyHub as EH\n",
    "import neurokit2 as nk\n",
    "import random\n",
    "import sampen\n",
    "import requests\n",
    "import io\n",
    "from pprint import pprint\n",
    "import os\n",
    "from sklearn import preprocessing\n",
    "from influxdb_client import InfluxDBClient, Point\n",
    "from influxdb_client.client.write_api import SYNCHRONOUS\n",
    "from influxdb_client.client.flux_table import FluxTable\n",
    "from datetime import datetime, timedelta\n",
    "from typing import List\n",
    "import itertools\n",
    "from datetime import datetime\n",
    "import itertools\n",
    "from sklearn.tree import DecisionTreeRegressor"
   ],
   "metadata": {
    "collapsed": false,
    "pycharm": {
     "name": "#%%\n"
    },
    "is_executing": true
   }
  },
  {
   "cell_type": "code",
   "execution_count": 4,
   "outputs": [
    {
     "data": {
      "text/plain": "                           date  size\n0     2023-05-02T13:32:38+00:00    16\n1     2023-05-02T13:32:39+00:00    16\n2     2023-05-02T13:32:40+00:00    16\n3     2023-05-02T13:32:41+00:00    16\n4     2023-05-02T13:32:42+00:00    16\n...                         ...   ...\n1159  2023-05-02T13:54:11+00:00     6\n1160  2023-05-02T13:54:12+00:00     6\n1161  2023-05-02T13:54:13+00:00     6\n1162  2023-05-02T13:54:15+00:00     6\n1163  2023-05-02T13:54:16+00:00     6\n\n[1164 rows x 2 columns]",
      "text/html": "<div>\n<style scoped>\n    .dataframe tbody tr th:only-of-type {\n        vertical-align: middle;\n    }\n\n    .dataframe tbody tr th {\n        vertical-align: top;\n    }\n\n    .dataframe thead th {\n        text-align: right;\n    }\n</style>\n<table border=\"1\" class=\"dataframe\">\n  <thead>\n    <tr style=\"text-align: right;\">\n      <th></th>\n      <th>date</th>\n      <th>size</th>\n    </tr>\n  </thead>\n  <tbody>\n    <tr>\n      <th>0</th>\n      <td>2023-05-02T13:32:38+00:00</td>\n      <td>16</td>\n    </tr>\n    <tr>\n      <th>1</th>\n      <td>2023-05-02T13:32:39+00:00</td>\n      <td>16</td>\n    </tr>\n    <tr>\n      <th>2</th>\n      <td>2023-05-02T13:32:40+00:00</td>\n      <td>16</td>\n    </tr>\n    <tr>\n      <th>3</th>\n      <td>2023-05-02T13:32:41+00:00</td>\n      <td>16</td>\n    </tr>\n    <tr>\n      <th>4</th>\n      <td>2023-05-02T13:32:42+00:00</td>\n      <td>16</td>\n    </tr>\n    <tr>\n      <th>...</th>\n      <td>...</td>\n      <td>...</td>\n    </tr>\n    <tr>\n      <th>1159</th>\n      <td>2023-05-02T13:54:11+00:00</td>\n      <td>6</td>\n    </tr>\n    <tr>\n      <th>1160</th>\n      <td>2023-05-02T13:54:12+00:00</td>\n      <td>6</td>\n    </tr>\n    <tr>\n      <th>1161</th>\n      <td>2023-05-02T13:54:13+00:00</td>\n      <td>6</td>\n    </tr>\n    <tr>\n      <th>1162</th>\n      <td>2023-05-02T13:54:15+00:00</td>\n      <td>6</td>\n    </tr>\n    <tr>\n      <th>1163</th>\n      <td>2023-05-02T13:54:16+00:00</td>\n      <td>6</td>\n    </tr>\n  </tbody>\n</table>\n<p>1164 rows × 2 columns</p>\n</div>"
     },
     "execution_count": 4,
     "metadata": {},
     "output_type": "execute_result"
    }
   ],
   "source": [
    "c_01 = pd.read_csv(\"hpq_20230502133237.log\", names=[\"date\", \"size\"])\n",
    "c_01"
   ],
   "metadata": {
    "collapsed": false,
    "pycharm": {
     "name": "#%%\n"
    }
   }
  },
  {
   "cell_type": "code",
   "execution_count": 5,
   "outputs": [
    {
     "data": {
      "text/plain": "[<matplotlib.lines.Line2D at 0x1297f47c0>]"
     },
     "execution_count": 5,
     "metadata": {},
     "output_type": "execute_result"
    },
    {
     "data": {
      "text/plain": "<Figure size 640x480 with 1 Axes>",
      "image/png": "[encoded data removed]"
     },
     "metadata": {},
     "output_type": "display_data"
    }
   ],
   "source": [
    "plt.plot(c_01[\"date\"], c_01[\"size\"])"
   ],
   "metadata": {
    "collapsed": false,
    "pycharm": {
     "name": "#%%\n"
    }
   }
  },
  {
   "cell_type": "code",
   "execution_count": 6,
   "outputs": [],
   "source": [
    "def parse(path: str) -> pd.DataFrame:\n",
    "    # CSVから読み取る\n",
    "    try:\n",
    "        df = pd.read_csv(path,  delimiter='\\t', header=None, names=[ 'c{0:02d}'.format(i) for i in range(10) ])\n",
    "    except Exception as e:\n",
    "        raise(e)\n",
    "    df_target = df.to_numpy()\n",
    "\n",
    "    # いい感じに整形\n",
    "    requests = pd.DataFrame([{\"date\": datetime.fromtimestamp(float(d[4])/1000), \"status\": d[6], \"count\": 1} for d in df_target if (d[0] == \"REQUEST\" and not math.isnan(float(d[4])) )])\n",
    "    if len(requests) == 0:\n",
    "        return pd.DataFrame([])\n",
    "\n",
    "    # 1秒ごとにサマる\n",
    "    grouped1 = requests.groupby([pd.Grouper(key=(\"status\")),pd.Grouper(key=(\"date\"), freq=\"S\")]).sum().reset_index()\n",
    "\n",
    "    # 全部同じ数は困るので乱数を入れておく\n",
    "    for x in range(len(grouped1)):\n",
    "        grouped1.iat[x, 2] += np.random.rand() * sys.float_info.epsilon\n",
    "\n",
    "    return grouped1"
   ],
   "metadata": {
    "collapsed": false,
    "pycharm": {
     "name": "#%%\n"
    }
   }
  },
  {
   "cell_type": "code",
   "execution_count": 7,
   "outputs": [
    {
     "name": "stderr",
     "output_type": "stream",
     "text": [
      "/var/folders/zk/cf948rq56631k5dgzn62fkjm0000gn/T/ipykernel_81349/600845077.py:4: DtypeWarning: Columns (2,4,5) have mixed types. Specify dtype option on import or set low_memory=False.\n",
      "  df = pd.read_csv(path,  delimiter='\\t', header=None, names=[ 'c{0:02d}'.format(i) for i in range(10) ])\n"
     ]
    }
   ],
   "source": [
    "df_01 = parse(\"./worldcap+simulation.log\")"
   ],
   "metadata": {
    "collapsed": false,
    "pycharm": {
     "name": "#%%\n"
    }
   }
  },
  {
   "cell_type": "code",
   "execution_count": 8,
   "outputs": [],
   "source": [
    "def reg_tree() -> DecisionTreeRegressor:\n",
    "    X = [\n",
    "        [60],\n",
    "        [100],\n",
    "        [140],\n",
    "        [175],\n",
    "        [210],\n",
    "        [255],\n",
    "        [300],\n",
    "        [330],\n",
    "        [360],\n",
    "        [390],\n",
    "        [420],\n",
    "        [460],\n",
    "        [500],\n",
    "        [540],\n",
    "        [580],\n",
    "        [610],\n",
    "        [640],\n",
    "        [670],\n",
    "        [700],\n",
    "        [730],\n",
    "        [760],\n",
    "        [790],\n",
    "        [820],\n",
    "        [850],\n",
    "        [880],\n",
    "        [910],\n",
    "        [940],\n",
    "        [970],\n",
    "        [1000],\n",
    "        [1030],\n",
    "        [1060],\n",
    "    ]\n",
    "\n",
    "    y = [\n",
    "        4,\n",
    "        5,\n",
    "        6,\n",
    "        7,\n",
    "        8,\n",
    "        9,\n",
    "        10,\n",
    "        11,\n",
    "        12,\n",
    "        13,\n",
    "        14,\n",
    "        15,\n",
    "        16,\n",
    "        17,\n",
    "        18,\n",
    "        19,\n",
    "        20,\n",
    "        21,\n",
    "        22,\n",
    "        23,\n",
    "        24,\n",
    "        25,\n",
    "        26,\n",
    "        27,\n",
    "        28,\n",
    "        29,\n",
    "        30,\n",
    "        31,\n",
    "        32,\n",
    "        33,\n",
    "        34,\n",
    "    ]\n",
    "\n",
    "    return DecisionTreeRegressor().fit(X, y)"
   ],
   "metadata": {
    "collapsed": false,
    "pycharm": {
     "name": "#%%\n"
    }
   }
  },
  {
   "cell_type": "code",
   "execution_count": 9,
   "outputs": [
    {
     "data": {
      "text/plain": "                          date  size\n0    2023-05-02 22:32:38+00:00    16\n1    2023-05-02 22:32:39+00:00    16\n2    2023-05-02 22:32:40+00:00    16\n3    2023-05-02 22:32:41+00:00    16\n4    2023-05-02 22:32:42+00:00    16\n...                        ...   ...\n1159 2023-05-02 22:54:11+00:00     6\n1160 2023-05-02 22:54:12+00:00     6\n1161 2023-05-02 22:54:13+00:00     6\n1162 2023-05-02 22:54:15+00:00     6\n1163 2023-05-02 22:54:16+00:00     6\n\n[1164 rows x 2 columns]",
      "text/html": "<div>\n<style scoped>\n    .dataframe tbody tr th:only-of-type {\n        vertical-align: middle;\n    }\n\n    .dataframe tbody tr th {\n        vertical-align: top;\n    }\n\n    .dataframe thead th {\n        text-align: right;\n    }\n</style>\n<table border=\"1\" class=\"dataframe\">\n  <thead>\n    <tr style=\"text-align: right;\">\n      <th></th>\n      <th>date</th>\n      <th>size</th>\n    </tr>\n  </thead>\n  <tbody>\n    <tr>\n      <th>0</th>\n      <td>2023-05-02 22:32:38+00:00</td>\n      <td>16</td>\n    </tr>\n    <tr>\n      <th>1</th>\n      <td>2023-05-02 22:32:39+00:00</td>\n      <td>16</td>\n    </tr>\n    <tr>\n      <th>2</th>\n      <td>2023-05-02 22:32:40+00:00</td>\n      <td>16</td>\n    </tr>\n    <tr>\n      <th>3</th>\n      <td>2023-05-02 22:32:41+00:00</td>\n      <td>16</td>\n    </tr>\n    <tr>\n      <th>4</th>\n      <td>2023-05-02 22:32:42+00:00</td>\n      <td>16</td>\n    </tr>\n    <tr>\n      <th>...</th>\n      <td>...</td>\n      <td>...</td>\n    </tr>\n    <tr>\n      <th>1159</th>\n      <td>2023-05-02 22:54:11+00:00</td>\n      <td>6</td>\n    </tr>\n    <tr>\n      <th>1160</th>\n      <td>2023-05-02 22:54:12+00:00</td>\n      <td>6</td>\n    </tr>\n    <tr>\n      <th>1161</th>\n      <td>2023-05-02 22:54:13+00:00</td>\n      <td>6</td>\n    </tr>\n    <tr>\n      <th>1162</th>\n      <td>2023-05-02 22:54:15+00:00</td>\n      <td>6</td>\n    </tr>\n    <tr>\n      <th>1163</th>\n      <td>2023-05-02 22:54:16+00:00</td>\n      <td>6</td>\n    </tr>\n  </tbody>\n</table>\n<p>1164 rows × 2 columns</p>\n</div>"
     },
     "execution_count": 9,
     "metadata": {},
     "output_type": "execute_result"
    }
   ],
   "source": [
    "replaced_c_01 = c_01\n",
    "replaced_c_01[\"date\"] = pd.to_datetime(c_01[\"date\"], utc = False) + pd.to_timedelta(9, unit='h')\n",
    "replaced_c_01"
   ],
   "metadata": {
    "collapsed": false,
    "pycharm": {
     "name": "#%%\n"
    }
   }
  },
  {
   "cell_type": "code",
   "execution_count": 10,
   "outputs": [
    {
     "name": "stderr",
     "output_type": "stream",
     "text": [
      "/var/folders/zk/cf948rq56631k5dgzn62fkjm0000gn/T/ipykernel_81349/3566697410.py:2: SettingWithCopyWarning: \n",
      "A value is trying to be set on a copy of a slice from a DataFrame.\n",
      "Try using .loc[row_indexer,col_indexer] = value instead\n",
      "\n",
      "See the caveats in the documentation: https://pandas.pydata.org/pandas-docs/stable/user_guide/indexing.html#returning-a-view-versus-a-copy\n",
      "  replaced_df_01[\"date\"] = pd.to_datetime(df_01[\"date\"], utc=True)\n"
     ]
    },
    {
     "data": {
      "text/plain": "     status                      date  count\n5        OK 2023-05-02 22:32:55+00:00     47\n6        OK 2023-05-02 22:32:56+00:00    126\n7        OK 2023-05-02 22:32:57+00:00    116\n8        OK 2023-05-02 22:32:58+00:00    126\n9        OK 2023-05-02 22:32:59+00:00    114\n...     ...                       ...    ...\n1261     OK 2023-05-02 22:53:51+00:00    138\n1262     OK 2023-05-02 22:53:52+00:00    127\n1263     OK 2023-05-02 22:53:53+00:00    153\n1264     OK 2023-05-02 22:53:54+00:00    141\n1265     OK 2023-05-02 22:53:55+00:00     88\n\n[1261 rows x 3 columns]",
      "text/html": "<div>\n<style scoped>\n    .dataframe tbody tr th:only-of-type {\n        vertical-align: middle;\n    }\n\n    .dataframe tbody tr th {\n        vertical-align: top;\n    }\n\n    .dataframe thead th {\n        text-align: right;\n    }\n</style>\n<table border=\"1\" class=\"dataframe\">\n  <thead>\n    <tr style=\"text-align: right;\">\n      <th></th>\n      <th>status</th>\n      <th>date</th>\n      <th>count</th>\n    </tr>\n  </thead>\n  <tbody>\n    <tr>\n      <th>5</th>\n      <td>OK</td>\n      <td>2023-05-02 22:32:55+00:00</td>\n      <td>47</td>\n    </tr>\n    <tr>\n      <th>6</th>\n      <td>OK</td>\n      <td>2023-05-02 22:32:56+00:00</td>\n      <td>126</td>\n    </tr>\n    <tr>\n      <th>7</th>\n      <td>OK</td>\n      <td>2023-05-02 22:32:57+00:00</td>\n      <td>116</td>\n    </tr>\n    <tr>\n      <th>8</th>\n      <td>OK</td>\n      <td>2023-05-02 22:32:58+00:00</td>\n      <td>126</td>\n    </tr>\n    <tr>\n      <th>9</th>\n      <td>OK</td>\n      <td>2023-05-02 22:32:59+00:00</td>\n      <td>114</td>\n    </tr>\n    <tr>\n      <th>...</th>\n      <td>...</td>\n      <td>...</td>\n      <td>...</td>\n    </tr>\n    <tr>\n      <th>1261</th>\n      <td>OK</td>\n      <td>2023-05-02 22:53:51+00:00</td>\n      <td>138</td>\n    </tr>\n    <tr>\n      <th>1262</th>\n      <td>OK</td>\n      <td>2023-05-02 22:53:52+00:00</td>\n      <td>127</td>\n    </tr>\n    <tr>\n      <th>1263</th>\n      <td>OK</td>\n      <td>2023-05-02 22:53:53+00:00</td>\n      <td>153</td>\n    </tr>\n    <tr>\n      <th>1264</th>\n      <td>OK</td>\n      <td>2023-05-02 22:53:54+00:00</td>\n      <td>141</td>\n    </tr>\n    <tr>\n      <th>1265</th>\n      <td>OK</td>\n      <td>2023-05-02 22:53:55+00:00</td>\n      <td>88</td>\n    </tr>\n  </tbody>\n</table>\n<p>1261 rows × 3 columns</p>\n</div>"
     },
     "execution_count": 10,
     "metadata": {},
     "output_type": "execute_result"
    }
   ],
   "source": [
    "replaced_df_01 = df_01[df_01[\"status\"] != \"KO\"]\n",
    "replaced_df_01[\"date\"] = pd.to_datetime(df_01[\"date\"], utc=True)\n",
    "replaced_df_01"
   ],
   "metadata": {
    "collapsed": false,
    "pycharm": {
     "name": "#%%\n"
    }
   }
  },
  {
   "cell_type": "code",
   "execution_count": 11,
   "outputs": [
    {
     "data": {
      "text/plain": "     status                      date  count  size\n0        OK 2023-05-02 22:32:55+00:00     47    16\n1        OK 2023-05-02 22:32:56+00:00    126    16\n2        OK 2023-05-02 22:32:57+00:00    116    16\n3        OK 2023-05-02 22:32:58+00:00    126    16\n4        OK 2023-05-02 22:32:59+00:00    114    16\n...     ...                       ...    ...   ...\n1127     OK 2023-05-02 22:53:51+00:00    138     6\n1128     OK 2023-05-02 22:53:52+00:00    127     6\n1129     OK 2023-05-02 22:53:53+00:00    153     6\n1130     OK 2023-05-02 22:53:54+00:00    141     6\n1131     OK 2023-05-02 22:53:55+00:00     88     6\n\n[1132 rows x 4 columns]",
      "text/html": "<div>\n<style scoped>\n    .dataframe tbody tr th:only-of-type {\n        vertical-align: middle;\n    }\n\n    .dataframe tbody tr th {\n        vertical-align: top;\n    }\n\n    .dataframe thead th {\n        text-align: right;\n    }\n</style>\n<table border=\"1\" class=\"dataframe\">\n  <thead>\n    <tr style=\"text-align: right;\">\n      <th></th>\n      <th>status</th>\n      <th>date</th>\n      <th>count</th>\n      <th>size</th>\n    </tr>\n  </thead>\n  <tbody>\n    <tr>\n      <th>0</th>\n      <td>OK</td>\n      <td>2023-05-02 22:32:55+00:00</td>\n      <td>47</td>\n      <td>16</td>\n    </tr>\n    <tr>\n      <th>1</th>\n      <td>OK</td>\n      <td>2023-05-02 22:32:56+00:00</td>\n      <td>126</td>\n      <td>16</td>\n    </tr>\n    <tr>\n      <th>2</th>\n      <td>OK</td>\n      <td>2023-05-02 22:32:57+00:00</td>\n      <td>116</td>\n      <td>16</td>\n    </tr>\n    <tr>\n      <th>3</th>\n      <td>OK</td>\n      <td>2023-05-02 22:32:58+00:00</td>\n      <td>126</td>\n      <td>16</td>\n    </tr>\n    <tr>\n      <th>4</th>\n      <td>OK</td>\n      <td>2023-05-02 22:32:59+00:00</td>\n      <td>114</td>\n      <td>16</td>\n    </tr>\n    <tr>\n      <th>...</th>\n      <td>...</td>\n      <td>...</td>\n      <td>...</td>\n      <td>...</td>\n    </tr>\n    <tr>\n      <th>1127</th>\n      <td>OK</td>\n      <td>2023-05-02 22:53:51+00:00</td>\n      <td>138</td>\n      <td>6</td>\n    </tr>\n    <tr>\n      <th>1128</th>\n      <td>OK</td>\n      <td>2023-05-02 22:53:52+00:00</td>\n      <td>127</td>\n      <td>6</td>\n    </tr>\n    <tr>\n      <th>1129</th>\n      <td>OK</td>\n      <td>2023-05-02 22:53:53+00:00</td>\n      <td>153</td>\n      <td>6</td>\n    </tr>\n    <tr>\n      <th>1130</th>\n      <td>OK</td>\n      <td>2023-05-02 22:53:54+00:00</td>\n      <td>141</td>\n      <td>6</td>\n    </tr>\n    <tr>\n      <th>1131</th>\n      <td>OK</td>\n      <td>2023-05-02 22:53:55+00:00</td>\n      <td>88</td>\n      <td>6</td>\n    </tr>\n  </tbody>\n</table>\n<p>1132 rows × 4 columns</p>\n</div>"
     },
     "execution_count": 11,
     "metadata": {},
     "output_type": "execute_result"
    }
   ],
   "source": [
    "merged_01 = pd.merge(replaced_df_01, replaced_c_01, left_on=\"date\", right_on=\"date\")\n",
    "merged_01"
   ],
   "metadata": {
    "collapsed": false,
    "pycharm": {
     "name": "#%%\n"
    }
   }
  },
  {
   "cell_type": "code",
   "execution_count": 12,
   "outputs": [
    {
     "data": {
      "text/plain": "     status                      date  count  size  expected_size\n0        OK 2023-05-02 22:32:55+00:00     47    16            4.0\n1        OK 2023-05-02 22:32:56+00:00    126    16            6.0\n2        OK 2023-05-02 22:32:57+00:00    116    16            5.0\n3        OK 2023-05-02 22:32:58+00:00    126    16            6.0\n4        OK 2023-05-02 22:32:59+00:00    114    16            5.0\n...     ...                       ...    ...   ...            ...\n1127     OK 2023-05-02 22:53:51+00:00    138     6            6.0\n1128     OK 2023-05-02 22:53:52+00:00    127     6            6.0\n1129     OK 2023-05-02 22:53:53+00:00    153     6            6.0\n1130     OK 2023-05-02 22:53:54+00:00    141     6            6.0\n1131     OK 2023-05-02 22:53:55+00:00     88     6            5.0\n\n[1132 rows x 5 columns]",
      "text/html": "<div>\n<style scoped>\n    .dataframe tbody tr th:only-of-type {\n        vertical-align: middle;\n    }\n\n    .dataframe tbody tr th {\n        vertical-align: top;\n    }\n\n    .dataframe thead th {\n        text-align: right;\n    }\n</style>\n<table border=\"1\" class=\"dataframe\">\n  <thead>\n    <tr style=\"text-align: right;\">\n      <th></th>\n      <th>status</th>\n      <th>date</th>\n      <th>count</th>\n      <th>size</th>\n      <th>expected_size</th>\n    </tr>\n  </thead>\n  <tbody>\n    <tr>\n      <th>0</th>\n      <td>OK</td>\n      <td>2023-05-02 22:32:55+00:00</td>\n      <td>47</td>\n      <td>16</td>\n      <td>4.0</td>\n    </tr>\n    <tr>\n      <th>1</th>\n      <td>OK</td>\n      <td>2023-05-02 22:32:56+00:00</td>\n      <td>126</td>\n      <td>16</td>\n      <td>6.0</td>\n    </tr>\n    <tr>\n      <th>2</th>\n      <td>OK</td>\n      <td>2023-05-02 22:32:57+00:00</td>\n      <td>116</td>\n      <td>16</td>\n      <td>5.0</td>\n    </tr>\n    <tr>\n      <th>3</th>\n      <td>OK</td>\n      <td>2023-05-02 22:32:58+00:00</td>\n      <td>126</td>\n      <td>16</td>\n      <td>6.0</td>\n    </tr>\n    <tr>\n      <th>4</th>\n      <td>OK</td>\n      <td>2023-05-02 22:32:59+00:00</td>\n      <td>114</td>\n      <td>16</td>\n      <td>5.0</td>\n    </tr>\n    <tr>\n      <th>...</th>\n      <td>...</td>\n      <td>...</td>\n      <td>...</td>\n      <td>...</td>\n      <td>...</td>\n    </tr>\n    <tr>\n      <th>1127</th>\n      <td>OK</td>\n      <td>2023-05-02 22:53:51+00:00</td>\n      <td>138</td>\n      <td>6</td>\n      <td>6.0</td>\n    </tr>\n    <tr>\n      <th>1128</th>\n      <td>OK</td>\n      <td>2023-05-02 22:53:52+00:00</td>\n      <td>127</td>\n      <td>6</td>\n      <td>6.0</td>\n    </tr>\n    <tr>\n      <th>1129</th>\n      <td>OK</td>\n      <td>2023-05-02 22:53:53+00:00</td>\n      <td>153</td>\n      <td>6</td>\n      <td>6.0</td>\n    </tr>\n    <tr>\n      <th>1130</th>\n      <td>OK</td>\n      <td>2023-05-02 22:53:54+00:00</td>\n      <td>141</td>\n      <td>6</td>\n      <td>6.0</td>\n    </tr>\n    <tr>\n      <th>1131</th>\n      <td>OK</td>\n      <td>2023-05-02 22:53:55+00:00</td>\n      <td>88</td>\n      <td>6</td>\n      <td>5.0</td>\n    </tr>\n  </tbody>\n</table>\n<p>1132 rows × 5 columns</p>\n</div>"
     },
     "execution_count": 12,
     "metadata": {},
     "output_type": "execute_result"
    }
   ],
   "source": [
    "merged_02 = merged_01\n",
    "merged_02[\"expected_size\"] = merged_01[\"count\"].map(lambda x: reg_tree().predict([[x]])[0])\n",
    "merged_02"
   ],
   "metadata": {
    "collapsed": false,
    "pycharm": {
     "name": "#%%\n"
    }
   }
  },
  {
   "cell_type": "code",
   "execution_count": 19,
   "outputs": [
    {
     "data": {
      "text/plain": "<Figure size 640x480 with 1 Axes>",
      "image/png": "[encoded data removed]"
     },
     "metadata": {},
     "output_type": "display_data"
    }
   ],
   "source": [
    "plt.xlabel(xlabel=\"time interval\")\n",
    "plt.ylabel(ylabel=\"cluster size\")\n",
    "plt.plot([k for k, v in enumerate(merged_02[\"date\"])][20:], merged_02[\"size\"][20:], color=\"red\", linestyle='dashdot', label='actual size')\n",
    "plt.plot([k for k, v in enumerate(merged_02[\"date\"])][20:], merged_02[\"expected_size\"][20:], color=\"blue\", label='expected size')\n",
    "plt.legend()\n",
    "plt.savefig(\"fuzzy_worldcap_20230505.png\")"
   ],
   "metadata": {
    "collapsed": false,
    "pycharm": {
     "name": "#%%\n"
    }
   }
  },
  {
   "cell_type": "code",
   "execution_count": 18,
   "outputs": [
    {
     "data": {
      "text/plain": "3.820671378091873"
     },
     "execution_count": 18,
     "metadata": {},
     "output_type": "execute_result"
    }
   ],
   "source": [
    "mean_squared_error(merged_02[\"size\"], merged_02[\"expected_size\"])"
   ],
   "metadata": {
    "collapsed": false,
    "pycharm": {
     "name": "#%%\n"
    }
   }
  },
  {
   "cell_type": "code",
   "execution_count": null,
   "outputs": [],
   "source": [
    "f"
   ],
   "metadata": {
    "collapsed": false,
    "pycharm": {
     "name": "#%%\n"
    }
   }
  }
 ],
 "metadata": {
  "kernelspec": {
   "display_name": "Python 3",
   "language": "python",
   "name": "python3"
  },
  "language_info": {
   "codemirror_mode": {
    "name": "ipython",
    "version": 2
   },
   "file_extension": ".py",
   "mimetype": "text/x-python",
   "name": "python",
   "nbconvert_exporter": "python",
   "pygments_lexer": "ipython2",
   "version": "2.7.6"
  }
 },
 "nbformat": 4,
 "nbformat_minor": 0
}
