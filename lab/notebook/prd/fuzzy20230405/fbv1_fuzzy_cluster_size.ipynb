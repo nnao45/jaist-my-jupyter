{
 "cells": [
  {
   "cell_type": "code",
   "execution_count": 12,
   "outputs": [],
   "source": [
    "%matplotlib inline\n",
    "import numpy as np\n",
    "import pandas as pd\n",
    "import sys\n",
    "import math\n",
    "from sklearn.linear_model import Ridge, Lasso, ElasticNet\n",
    "from sklearn.metrics import mean_squared_error,r2_score\n",
    "from sklearn.model_selection import train_test_split, cross_val_score\n",
    "from sklearn import model_selection\n",
    "import matplotlib.pyplot as plt\n",
    "from sklearn.linear_model import LinearRegression, RidgeCV, LassoCV,ElasticNetCV\n",
    "from pyentrp import entropy as pyent\n",
    "import EntropyHub as EH\n",
    "import neurokit2 as nk\n",
    "import random\n",
    "import sampen\n",
    "import requests\n",
    "import io\n",
    "from pprint import pprint\n",
    "import os\n",
    "from sklearn import preprocessing\n",
    "from influxdb_client import InfluxDBClient, Point\n",
    "from influxdb_client.client.write_api import SYNCHRONOUS\n",
    "from influxdb_client.client.flux_table import FluxTable\n",
    "from datetime import datetime, timedelta\n",
    "from typing import List\n",
    "import itertools\n",
    "from datetime import datetime\n",
    "import itertools\n",
    "from sklearn.tree import DecisionTreeRegressor"
   ],
   "metadata": {
    "collapsed": false,
    "pycharm": {
     "name": "#%%\n"
    }
   }
  },
  {
   "cell_type": "code",
   "execution_count": 13,
   "outputs": [
    {
     "data": {
      "text/plain": "                          date  size\n0    2023-05-04T13:17:27+00:00     8\n1    2023-05-04T13:17:28+00:00     8\n2    2023-05-04T13:17:29+00:00     8\n3    2023-05-04T13:17:30+00:00     8\n4    2023-05-04T13:17:32+00:00     8\n..                         ...   ...\n653  2023-05-04T13:29:36+00:00    16\n654  2023-05-04T13:29:37+00:00    16\n655  2023-05-04T13:29:39+00:00    16\n656  2023-05-04T13:29:40+00:00    16\n657  2023-05-04T13:29:41+00:00    16\n\n[658 rows x 2 columns]",
      "text/html": "<div>\n<style scoped>\n    .dataframe tbody tr th:only-of-type {\n        vertical-align: middle;\n    }\n\n    .dataframe tbody tr th {\n        vertical-align: top;\n    }\n\n    .dataframe thead th {\n        text-align: right;\n    }\n</style>\n<table border=\"1\" class=\"dataframe\">\n  <thead>\n    <tr style=\"text-align: right;\">\n      <th></th>\n      <th>date</th>\n      <th>size</th>\n    </tr>\n  </thead>\n  <tbody>\n    <tr>\n      <th>0</th>\n      <td>2023-05-04T13:17:27+00:00</td>\n      <td>8</td>\n    </tr>\n    <tr>\n      <th>1</th>\n      <td>2023-05-04T13:17:28+00:00</td>\n      <td>8</td>\n    </tr>\n    <tr>\n      <th>2</th>\n      <td>2023-05-04T13:17:29+00:00</td>\n      <td>8</td>\n    </tr>\n    <tr>\n      <th>3</th>\n      <td>2023-05-04T13:17:30+00:00</td>\n      <td>8</td>\n    </tr>\n    <tr>\n      <th>4</th>\n      <td>2023-05-04T13:17:32+00:00</td>\n      <td>8</td>\n    </tr>\n    <tr>\n      <th>...</th>\n      <td>...</td>\n      <td>...</td>\n    </tr>\n    <tr>\n      <th>653</th>\n      <td>2023-05-04T13:29:36+00:00</td>\n      <td>16</td>\n    </tr>\n    <tr>\n      <th>654</th>\n      <td>2023-05-04T13:29:37+00:00</td>\n      <td>16</td>\n    </tr>\n    <tr>\n      <th>655</th>\n      <td>2023-05-04T13:29:39+00:00</td>\n      <td>16</td>\n    </tr>\n    <tr>\n      <th>656</th>\n      <td>2023-05-04T13:29:40+00:00</td>\n      <td>16</td>\n    </tr>\n    <tr>\n      <th>657</th>\n      <td>2023-05-04T13:29:41+00:00</td>\n      <td>16</td>\n    </tr>\n  </tbody>\n</table>\n<p>658 rows × 2 columns</p>\n</div>"
     },
     "execution_count": 13,
     "metadata": {},
     "output_type": "execute_result"
    }
   ],
   "source": [
    "c_01 = pd.read_csv(\"./fbv1_hpq.log\", names=[\"date\", \"size\"])\n",
    "c_01"
   ],
   "metadata": {
    "collapsed": false,
    "pycharm": {
     "name": "#%%\n"
    }
   }
  },
  {
   "cell_type": "code",
   "execution_count": 14,
   "outputs": [
    {
     "data": {
      "text/plain": "[<matplotlib.lines.Line2D at 0x126ed2700>]"
     },
     "execution_count": 14,
     "metadata": {},
     "output_type": "execute_result"
    },
    {
     "data": {
      "text/plain": "<Figure size 640x480 with 1 Axes>",
      "image/png": "[encoded data removed]"
     },
     "metadata": {},
     "output_type": "display_data"
    }
   ],
   "source": [
    "plt.plot(c_01[\"date\"], c_01[\"size\"])"
   ],
   "metadata": {
    "collapsed": false,
    "pycharm": {
     "name": "#%%\n"
    }
   }
  },
  {
   "cell_type": "code",
   "execution_count": 15,
   "outputs": [],
   "source": [
    "def parse(path: str) -> pd.DataFrame:\n",
    "    # CSVから読み取る\n",
    "    try:\n",
    "        df = pd.read_csv(path,  delimiter='\\t', header=None, names=[ 'c{0:02d}'.format(i) for i in range(10) ])\n",
    "    except Exception as e:\n",
    "        raise(e)\n",
    "    df_target = df.to_numpy()\n",
    "\n",
    "    # いい感じに整形\n",
    "    requests = pd.DataFrame([{\"date\": datetime.fromtimestamp(float(d[4])/1000), \"status\": d[6], \"count\": 1} for d in df_target if (d[0] == \"REQUEST\" and not math.isnan(float(d[4])) )])\n",
    "    if len(requests) == 0:\n",
    "        return pd.DataFrame([])\n",
    "\n",
    "    # 1秒ごとにサマる\n",
    "    grouped1 = requests.groupby([pd.Grouper(key=(\"status\")),pd.Grouper(key=(\"date\"), freq=\"S\")]).sum().reset_index()\n",
    "\n",
    "    # 全部同じ数は困るので乱数を入れておく\n",
    "    for x in range(len(grouped1)):\n",
    "        grouped1.iat[x, 2] += np.random.rand() * sys.float_info.epsilon\n",
    "\n",
    "    return grouped1"
   ],
   "metadata": {
    "collapsed": false,
    "pycharm": {
     "name": "#%%\n"
    }
   }
  },
  {
   "cell_type": "code",
   "execution_count": 16,
   "outputs": [
    {
     "name": "stderr",
     "output_type": "stream",
     "text": [
      "/var/folders/zk/cf948rq56631k5dgzn62fkjm0000gn/T/ipykernel_99941/600845077.py:4: DtypeWarning: Columns (2,4,5) have mixed types. Specify dtype option on import or set low_memory=False.\n",
      "  df = pd.read_csv(path,  delimiter='\\t', header=None, names=[ 'c{0:02d}'.format(i) for i in range(10) ])\n"
     ]
    }
   ],
   "source": [
    "df_01 = parse(\"./fbv1+simulation.log\")"
   ],
   "metadata": {
    "collapsed": false,
    "pycharm": {
     "name": "#%%\n"
    }
   }
  },
  {
   "cell_type": "code",
   "execution_count": 17,
   "outputs": [],
   "source": [
    "def reg_tree() -> DecisionTreeRegressor:\n",
    "    X = [\n",
    "        [60],\n",
    "        [100],\n",
    "        [140],\n",
    "        [175],\n",
    "        [210],\n",
    "        [255],\n",
    "        [300],\n",
    "        [330],\n",
    "        [360],\n",
    "        [390],\n",
    "        [420],\n",
    "        [460],\n",
    "        [500],\n",
    "        [540],\n",
    "        [580],\n",
    "        [610],\n",
    "        [640],\n",
    "        [670],\n",
    "        [700],\n",
    "        [730],\n",
    "        [760],\n",
    "        [790],\n",
    "        [820],\n",
    "        [850],\n",
    "        [880],\n",
    "        [910],\n",
    "        [940],\n",
    "        [970],\n",
    "        [1000],\n",
    "        [1030],\n",
    "        [1060],\n",
    "    ]\n",
    "\n",
    "    y = [\n",
    "        4,\n",
    "        5,\n",
    "        6,\n",
    "        7,\n",
    "        8,\n",
    "        9,\n",
    "        10,\n",
    "        11,\n",
    "        12,\n",
    "        13,\n",
    "        14,\n",
    "        15,\n",
    "        16,\n",
    "        17,\n",
    "        18,\n",
    "        19,\n",
    "        20,\n",
    "        21,\n",
    "        22,\n",
    "        23,\n",
    "        24,\n",
    "        25,\n",
    "        26,\n",
    "        27,\n",
    "        28,\n",
    "        29,\n",
    "        30,\n",
    "        31,\n",
    "        32,\n",
    "        33,\n",
    "        34,\n",
    "    ]\n",
    "\n",
    "    return DecisionTreeRegressor().fit(X, y)"
   ],
   "metadata": {
    "collapsed": false,
    "pycharm": {
     "name": "#%%\n"
    }
   }
  },
  {
   "cell_type": "code",
   "execution_count": 18,
   "outputs": [
    {
     "data": {
      "text/plain": "                         date  size\n0   2023-05-04 22:17:27+00:00     8\n1   2023-05-04 22:17:28+00:00     8\n2   2023-05-04 22:17:29+00:00     8\n3   2023-05-04 22:17:30+00:00     8\n4   2023-05-04 22:17:32+00:00     8\n..                        ...   ...\n653 2023-05-04 22:29:36+00:00    16\n654 2023-05-04 22:29:37+00:00    16\n655 2023-05-04 22:29:39+00:00    16\n656 2023-05-04 22:29:40+00:00    16\n657 2023-05-04 22:29:41+00:00    16\n\n[658 rows x 2 columns]",
      "text/html": "<div>\n<style scoped>\n    .dataframe tbody tr th:only-of-type {\n        vertical-align: middle;\n    }\n\n    .dataframe tbody tr th {\n        vertical-align: top;\n    }\n\n    .dataframe thead th {\n        text-align: right;\n    }\n</style>\n<table border=\"1\" class=\"dataframe\">\n  <thead>\n    <tr style=\"text-align: right;\">\n      <th></th>\n      <th>date</th>\n      <th>size</th>\n    </tr>\n  </thead>\n  <tbody>\n    <tr>\n      <th>0</th>\n      <td>2023-05-04 22:17:27+00:00</td>\n      <td>8</td>\n    </tr>\n    <tr>\n      <th>1</th>\n      <td>2023-05-04 22:17:28+00:00</td>\n      <td>8</td>\n    </tr>\n    <tr>\n      <th>2</th>\n      <td>2023-05-04 22:17:29+00:00</td>\n      <td>8</td>\n    </tr>\n    <tr>\n      <th>3</th>\n      <td>2023-05-04 22:17:30+00:00</td>\n      <td>8</td>\n    </tr>\n    <tr>\n      <th>4</th>\n      <td>2023-05-04 22:17:32+00:00</td>\n      <td>8</td>\n    </tr>\n    <tr>\n      <th>...</th>\n      <td>...</td>\n      <td>...</td>\n    </tr>\n    <tr>\n      <th>653</th>\n      <td>2023-05-04 22:29:36+00:00</td>\n      <td>16</td>\n    </tr>\n    <tr>\n      <th>654</th>\n      <td>2023-05-04 22:29:37+00:00</td>\n      <td>16</td>\n    </tr>\n    <tr>\n      <th>655</th>\n      <td>2023-05-04 22:29:39+00:00</td>\n      <td>16</td>\n    </tr>\n    <tr>\n      <th>656</th>\n      <td>2023-05-04 22:29:40+00:00</td>\n      <td>16</td>\n    </tr>\n    <tr>\n      <th>657</th>\n      <td>2023-05-04 22:29:41+00:00</td>\n      <td>16</td>\n    </tr>\n  </tbody>\n</table>\n<p>658 rows × 2 columns</p>\n</div>"
     },
     "execution_count": 18,
     "metadata": {},
     "output_type": "execute_result"
    }
   ],
   "source": [
    "replaced_c_01 = c_01\n",
    "replaced_c_01[\"date\"] = pd.to_datetime(c_01[\"date\"], utc = False) + pd.to_timedelta(9, unit='h')\n",
    "replaced_c_01"
   ],
   "metadata": {
    "collapsed": false,
    "pycharm": {
     "name": "#%%\n"
    }
   }
  },
  {
   "cell_type": "code",
   "execution_count": 19,
   "outputs": [
    {
     "data": {
      "text/plain": "    status                      date  count\n0       OK 2023-05-04 22:17:55+00:00     19\n1       OK 2023-05-04 22:17:56+00:00    184\n2       OK 2023-05-04 22:17:57+00:00    209\n3       OK 2023-05-04 22:17:58+00:00    195\n4       OK 2023-05-04 22:17:59+00:00    192\n..     ...                       ...    ...\n686     OK 2023-05-04 22:29:21+00:00    453\n687     OK 2023-05-04 22:29:22+00:00    399\n688     OK 2023-05-04 22:29:23+00:00    411\n689     OK 2023-05-04 22:29:24+00:00    420\n690     OK 2023-05-04 22:29:25+00:00    365\n\n[691 rows x 3 columns]",
      "text/html": "<div>\n<style scoped>\n    .dataframe tbody tr th:only-of-type {\n        vertical-align: middle;\n    }\n\n    .dataframe tbody tr th {\n        vertical-align: top;\n    }\n\n    .dataframe thead th {\n        text-align: right;\n    }\n</style>\n<table border=\"1\" class=\"dataframe\">\n  <thead>\n    <tr style=\"text-align: right;\">\n      <th></th>\n      <th>status</th>\n      <th>date</th>\n      <th>count</th>\n    </tr>\n  </thead>\n  <tbody>\n    <tr>\n      <th>0</th>\n      <td>OK</td>\n      <td>2023-05-04 22:17:55+00:00</td>\n      <td>19</td>\n    </tr>\n    <tr>\n      <th>1</th>\n      <td>OK</td>\n      <td>2023-05-04 22:17:56+00:00</td>\n      <td>184</td>\n    </tr>\n    <tr>\n      <th>2</th>\n      <td>OK</td>\n      <td>2023-05-04 22:17:57+00:00</td>\n      <td>209</td>\n    </tr>\n    <tr>\n      <th>3</th>\n      <td>OK</td>\n      <td>2023-05-04 22:17:58+00:00</td>\n      <td>195</td>\n    </tr>\n    <tr>\n      <th>4</th>\n      <td>OK</td>\n      <td>2023-05-04 22:17:59+00:00</td>\n      <td>192</td>\n    </tr>\n    <tr>\n      <th>...</th>\n      <td>...</td>\n      <td>...</td>\n      <td>...</td>\n    </tr>\n    <tr>\n      <th>686</th>\n      <td>OK</td>\n      <td>2023-05-04 22:29:21+00:00</td>\n      <td>453</td>\n    </tr>\n    <tr>\n      <th>687</th>\n      <td>OK</td>\n      <td>2023-05-04 22:29:22+00:00</td>\n      <td>399</td>\n    </tr>\n    <tr>\n      <th>688</th>\n      <td>OK</td>\n      <td>2023-05-04 22:29:23+00:00</td>\n      <td>411</td>\n    </tr>\n    <tr>\n      <th>689</th>\n      <td>OK</td>\n      <td>2023-05-04 22:29:24+00:00</td>\n      <td>420</td>\n    </tr>\n    <tr>\n      <th>690</th>\n      <td>OK</td>\n      <td>2023-05-04 22:29:25+00:00</td>\n      <td>365</td>\n    </tr>\n  </tbody>\n</table>\n<p>691 rows × 3 columns</p>\n</div>"
     },
     "execution_count": 19,
     "metadata": {},
     "output_type": "execute_result"
    }
   ],
   "source": [
    "replaced_df_01 = df_01[df_01[\"status\"] != \"KO\"]\n",
    "replaced_df_01[\"date\"] = pd.to_datetime(df_01[\"date\"], utc=True)\n",
    "replaced_df_01"
   ],
   "metadata": {
    "collapsed": false,
    "pycharm": {
     "name": "#%%\n"
    }
   }
  },
  {
   "cell_type": "code",
   "execution_count": 20,
   "outputs": [
    {
     "data": {
      "text/plain": "    status                      date  count  size\n0       OK 2023-05-04 22:17:55+00:00     19     8\n1       OK 2023-05-04 22:17:56+00:00    184     8\n2       OK 2023-05-04 22:17:57+00:00    209     8\n3       OK 2023-05-04 22:17:59+00:00    192     8\n4       OK 2023-05-04 22:18:00+00:00    193     8\n..     ...                       ...    ...   ...\n615     OK 2023-05-04 22:29:21+00:00    453    17\n616     OK 2023-05-04 22:29:22+00:00    399    17\n617     OK 2023-05-04 22:29:23+00:00    411    17\n618     OK 2023-05-04 22:29:24+00:00    420    17\n619     OK 2023-05-04 22:29:25+00:00    365    17\n\n[620 rows x 4 columns]",
      "text/html": "<div>\n<style scoped>\n    .dataframe tbody tr th:only-of-type {\n        vertical-align: middle;\n    }\n\n    .dataframe tbody tr th {\n        vertical-align: top;\n    }\n\n    .dataframe thead th {\n        text-align: right;\n    }\n</style>\n<table border=\"1\" class=\"dataframe\">\n  <thead>\n    <tr style=\"text-align: right;\">\n      <th></th>\n      <th>status</th>\n      <th>date</th>\n      <th>count</th>\n      <th>size</th>\n    </tr>\n  </thead>\n  <tbody>\n    <tr>\n      <th>0</th>\n      <td>OK</td>\n      <td>2023-05-04 22:17:55+00:00</td>\n      <td>19</td>\n      <td>8</td>\n    </tr>\n    <tr>\n      <th>1</th>\n      <td>OK</td>\n      <td>2023-05-04 22:17:56+00:00</td>\n      <td>184</td>\n      <td>8</td>\n    </tr>\n    <tr>\n      <th>2</th>\n      <td>OK</td>\n      <td>2023-05-04 22:17:57+00:00</td>\n      <td>209</td>\n      <td>8</td>\n    </tr>\n    <tr>\n      <th>3</th>\n      <td>OK</td>\n      <td>2023-05-04 22:17:59+00:00</td>\n      <td>192</td>\n      <td>8</td>\n    </tr>\n    <tr>\n      <th>4</th>\n      <td>OK</td>\n      <td>2023-05-04 22:18:00+00:00</td>\n      <td>193</td>\n      <td>8</td>\n    </tr>\n    <tr>\n      <th>...</th>\n      <td>...</td>\n      <td>...</td>\n      <td>...</td>\n      <td>...</td>\n    </tr>\n    <tr>\n      <th>615</th>\n      <td>OK</td>\n      <td>2023-05-04 22:29:21+00:00</td>\n      <td>453</td>\n      <td>17</td>\n    </tr>\n    <tr>\n      <th>616</th>\n      <td>OK</td>\n      <td>2023-05-04 22:29:22+00:00</td>\n      <td>399</td>\n      <td>17</td>\n    </tr>\n    <tr>\n      <th>617</th>\n      <td>OK</td>\n      <td>2023-05-04 22:29:23+00:00</td>\n      <td>411</td>\n      <td>17</td>\n    </tr>\n    <tr>\n      <th>618</th>\n      <td>OK</td>\n      <td>2023-05-04 22:29:24+00:00</td>\n      <td>420</td>\n      <td>17</td>\n    </tr>\n    <tr>\n      <th>619</th>\n      <td>OK</td>\n      <td>2023-05-04 22:29:25+00:00</td>\n      <td>365</td>\n      <td>17</td>\n    </tr>\n  </tbody>\n</table>\n<p>620 rows × 4 columns</p>\n</div>"
     },
     "execution_count": 20,
     "metadata": {},
     "output_type": "execute_result"
    }
   ],
   "source": [
    "merged_01 = pd.merge(replaced_df_01, replaced_c_01, left_on=\"date\", right_on=\"date\")\n",
    "merged_01"
   ],
   "metadata": {
    "collapsed": false,
    "pycharm": {
     "name": "#%%\n"
    }
   }
  },
  {
   "cell_type": "code",
   "execution_count": 21,
   "outputs": [
    {
     "data": {
      "text/plain": "    status                      date  count  size  expected_size\n0       OK 2023-05-04 22:17:55+00:00     19     8            4.0\n1       OK 2023-05-04 22:17:56+00:00    184     8            7.0\n2       OK 2023-05-04 22:17:57+00:00    209     8            8.0\n3       OK 2023-05-04 22:17:59+00:00    192     8            7.0\n4       OK 2023-05-04 22:18:00+00:00    193     8            8.0\n..     ...                       ...    ...   ...            ...\n615     OK 2023-05-04 22:29:21+00:00    453    17           15.0\n616     OK 2023-05-04 22:29:22+00:00    399    17           13.0\n617     OK 2023-05-04 22:29:23+00:00    411    17           14.0\n618     OK 2023-05-04 22:29:24+00:00    420    17           14.0\n619     OK 2023-05-04 22:29:25+00:00    365    17           12.0\n\n[620 rows x 5 columns]",
      "text/html": "<div>\n<style scoped>\n    .dataframe tbody tr th:only-of-type {\n        vertical-align: middle;\n    }\n\n    .dataframe tbody tr th {\n        vertical-align: top;\n    }\n\n    .dataframe thead th {\n        text-align: right;\n    }\n</style>\n<table border=\"1\" class=\"dataframe\">\n  <thead>\n    <tr style=\"text-align: right;\">\n      <th></th>\n      <th>status</th>\n      <th>date</th>\n      <th>count</th>\n      <th>size</th>\n      <th>expected_size</th>\n    </tr>\n  </thead>\n  <tbody>\n    <tr>\n      <th>0</th>\n      <td>OK</td>\n      <td>2023-05-04 22:17:55+00:00</td>\n      <td>19</td>\n      <td>8</td>\n      <td>4.0</td>\n    </tr>\n    <tr>\n      <th>1</th>\n      <td>OK</td>\n      <td>2023-05-04 22:17:56+00:00</td>\n      <td>184</td>\n      <td>8</td>\n      <td>7.0</td>\n    </tr>\n    <tr>\n      <th>2</th>\n      <td>OK</td>\n      <td>2023-05-04 22:17:57+00:00</td>\n      <td>209</td>\n      <td>8</td>\n      <td>8.0</td>\n    </tr>\n    <tr>\n      <th>3</th>\n      <td>OK</td>\n      <td>2023-05-04 22:17:59+00:00</td>\n      <td>192</td>\n      <td>8</td>\n      <td>7.0</td>\n    </tr>\n    <tr>\n      <th>4</th>\n      <td>OK</td>\n      <td>2023-05-04 22:18:00+00:00</td>\n      <td>193</td>\n      <td>8</td>\n      <td>8.0</td>\n    </tr>\n    <tr>\n      <th>...</th>\n      <td>...</td>\n      <td>...</td>\n      <td>...</td>\n      <td>...</td>\n      <td>...</td>\n    </tr>\n    <tr>\n      <th>615</th>\n      <td>OK</td>\n      <td>2023-05-04 22:29:21+00:00</td>\n      <td>453</td>\n      <td>17</td>\n      <td>15.0</td>\n    </tr>\n    <tr>\n      <th>616</th>\n      <td>OK</td>\n      <td>2023-05-04 22:29:22+00:00</td>\n      <td>399</td>\n      <td>17</td>\n      <td>13.0</td>\n    </tr>\n    <tr>\n      <th>617</th>\n      <td>OK</td>\n      <td>2023-05-04 22:29:23+00:00</td>\n      <td>411</td>\n      <td>17</td>\n      <td>14.0</td>\n    </tr>\n    <tr>\n      <th>618</th>\n      <td>OK</td>\n      <td>2023-05-04 22:29:24+00:00</td>\n      <td>420</td>\n      <td>17</td>\n      <td>14.0</td>\n    </tr>\n    <tr>\n      <th>619</th>\n      <td>OK</td>\n      <td>2023-05-04 22:29:25+00:00</td>\n      <td>365</td>\n      <td>17</td>\n      <td>12.0</td>\n    </tr>\n  </tbody>\n</table>\n<p>620 rows × 5 columns</p>\n</div>"
     },
     "execution_count": 21,
     "metadata": {},
     "output_type": "execute_result"
    }
   ],
   "source": [
    "merged_02 = merged_01\n",
    "merged_02[\"expected_size\"] = merged_01[\"count\"].map(lambda x: reg_tree().predict([[x]])[0])\n",
    "merged_02"
   ],
   "metadata": {
    "collapsed": false,
    "pycharm": {
     "name": "#%%\n"
    }
   }
  },
  {
   "cell_type": "code",
   "execution_count": 22,
   "outputs": [
    {
     "data": {
      "text/plain": "<Figure size 640x480 with 1 Axes>",
      "image/png": "[encoded data removed]"
     },
     "metadata": {},
     "output_type": "display_data"
    }
   ],
   "source": [
    "plt.xlabel(xlabel=\"time interval\")\n",
    "plt.ylabel(ylabel=\"cluster size\")\n",
    "plt.plot([k for k, v in enumerate(merged_02[\"date\"])][20:], merged_02[\"size\"][20:], color=\"red\", linestyle='dashdot', label='actual size')\n",
    "plt.plot([k for k, v in enumerate(merged_02[\"date\"])][20:], merged_02[\"expected_size\"][20:], color=\"blue\", label='expected size')\n",
    "plt.legend()\n",
    "plt.savefig(\"fuzzy_fbv1_20230505.png\")"
   ],
   "metadata": {
    "collapsed": false,
    "pycharm": {
     "name": "#%%\n"
    }
   }
  },
  {
   "cell_type": "code",
   "execution_count": 23,
   "outputs": [
    {
     "data": {
      "text/plain": "4.046774193548387"
     },
     "execution_count": 23,
     "metadata": {},
     "output_type": "execute_result"
    }
   ],
   "source": [
    "mean_squared_error(merged_02[\"size\"], merged_02[\"expected_size\"])"
   ],
   "metadata": {
    "collapsed": false,
    "pycharm": {
     "name": "#%%\n"
    }
   }
  },
  {
   "cell_type": "code",
   "execution_count": null,
   "outputs": [],
   "source": [],
   "metadata": {
    "collapsed": false,
    "pycharm": {
     "name": "#%%\n"
    }
   }
  }
 ],
 "metadata": {
  "kernelspec": {
   "display_name": "Python 3",
   "language": "python",
   "name": "python3"
  },
  "language_info": {
   "codemirror_mode": {
    "name": "ipython",
    "version": 2
   },
   "file_extension": ".py",
   "mimetype": "text/x-python",
   "name": "python",
   "nbconvert_exporter": "python",
   "pygments_lexer": "ipython2",
   "version": "2.7.6"
  }
 },
 "nbformat": 4,
 "nbformat_minor": 0
}