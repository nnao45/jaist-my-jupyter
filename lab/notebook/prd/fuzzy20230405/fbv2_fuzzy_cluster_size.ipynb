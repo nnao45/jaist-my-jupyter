{
 "cells": [
  {
   "cell_type": "code",
   "execution_count": 1,
   "outputs": [],
   "source": [
    "%matplotlib inline\n",
    "import numpy as np\n",
    "import pandas as pd\n",
    "import sys\n",
    "import math\n",
    "from sklearn.linear_model import Ridge, Lasso, ElasticNet\n",
    "from sklearn.metrics import mean_squared_error,r2_score\n",
    "from sklearn.model_selection import train_test_split, cross_val_score\n",
    "from sklearn import model_selection\n",
    "import matplotlib.pyplot as plt\n",
    "from sklearn.linear_model import LinearRegression, RidgeCV, LassoCV,ElasticNetCV\n",
    "from pyentrp import entropy as pyent\n",
    "import EntropyHub as EH\n",
    "import neurokit2 as nk\n",
    "import random\n",
    "import sampen\n",
    "import requests\n",
    "import io\n",
    "from pprint import pprint\n",
    "import os\n",
    "from sklearn import preprocessing\n",
    "from influxdb_client import InfluxDBClient, Point\n",
    "from influxdb_client.client.write_api import SYNCHRONOUS\n",
    "from influxdb_client.client.flux_table import FluxTable\n",
    "from datetime import datetime, timedelta\n",
    "from typing import List\n",
    "import itertools\n",
    "from datetime import datetime\n",
    "import itertools\n",
    "from sklearn.tree import DecisionTreeRegressor"
   ],
   "metadata": {
    "collapsed": false,
    "pycharm": {
     "name": "#%%\n"
    }
   }
  },
  {
   "cell_type": "code",
   "execution_count": 7,
   "outputs": [
    {
     "data": {
      "text/plain": "                          date  size\n0    2023-05-04T13:42:23+00:00    12\n1    2023-05-04T13:42:24+00:00    12\n2    2023-05-04T13:42:25+00:00    12\n3    2023-05-04T13:42:26+00:00    12\n4    2023-05-04T13:42:27+00:00    12\n..                         ...   ...\n567  2023-05-04T13:52:55+00:00    16\n568  2023-05-04T13:52:56+00:00    16\n569  2023-05-04T13:52:57+00:00    16\n570  2023-05-04T13:52:59+00:00    16\n571  2023-05-04T13:53:00+00:00    16\n\n[572 rows x 2 columns]",
      "text/html": "<div>\n<style scoped>\n    .dataframe tbody tr th:only-of-type {\n        vertical-align: middle;\n    }\n\n    .dataframe tbody tr th {\n        vertical-align: top;\n    }\n\n    .dataframe thead th {\n        text-align: right;\n    }\n</style>\n<table border=\"1\" class=\"dataframe\">\n  <thead>\n    <tr style=\"text-align: right;\">\n      <th></th>\n      <th>date</th>\n      <th>size</th>\n    </tr>\n  </thead>\n  <tbody>\n    <tr>\n      <th>0</th>\n      <td>2023-05-04T13:42:23+00:00</td>\n      <td>12</td>\n    </tr>\n    <tr>\n      <th>1</th>\n      <td>2023-05-04T13:42:24+00:00</td>\n      <td>12</td>\n    </tr>\n    <tr>\n      <th>2</th>\n      <td>2023-05-04T13:42:25+00:00</td>\n      <td>12</td>\n    </tr>\n    <tr>\n      <th>3</th>\n      <td>2023-05-04T13:42:26+00:00</td>\n      <td>12</td>\n    </tr>\n    <tr>\n      <th>4</th>\n      <td>2023-05-04T13:42:27+00:00</td>\n      <td>12</td>\n    </tr>\n    <tr>\n      <th>...</th>\n      <td>...</td>\n      <td>...</td>\n    </tr>\n    <tr>\n      <th>567</th>\n      <td>2023-05-04T13:52:55+00:00</td>\n      <td>16</td>\n    </tr>\n    <tr>\n      <th>568</th>\n      <td>2023-05-04T13:52:56+00:00</td>\n      <td>16</td>\n    </tr>\n    <tr>\n      <th>569</th>\n      <td>2023-05-04T13:52:57+00:00</td>\n      <td>16</td>\n    </tr>\n    <tr>\n      <th>570</th>\n      <td>2023-05-04T13:52:59+00:00</td>\n      <td>16</td>\n    </tr>\n    <tr>\n      <th>571</th>\n      <td>2023-05-04T13:53:00+00:00</td>\n      <td>16</td>\n    </tr>\n  </tbody>\n</table>\n<p>572 rows × 2 columns</p>\n</div>"
     },
     "execution_count": 7,
     "metadata": {},
     "output_type": "execute_result"
    }
   ],
   "source": [
    "c_01 = pd.read_csv(\"fbv2_hpq.log\", names=[\"date\", \"size\"])\n",
    "c_01"
   ],
   "metadata": {
    "collapsed": false,
    "pycharm": {
     "name": "#%%\n"
    }
   }
  },
  {
   "cell_type": "code",
   "execution_count": 8,
   "outputs": [
    {
     "data": {
      "text/plain": "[<matplotlib.lines.Line2D at 0x12a4baa60>]"
     },
     "execution_count": 8,
     "metadata": {},
     "output_type": "execute_result"
    },
    {
     "data": {
      "text/plain": "<Figure size 640x480 with 1 Axes>",
      "image/png": "[encoded data removed]"
     },
     "metadata": {},
     "output_type": "display_data"
    }
   ],
   "source": [
    "plt.plot(c_01[\"date\"], c_01[\"size\"])"
   ],
   "metadata": {
    "collapsed": false,
    "pycharm": {
     "name": "#%%\n"
    }
   }
  },
  {
   "cell_type": "code",
   "execution_count": 9,
   "outputs": [],
   "source": [
    "def parse(path: str) -> pd.DataFrame:\n",
    "    # CSVから読み取る\n",
    "    try:\n",
    "        df = pd.read_csv(path,  delimiter='\\t', header=None, names=[ 'c{0:02d}'.format(i) for i in range(10) ])\n",
    "    except Exception as e:\n",
    "        raise(e)\n",
    "    df_target = df.to_numpy()\n",
    "\n",
    "    # いい感じに整形\n",
    "    requests = pd.DataFrame([{\"date\": datetime.fromtimestamp(float(d[4])/1000), \"status\": d[6], \"count\": 1} for d in df_target if (d[0] == \"REQUEST\" and not math.isnan(float(d[4])) )])\n",
    "    if len(requests) == 0:\n",
    "        return pd.DataFrame([])\n",
    "\n",
    "    # 1秒ごとにサマる\n",
    "    grouped1 = requests.groupby([pd.Grouper(key=(\"status\")),pd.Grouper(key=(\"date\"), freq=\"S\")]).sum().reset_index()\n",
    "\n",
    "    # 全部同じ数は困るので乱数を入れておく\n",
    "    for x in range(len(grouped1)):\n",
    "        grouped1.iat[x, 2] += np.random.rand() * sys.float_info.epsilon\n",
    "\n",
    "    return grouped1"
   ],
   "metadata": {
    "collapsed": false,
    "pycharm": {
     "name": "#%%\n"
    }
   }
  },
  {
   "cell_type": "code",
   "execution_count": 10,
   "outputs": [
    {
     "name": "stderr",
     "output_type": "stream",
     "text": [
      "/var/folders/zk/cf948rq56631k5dgzn62fkjm0000gn/T/ipykernel_23905/600845077.py:4: DtypeWarning: Columns (2,4,5) have mixed types. Specify dtype option on import or set low_memory=False.\n",
      "  df = pd.read_csv(path,  delimiter='\\t', header=None, names=[ 'c{0:02d}'.format(i) for i in range(10) ])\n"
     ]
    }
   ],
   "source": [
    "df_01 = parse(\"./fbv2+simulation.log\")"
   ],
   "metadata": {
    "collapsed": false,
    "pycharm": {
     "name": "#%%\n"
    }
   }
  },
  {
   "cell_type": "code",
   "execution_count": 11,
   "outputs": [],
   "source": [
    "def reg_tree() -> DecisionTreeRegressor:\n",
    "    X = [\n",
    "        [60],\n",
    "        [100],\n",
    "        [140],\n",
    "        [175],\n",
    "        [210],\n",
    "        [255],\n",
    "        [300],\n",
    "        [330],\n",
    "        [360],\n",
    "        [390],\n",
    "        [420],\n",
    "        [460],\n",
    "        [500],\n",
    "        [540],\n",
    "        [580],\n",
    "        [610],\n",
    "        [640],\n",
    "        [670],\n",
    "        [700],\n",
    "        [730],\n",
    "        [760],\n",
    "        [790],\n",
    "        [820],\n",
    "        [850],\n",
    "        [880],\n",
    "        [910],\n",
    "        [940],\n",
    "        [970],\n",
    "        [1000],\n",
    "        [1030],\n",
    "        [1060],\n",
    "    ]\n",
    "\n",
    "    y = [\n",
    "        4,\n",
    "        5,\n",
    "        6,\n",
    "        7,\n",
    "        8,\n",
    "        9,\n",
    "        10,\n",
    "        11,\n",
    "        12,\n",
    "        13,\n",
    "        14,\n",
    "        15,\n",
    "        16,\n",
    "        17,\n",
    "        18,\n",
    "        19,\n",
    "        20,\n",
    "        21,\n",
    "        22,\n",
    "        23,\n",
    "        24,\n",
    "        25,\n",
    "        26,\n",
    "        27,\n",
    "        28,\n",
    "        29,\n",
    "        30,\n",
    "        31,\n",
    "        32,\n",
    "        33,\n",
    "        34,\n",
    "    ]\n",
    "\n",
    "    return DecisionTreeRegressor().fit(X, y)"
   ],
   "metadata": {
    "collapsed": false,
    "pycharm": {
     "name": "#%%\n"
    }
   }
  },
  {
   "cell_type": "code",
   "execution_count": 12,
   "outputs": [
    {
     "data": {
      "text/plain": "                         date  size\n0   2023-05-04 22:42:23+00:00    12\n1   2023-05-04 22:42:24+00:00    12\n2   2023-05-04 22:42:25+00:00    12\n3   2023-05-04 22:42:26+00:00    12\n4   2023-05-04 22:42:27+00:00    12\n..                        ...   ...\n567 2023-05-04 22:52:55+00:00    16\n568 2023-05-04 22:52:56+00:00    16\n569 2023-05-04 22:52:57+00:00    16\n570 2023-05-04 22:52:59+00:00    16\n571 2023-05-04 22:53:00+00:00    16\n\n[572 rows x 2 columns]",
      "text/html": "<div>\n<style scoped>\n    .dataframe tbody tr th:only-of-type {\n        vertical-align: middle;\n    }\n\n    .dataframe tbody tr th {\n        vertical-align: top;\n    }\n\n    .dataframe thead th {\n        text-align: right;\n    }\n</style>\n<table border=\"1\" class=\"dataframe\">\n  <thead>\n    <tr style=\"text-align: right;\">\n      <th></th>\n      <th>date</th>\n      <th>size</th>\n    </tr>\n  </thead>\n  <tbody>\n    <tr>\n      <th>0</th>\n      <td>2023-05-04 22:42:23+00:00</td>\n      <td>12</td>\n    </tr>\n    <tr>\n      <th>1</th>\n      <td>2023-05-04 22:42:24+00:00</td>\n      <td>12</td>\n    </tr>\n    <tr>\n      <th>2</th>\n      <td>2023-05-04 22:42:25+00:00</td>\n      <td>12</td>\n    </tr>\n    <tr>\n      <th>3</th>\n      <td>2023-05-04 22:42:26+00:00</td>\n      <td>12</td>\n    </tr>\n    <tr>\n      <th>4</th>\n      <td>2023-05-04 22:42:27+00:00</td>\n      <td>12</td>\n    </tr>\n    <tr>\n      <th>...</th>\n      <td>...</td>\n      <td>...</td>\n    </tr>\n    <tr>\n      <th>567</th>\n      <td>2023-05-04 22:52:55+00:00</td>\n      <td>16</td>\n    </tr>\n    <tr>\n      <th>568</th>\n      <td>2023-05-04 22:52:56+00:00</td>\n      <td>16</td>\n    </tr>\n    <tr>\n      <th>569</th>\n      <td>2023-05-04 22:52:57+00:00</td>\n      <td>16</td>\n    </tr>\n    <tr>\n      <th>570</th>\n      <td>2023-05-04 22:52:59+00:00</td>\n      <td>16</td>\n    </tr>\n    <tr>\n      <th>571</th>\n      <td>2023-05-04 22:53:00+00:00</td>\n      <td>16</td>\n    </tr>\n  </tbody>\n</table>\n<p>572 rows × 2 columns</p>\n</div>"
     },
     "execution_count": 12,
     "metadata": {},
     "output_type": "execute_result"
    }
   ],
   "source": [
    "replaced_c_01 = c_01\n",
    "replaced_c_01[\"date\"] = pd.to_datetime(c_01[\"date\"], utc = False) + pd.to_timedelta(9, unit='h')\n",
    "replaced_c_01"
   ],
   "metadata": {
    "collapsed": false,
    "pycharm": {
     "name": "#%%\n"
    }
   }
  },
  {
   "cell_type": "code",
   "execution_count": 13,
   "outputs": [
    {
     "data": {
      "text/plain": "    status                      date  count\n0       OK 2023-05-04 22:42:09+00:00     48\n1       OK 2023-05-04 22:42:10+00:00    409\n2       OK 2023-05-04 22:42:11+00:00    433\n3       OK 2023-05-04 22:42:12+00:00    381\n4       OK 2023-05-04 22:42:13+00:00    376\n..     ...                       ...    ...\n626     OK 2023-05-04 22:52:35+00:00    373\n627     OK 2023-05-04 22:52:36+00:00    429\n628     OK 2023-05-04 22:52:37+00:00    376\n629     OK 2023-05-04 22:52:38+00:00    390\n630     OK 2023-05-04 22:52:39+00:00    333\n\n[631 rows x 3 columns]",
      "text/html": "<div>\n<style scoped>\n    .dataframe tbody tr th:only-of-type {\n        vertical-align: middle;\n    }\n\n    .dataframe tbody tr th {\n        vertical-align: top;\n    }\n\n    .dataframe thead th {\n        text-align: right;\n    }\n</style>\n<table border=\"1\" class=\"dataframe\">\n  <thead>\n    <tr style=\"text-align: right;\">\n      <th></th>\n      <th>status</th>\n      <th>date</th>\n      <th>count</th>\n    </tr>\n  </thead>\n  <tbody>\n    <tr>\n      <th>0</th>\n      <td>OK</td>\n      <td>2023-05-04 22:42:09+00:00</td>\n      <td>48</td>\n    </tr>\n    <tr>\n      <th>1</th>\n      <td>OK</td>\n      <td>2023-05-04 22:42:10+00:00</td>\n      <td>409</td>\n    </tr>\n    <tr>\n      <th>2</th>\n      <td>OK</td>\n      <td>2023-05-04 22:42:11+00:00</td>\n      <td>433</td>\n    </tr>\n    <tr>\n      <th>3</th>\n      <td>OK</td>\n      <td>2023-05-04 22:42:12+00:00</td>\n      <td>381</td>\n    </tr>\n    <tr>\n      <th>4</th>\n      <td>OK</td>\n      <td>2023-05-04 22:42:13+00:00</td>\n      <td>376</td>\n    </tr>\n    <tr>\n      <th>...</th>\n      <td>...</td>\n      <td>...</td>\n      <td>...</td>\n    </tr>\n    <tr>\n      <th>626</th>\n      <td>OK</td>\n      <td>2023-05-04 22:52:35+00:00</td>\n      <td>373</td>\n    </tr>\n    <tr>\n      <th>627</th>\n      <td>OK</td>\n      <td>2023-05-04 22:52:36+00:00</td>\n      <td>429</td>\n    </tr>\n    <tr>\n      <th>628</th>\n      <td>OK</td>\n      <td>2023-05-04 22:52:37+00:00</td>\n      <td>376</td>\n    </tr>\n    <tr>\n      <th>629</th>\n      <td>OK</td>\n      <td>2023-05-04 22:52:38+00:00</td>\n      <td>390</td>\n    </tr>\n    <tr>\n      <th>630</th>\n      <td>OK</td>\n      <td>2023-05-04 22:52:39+00:00</td>\n      <td>333</td>\n    </tr>\n  </tbody>\n</table>\n<p>631 rows × 3 columns</p>\n</div>"
     },
     "execution_count": 13,
     "metadata": {},
     "output_type": "execute_result"
    }
   ],
   "source": [
    "replaced_df_01 = df_01[df_01[\"status\"] != \"KO\"]\n",
    "replaced_df_01[\"date\"] = pd.to_datetime(df_01[\"date\"], utc=True)\n",
    "replaced_df_01"
   ],
   "metadata": {
    "collapsed": false,
    "pycharm": {
     "name": "#%%\n"
    }
   }
  },
  {
   "cell_type": "code",
   "execution_count": 14,
   "outputs": [
    {
     "data": {
      "text/plain": "    status                      date  count  size\n0       OK 2023-05-04 22:42:23+00:00    423    12\n1       OK 2023-05-04 22:42:24+00:00    374    12\n2       OK 2023-05-04 22:42:25+00:00    388    12\n3       OK 2023-05-04 22:42:26+00:00    386    12\n4       OK 2023-05-04 22:42:27+00:00    394    12\n..     ...                       ...    ...   ...\n549     OK 2023-05-04 22:52:35+00:00    373    14\n550     OK 2023-05-04 22:52:36+00:00    429    14\n551     OK 2023-05-04 22:52:37+00:00    376    14\n552     OK 2023-05-04 22:52:38+00:00    390    14\n553     OK 2023-05-04 22:52:39+00:00    333    14\n\n[554 rows x 4 columns]",
      "text/html": "<div>\n<style scoped>\n    .dataframe tbody tr th:only-of-type {\n        vertical-align: middle;\n    }\n\n    .dataframe tbody tr th {\n        vertical-align: top;\n    }\n\n    .dataframe thead th {\n        text-align: right;\n    }\n</style>\n<table border=\"1\" class=\"dataframe\">\n  <thead>\n    <tr style=\"text-align: right;\">\n      <th></th>\n      <th>status</th>\n      <th>date</th>\n      <th>count</th>\n      <th>size</th>\n    </tr>\n  </thead>\n  <tbody>\n    <tr>\n      <th>0</th>\n      <td>OK</td>\n      <td>2023-05-04 22:42:23+00:00</td>\n      <td>423</td>\n      <td>12</td>\n    </tr>\n    <tr>\n      <th>1</th>\n      <td>OK</td>\n      <td>2023-05-04 22:42:24+00:00</td>\n      <td>374</td>\n      <td>12</td>\n    </tr>\n    <tr>\n      <th>2</th>\n      <td>OK</td>\n      <td>2023-05-04 22:42:25+00:00</td>\n      <td>388</td>\n      <td>12</td>\n    </tr>\n    <tr>\n      <th>3</th>\n      <td>OK</td>\n      <td>2023-05-04 22:42:26+00:00</td>\n      <td>386</td>\n      <td>12</td>\n    </tr>\n    <tr>\n      <th>4</th>\n      <td>OK</td>\n      <td>2023-05-04 22:42:27+00:00</td>\n      <td>394</td>\n      <td>12</td>\n    </tr>\n    <tr>\n      <th>...</th>\n      <td>...</td>\n      <td>...</td>\n      <td>...</td>\n      <td>...</td>\n    </tr>\n    <tr>\n      <th>549</th>\n      <td>OK</td>\n      <td>2023-05-04 22:52:35+00:00</td>\n      <td>373</td>\n      <td>14</td>\n    </tr>\n    <tr>\n      <th>550</th>\n      <td>OK</td>\n      <td>2023-05-04 22:52:36+00:00</td>\n      <td>429</td>\n      <td>14</td>\n    </tr>\n    <tr>\n      <th>551</th>\n      <td>OK</td>\n      <td>2023-05-04 22:52:37+00:00</td>\n      <td>376</td>\n      <td>14</td>\n    </tr>\n    <tr>\n      <th>552</th>\n      <td>OK</td>\n      <td>2023-05-04 22:52:38+00:00</td>\n      <td>390</td>\n      <td>14</td>\n    </tr>\n    <tr>\n      <th>553</th>\n      <td>OK</td>\n      <td>2023-05-04 22:52:39+00:00</td>\n      <td>333</td>\n      <td>14</td>\n    </tr>\n  </tbody>\n</table>\n<p>554 rows × 4 columns</p>\n</div>"
     },
     "execution_count": 14,
     "metadata": {},
     "output_type": "execute_result"
    }
   ],
   "source": [
    "merged_01 = pd.merge(replaced_df_01, replaced_c_01, left_on=\"date\", right_on=\"date\")\n",
    "merged_01"
   ],
   "metadata": {
    "collapsed": false,
    "pycharm": {
     "name": "#%%\n"
    }
   }
  },
  {
   "cell_type": "code",
   "execution_count": 15,
   "outputs": [
    {
     "data": {
      "text/plain": "    status                      date  count  size  expected_size\n0       OK 2023-05-04 22:42:23+00:00    423    12           14.0\n1       OK 2023-05-04 22:42:24+00:00    374    12           12.0\n2       OK 2023-05-04 22:42:25+00:00    388    12           13.0\n3       OK 2023-05-04 22:42:26+00:00    386    12           13.0\n4       OK 2023-05-04 22:42:27+00:00    394    12           13.0\n..     ...                       ...    ...   ...            ...\n549     OK 2023-05-04 22:52:35+00:00    373    14           12.0\n550     OK 2023-05-04 22:52:36+00:00    429    14           14.0\n551     OK 2023-05-04 22:52:37+00:00    376    14           13.0\n552     OK 2023-05-04 22:52:38+00:00    390    14           13.0\n553     OK 2023-05-04 22:52:39+00:00    333    14           11.0\n\n[554 rows x 5 columns]",
      "text/html": "<div>\n<style scoped>\n    .dataframe tbody tr th:only-of-type {\n        vertical-align: middle;\n    }\n\n    .dataframe tbody tr th {\n        vertical-align: top;\n    }\n\n    .dataframe thead th {\n        text-align: right;\n    }\n</style>\n<table border=\"1\" class=\"dataframe\">\n  <thead>\n    <tr style=\"text-align: right;\">\n      <th></th>\n      <th>status</th>\n      <th>date</th>\n      <th>count</th>\n      <th>size</th>\n      <th>expected_size</th>\n    </tr>\n  </thead>\n  <tbody>\n    <tr>\n      <th>0</th>\n      <td>OK</td>\n      <td>2023-05-04 22:42:23+00:00</td>\n      <td>423</td>\n      <td>12</td>\n      <td>14.0</td>\n    </tr>\n    <tr>\n      <th>1</th>\n      <td>OK</td>\n      <td>2023-05-04 22:42:24+00:00</td>\n      <td>374</td>\n      <td>12</td>\n      <td>12.0</td>\n    </tr>\n    <tr>\n      <th>2</th>\n      <td>OK</td>\n      <td>2023-05-04 22:42:25+00:00</td>\n      <td>388</td>\n      <td>12</td>\n      <td>13.0</td>\n    </tr>\n    <tr>\n      <th>3</th>\n      <td>OK</td>\n      <td>2023-05-04 22:42:26+00:00</td>\n      <td>386</td>\n      <td>12</td>\n      <td>13.0</td>\n    </tr>\n    <tr>\n      <th>4</th>\n      <td>OK</td>\n      <td>2023-05-04 22:42:27+00:00</td>\n      <td>394</td>\n      <td>12</td>\n      <td>13.0</td>\n    </tr>\n    <tr>\n      <th>...</th>\n      <td>...</td>\n      <td>...</td>\n      <td>...</td>\n      <td>...</td>\n      <td>...</td>\n    </tr>\n    <tr>\n      <th>549</th>\n      <td>OK</td>\n      <td>2023-05-04 22:52:35+00:00</td>\n      <td>373</td>\n      <td>14</td>\n      <td>12.0</td>\n    </tr>\n    <tr>\n      <th>550</th>\n      <td>OK</td>\n      <td>2023-05-04 22:52:36+00:00</td>\n      <td>429</td>\n      <td>14</td>\n      <td>14.0</td>\n    </tr>\n    <tr>\n      <th>551</th>\n      <td>OK</td>\n      <td>2023-05-04 22:52:37+00:00</td>\n      <td>376</td>\n      <td>14</td>\n      <td>13.0</td>\n    </tr>\n    <tr>\n      <th>552</th>\n      <td>OK</td>\n      <td>2023-05-04 22:52:38+00:00</td>\n      <td>390</td>\n      <td>14</td>\n      <td>13.0</td>\n    </tr>\n    <tr>\n      <th>553</th>\n      <td>OK</td>\n      <td>2023-05-04 22:52:39+00:00</td>\n      <td>333</td>\n      <td>14</td>\n      <td>11.0</td>\n    </tr>\n  </tbody>\n</table>\n<p>554 rows × 5 columns</p>\n</div>"
     },
     "execution_count": 15,
     "metadata": {},
     "output_type": "execute_result"
    }
   ],
   "source": [
    "merged_02 = merged_01\n",
    "merged_02[\"expected_size\"] = merged_01[\"count\"].map(lambda x: reg_tree().predict([[x]])[0])\n",
    "merged_02"
   ],
   "metadata": {
    "collapsed": false,
    "pycharm": {
     "name": "#%%\n"
    }
   }
  },
  {
   "cell_type": "code",
   "execution_count": 16,
   "outputs": [
    {
     "data": {
      "text/plain": "<Figure size 640x480 with 1 Axes>",
      "image/png": "[encoded data removed]"
     },
     "metadata": {},
     "output_type": "display_data"
    }
   ],
   "source": [
    "plt.xlabel(xlabel=\"time interval\")\n",
    "plt.ylabel(ylabel=\"cluster size\")\n",
    "plt.plot([k for k, v in enumerate(merged_02[\"date\"])][20:], merged_02[\"size\"][20:], color=\"red\", linestyle='dashdot', label='actual size')\n",
    "plt.plot([k for k, v in enumerate(merged_02[\"date\"])][20:], merged_02[\"expected_size\"][20:], color=\"blue\", label='expected size')\n",
    "plt.legend()\n",
    "plt.savefig(\"fuzzy_fbv2_20230505.png\")"
   ],
   "metadata": {
    "collapsed": false,
    "pycharm": {
     "name": "#%%\n"
    }
   }
  },
  {
   "cell_type": "code",
   "execution_count": 18,
   "outputs": [
    {
     "data": {
      "text/plain": "5.2797833935018055"
     },
     "execution_count": 18,
     "metadata": {},
     "output_type": "execute_result"
    }
   ],
   "source": [
    "mean_squared_error(merged_02[\"size\"], merged_02[\"expected_size\"])"
   ],
   "metadata": {
    "collapsed": false,
    "pycharm": {
     "name": "#%%\n"
    }
   }
  },
  {
   "cell_type": "code",
   "execution_count": null,
   "outputs": [],
   "source": [],
   "metadata": {
    "collapsed": false,
    "pycharm": {
     "name": "#%%\n"
    }
   }
  },
  {
   "cell_type": "code",
   "execution_count": null,
   "outputs": [],
   "source": [],
   "metadata": {
    "collapsed": false,
    "pycharm": {
     "name": "#%%\n"
    }
   }
  }
 ],
 "metadata": {
  "kernelspec": {
   "display_name": "Python 3",
   "language": "python",
   "name": "python3"
  },
  "language_info": {
   "codemirror_mode": {
    "name": "ipython",
    "version": 2
   },
   "file_extension": ".py",
   "mimetype": "text/x-python",
   "name": "python",
   "nbconvert_exporter": "python",
   "pygments_lexer": "ipython2",
   "version": "2.7.6"
  }
 },
 "nbformat": 4,
 "nbformat_minor": 0
}