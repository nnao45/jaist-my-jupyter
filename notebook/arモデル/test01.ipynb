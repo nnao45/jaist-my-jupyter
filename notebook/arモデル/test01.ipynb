{
 "cells": [
  {
   "cell_type": "code",
   "execution_count": 2,
   "metadata": {},
   "outputs": [
    {
     "data": {
      "text/html": [
       "<div>\n",
       "<style scoped>\n",
       "    .dataframe tbody tr th:only-of-type {\n",
       "        vertical-align: middle;\n",
       "    }\n",
       "\n",
       "    .dataframe tbody tr th {\n",
       "        vertical-align: top;\n",
       "    }\n",
       "\n",
       "    .dataframe thead th {\n",
       "        text-align: right;\n",
       "    }\n",
       "</style>\n",
       "<table border=\"1\" class=\"dataframe\">\n",
       "  <thead>\n",
       "    <tr style=\"text-align: right;\">\n",
       "      <th></th>\n",
       "      <th>年</th>\n",
       "      <th>月</th>\n",
       "      <th>アイスクリーム</th>\n",
       "    </tr>\n",
       "  </thead>\n",
       "  <tbody>\n",
       "    <tr>\n",
       "      <th>0</th>\n",
       "      <td>2003</td>\n",
       "      <td>1</td>\n",
       "      <td>331</td>\n",
       "    </tr>\n",
       "    <tr>\n",
       "      <th>1</th>\n",
       "      <td>2003</td>\n",
       "      <td>2</td>\n",
       "      <td>268</td>\n",
       "    </tr>\n",
       "    <tr>\n",
       "      <th>2</th>\n",
       "      <td>2003</td>\n",
       "      <td>3</td>\n",
       "      <td>365</td>\n",
       "    </tr>\n",
       "    <tr>\n",
       "      <th>3</th>\n",
       "      <td>2003</td>\n",
       "      <td>4</td>\n",
       "      <td>492</td>\n",
       "    </tr>\n",
       "    <tr>\n",
       "      <th>4</th>\n",
       "      <td>2003</td>\n",
       "      <td>5</td>\n",
       "      <td>632</td>\n",
       "    </tr>\n",
       "    <tr>\n",
       "      <th>...</th>\n",
       "      <td>...</td>\n",
       "      <td>...</td>\n",
       "      <td>...</td>\n",
       "    </tr>\n",
       "    <tr>\n",
       "      <th>115</th>\n",
       "      <td>2012</td>\n",
       "      <td>8</td>\n",
       "      <td>1332</td>\n",
       "    </tr>\n",
       "    <tr>\n",
       "      <th>116</th>\n",
       "      <td>2012</td>\n",
       "      <td>9</td>\n",
       "      <td>849</td>\n",
       "    </tr>\n",
       "    <tr>\n",
       "      <th>117</th>\n",
       "      <td>2012</td>\n",
       "      <td>10</td>\n",
       "      <td>515</td>\n",
       "    </tr>\n",
       "    <tr>\n",
       "      <th>118</th>\n",
       "      <td>2012</td>\n",
       "      <td>11</td>\n",
       "      <td>326</td>\n",
       "    </tr>\n",
       "    <tr>\n",
       "      <th>119</th>\n",
       "      <td>2012</td>\n",
       "      <td>12</td>\n",
       "      <td>414</td>\n",
       "    </tr>\n",
       "  </tbody>\n",
       "</table>\n",
       "<p>120 rows × 3 columns</p>\n",
       "</div>"
      ],
      "text/plain": [
       "        年   月  アイスクリーム\n",
       "0    2003   1      331\n",
       "1    2003   2      268\n",
       "2    2003   3      365\n",
       "3    2003   4      492\n",
       "4    2003   5      632\n",
       "..    ...  ..      ...\n",
       "115  2012   8     1332\n",
       "116  2012   9      849\n",
       "117  2012  10      515\n",
       "118  2012  11      326\n",
       "119  2012  12      414\n",
       "\n",
       "[120 rows x 3 columns]"
      ]
     },
     "execution_count": 2,
     "metadata": {},
     "output_type": "execute_result"
    }
   ],
   "source": [
    "%matplotlib inline\n",
    "import pandas as pd\n",
    "import numpy as np\n",
    "import matplotlib.pyplot as plt\n",
    "\n",
    "df_ice = pd.read_csv('./icecream__utf8.csv')\n",
    "df_ice"
   ]
  },
  {
   "cell_type": "code",
   "execution_count": 3,
   "metadata": {},
   "outputs": [
    {
     "data": {
      "text/plain": [
       "<AxesSubplot:>"
      ]
     },
     "execution_count": 3,
     "metadata": {},
     "output_type": "execute_result"
    },
    {
     "data": {
      "image/png": "[encoded data removed]",
      "text/plain": [
       "<Figure size 432x288 with 1 Axes>"
      ]
     },
     "metadata": {
      "needs_background": "light"
     },
     "output_type": "display_data"
    }
   ],
   "source": [
    "# 月毎に仮定の平均消費額の読み出し\n",
    "# インデックスは2003-1から月毎\n",
    "y = pd.Series(df_ice.アイスクリーム.values, index=pd.date_range('2003-1', periods=len(df_ice), freq='M'))\n",
    "y.plot()"
   ]
  },
  {
   "cell_type": "code",
   "execution_count": 4,
   "metadata": {},
   "outputs": [
    {
     "name": "stdout",
     "output_type": "stream",
     "text": [
      "ctt: \n",
      "(-3.3089558508822066, 0.1692244861968651, 11, 88, {'1%': -4.507929662788786, '5%': -3.9012866601709244, '10%': -3.595623127758734}, 993.4892589484145)\n",
      "ct: \n",
      "(-1.714560199971079, 0.7444294601457553, 11, 88, {'1%': -4.065513968057382, '5%': -3.4616143302732905, '10%': -3.156971502864388}, 1002.5847722693204)\n",
      "c: \n",
      "(-0.6539247687694224, 0.8583259363632658, 11, 88, {'1%': -3.506944401824286, '5%': -2.894989819214876, '10%': -2.584614550619835}, 1003.5884336394024)\n",
      "nc: \n",
      "(1.6310949179759076, 0.9751761218376866, 11, 88, {'1%': -2.5916151807851238, '5%': -1.944440985689801, '10%': -1.614115063626972}, 1002.1878264328066)\n"
     ]
    },
    {
     "name": "stderr",
     "output_type": "stream",
     "text": [
      "/Users/s02435/ghq/github.com/nnao45/jaist-my-jupyter/.venv/lib/python3.9/site-packages/statsmodels/tsa/tsatools.py:821: FutureWarning: trend 'nc' has been renamed to 'n' after 0.14 is released. Use 'n' now to avoid this warning.\n",
      "  warnings.warn(\n"
     ]
    }
   ],
   "source": [
    "from statsmodels.tsa import stattools\n",
    "\n",
    "# トレンド項あり（2次まで）、定数項ありの場合\n",
    "ctt = stattools.adfuller(y[:100], regression=\"ctt\")\n",
    "# トレンド項あり（1次）、定数項ありの場合\n",
    "ct = stattools.adfuller(y[:100], regression=\"ct\")\n",
    "# トレンド項なし、定数項ありの場合\n",
    "c = stattools.adfuller(y[:100], regression=\"c\")\n",
    "# トレンド項なし、定数項なしの場合\n",
    "nc = stattools.adfuller(y[:100], regression=\"nc\")\n",
    "\n",
    "print(\"ctt: \")\n",
    "print(ctt)\n",
    "print(\"ct: \")\n",
    "print(ct)\n",
    "print(\"c: \")\n",
    "print(c)\n",
    "print(\"nc: \")\n",
    "print(nc)"
   ]
  },
  {
   "cell_type": "code",
   "execution_count": 5,
   "metadata": {},
   "outputs": [
    {
     "data": {
      "text/plain": [
       "<AxesSubplot:>"
      ]
     },
     "execution_count": 5,
     "metadata": {},
     "output_type": "execute_result"
    },
    {
     "data": {
      "image/png": "[encoded data removed]",
      "text/plain": [
       "<Figure size 432x288 with 1 Axes>"
      ]
     },
     "metadata": {
      "needs_background": "light"
     },
     "output_type": "display_data"
    }
   ],
   "source": [
    "y_diff = y.diff()[:100].dropna()\n",
    "y_diff.plot()"
   ]
  },
  {
   "cell_type": "code",
   "execution_count": 6,
   "metadata": {},
   "outputs": [
    {
     "name": "stdout",
     "output_type": "stream",
     "text": [
      "ctt: \n",
      "(-20.49413879057406, 0.0, 10, 88, {'1%': -4.507929662788786, '5%': -3.9012866601709244, '10%': -3.595623127758734}, 994.1683226214956)\n",
      "ct: \n",
      "(-20.51282538674093, 0.0, 10, 88, {'1%': -4.065513968057382, '5%': -3.4616143302732905, '10%': -3.156971502864388}, 992.6851493902557)\n",
      "c: \n",
      "(-20.635999245555652, 0.0, 10, 88, {'1%': -3.506944401824286, '5%': -2.894989819214876, '10%': -2.584614550619835}, 990.9785010415186)\n",
      "nc: \n",
      "(-20.337724459102372, 0.0, 10, 88, {'1%': -2.5916151807851238, '5%': -1.944440985689801, '10%': -1.614115063626972}, 991.6754513068397)\n"
     ]
    },
    {
     "name": "stderr",
     "output_type": "stream",
     "text": [
      "/Users/s02435/ghq/github.com/nnao45/jaist-my-jupyter/.venv/lib/python3.9/site-packages/statsmodels/tsa/tsatools.py:821: FutureWarning: trend 'nc' has been renamed to 'n' after 0.14 is released. Use 'n' now to avoid this warning.\n",
      "  warnings.warn(\n"
     ]
    }
   ],
   "source": [
    "from statsmodels.tsa import stattools\n",
    "\n",
    "# トレンド項あり（2次まで）、定数項ありの場合\n",
    "ctt = stattools.adfuller(y_diff, regression=\"ctt\")\n",
    "# トレンド項あり（1次）、定数項ありの場合\n",
    "ct = stattools.adfuller(y_diff, regression=\"ct\")\n",
    "# トレンド項なし、定数項ありの場合\n",
    "c = stattools.adfuller(y_diff, regression=\"c\")\n",
    "# トレンド項なし、定数項なしの場合\n",
    "nc = stattools.adfuller(y_diff, regression=\"nc\")\n",
    "\n",
    "print(\"ctt: \")\n",
    "print(ctt)\n",
    "print(\"ct: \")\n",
    "print(ct)\n",
    "print(\"c: \")\n",
    "print(c)\n",
    "print(\"nc: \")\n",
    "print(nc)"
   ]
  },
  {
   "cell_type": "code",
   "execution_count": 47,
   "metadata": {},
   "outputs": [
    {
     "name": "stdout",
     "output_type": "stream",
     "text": [
      "1319.2002363463098\n",
      "1304.0197864939166\n",
      "1293.0884574632883\n",
      "1281.7253591677493\n",
      "1266.8283707583764\n",
      "1240.2184395374745\n",
      "1227.236081706349\n",
      "1199.8618885960686\n",
      "1168.5285182810348\n",
      "1102.2890529620913\n",
      "1014.3206848715979\n",
      "1006.0719822391264\n",
      "996.4783471223761\n",
      "988.1539665706359\n",
      "979.444884976763\n",
      "971.0582271698917\n",
      "962.564194219886\n",
      "935.5999156962922\n",
      "926.7391631562662\n",
      "916.7418813228519\n"
     ]
    }
   ],
   "source": [
    "from statsmodels.tsa import ar_model\n",
    "\n",
    "for i in range(20):\n",
    "    model = ar_model.AutoReg(y_diff,lags=i+1)\n",
    "    results = model.fit()\n",
    "    print(results.aic)"
   ]
  }
 ],
 "metadata": {
  "interpreter": {
   "hash": "ed3e3cd7eaae78a028302f8c60b23327bead7311331f61381685cdcdea648c8d"
  },
  "kernelspec": {
   "display_name": "Python 3.9.1 ('.venv': poetry)",
   "language": "python",
   "name": "python3"
  },
  "language_info": {
   "codemirror_mode": {
    "name": "ipython",
    "version": 3
   },
   "file_extension": ".py",
   "mimetype": "text/x-python",
   "name": "python",
   "nbconvert_exporter": "python",
   "pygments_lexer": "ipython3",
   "version": "3.9.1"
  },
  "orig_nbformat": 4
 },
 "nbformat": 4,
 "nbformat_minor": 2
}
