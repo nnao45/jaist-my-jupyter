{
 "cells": [
  {
   "cell_type": "code",
   "execution_count": 18,
   "metadata": {},
   "outputs": [],
   "source": [
    "import numpy as np\n",
    "import pandas as pd\n",
    "from sklearn.linear_model import Ridge, Lasso, ElasticNet\n",
    "from sklearn.metrics import mean_squared_error,r2_score\n",
    "from sklearn.model_selection import train_test_split, cross_val_score\n",
    "from sklearn import model_selection\n",
    "import matplotlib.pyplot as plt\n",
    "from sklearn.linear_model import RidgeCV, LassoCV,ElasticNetCV\n",
    "import requests\n",
    "import io\n",
    "from sklearn.metrics import mean_squared_error,r2_score\n",
    "#matplotlib inline"
   ]
  },
  {
   "cell_type": "code",
   "execution_count": 3,
   "metadata": {},
   "outputs": [
    {
     "data": {
      "text/plain": [
       "array([[0.17467533],\n",
       "       [0.26948462],\n",
       "       [0.30578636],\n",
       "       [0.06381536],\n",
       "       [0.29623243],\n",
       "       [0.22167991],\n",
       "       [0.57418719],\n",
       "       [0.57289294],\n",
       "       [0.14064402],\n",
       "       [0.61413023],\n",
       "       [0.69664283],\n",
       "       [0.7689158 ],\n",
       "       [0.17933334],\n",
       "       [0.91014244],\n",
       "       [0.43272587],\n",
       "       [0.1824647 ],\n",
       "       [0.12013205],\n",
       "       [0.93400357],\n",
       "       [0.91098697],\n",
       "       [0.71802289],\n",
       "       [0.04692501],\n",
       "       [0.22993886],\n",
       "       [0.17158169],\n",
       "       [0.39928095],\n",
       "       [0.23222424],\n",
       "       [0.35554265],\n",
       "       [0.46993884],\n",
       "       [0.08425325],\n",
       "       [0.77472956],\n",
       "       [0.27922497],\n",
       "       [0.01425973],\n",
       "       [0.8927163 ],\n",
       "       [0.78944179],\n",
       "       [0.09058153],\n",
       "       [0.52091098],\n",
       "       [0.36846884],\n",
       "       [0.78676837],\n",
       "       [0.76972351],\n",
       "       [0.45805055],\n",
       "       [0.31648038],\n",
       "       [0.12501439],\n",
       "       [0.84875271],\n",
       "       [0.65454577],\n",
       "       [0.45505728],\n",
       "       [0.82554878],\n",
       "       [0.615876  ],\n",
       "       [0.20687144],\n",
       "       [0.51509475],\n",
       "       [0.53906104],\n",
       "       [0.70825884],\n",
       "       [0.28545814],\n",
       "       [0.41906339],\n",
       "       [0.09304021],\n",
       "       [0.91119151],\n",
       "       [0.77034166],\n",
       "       [0.12256075],\n",
       "       [0.29668009],\n",
       "       [0.37927522],\n",
       "       [0.12725139],\n",
       "       [0.82432535],\n",
       "       [0.36818866],\n",
       "       [0.25130058],\n",
       "       [0.42034666],\n",
       "       [0.64437144],\n",
       "       [0.82277822],\n",
       "       [0.05875253],\n",
       "       [0.13661404],\n",
       "       [0.80138598],\n",
       "       [0.22976941],\n",
       "       [0.97663726],\n",
       "       [0.42303803],\n",
       "       [0.84609331],\n",
       "       [0.62144611],\n",
       "       [0.41142323],\n",
       "       [0.91926267],\n",
       "       [0.85416377],\n",
       "       [0.90854836],\n",
       "       [0.31038111],\n",
       "       [0.33853667],\n",
       "       [0.23224054],\n",
       "       [0.44587194],\n",
       "       [0.34092508],\n",
       "       [0.07407537],\n",
       "       [0.71663098],\n",
       "       [0.4009354 ],\n",
       "       [0.44636227],\n",
       "       [0.26660807],\n",
       "       [0.82034778],\n",
       "       [0.12788521],\n",
       "       [0.84118972],\n",
       "       [0.8762491 ],\n",
       "       [0.55381561],\n",
       "       [0.08083867],\n",
       "       [0.51954581],\n",
       "       [0.56671912],\n",
       "       [0.5754972 ],\n",
       "       [0.47898287],\n",
       "       [0.49649453],\n",
       "       [0.26089905],\n",
       "       [0.83316944]])"
      ]
     },
     "execution_count": 3,
     "metadata": {},
     "output_type": "execute_result"
    }
   ],
   "source": [
    "X = np.random.rand(100, 1)\n",
    "X"
   ]
  },
  {
   "cell_type": "code",
   "execution_count": 5,
   "metadata": {},
   "outputs": [],
   "source": [
    "y = 5 + 3 * X + np.random.rand(100, 1)"
   ]
  },
  {
   "cell_type": "code",
   "execution_count": 6,
   "metadata": {},
   "outputs": [
    {
     "data": {
      "text/plain": [
       "<matplotlib.collections.PathCollection at 0x140f682e0>"
      ]
     },
     "execution_count": 6,
     "metadata": {},
     "output_type": "execute_result"
    },
    {
     "data": {
      "image/png": "[encoded data removed]",
      "text/plain": [
       "<Figure size 432x288 with 1 Axes>"
      ]
     },
     "metadata": {
      "needs_background": "light"
     },
     "output_type": "display_data"
    }
   ],
   "source": [
    "plt.scatter(X,y)"
   ]
  },
  {
   "cell_type": "code",
   "execution_count": 7,
   "metadata": {},
   "outputs": [],
   "source": [
    "from sklearn.linear_model import LinearRegression\n",
    "lin_reg = LinearRegression().fit(X, y.ravel())"
   ]
  },
  {
   "cell_type": "code",
   "execution_count": 9,
   "metadata": {},
   "outputs": [
    {
     "data": {
      "text/plain": [
       "(100,)"
      ]
     },
     "execution_count": 9,
     "metadata": {},
     "output_type": "execute_result"
    }
   ],
   "source": [
    "y.ravel().shape"
   ]
  },
  {
   "cell_type": "code",
   "execution_count": 10,
   "metadata": {},
   "outputs": [
    {
     "data": {
      "text/plain": [
       "(5.490779892413094, array([3.01154663]))"
      ]
     },
     "execution_count": 10,
     "metadata": {},
     "output_type": "execute_result"
    }
   ],
   "source": [
    "# intercept_が切片\n",
    "# coef_が傾き\n",
    "lin_reg.intercept_, lin_reg.coef_"
   ]
  },
  {
   "cell_type": "code",
   "execution_count": 11,
   "metadata": {},
   "outputs": [
    {
     "data": {
      "text/plain": [
       "<matplotlib.collections.PathCollection at 0x141ab2490>"
      ]
     },
     "execution_count": 11,
     "metadata": {},
     "output_type": "execute_result"
    },
    {
     "data": {
      "image/png": "[encoded data removed]",
      "text/plain": [
       "<Figure size 432x288 with 1 Axes>"
      ]
     },
     "metadata": {
      "needs_background": "light"
     },
     "output_type": "display_data"
    }
   ],
   "source": [
    "X_new = np.array([[0], [1]])\n",
    "plt.plot(X_new, lin_reg.intercept_ + lin_reg.coef_ * X_new, 'red')\n",
    "plt.scatter(X, y)"
   ]
  },
  {
   "cell_type": "code",
   "execution_count": 13,
   "metadata": {},
   "outputs": [],
   "source": [
    "from sklearn.linear_model import SGDRegressor"
   ]
  },
  {
   "cell_type": "code",
   "execution_count": 14,
   "metadata": {},
   "outputs": [
    {
     "data": {
      "text/plain": [
       "(array([5.54049031]), array([2.8646504]))"
      ]
     },
     "execution_count": 14,
     "metadata": {},
     "output_type": "execute_result"
    }
   ],
   "source": [
    "sgd_reg = SGDRegressor(max_iter=100).fit(X, y.ravel())\n",
    "sgd_reg.intercept_, sgd_reg.coef_"
   ]
  },
  {
   "cell_type": "code",
   "execution_count": 15,
   "metadata": {},
   "outputs": [
    {
     "name": "stderr",
     "output_type": "stream",
     "text": [
      "/Users/s02435/ghq/github.com/nnao45/jaist-my-jupyter/.venv/lib/python3.9/site-packages/sklearn/linear_model/_stochastic_gradient.py:1503: ConvergenceWarning: Maximum number of iteration reached before convergence. Consider increasing max_iter to improve the fit.\n",
      "  warnings.warn(\n"
     ]
    }
   ],
   "source": [
    "sgd_reg_00001 = SGDRegressor(eta0=0.0001, max_iter=100).fit(X, y.ravel())"
   ]
  },
  {
   "cell_type": "code",
   "execution_count": 16,
   "metadata": {},
   "outputs": [
    {
     "data": {
      "text/plain": [
       "(array([0.84892799]), array([0.42842338]))"
      ]
     },
     "execution_count": 16,
     "metadata": {},
     "output_type": "execute_result"
    }
   ],
   "source": [
    "sgd_reg_00001.intercept_, sgd_reg_00001.coef_"
   ]
  },
  {
   "cell_type": "code",
   "execution_count": 17,
   "metadata": {},
   "outputs": [
    {
     "data": {
      "text/plain": [
       "<matplotlib.collections.PathCollection at 0x141b785e0>"
      ]
     },
     "execution_count": 17,
     "metadata": {},
     "output_type": "execute_result"
    },
    {
     "data": {
      "image/png": "[encoded data removed]",
      "text/plain": [
       "<Figure size 432x288 with 1 Axes>"
      ]
     },
     "metadata": {
      "needs_background": "light"
     },
     "output_type": "display_data"
    }
   ],
   "source": [
    "plt.plot(X_new, sgd_reg_00001.intercept_ + sgd_reg_00001.coef_ * X_new, 'red')\n",
    "plt.scatter(X, y)"
   ]
  }
 ],
 "metadata": {
  "interpreter": {
   "hash": "ed3e3cd7eaae78a028302f8c60b23327bead7311331f61381685cdcdea648c8d"
  },
  "kernelspec": {
   "display_name": "Python 3.9.1 ('.venv': poetry)",
   "language": "python",
   "name": "python3"
  },
  "language_info": {
   "codemirror_mode": {
    "name": "ipython",
    "version": 3
   },
   "file_extension": ".py",
   "mimetype": "text/x-python",
   "name": "python",
   "nbconvert_exporter": "python",
   "pygments_lexer": "ipython3",
   "version": "3.9.1"
  },
  "orig_nbformat": 4
 },
 "nbformat": 4,
 "nbformat_minor": 2
}
