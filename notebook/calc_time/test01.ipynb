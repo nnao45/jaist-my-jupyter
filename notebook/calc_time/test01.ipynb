{
 "cells": [
  {
   "cell_type": "code",
   "execution_count": 17,
   "outputs": [],
   "source": [
    "%matplotlib inline\n",
    "import numpy as np\n",
    "import pandas as pd\n",
    "import sys\n",
    "import math\n",
    "from sklearn.linear_model import Ridge, Lasso, ElasticNet\n",
    "from sklearn.metrics import mean_squared_error,r2_score\n",
    "from sklearn.model_selection import train_test_split, cross_val_score\n",
    "from sklearn import model_selection\n",
    "import matplotlib.pyplot as plt\n",
    "from sklearn.linear_model import LinearRegression, RidgeCV, LassoCV,ElasticNetCV\n",
    "from pyentrp import entropy as pyent\n",
    "import EntropyHub as EH\n",
    "import neurokit2 as nk\n",
    "import random\n",
    "import sampen\n",
    "import requests\n",
    "import io\n",
    "from pprint import pprint\n",
    "import os\n",
    "from sklearn import preprocessing\n",
    "from influxdb_client import InfluxDBClient, Point\n",
    "from influxdb_client.client.write_api import SYNCHRONOUS\n",
    "from influxdb_client.client.flux_table import FluxTable\n",
    "from datetime import datetime, timedelta\n",
    "from typing import List\n",
    "import itertools\n",
    "from datetime import datetime\n",
    "from datetime import timedelta\n",
    "import itertools\n",
    "from sklearn.tree import DecisionTreeRegressor\n",
    "from sklearn.metrics import mean_squared_error\n",
    "import time\n",
    "from sklearn.linear_model import ElasticNet, LinearRegression"
   ],
   "metadata": {
    "collapsed": false,
    "pycharm": {
     "name": "#%%\n"
    }
   }
  },
  {
   "cell_type": "code",
   "execution_count": 2,
   "outputs": [
    {
     "data": {
      "text/plain": "0.19087491923240252"
     },
     "execution_count": 2,
     "metadata": {},
     "output_type": "execute_result"
    }
   ],
   "source": [
    "np.random.rand()"
   ],
   "metadata": {
    "collapsed": false,
    "pycharm": {
     "name": "#%%\n"
    }
   }
  },
  {
   "cell_type": "code",
   "execution_count": 18,
   "outputs": [
    {
     "name": "stdout",
     "output_type": "stream",
     "text": [
      "8.459943771362305秒かかりました！\n"
     ]
    }
   ],
   "source": [
    "# 10000データ\n",
    "l_10000 = [np.random.rand() for _ in range(10000)]\n",
    "start = time.time()\n",
    "nk.entropy_fuzzy(l_10000)\n",
    "end = time.time() - start\n",
    "print(f'{end}秒かかりました！')"
   ],
   "metadata": {
    "collapsed": false,
    "pycharm": {
     "name": "#%%\n"
    }
   }
  },
  {
   "cell_type": "code",
   "execution_count": 46,
   "outputs": [
    {
     "name": "stdout",
     "output_type": "stream",
     "text": [
      "0.6114528179168701秒かかりました！\n"
     ]
    }
   ],
   "source": [
    "# 2500データ\n",
    "l_2500 = [np.random.rand() for _ in range(2500)]\n",
    "start = time.time()\n",
    "nk.entropy_fuzzy(l_2500)\n",
    "end = time.time() - start\n",
    "print(f'{end}秒かかりました！')"
   ],
   "metadata": {
    "collapsed": false,
    "pycharm": {
     "name": "#%%\n"
    }
   }
  },
  {
   "cell_type": "code",
   "execution_count": 53,
   "outputs": [
    {
     "name": "stdout",
     "output_type": "stream",
     "text": [
      "0.057385921478271484秒かかりました！\n"
     ]
    }
   ],
   "source": [
    "# 1000データ\n",
    "l_1000 = [np.random.rand() for _ in range(1000)]\n",
    "start = time.time()\n",
    "nk.entropy_fuzzy(l_1000)\n",
    "end = time.time() - start\n",
    "print(f'{end}秒かかりました！')"
   ],
   "metadata": {
    "collapsed": false,
    "pycharm": {
     "name": "#%%\n"
    }
   }
  },
  {
   "cell_type": "code",
   "execution_count": 54,
   "outputs": [
    {
     "name": "stdout",
     "output_type": "stream",
     "text": [
      "0.005866050720214844秒かかりました！\n"
     ]
    }
   ],
   "source": [
    "# 100データ\n",
    "l_100 = [np.random.rand() for _ in range(100)]\n",
    "start = time.time()\n",
    "nk.entropy_fuzzy(l_100)\n",
    "end = time.time() - start\n",
    "print(f'{end}秒かかりました！')"
   ],
   "metadata": {
    "collapsed": false,
    "pycharm": {
     "name": "#%%\n"
    }
   }
  },
  {
   "cell_type": "code",
   "execution_count": 38,
   "outputs": [
    {
     "name": "stdout",
     "output_type": "stream",
     "text": [
      "0.002271890640258789秒かかりました！\n"
     ]
    }
   ],
   "source": [
    "# 50データ\n",
    "l_50 = [np.random.rand() for _ in range(50)]\n",
    "start = time.time()\n",
    "nk.entropy_fuzzy(l_50)\n",
    "end = time.time() - start\n",
    "print(f'{end}秒かかりました！')"
   ],
   "metadata": {
    "collapsed": false,
    "pycharm": {
     "name": "#%%\n"
    }
   }
  },
  {
   "cell_type": "code",
   "execution_count": 60,
   "outputs": [
    {
     "name": "stdout",
     "output_type": "stream",
     "text": [
      "0.005767822265625秒かかりました！\n"
     ]
    }
   ],
   "source": [
    "start = time.time()\n",
    "enet = ElasticNet(alpha=1.0, l1_ratio=0.5).fit(np.array(range(10000)).reshape(-1, 1), np.array(l_10000).reshape(-1, 1))\n",
    "enet.predict(np.array(range(100)).reshape(-1, 1))\n",
    "end = time.time() - start\n",
    "print(f'{end}秒かかりました！')"
   ],
   "metadata": {
    "collapsed": false,
    "pycharm": {
     "name": "#%%\n"
    }
   }
  },
  {
   "cell_type": "code",
   "execution_count": 61,
   "outputs": [],
   "source": [
    "class ContainerSizeDecisionTree(DecisionTreeRegressor):\n",
    "    def __init__(self):\n",
    "        # 実測ベースで決定木回帰モデルを作る\n",
    "        # タイムアウト：1秒\n",
    "        # フィナボッチ数列の長さ：31\n",
    "        CPU_THRESHOLD_1ST = 180\n",
    "        CPU_THRESHOLD_2ND = 190\n",
    "        CPU_THRESHOLD_3RD = 200\n",
    "\n",
    "        ## RPS\n",
    "        X = ([[60, CPU_THRESHOLD_1ST - 1],   [60,  CPU_THRESHOLD_1ST] , [60,   CPU_THRESHOLD_2ND - 1], [60,   CPU_THRESHOLD_2ND], [60,   CPU_THRESHOLD_3RD - 1], [60,   CPU_THRESHOLD_3RD],\n",
    "              [100, CPU_THRESHOLD_1ST - 1],  [100, CPU_THRESHOLD_1ST],  [100,  CPU_THRESHOLD_2ND - 1], [100,  CPU_THRESHOLD_2ND], [100,  CPU_THRESHOLD_3RD - 1], [100,  CPU_THRESHOLD_3RD],\n",
    "              [140, CPU_THRESHOLD_1ST - 1],  [140, CPU_THRESHOLD_1ST],  [140,  CPU_THRESHOLD_2ND - 1], [140,  CPU_THRESHOLD_2ND], [140,  CPU_THRESHOLD_3RD - 1], [140,  CPU_THRESHOLD_3RD],\n",
    "              [175, CPU_THRESHOLD_1ST - 1],  [175, CPU_THRESHOLD_1ST],  [175,  CPU_THRESHOLD_2ND - 1], [175,  CPU_THRESHOLD_2ND], [175,  CPU_THRESHOLD_3RD - 1], [175,  CPU_THRESHOLD_3RD],\n",
    "              [210, CPU_THRESHOLD_1ST - 1],  [210, CPU_THRESHOLD_1ST],  [210,  CPU_THRESHOLD_2ND - 1], [210,  CPU_THRESHOLD_2ND], [210,  CPU_THRESHOLD_3RD - 1], [210,  CPU_THRESHOLD_3RD],\n",
    "              [255, CPU_THRESHOLD_1ST - 1],  [255, CPU_THRESHOLD_1ST],  [255,  CPU_THRESHOLD_2ND - 1], [255,  CPU_THRESHOLD_2ND], [255,  CPU_THRESHOLD_3RD - 1], [255,  CPU_THRESHOLD_3RD],\n",
    "              [300, CPU_THRESHOLD_1ST - 1],  [300, CPU_THRESHOLD_1ST],  [300,  CPU_THRESHOLD_2ND - 1], [300,  CPU_THRESHOLD_2ND], [300,  CPU_THRESHOLD_3RD - 1], [300,  CPU_THRESHOLD_3RD],\n",
    "              [330, CPU_THRESHOLD_1ST - 1],  [330, CPU_THRESHOLD_1ST],  [330,  CPU_THRESHOLD_2ND - 1], [330,  CPU_THRESHOLD_2ND], [330,  CPU_THRESHOLD_3RD - 1], [330,  CPU_THRESHOLD_3RD],\n",
    "              [360, CPU_THRESHOLD_1ST - 1],  [360, CPU_THRESHOLD_1ST],  [360,  CPU_THRESHOLD_2ND - 1], [360,  CPU_THRESHOLD_2ND], [360,  CPU_THRESHOLD_3RD - 1], [360,  CPU_THRESHOLD_3RD],\n",
    "              [390, CPU_THRESHOLD_1ST - 1],  [390, CPU_THRESHOLD_1ST],  [390,  CPU_THRESHOLD_2ND - 1], [390,  CPU_THRESHOLD_2ND], [390,  CPU_THRESHOLD_3RD - 1], [390,  CPU_THRESHOLD_3RD],\n",
    "              [420, CPU_THRESHOLD_1ST - 1],  [420, CPU_THRESHOLD_1ST],  [420,  CPU_THRESHOLD_2ND - 1], [420,  CPU_THRESHOLD_2ND], [420,  CPU_THRESHOLD_3RD - 1], [420,  CPU_THRESHOLD_3RD],\n",
    "              [460, CPU_THRESHOLD_1ST - 1],  [460, CPU_THRESHOLD_1ST],  [460,  CPU_THRESHOLD_2ND - 1], [460,  CPU_THRESHOLD_2ND], [460,  CPU_THRESHOLD_3RD - 1], [460,  CPU_THRESHOLD_3RD],\n",
    "              [500, CPU_THRESHOLD_1ST - 1],  [500, CPU_THRESHOLD_1ST],  [500,  CPU_THRESHOLD_2ND - 1], [500,  CPU_THRESHOLD_2ND], [500,  CPU_THRESHOLD_3RD - 1], [500,  CPU_THRESHOLD_3RD],\n",
    "              [540, CPU_THRESHOLD_1ST - 1],  [540, CPU_THRESHOLD_1ST],  [540,  CPU_THRESHOLD_2ND - 1], [540,  CPU_THRESHOLD_2ND], [540,  CPU_THRESHOLD_3RD - 1], [540,  CPU_THRESHOLD_3RD],\n",
    "              [580, CPU_THRESHOLD_1ST - 1],  [580, CPU_THRESHOLD_1ST],  [580,  CPU_THRESHOLD_2ND - 1], [580,  CPU_THRESHOLD_2ND], [580,  CPU_THRESHOLD_3RD - 1], [580,  CPU_THRESHOLD_3RD],\n",
    "              [610, CPU_THRESHOLD_1ST - 1],  [610, CPU_THRESHOLD_1ST],  [610,  CPU_THRESHOLD_2ND - 1], [610,  CPU_THRESHOLD_2ND], [610,  CPU_THRESHOLD_3RD - 1], [610,  CPU_THRESHOLD_3RD],\n",
    "              [640, CPU_THRESHOLD_1ST - 1],  [640, CPU_THRESHOLD_1ST],  [640,  CPU_THRESHOLD_2ND - 1], [640,  CPU_THRESHOLD_2ND], [640,  CPU_THRESHOLD_3RD - 1], [640,  CPU_THRESHOLD_3RD],\n",
    "              [670, CPU_THRESHOLD_1ST - 1],  [670, CPU_THRESHOLD_1ST],  [670,  CPU_THRESHOLD_2ND - 1], [670,  CPU_THRESHOLD_2ND], [670,  CPU_THRESHOLD_3RD - 1], [670,  CPU_THRESHOLD_3RD],\n",
    "              [700, CPU_THRESHOLD_1ST - 1],  [700, CPU_THRESHOLD_1ST],  [700,  CPU_THRESHOLD_2ND - 1], [700,  CPU_THRESHOLD_2ND], [700,  CPU_THRESHOLD_3RD - 1], [700,  CPU_THRESHOLD_3RD],\n",
    "              [730, CPU_THRESHOLD_1ST - 1],  [730, CPU_THRESHOLD_1ST],  [730,  CPU_THRESHOLD_2ND - 1], [730,  CPU_THRESHOLD_2ND], [730,  CPU_THRESHOLD_3RD - 1], [730,  CPU_THRESHOLD_3RD],\n",
    "              [760, CPU_THRESHOLD_1ST - 1],  [760, CPU_THRESHOLD_1ST],  [760,  CPU_THRESHOLD_2ND - 1], [760,  CPU_THRESHOLD_2ND], [760,  CPU_THRESHOLD_3RD - 1], [760,  CPU_THRESHOLD_3RD],\n",
    "              [790, CPU_THRESHOLD_1ST - 1],  [790, CPU_THRESHOLD_1ST],  [790,  CPU_THRESHOLD_2ND - 1], [790,  CPU_THRESHOLD_2ND], [790,  CPU_THRESHOLD_3RD - 1], [790,  CPU_THRESHOLD_3RD],\n",
    "              [820, CPU_THRESHOLD_1ST - 1],  [820, CPU_THRESHOLD_1ST],  [820,  CPU_THRESHOLD_2ND - 1], [820,  CPU_THRESHOLD_2ND], [820,  CPU_THRESHOLD_3RD - 1], [820,  CPU_THRESHOLD_3RD],\n",
    "              [850, CPU_THRESHOLD_1ST - 1],  [850, CPU_THRESHOLD_1ST],  [850,  CPU_THRESHOLD_2ND - 1], [850,  CPU_THRESHOLD_2ND], [850,  CPU_THRESHOLD_3RD - 1], [850,  CPU_THRESHOLD_3RD],\n",
    "              [880, CPU_THRESHOLD_1ST - 1],  [880, CPU_THRESHOLD_1ST],  [880,  CPU_THRESHOLD_2ND - 1], [880,  CPU_THRESHOLD_2ND], [880,  CPU_THRESHOLD_3RD - 1], [880,  CPU_THRESHOLD_3RD],\n",
    "              [910, CPU_THRESHOLD_1ST - 1],  [910, CPU_THRESHOLD_1ST],  [910,  CPU_THRESHOLD_2ND - 1], [910,  CPU_THRESHOLD_2ND], [910,  CPU_THRESHOLD_3RD - 1], [910,  CPU_THRESHOLD_3RD],\n",
    "              [940, CPU_THRESHOLD_1ST - 1],  [940, CPU_THRESHOLD_1ST],  [940,  CPU_THRESHOLD_2ND - 1], [940,  CPU_THRESHOLD_2ND], [940,  CPU_THRESHOLD_3RD - 1], [940,  CPU_THRESHOLD_3RD],\n",
    "              [970, CPU_THRESHOLD_1ST - 1],  [970, CPU_THRESHOLD_1ST],  [970,  CPU_THRESHOLD_2ND - 1], [970,  CPU_THRESHOLD_2ND], [970,  CPU_THRESHOLD_3RD - 1], [970,  CPU_THRESHOLD_3RD],\n",
    "              [1000, CPU_THRESHOLD_1ST - 1], [1000, CPU_THRESHOLD_1ST], [1000, CPU_THRESHOLD_2ND - 1], [1000, CPU_THRESHOLD_2ND], [1000, CPU_THRESHOLD_3RD - 1], [1000, CPU_THRESHOLD_3RD],\n",
    "              [1030, CPU_THRESHOLD_1ST - 1], [1030, CPU_THRESHOLD_1ST], [1030, CPU_THRESHOLD_2ND - 1], [1030, CPU_THRESHOLD_2ND], [1030, CPU_THRESHOLD_3RD - 1], [1030, CPU_THRESHOLD_3RD],\n",
    "              [1060, CPU_THRESHOLD_1ST - 1], [1060, CPU_THRESHOLD_1ST], [1060, CPU_THRESHOLD_2ND - 1], [1060, CPU_THRESHOLD_2ND], [1060, CPU_THRESHOLD_3RD - 1], [1060, CPU_THRESHOLD_3RD]])\n",
    "\n",
    "        ## x(RPS)の値に必要なコンテナ数\n",
    "        y = ([4,  5,  5,  6,  6,  7,\n",
    "              5,  6,  6,  7,  7,  8,\n",
    "              6,  7,  7,  8,  8,  9,\n",
    "              7,  8,  8,  9,  9,  10,\n",
    "              8,  9,  9,  10, 10, 11,\n",
    "              9,  10, 10, 11, 11, 12,\n",
    "              10, 11, 11, 12, 12, 13,\n",
    "              11, 12, 12, 13, 13, 14,\n",
    "              12, 13, 13, 14, 14, 15,\n",
    "              13, 14, 14, 15, 15, 16,\n",
    "              14, 15, 15, 16, 16, 17,\n",
    "              15, 16, 16, 17, 17, 18,\n",
    "              16, 17, 17, 18, 18, 19,\n",
    "              17, 18, 18, 19, 19, 20,\n",
    "              18, 19, 19, 20, 20, 21,\n",
    "              19, 20, 20, 21, 21, 22,\n",
    "              20, 21, 21, 22, 22, 23,\n",
    "              21, 22, 22, 23, 23, 24,\n",
    "              22, 23, 23, 24, 24, 25,\n",
    "              23, 24, 24, 25, 25, 26,\n",
    "              24, 25, 25, 26, 26, 27,\n",
    "              25, 26, 26, 27, 27, 28,\n",
    "              26, 27, 27, 28, 28, 29,\n",
    "              27, 28, 28, 29, 29, 30,\n",
    "              28, 29, 29, 30, 30, 31,\n",
    "              29, 30, 30, 31, 31, 32,\n",
    "              30, 31, 31, 32, 32, 33,\n",
    "              31, 32, 32, 33, 33, 34,\n",
    "              32, 33, 33, 34, 34, 35,\n",
    "              33, 34, 34, 35, 35, 36,\n",
    "              34, 35, 35, 36, 36, 37])\n",
    "\n",
    "        super().__init__()\n",
    "        self.fit(X, y)"
   ],
   "metadata": {
    "collapsed": false,
    "pycharm": {
     "name": "#%%\n"
    }
   }
  },
  {
   "cell_type": "code",
   "execution_count": 62,
   "outputs": [],
   "source": [
    "tree = ContainerSizeDecisionTree()"
   ],
   "metadata": {
    "collapsed": false,
    "pycharm": {
     "name": "#%%\n"
    }
   }
  },
  {
   "cell_type": "code",
   "execution_count": null,
   "outputs": [],
   "source": [],
   "metadata": {
    "collapsed": false,
    "pycharm": {
     "name": "#%%\n"
    }
   }
  }
 ],
 "metadata": {
  "kernelspec": {
   "display_name": "Python 3",
   "language": "python",
   "name": "python3"
  },
  "language_info": {
   "codemirror_mode": {
    "name": "ipython",
    "version": 2
   },
   "file_extension": ".py",
   "mimetype": "text/x-python",
   "name": "python",
   "nbconvert_exporter": "python",
   "pygments_lexer": "ipython2",
   "version": "2.7.6"
  }
 },
 "nbformat": 4,
 "nbformat_minor": 0
}