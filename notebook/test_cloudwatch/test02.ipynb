{
 "cells": [
  {
   "cell_type": "code",
   "execution_count": null,
   "metadata": {},
   "outputs": [],
   "source": [
    "%matplotlib inline\n",
    "import pandas as pd\n",
    "import numpy as np\n",
    "import matplotlib.pyplot as plt\n",
    "import requests\n",
    "import io\n",
    "import json\n",
    "import os\n",
    "\n",
    "jsonBuf = open(f\"{os.getcwd()}/metrics_02.json\", 'r')\n",
    "obj = json.load(jsonBuf)\n",
    "arr = [f\"{x},{y}\" for x, y in zip(obj['MetricDataResults'][0]['Timestamps'], obj['MetricDataResults'][0]['Values'])]\n",
    "df = pd.read_csv(io.StringIO('\\n'.join(arr)), names=('datetime', 'request_count'))\n",
    "df\n"
   ]
  }
 ],
 "metadata": {
  "language_info": {
   "name": "python"
  },
  "orig_nbformat": 4
 },
 "nbformat": 4,
 "nbformat_minor": 2
}
