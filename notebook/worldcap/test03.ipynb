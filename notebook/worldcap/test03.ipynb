{
 "cells": [
  {
   "cell_type": "code",
   "execution_count": 14,
   "metadata": {},
   "outputs": [],
   "source": [
    "%matplotlib inline\n",
    "import numpy as np\n",
    "import pandas as pd\n",
    "from sklearn.linear_model import Ridge, Lasso, ElasticNet\n",
    "from sklearn.metrics import mean_squared_error,r2_score\n",
    "from sklearn.model_selection import train_test_split, cross_val_score\n",
    "from sklearn import model_selection\n",
    "import matplotlib.pyplot as plt\n",
    "from sklearn.linear_model import LinearRegression, RidgeCV, LassoCV,ElasticNetCV\n",
    "from pyentrp import entropy as pyent\n",
    "import EntropyHub as EH\n",
    "import neurokit2 as nk\n",
    "import random\n",
    "import sampen\n",
    "import requests\n",
    "import io\n",
    "import apache_log_parser\n",
    "from pprint import pprint\n",
    "import os\n",
    "from sklearn import preprocessing\n",
    "from typing import List\n",
    "import itertools"
   ]
  },
  {
   "cell_type": "code",
   "execution_count": 2,
   "metadata": {},
   "outputs": [
    {
     "data": {
      "text/html": [
       "<div>\n",
       "<style scoped>\n",
       "    .dataframe tbody tr th:only-of-type {\n",
       "        vertical-align: middle;\n",
       "    }\n",
       "\n",
       "    .dataframe tbody tr th {\n",
       "        vertical-align: top;\n",
       "    }\n",
       "\n",
       "    .dataframe thead th {\n",
       "        text-align: right;\n",
       "    }\n",
       "</style>\n",
       "<table border=\"1\" class=\"dataframe\">\n",
       "  <thead>\n",
       "    <tr style=\"text-align: right;\">\n",
       "      <th></th>\n",
       "      <th>index</th>\n",
       "      <th>date</th>\n",
       "      <th>count</th>\n",
       "    </tr>\n",
       "  </thead>\n",
       "  <tbody>\n",
       "    <tr>\n",
       "      <th>0</th>\n",
       "      <td>0</td>\n",
       "      <td>1998-07-06 22:00:01</td>\n",
       "      <td>68</td>\n",
       "    </tr>\n",
       "    <tr>\n",
       "      <th>1</th>\n",
       "      <td>1</td>\n",
       "      <td>1998-07-06 22:00:02</td>\n",
       "      <td>125</td>\n",
       "    </tr>\n",
       "    <tr>\n",
       "      <th>2</th>\n",
       "      <td>2</td>\n",
       "      <td>1998-07-06 22:00:03</td>\n",
       "      <td>108</td>\n",
       "    </tr>\n",
       "    <tr>\n",
       "      <th>3</th>\n",
       "      <td>3</td>\n",
       "      <td>1998-07-06 22:00:04</td>\n",
       "      <td>139</td>\n",
       "    </tr>\n",
       "    <tr>\n",
       "      <th>4</th>\n",
       "      <td>4</td>\n",
       "      <td>1998-07-06 22:00:05</td>\n",
       "      <td>171</td>\n",
       "    </tr>\n",
       "    <tr>\n",
       "      <th>...</th>\n",
       "      <td>...</td>\n",
       "      <td>...</td>\n",
       "      <td>...</td>\n",
       "    </tr>\n",
       "    <tr>\n",
       "      <th>105551</th>\n",
       "      <td>105551</td>\n",
       "      <td>1998-07-08 03:19:12</td>\n",
       "      <td>223</td>\n",
       "    </tr>\n",
       "    <tr>\n",
       "      <th>105552</th>\n",
       "      <td>105552</td>\n",
       "      <td>1998-07-08 03:19:13</td>\n",
       "      <td>203</td>\n",
       "    </tr>\n",
       "    <tr>\n",
       "      <th>105553</th>\n",
       "      <td>105553</td>\n",
       "      <td>1998-07-08 03:19:14</td>\n",
       "      <td>211</td>\n",
       "    </tr>\n",
       "    <tr>\n",
       "      <th>105554</th>\n",
       "      <td>105554</td>\n",
       "      <td>1998-07-08 03:19:15</td>\n",
       "      <td>199</td>\n",
       "    </tr>\n",
       "    <tr>\n",
       "      <th>105555</th>\n",
       "      <td>105555</td>\n",
       "      <td>1998-07-08 03:19:16</td>\n",
       "      <td>126</td>\n",
       "    </tr>\n",
       "  </tbody>\n",
       "</table>\n",
       "<p>105556 rows × 3 columns</p>\n",
       "</div>"
      ],
      "text/plain": [
       "         index                date  count\n",
       "0            0 1998-07-06 22:00:01     68\n",
       "1            1 1998-07-06 22:00:02    125\n",
       "2            2 1998-07-06 22:00:03    108\n",
       "3            3 1998-07-06 22:00:04    139\n",
       "4            4 1998-07-06 22:00:05    171\n",
       "...        ...                 ...    ...\n",
       "105551  105551 1998-07-08 03:19:12    223\n",
       "105552  105552 1998-07-08 03:19:13    203\n",
       "105553  105553 1998-07-08 03:19:14    211\n",
       "105554  105554 1998-07-08 03:19:15    199\n",
       "105555  105555 1998-07-08 03:19:16    126\n",
       "\n",
       "[105556 rows x 3 columns]"
      ]
     },
     "execution_count": 2,
     "metadata": {},
     "output_type": "execute_result"
    }
   ],
   "source": [
    "df_S = pd.read_csv(f\"{os.getcwd()}/wc_day73.csv\")\n",
    "df_S[\"date\"] = pd.to_datetime(df_S[\"date\"])\n",
    "df_S"
   ]
  },
  {
   "cell_type": "code",
   "execution_count": 3,
   "metadata": {},
   "outputs": [
    {
     "data": {
      "text/html": [
       "<div>\n",
       "<style scoped>\n",
       "    .dataframe tbody tr th:only-of-type {\n",
       "        vertical-align: middle;\n",
       "    }\n",
       "\n",
       "    .dataframe tbody tr th {\n",
       "        vertical-align: top;\n",
       "    }\n",
       "\n",
       "    .dataframe thead th {\n",
       "        text-align: right;\n",
       "    }\n",
       "</style>\n",
       "<table border=\"1\" class=\"dataframe\">\n",
       "  <thead>\n",
       "    <tr style=\"text-align: right;\">\n",
       "      <th></th>\n",
       "      <th>date</th>\n",
       "      <th>index</th>\n",
       "      <th>count</th>\n",
       "    </tr>\n",
       "  </thead>\n",
       "  <tbody>\n",
       "    <tr>\n",
       "      <th>0</th>\n",
       "      <td>1998-07-06 22:00:00</td>\n",
       "      <td>10</td>\n",
       "      <td>611</td>\n",
       "    </tr>\n",
       "    <tr>\n",
       "      <th>1</th>\n",
       "      <td>1998-07-06 22:00:06</td>\n",
       "      <td>45</td>\n",
       "      <td>1135</td>\n",
       "    </tr>\n",
       "    <tr>\n",
       "      <th>2</th>\n",
       "      <td>1998-07-06 22:00:12</td>\n",
       "      <td>81</td>\n",
       "      <td>1068</td>\n",
       "    </tr>\n",
       "    <tr>\n",
       "      <th>3</th>\n",
       "      <td>1998-07-06 22:00:18</td>\n",
       "      <td>117</td>\n",
       "      <td>1113</td>\n",
       "    </tr>\n",
       "    <tr>\n",
       "      <th>4</th>\n",
       "      <td>1998-07-06 22:00:24</td>\n",
       "      <td>153</td>\n",
       "      <td>1135</td>\n",
       "    </tr>\n",
       "    <tr>\n",
       "      <th>...</th>\n",
       "      <td>...</td>\n",
       "      <td>...</td>\n",
       "      <td>...</td>\n",
       "    </tr>\n",
       "    <tr>\n",
       "      <th>17588</th>\n",
       "      <td>1998-07-08 03:18:48</td>\n",
       "      <td>633177</td>\n",
       "      <td>1123</td>\n",
       "    </tr>\n",
       "    <tr>\n",
       "      <th>17589</th>\n",
       "      <td>1998-07-08 03:18:54</td>\n",
       "      <td>633213</td>\n",
       "      <td>1150</td>\n",
       "    </tr>\n",
       "    <tr>\n",
       "      <th>17590</th>\n",
       "      <td>1998-07-08 03:19:00</td>\n",
       "      <td>633249</td>\n",
       "      <td>1212</td>\n",
       "    </tr>\n",
       "    <tr>\n",
       "      <th>17591</th>\n",
       "      <td>1998-07-08 03:19:06</td>\n",
       "      <td>633285</td>\n",
       "      <td>1240</td>\n",
       "    </tr>\n",
       "    <tr>\n",
       "      <th>17592</th>\n",
       "      <td>1998-07-08 03:19:12</td>\n",
       "      <td>527765</td>\n",
       "      <td>962</td>\n",
       "    </tr>\n",
       "  </tbody>\n",
       "</table>\n",
       "<p>17593 rows × 3 columns</p>\n",
       "</div>"
      ],
      "text/plain": [
       "                     date   index  count\n",
       "0     1998-07-06 22:00:00      10    611\n",
       "1     1998-07-06 22:00:06      45   1135\n",
       "2     1998-07-06 22:00:12      81   1068\n",
       "3     1998-07-06 22:00:18     117   1113\n",
       "4     1998-07-06 22:00:24     153   1135\n",
       "...                   ...     ...    ...\n",
       "17588 1998-07-08 03:18:48  633177   1123\n",
       "17589 1998-07-08 03:18:54  633213   1150\n",
       "17590 1998-07-08 03:19:00  633249   1212\n",
       "17591 1998-07-08 03:19:06  633285   1240\n",
       "17592 1998-07-08 03:19:12  527765    962\n",
       "\n",
       "[17593 rows x 3 columns]"
      ]
     },
     "execution_count": 3,
     "metadata": {},
     "output_type": "execute_result"
    }
   ],
   "source": [
    "df_6S = df_S.groupby(pd.Grouper(key=\"date\", freq=\"6S\")).sum().reset_index()\n",
    "df_6S"
   ]
  },
  {
   "cell_type": "code",
   "execution_count": 4,
   "metadata": {},
   "outputs": [
    {
     "data": {
      "text/plain": [
       "[<matplotlib.lines.Line2D at 0x143771520>]"
      ]
     },
     "execution_count": 4,
     "metadata": {},
     "output_type": "execute_result"
    },
    {
     "data": {
      "image/png": "[encoded data removed]",
      "text/plain": [
       "<Figure size 432x288 with 1 Axes>"
      ]
     },
     "metadata": {
      "needs_background": "light"
     },
     "output_type": "display_data"
    }
   ],
   "source": [
    "df_6S_date = (pd.to_datetime(df_6S[\"date\"]).astype(int) / 10**9).array.reshape(-1, 1)\n",
    "df_6S_count = df_6S[\"count\"].array.reshape(-1, 1)\n",
    "plt.plot(df_6S_date, df_6S_count)"
   ]
  },
  {
   "cell_type": "code",
   "execution_count": 5,
   "metadata": {},
   "outputs": [
    {
     "data": {
      "text/plain": [
       "[<matplotlib.lines.Line2D at 0x1438c0070>]"
      ]
     },
     "execution_count": 5,
     "metadata": {},
     "output_type": "execute_result"
    },
    {
     "data": {
      "image/png": "[encoded data removed]",
      "text/plain": [
       "<Figure size 432x288 with 1 Axes>"
      ]
     },
     "metadata": {
      "needs_background": "light"
     },
     "output_type": "display_data"
    }
   ],
   "source": [
    "df_6S_date = (pd.to_datetime(df_6S[\"date\"]).astype(int) / 10**9).array.reshape(-1, 1)\n",
    "df_6S_rolling_count = df_6S[\"count\"].rolling(60).mean().array.reshape(-1, 1)\n",
    "plt.plot(df_6S_date, df_6S_rolling_count)"
   ]
  },
  {
   "cell_type": "code",
   "execution_count": 7,
   "metadata": {},
   "outputs": [],
   "source": [
    "### Range distance for RangeEn_B and RangeEn_A\n",
    "def dist_range(x, y):\n",
    "  return (np.max(np.abs(x - y), axis=1) - np.min(np.abs(x - y), axis=1)) / (np.max(np.abs(x - y), axis=1) + np.min(np.abs(x - y), axis=1))\n",
    "\n",
    "### RangeEn-A (mApEn)\n",
    "def RangeEn_A(x, emb_dim=2, tolerance=.2, dist=dist_range):\n",
    "\n",
    "    n = np.shape(x)\n",
    "    n = np.max(n)\n",
    "\n",
    "    tVecs = np.zeros((n - emb_dim, emb_dim + 1))\n",
    "    for i in range(tVecs.shape[0]):\n",
    "        tVecs[i, :] = x[i:i + tVecs.shape[1]]\n",
    "    counts = []\n",
    "    for m in [emb_dim, emb_dim + 1]:\n",
    "        # get the matrix that we need for the current m\n",
    "        tVecsM = tVecs[:n - m + 1, :m]\n",
    "        # successively calculate distances between each pair of template vectors\n",
    "        C = []\n",
    "        for i in range(len(tVecsM)):\n",
    "            dsts = dist(tVecsM, tVecsM[i])\n",
    "            # delete undefined distances coming from zero segments\n",
    "            # dsts = [x for i, x in enumerate(dsts) if not np.isnan(x) and not np.isinf(x)]\n",
    "            # count how many 'defined' distances are smaller than the tolerance\n",
    "            # if(dsts):\n",
    "            C.append((np.sum(dsts < tolerance)) / (n - m))\n",
    "        # compute sum of log probabilities\n",
    "        counts.append((np.sum(np.log(C))) / (n - m))\n",
    "\n",
    "    RangeEn_A = counts[0] - counts[1]\n",
    "\n",
    "    return RangeEn_A\n",
    "\n",
    "##### RangeEn-B (mSampEn)\n",
    "def RangeEn_B(x, emb_dim=2, tolerance=.2, dist=dist_range):\n",
    "\n",
    "    n = np.shape(x)\n",
    "    n = np.max(n)\n",
    "\n",
    "    tVecs = np.zeros((n - emb_dim, emb_dim + 1))\n",
    "    for i in range(tVecs.shape[0]):\n",
    "        tVecs[i, :] = x[i:i + tVecs.shape[1]]\n",
    "    counts = []\n",
    "    for m in [emb_dim, emb_dim + 1]:\n",
    "        counts.append(0)\n",
    "        # get the matrix that we need for the current m\n",
    "        tVecsM = tVecs[:n - m + 1, :m]\n",
    "        # successively calculate distances between each pair of template vectors\n",
    "        for i in range(len(tVecsM)):\n",
    "            dsts = dist(tVecsM, tVecsM[i])\n",
    "            # delete self-matching\n",
    "            dsts = np.delete(dsts, i, axis=0)\n",
    "            # delete undefined distances coming from zero segments\n",
    "            # dsts = [x for i, x in enumerate(dsts) if not np.isnan(x) and not np.isinf(x)]\n",
    "            # count how many 'defined' distances are smaller than the tolerance\n",
    "            # if (dsts):\n",
    "            counts[-1] += np.sum(dsts < tolerance)/(n - m - 1)\n",
    "\n",
    "    if counts[1] == 0:\n",
    "        # log would be infinite => cannot determine RangeEn_B\n",
    "        RangeEn_B = np.nan\n",
    "    else:\n",
    "        # compute log of summed probabilities\n",
    "        RangeEn_B = -np.log(1.0 * counts[1] / counts[0])\n",
    "\n",
    "    return RangeEn_B"
   ]
  },
  {
   "cell_type": "code",
   "execution_count": 8,
   "metadata": {},
   "outputs": [],
   "source": [
    "def rangenb_loop(ser: List[float], batch_size = 300) -> List[float]:\n",
    "    return [RangeEn_B(np.array(ser[index-batch_size:index])) for index in range(len(ser))[batch_size:]]"
   ]
  },
  {
   "cell_type": "code",
   "execution_count": 15,
   "metadata": {},
   "outputs": [],
   "source": [
    "def df_to_list(df: pd.DataFrame)-> np.ndarray:\n",
    "    return np.array(list(itertools.chain.from_iterable(df.to_numpy())))"
   ]
  },
  {
   "cell_type": "code",
   "execution_count": 27,
   "metadata": {},
   "outputs": [
    {
     "data": {
      "text/plain": [
       "[<matplotlib.lines.Line2D at 0x14496fe20>]"
      ]
     },
     "execution_count": 27,
     "metadata": {},
     "output_type": "execute_result"
    },
    {
     "data": {
      "image/png": "[encoded data removed]",
      "text/plain": [
       "<Figure size 432x288 with 1 Axes>"
      ]
     },
     "metadata": {
      "needs_background": "light"
     },
     "output_type": "display_data"
    }
   ],
   "source": [
    "plt.plot(df_6S_count[10000:])"
   ]
  },
  {
   "cell_type": "code",
   "execution_count": 28,
   "metadata": {},
   "outputs": [
    {
     "name": "stderr",
     "output_type": "stream",
     "text": [
      "/var/folders/qt/nt_r7qy14vj848kplz4kvgxmz_q9b0/T/ipykernel_85127/832245642.py:3: RuntimeWarning: invalid value encountered in true_divide\n",
      "  return (np.max(np.abs(x - y), axis=1) - np.min(np.abs(x - y), axis=1)) / (np.max(np.abs(x - y), axis=1) + np.min(np.abs(x - y), axis=1))\n"
     ]
    }
   ],
   "source": [
    "rangenb = rangenb_loop(df_to_list(df_6S_count[10000:]))"
   ]
  },
  {
   "cell_type": "code",
   "execution_count": 26,
   "metadata": {},
   "outputs": [
    {
     "data": {
      "text/plain": [
       "[<matplotlib.lines.Line2D at 0x1448f2310>]"
      ]
     },
     "execution_count": 26,
     "metadata": {},
     "output_type": "execute_result"
    },
    {
     "data": {
      "image/png": "[encoded data removed]",
      "text/plain": [
       "<Figure size 1152x288 with 2 Axes>"
      ]
     },
     "metadata": {
      "needs_background": "light"
     },
     "output_type": "display_data"
    }
   ],
   "source": [
    "fig, axes = plt.subplots(1, 2, figsize=(16, 4))\n",
    "\n",
    "axes[0].plot(rangenb)\n",
    "axes[1].plot(df_6S_count[10300:])"
   ]
  },
  {
   "cell_type": "code",
   "execution_count": null,
   "metadata": {},
   "outputs": [],
   "source": []
  }
 ],
 "metadata": {
  "interpreter": {
   "hash": "ed3e3cd7eaae78a028302f8c60b23327bead7311331f61381685cdcdea648c8d"
  },
  "kernelspec": {
   "display_name": "Python 3.9.1 ('.venv': poetry)",
   "language": "python",
   "name": "python3"
  },
  "language_info": {
   "codemirror_mode": {
    "name": "ipython",
    "version": 3
   },
   "file_extension": ".py",
   "mimetype": "text/x-python",
   "name": "python",
   "nbconvert_exporter": "python",
   "pygments_lexer": "ipython3",
   "version": "3.9.1"
  },
  "orig_nbformat": 4
 },
 "nbformat": 4,
 "nbformat_minor": 2
}
