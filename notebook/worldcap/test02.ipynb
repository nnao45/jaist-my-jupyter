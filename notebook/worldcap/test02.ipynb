{
 "cells": [
  {
   "cell_type": "code",
   "execution_count": 1,
   "metadata": {},
   "outputs": [],
   "source": [
    "%matplotlib inline\n",
    "import numpy as np\n",
    "import pandas as pd\n",
    "from sklearn.linear_model import Ridge, Lasso, ElasticNet\n",
    "from sklearn.metrics import mean_squared_error,r2_score\n",
    "from sklearn.model_selection import train_test_split, cross_val_score\n",
    "from sklearn import model_selection\n",
    "import matplotlib.pyplot as plt\n",
    "from sklearn.linear_model import LinearRegression, RidgeCV, LassoCV,ElasticNetCV\n",
    "from pyentrp import entropy as pyent\n",
    "import EntropyHub as EH\n",
    "import neurokit2 as nk\n",
    "import random\n",
    "import sampen\n",
    "import requests\n",
    "import io\n",
    "import apache_log_parser\n",
    "from pprint import pprint\n",
    "import os\n",
    "from sklearn import preprocessing\n"
   ]
  },
  {
   "cell_type": "code",
   "execution_count": 39,
   "metadata": {},
   "outputs": [
    {
     "ename": "UnicodeDecodeError",
     "evalue": "'utf-8' codec can't decode byte 0xa1 in position 7244: invalid start byte",
     "output_type": "error",
     "traceback": [
      "\u001b[0;31m---------------------------------------------------------------------------\u001b[0m",
      "\u001b[0;31mUnicodeDecodeError\u001b[0m                        Traceback (most recent call last)",
      "\u001b[1;32m/Users/s02435/ghq/github.com/nnao45/jaist-my-jupyter/notebook/worldcap/test01.ipynb Cell 2'\u001b[0m in \u001b[0;36m<cell line: 11>\u001b[0;34m()\u001b[0m\n\u001b[1;32m      <a href='vscode-notebook-cell:/Users/s02435/ghq/github.com/nnao45/jaist-my-jupyter/notebook/worldcap/test01.ipynb#ch0000001?line=2'>3</a>\u001b[0m \u001b[39m# with (open(f\"{os.getcwd()}/wc_day73_1.log\", mode='r') as f1,\u001b[39;00m\n\u001b[1;32m      <a href='vscode-notebook-cell:/Users/s02435/ghq/github.com/nnao45/jaist-my-jupyter/notebook/worldcap/test01.ipynb#ch0000001?line=3'>4</a>\u001b[0m \u001b[39m#         open(f\"{os.getcwd()}/wc_day73_2.log\", mode='r') as f2,\u001b[39;00m\n\u001b[1;32m      <a href='vscode-notebook-cell:/Users/s02435/ghq/github.com/nnao45/jaist-my-jupyter/notebook/worldcap/test01.ipynb#ch0000001?line=4'>5</a>\u001b[0m \u001b[39m#         open(f\"{os.getcwd()}/wc_day73_3.log\", mode='r') as f3,\u001b[39;00m\n\u001b[0;32m   (...)\u001b[0m\n\u001b[1;32m      <a href='vscode-notebook-cell:/Users/s02435/ghq/github.com/nnao45/jaist-my-jupyter/notebook/worldcap/test01.ipynb#ch0000001?line=8'>9</a>\u001b[0m \u001b[39m#         open(f\"{os.getcwd()}/wc_day74_1.log\", mode='r') as f7):\u001b[39;00m\n\u001b[1;32m     <a href='vscode-notebook-cell:/Users/s02435/ghq/github.com/nnao45/jaist-my-jupyter/notebook/worldcap/test01.ipynb#ch0000001?line=9'>10</a>\u001b[0m \u001b[39m#     log_line_data = [line_parser(line) for line in f1.readlines() + f2.readlines() + f3.readlines() + f4.readlines() + f5.readlines() + f6.readlines() + f7.readlines()]\u001b[39;00m\n\u001b[1;32m     <a href='vscode-notebook-cell:/Users/s02435/ghq/github.com/nnao45/jaist-my-jupyter/notebook/worldcap/test01.ipynb#ch0000001?line=10'>11</a>\u001b[0m \u001b[39mwith\u001b[39;00m \u001b[39mopen\u001b[39m(\u001b[39mf\u001b[39m\u001b[39m\"\u001b[39m\u001b[39m{\u001b[39;00mos\u001b[39m.\u001b[39mgetcwd()\u001b[39m}\u001b[39;00m\u001b[39m/wc_day73_3.log\u001b[39m\u001b[39m\"\u001b[39m, mode\u001b[39m=\u001b[39m\u001b[39m'\u001b[39m\u001b[39mr\u001b[39m\u001b[39m'\u001b[39m) \u001b[39mas\u001b[39;00m f1:\n\u001b[0;32m---> <a href='vscode-notebook-cell:/Users/s02435/ghq/github.com/nnao45/jaist-my-jupyter/notebook/worldcap/test01.ipynb#ch0000001?line=11'>12</a>\u001b[0m     f1\u001b[39m.\u001b[39;49mreadlines()\n",
      "File \u001b[0;32m~/.pyenv/versions/3.9.1/lib/python3.9/codecs.py:322\u001b[0m, in \u001b[0;36mBufferedIncrementalDecoder.decode\u001b[0;34m(self, input, final)\u001b[0m\n\u001b[1;32m    <a href='file:///Users/s02435/.pyenv/versions/3.9.1/lib/python3.9/codecs.py?line=318'>319</a>\u001b[0m \u001b[39mdef\u001b[39;00m \u001b[39mdecode\u001b[39m(\u001b[39mself\u001b[39m, \u001b[39minput\u001b[39m, final\u001b[39m=\u001b[39m\u001b[39mFalse\u001b[39;00m):\n\u001b[1;32m    <a href='file:///Users/s02435/.pyenv/versions/3.9.1/lib/python3.9/codecs.py?line=319'>320</a>\u001b[0m     \u001b[39m# decode input (taking the buffer into account)\u001b[39;00m\n\u001b[1;32m    <a href='file:///Users/s02435/.pyenv/versions/3.9.1/lib/python3.9/codecs.py?line=320'>321</a>\u001b[0m     data \u001b[39m=\u001b[39m \u001b[39mself\u001b[39m\u001b[39m.\u001b[39mbuffer \u001b[39m+\u001b[39m \u001b[39minput\u001b[39m\n\u001b[0;32m--> <a href='file:///Users/s02435/.pyenv/versions/3.9.1/lib/python3.9/codecs.py?line=321'>322</a>\u001b[0m     (result, consumed) \u001b[39m=\u001b[39m \u001b[39mself\u001b[39;49m\u001b[39m.\u001b[39;49m_buffer_decode(data, \u001b[39mself\u001b[39;49m\u001b[39m.\u001b[39;49merrors, final)\n\u001b[1;32m    <a href='file:///Users/s02435/.pyenv/versions/3.9.1/lib/python3.9/codecs.py?line=322'>323</a>\u001b[0m     \u001b[39m# keep undecoded input until the next call\u001b[39;00m\n\u001b[1;32m    <a href='file:///Users/s02435/.pyenv/versions/3.9.1/lib/python3.9/codecs.py?line=323'>324</a>\u001b[0m     \u001b[39mself\u001b[39m\u001b[39m.\u001b[39mbuffer \u001b[39m=\u001b[39m data[consumed:]\n",
      "\u001b[0;31mUnicodeDecodeError\u001b[0m: 'utf-8' codec can't decode byte 0xa1 in position 7244: invalid start byte"
     ]
    }
   ],
   "source": [
    "log_line_data = None\n",
    "line_parser = apache_log_parser.make_parser(\"%h %l %u %t \\\"%r\\\" %>s %b\")\n",
    "# with (open(f\"{os.getcwd()}/wc_day73_1.log\", mode='r') as f1,\n",
    "#         open(f\"{os.getcwd()}/wc_day73_2.log\", mode='r') as f2,\n",
    "#         open(f\"{os.getcwd()}/wc_day73_3.log\", mode='r') as f3,\n",
    "#         open(f\"{os.getcwd()}/wc_day73_4.log\", mode='r') as f4,\n",
    "#         open(f\"{os.getcwd()}/wc_day73_5.log\", mode='r') as f5,\n",
    "#         open(f\"{os.getcwd()}/wc_day73_6.log\", mode='r') as f6,\n",
    "#         open(f\"{os.getcwd()}/wc_day74_1.log\", mode='r') as f7):\n",
    "#     log_line_data = [line_parser(line) for line in f1.readlines() + f2.readlines() + f3.readlines() + f4.readlines() + f5.readlines() + f6.readlines() + f7.readlines()]\n",
    "with open(f\"{os.getcwd()}/wc_day73_3.log\", mode='r') as f1:\n",
    "    f1.readlines()"
   ]
  },
  {
   "cell_type": "code",
   "execution_count": 26,
   "metadata": {},
   "outputs": [
    {
     "data": {
      "text/html": [
       "<div>\n",
       "<style scoped>\n",
       "    .dataframe tbody tr th:only-of-type {\n",
       "        vertical-align: middle;\n",
       "    }\n",
       "\n",
       "    .dataframe tbody tr th {\n",
       "        vertical-align: top;\n",
       "    }\n",
       "\n",
       "    .dataframe thead th {\n",
       "        text-align: right;\n",
       "    }\n",
       "</style>\n",
       "<table border=\"1\" class=\"dataframe\">\n",
       "  <thead>\n",
       "    <tr style=\"text-align: right;\">\n",
       "      <th></th>\n",
       "      <th>date</th>\n",
       "      <th>count</th>\n",
       "    </tr>\n",
       "  </thead>\n",
       "  <tbody>\n",
       "    <tr>\n",
       "      <th>0</th>\n",
       "      <td>1998-07-07 21:30:09</td>\n",
       "      <td>1</td>\n",
       "    </tr>\n",
       "    <tr>\n",
       "      <th>1</th>\n",
       "      <td>1998-07-07 21:30:09</td>\n",
       "      <td>1</td>\n",
       "    </tr>\n",
       "    <tr>\n",
       "      <th>2</th>\n",
       "      <td>1998-07-07 21:30:09</td>\n",
       "      <td>1</td>\n",
       "    </tr>\n",
       "    <tr>\n",
       "      <th>3</th>\n",
       "      <td>1998-07-07 21:30:09</td>\n",
       "      <td>1</td>\n",
       "    </tr>\n",
       "    <tr>\n",
       "      <th>4</th>\n",
       "      <td>1998-07-07 21:30:09</td>\n",
       "      <td>1</td>\n",
       "    </tr>\n",
       "    <tr>\n",
       "      <th>...</th>\n",
       "      <td>...</td>\n",
       "      <td>...</td>\n",
       "    </tr>\n",
       "    <tr>\n",
       "      <th>4874282</th>\n",
       "      <td>1998-07-07 22:00:00</td>\n",
       "      <td>1</td>\n",
       "    </tr>\n",
       "    <tr>\n",
       "      <th>4874283</th>\n",
       "      <td>1998-07-07 22:00:00</td>\n",
       "      <td>1</td>\n",
       "    </tr>\n",
       "    <tr>\n",
       "      <th>4874284</th>\n",
       "      <td>1998-07-07 22:00:00</td>\n",
       "      <td>1</td>\n",
       "    </tr>\n",
       "    <tr>\n",
       "      <th>4874285</th>\n",
       "      <td>1998-07-07 22:00:00</td>\n",
       "      <td>1</td>\n",
       "    </tr>\n",
       "    <tr>\n",
       "      <th>4874286</th>\n",
       "      <td>1998-07-07 22:00:00</td>\n",
       "      <td>1</td>\n",
       "    </tr>\n",
       "  </tbody>\n",
       "</table>\n",
       "<p>4874287 rows × 2 columns</p>\n",
       "</div>"
      ],
      "text/plain": [
       "                       date  count\n",
       "0       1998-07-07 21:30:09      1\n",
       "1       1998-07-07 21:30:09      1\n",
       "2       1998-07-07 21:30:09      1\n",
       "3       1998-07-07 21:30:09      1\n",
       "4       1998-07-07 21:30:09      1\n",
       "...                     ...    ...\n",
       "4874282 1998-07-07 22:00:00      1\n",
       "4874283 1998-07-07 22:00:00      1\n",
       "4874284 1998-07-07 22:00:00      1\n",
       "4874285 1998-07-07 22:00:00      1\n",
       "4874286 1998-07-07 22:00:00      1\n",
       "\n",
       "[4874287 rows x 2 columns]"
      ]
     },
     "execution_count": 26,
     "metadata": {},
     "output_type": "execute_result"
    }
   ],
   "source": [
    "df_log_line_data = pd.DataFrame([{\"date\": df_line[\"time_received_datetimeobj\"], \"count\": 1} for df_line in log_line_data])\n",
    "df_log_line_data"
   ]
  },
  {
   "cell_type": "code",
   "execution_count": 27,
   "metadata": {},
   "outputs": [
    {
     "data": {
      "text/html": [
       "<div>\n",
       "<style scoped>\n",
       "    .dataframe tbody tr th:only-of-type {\n",
       "        vertical-align: middle;\n",
       "    }\n",
       "\n",
       "    .dataframe tbody tr th {\n",
       "        vertical-align: top;\n",
       "    }\n",
       "\n",
       "    .dataframe thead th {\n",
       "        text-align: right;\n",
       "    }\n",
       "</style>\n",
       "<table border=\"1\" class=\"dataframe\">\n",
       "  <thead>\n",
       "    <tr style=\"text-align: right;\">\n",
       "      <th></th>\n",
       "      <th>date</th>\n",
       "      <th>count</th>\n",
       "    </tr>\n",
       "  </thead>\n",
       "  <tbody>\n",
       "    <tr>\n",
       "      <th>0</th>\n",
       "      <td>1998-07-07 21:30:09</td>\n",
       "      <td>178</td>\n",
       "    </tr>\n",
       "    <tr>\n",
       "      <th>1</th>\n",
       "      <td>1998-07-07 21:30:10</td>\n",
       "      <td>2870</td>\n",
       "    </tr>\n",
       "    <tr>\n",
       "      <th>2</th>\n",
       "      <td>1998-07-07 21:30:11</td>\n",
       "      <td>2944</td>\n",
       "    </tr>\n",
       "    <tr>\n",
       "      <th>3</th>\n",
       "      <td>1998-07-07 21:30:12</td>\n",
       "      <td>3052</td>\n",
       "    </tr>\n",
       "    <tr>\n",
       "      <th>4</th>\n",
       "      <td>1998-07-07 21:30:13</td>\n",
       "      <td>2998</td>\n",
       "    </tr>\n",
       "    <tr>\n",
       "      <th>...</th>\n",
       "      <td>...</td>\n",
       "      <td>...</td>\n",
       "    </tr>\n",
       "    <tr>\n",
       "      <th>1787</th>\n",
       "      <td>1998-07-07 21:59:56</td>\n",
       "      <td>194</td>\n",
       "    </tr>\n",
       "    <tr>\n",
       "      <th>1788</th>\n",
       "      <td>1998-07-07 21:59:57</td>\n",
       "      <td>85</td>\n",
       "    </tr>\n",
       "    <tr>\n",
       "      <th>1789</th>\n",
       "      <td>1998-07-07 21:59:58</td>\n",
       "      <td>88</td>\n",
       "    </tr>\n",
       "    <tr>\n",
       "      <th>1790</th>\n",
       "      <td>1998-07-07 21:59:59</td>\n",
       "      <td>87</td>\n",
       "    </tr>\n",
       "    <tr>\n",
       "      <th>1791</th>\n",
       "      <td>1998-07-07 22:00:00</td>\n",
       "      <td>122</td>\n",
       "    </tr>\n",
       "  </tbody>\n",
       "</table>\n",
       "<p>1792 rows × 2 columns</p>\n",
       "</div>"
      ],
      "text/plain": [
       "                    date  count\n",
       "0    1998-07-07 21:30:09    178\n",
       "1    1998-07-07 21:30:10   2870\n",
       "2    1998-07-07 21:30:11   2944\n",
       "3    1998-07-07 21:30:12   3052\n",
       "4    1998-07-07 21:30:13   2998\n",
       "...                  ...    ...\n",
       "1787 1998-07-07 21:59:56    194\n",
       "1788 1998-07-07 21:59:57     85\n",
       "1789 1998-07-07 21:59:58     88\n",
       "1790 1998-07-07 21:59:59     87\n",
       "1791 1998-07-07 22:00:00    122\n",
       "\n",
       "[1792 rows x 2 columns]"
      ]
     },
     "execution_count": 27,
     "metadata": {},
     "output_type": "execute_result"
    }
   ],
   "source": [
    "df_S = df_log_line_data.groupby(pd.Grouper(key=\"date\", freq=\"S\")).sum().reset_index()\n",
    "df_S"
   ]
  },
  {
   "cell_type": "code",
   "execution_count": 30,
   "metadata": {},
   "outputs": [],
   "source": [
    "df_S.to_csv(f\"{os.getcwd()}/wc_day73.csv\")"
   ]
  },
  {
   "cell_type": "code",
   "execution_count": 28,
   "metadata": {},
   "outputs": [],
   "source": [
    "df_S_date = df_S[\"date\"].array.reshape(-1, 1)\n",
    "df_S_count = df_S[\"count\"].array.reshape(-1, 1)"
   ]
  },
  {
   "cell_type": "code",
   "execution_count": 29,
   "metadata": {},
   "outputs": [
    {
     "data": {
      "text/plain": [
       "[<matplotlib.lines.Line2D at 0x168c66910>]"
      ]
     },
     "execution_count": 29,
     "metadata": {},
     "output_type": "execute_result"
    },
    {
     "data": {
      "image/png": "[encoded data removed]",
      "text/plain": [
       "<Figure size 432x288 with 1 Axes>"
      ]
     },
     "metadata": {
      "needs_background": "light"
     },
     "output_type": "display_data"
    }
   ],
   "source": [
    "plt.plot(df_S_date, df_S_count)"
   ]
  },
  {
   "cell_type": "code",
   "execution_count": null,
   "metadata": {},
   "outputs": [],
   "source": []
  }
 ],
 "metadata": {
  "interpreter": {
   "hash": "ed3e3cd7eaae78a028302f8c60b23327bead7311331f61381685cdcdea648c8d"
  },
  "kernelspec": {
   "display_name": "Python 3.9.1 ('.venv': poetry)",
   "language": "python",
   "name": "python3"
  },
  "language_info": {
   "codemirror_mode": {
    "name": "ipython",
    "version": 3
   },
   "file_extension": ".py",
   "mimetype": "text/x-python",
   "name": "python",
   "nbconvert_exporter": "python",
   "pygments_lexer": "ipython3",
   "version": "3.9.1"
  },
  "orig_nbformat": 4
 },
 "nbformat": 4,
 "nbformat_minor": 2
}
