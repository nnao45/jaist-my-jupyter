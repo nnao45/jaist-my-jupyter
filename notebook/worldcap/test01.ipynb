{
 "cells": [
  {
   "cell_type": "code",
   "execution_count": 2,
   "metadata": {
    "pycharm": {
     "name": "#%%\n"
    }
   },
   "outputs": [],
   "source": [
    "import dataclasses\n",
    "%matplotlib inline\n",
    "import numpy as np\n",
    "import pandas as pd\n",
    "from sklearn.linear_model import Ridge, Lasso, ElasticNet\n",
    "from sklearn.metrics import mean_squared_error,r2_score\n",
    "from sklearn.model_selection import train_test_split, cross_val_score\n",
    "from sklearn import model_selection\n",
    "import matplotlib.pyplot as plt\n",
    "from sklearn.linear_model import LinearRegression, RidgeCV, LassoCV,ElasticNetCV\n",
    "from pyentrp import entropy as pyent\n",
    "import EntropyHub as EH\n",
    "import neurokit2 as nk\n",
    "from datetime import datetime\n",
    "import random\n",
    "import sampen\n",
    "import requests\n",
    "import io\n",
    "import apache_log_parser\n",
    "from pprint import pprint\n",
    "import os\n",
    "from sklearn import preprocessing\n",
    "from progress.bar import Bar\n"
   ]
  },
  {
   "cell_type": "code",
   "execution_count": 3,
   "metadata": {
    "pycharm": {
     "name": "#%%\n"
    }
   },
   "outputs": [
    {
     "ename": "SyntaxError",
     "evalue": "invalid syntax (765102269.py, line 3)",
     "output_type": "error",
     "traceback": [
      "\u001B[0;36m  Input \u001B[0;32mIn [3]\u001B[0;36m\u001B[0m\n\u001B[0;31m    with   (open(f\"{os.getcwd()}/wc_day73_1.log\", mode='r') as f1,\u001B[0m\n\u001B[0m                                                            ^\u001B[0m\n\u001B[0;31mSyntaxError\u001B[0m\u001B[0;31m:\u001B[0m invalid syntax\n"
     ]
    }
   ],
   "source": [
    "log_line_data = None\n",
    "line_parser = apache_log_parser.make_parser(\"%h %l %u %t \\\"%r\\\" %>s %b\")\n",
    "with open(f\"{os.getcwd()}/wc_day73_1.log\", mode='r') as f1, open(f\"{os.getcwd()}/wc_day73_2.log\", mode='r') as f2, open(f\"{os.getcwd()}/wc_day73_3.log\", mode='r') as f3, open(f\"{os.getcwd()}/wc_day73_4.log\", mode='r') as f4, open(f\"{os.getcwd()}/wc_day73_5.log\", mode='r') as f5, open(f\"{os.getcwd()}/wc_day73_6.log\", mode='r') as f6, open(f\"{os.getcwd()}/wc_day74_1.log\", mode='r') as f7:\n",
    "    log_line_data = [line_parser(line) for line in f1.readlines() + f2.readlines() + f3.readlines() + f4.readlines() + f5.readlines() + f6.readlines() + f7.readlines()]\n"
   ]
  },
  {
   "cell_type": "code",
   "execution_count": 46,
   "metadata": {
    "pycharm": {
     "name": "#%%\n"
    }
   },
   "outputs": [],
   "source": [
    "df_log_line_data = pd.DataFrame([{\"date\": df_line[\"time_received_datetimeobj\"], \"count\": 1} for df_line in log_line_data])"
   ]
  },
  {
   "cell_type": "code",
   "execution_count": 47,
   "metadata": {
    "pycharm": {
     "name": "#%%\n"
    }
   },
   "outputs": [],
   "source": [
    "df_S = df_log_line_data.groupby(pd.Grouper(key=\"date\", freq=\"S\")).sum().reset_index()"
   ]
  },
  {
   "cell_type": "code",
   "execution_count": 48,
   "metadata": {
    "pycharm": {
     "name": "#%%\n"
    }
   },
   "outputs": [],
   "source": [
    "df_S.to_csv(f\"{os.getcwd()}/wc_day73.csv\")"
   ]
  },
  {
   "cell_type": "code",
   "execution_count": 7,
   "metadata": {
    "pycharm": {
     "name": "#%%\n"
    }
   },
   "outputs": [
    {
     "data": {
      "text/plain": [
       "datetime.datetime(1998, 6, 30, 22, 0, 3)"
      ]
     },
     "execution_count": 7,
     "metadata": {},
     "output_type": "execute_result"
    }
   ],
   "source": [
    "from dateutil import parser\n",
    "\n",
    "line = '35743 - - [30/Jun/1998:22:00:03 +0000] \"GET /js/factoid.js HTTP/1.0\" 200 12302'.replace(':', ' ', 1).replace('[', '', 1).replace(']', '', 1)\n",
    "timestamp = line.split()[3]+\" \"+line.split()[4] \n",
    "parser.parse(timestamp)"
   ]
  },
  {
   "cell_type": "code",
   "execution_count": 4,
   "metadata": {
    "pycharm": {
     "name": "#%%\n"
    }
   },
   "outputs": [],
   "source": [
    "def log2csv(prefix: str):\n",
    "    log_line_data = []\n",
    "    with open(f\"{os.getcwd()}/{prefix}.log\", mode='r', encoding=\"utf8\", errors='ignore') as f1:\n",
    "        log_line_data = np.array([line for line in f1.readlines()])\n",
    "    replaced = pd.DataFrame([{\"date\": datetime.strptime(line.split()[3]+\" \"+line.split()[4],  \"[%d/%b/%Y:%H:%M:%S +0000]\"), \"count\": 1} for line in log_line_data])\n",
    "    replaced.groupby(pd.Grouper(key=\"date\", freq=\"S\")).sum().reset_index().to_csv(f\"{prefix}.csv\")\n"
   ]
  },
  {
   "cell_type": "code",
   "execution_count": 43,
   "metadata": {
    "pycharm": {
     "name": "#%%\n"
    }
   },
   "outputs": [],
   "source": [
    "log2csv(\"wc_day67_3\")\n",
    "log2csv(\"wc_day67_4\")\n",
    "log2csv(\"wc_day67_5\")\n",
    "log2csv(\"wc_day68_1\")\n",
    "log2csv(\"wc_day68_2\")\n",
    "log2csv(\"wc_day68_3\")\n",
    "log2csv(\"wc_day69_1\")"
   ]
  },
  {
   "cell_type": "code",
   "execution_count": 20,
   "metadata": {
    "pycharm": {
     "name": "#%%\n"
    }
   },
   "outputs": [],
   "source": [
    "replaced2 = np.array([line.split()[3]+\" \"+line.split()[4] for line in replaced])"
   ]
  },
  {
   "cell_type": "code",
   "execution_count": 24,
   "metadata": {
    "pycharm": {
     "name": "#%%\n"
    }
   },
   "outputs": [
    {
     "data": {
      "text/plain": [
       "('01/Jul/1998 01:57:34', datetime.datetime(1998, 7, 1, 1, 57, 34))"
      ]
     },
     "execution_count": 24,
     "metadata": {},
     "output_type": "execute_result"
    }
   ],
   "source": [
    "from dateutil import parser\n",
    "\n",
    "\n",
    "replaced2[0], parser.parse(replaced2[0])"
   ]
  },
  {
   "cell_type": "code",
   "execution_count": 31,
   "metadata": {
    "pycharm": {
     "name": "#%%\n"
    }
   },
   "outputs": [
    {
     "data": {
      "text/plain": [
       "datetime.datetime(1998, 7, 1, 1, 57, 34)"
      ]
     },
     "execution_count": 31,
     "metadata": {},
     "output_type": "execute_result"
    }
   ],
   "source": [
    "datetime.strptime('01/Jul/1998 01:57:34', \"%d/%b/%Y %H:%M:%S\")                                       # => datetime.datetime(2018, 12, 7, 0, 0)"
   ]
  },
  {
   "cell_type": "code",
   "execution_count": 32,
   "metadata": {
    "pycharm": {
     "name": "#%%\n"
    }
   },
   "outputs": [],
   "source": [
    "replaced3 = np.array([datetime.strptime(line, \"%d/%b/%Y %H:%M:%S\") for line in replaced2])"
   ]
  },
  {
   "cell_type": "code",
   "execution_count": 33,
   "metadata": {
    "pycharm": {
     "name": "#%%\n"
    }
   },
   "outputs": [],
   "source": [
    "replaced4 = pd.DataFrame([{\"date\": line, \"count\": 1} for line in replaced3])"
   ]
  },
  {
   "cell_type": "code",
   "execution_count": null,
   "metadata": {
    "pycharm": {
     "name": "#%%\n"
    }
   },
   "outputs": [],
   "source": []
  },
  {
   "cell_type": "code",
   "execution_count": 7,
   "metadata": {
    "pycharm": {
     "name": "#%%\n"
    }
   },
   "outputs": [
    {
     "data": {
      "text/html": [
       "<div>\n",
       "<style scoped>\n",
       "    .dataframe tbody tr th:only-of-type {\n",
       "        vertical-align: middle;\n",
       "    }\n",
       "\n",
       "    .dataframe tbody tr th {\n",
       "        vertical-align: top;\n",
       "    }\n",
       "\n",
       "    .dataframe thead th {\n",
       "        text-align: right;\n",
       "    }\n",
       "</style>\n",
       "<table border=\"1\" class=\"dataframe\">\n",
       "  <thead>\n",
       "    <tr style=\"text-align: right;\">\n",
       "      <th></th>\n",
       "      <th>Unnamed: 0</th>\n",
       "      <th>date</th>\n",
       "      <th>count</th>\n",
       "    </tr>\n",
       "  </thead>\n",
       "  <tbody>\n",
       "    <tr>\n",
       "      <th>0</th>\n",
       "      <td>0</td>\n",
       "      <td>1998-06-30 22:00:01</td>\n",
       "      <td>496</td>\n",
       "    </tr>\n",
       "    <tr>\n",
       "      <th>1</th>\n",
       "      <td>1</td>\n",
       "      <td>1998-06-30 22:00:02</td>\n",
       "      <td>1110</td>\n",
       "    </tr>\n",
       "    <tr>\n",
       "      <th>2</th>\n",
       "      <td>2</td>\n",
       "      <td>1998-06-30 22:00:03</td>\n",
       "      <td>1302</td>\n",
       "    </tr>\n",
       "    <tr>\n",
       "      <th>3</th>\n",
       "      <td>3</td>\n",
       "      <td>1998-06-30 22:00:04</td>\n",
       "      <td>1461</td>\n",
       "    </tr>\n",
       "    <tr>\n",
       "      <th>4</th>\n",
       "      <td>4</td>\n",
       "      <td>1998-06-30 22:00:05</td>\n",
       "      <td>1813</td>\n",
       "    </tr>\n",
       "    <tr>\n",
       "      <th>...</th>\n",
       "      <td>...</td>\n",
       "      <td>...</td>\n",
       "      <td>...</td>\n",
       "    </tr>\n",
       "    <tr>\n",
       "      <th>14249</th>\n",
       "      <td>14249</td>\n",
       "      <td>1998-07-01 01:57:30</td>\n",
       "      <td>265</td>\n",
       "    </tr>\n",
       "    <tr>\n",
       "      <th>14250</th>\n",
       "      <td>14250</td>\n",
       "      <td>1998-07-01 01:57:31</td>\n",
       "      <td>294</td>\n",
       "    </tr>\n",
       "    <tr>\n",
       "      <th>14251</th>\n",
       "      <td>14251</td>\n",
       "      <td>1998-07-01 01:57:32</td>\n",
       "      <td>261</td>\n",
       "    </tr>\n",
       "    <tr>\n",
       "      <th>14252</th>\n",
       "      <td>14252</td>\n",
       "      <td>1998-07-01 01:57:33</td>\n",
       "      <td>299</td>\n",
       "    </tr>\n",
       "    <tr>\n",
       "      <th>14253</th>\n",
       "      <td>14253</td>\n",
       "      <td>1998-07-01 01:57:34</td>\n",
       "      <td>74</td>\n",
       "    </tr>\n",
       "  </tbody>\n",
       "</table>\n",
       "<p>14254 rows × 3 columns</p>\n",
       "</div>"
      ],
      "text/plain": [
       "       Unnamed: 0                 date  count\n",
       "0               0  1998-06-30 22:00:01    496\n",
       "1               1  1998-06-30 22:00:02   1110\n",
       "2               2  1998-06-30 22:00:03   1302\n",
       "3               3  1998-06-30 22:00:04   1461\n",
       "4               4  1998-06-30 22:00:05   1813\n",
       "...           ...                  ...    ...\n",
       "14249       14249  1998-07-01 01:57:30    265\n",
       "14250       14250  1998-07-01 01:57:31    294\n",
       "14251       14251  1998-07-01 01:57:32    261\n",
       "14252       14252  1998-07-01 01:57:33    299\n",
       "14253       14253  1998-07-01 01:57:34     74\n",
       "\n",
       "[14254 rows x 3 columns]"
      ]
     },
     "execution_count": 7,
     "metadata": {},
     "output_type": "execute_result"
    }
   ],
   "source": [
    "df_S_67_1 = pd.read_csv(\"wc_day67_1.csv\")\n",
    "df_S_67_1"
   ]
  },
  {
   "cell_type": "code",
   "execution_count": 6,
   "metadata": {
    "pycharm": {
     "name": "#%%\n"
    }
   },
   "outputs": [
    {
     "ename": "TypeError",
     "evalue": "Only valid with DatetimeIndex, TimedeltaIndex or PeriodIndex, but got an instance of 'Index'",
     "output_type": "error",
     "traceback": [
      "\u001B[0;31m---------------------------------------------------------------------------\u001B[0m",
      "\u001B[0;31mTypeError\u001B[0m                                 Traceback (most recent call last)",
      "\u001B[1;32m/Users/nnao45/.ghq/github.com/nnao45/jaist-my-jupyter/notebook/worldcap/test01.ipynb Cell 8'\u001B[0m in \u001B[0;36m<cell line: 1>\u001B[0;34m()\u001B[0m\n\u001B[0;32m----> <a href='vscode-notebook-cell:/Users/nnao45/.ghq/github.com/nnao45/jaist-my-jupyter/notebook/worldcap/test01.ipynb#ch0000009?line=0'>1</a>\u001B[0m df_min_67_1 \u001B[39m=\u001B[39m df_S_67_1\u001B[39m.\u001B[39;49mgroupby(pd\u001B[39m.\u001B[39;49mGrouper(key\u001B[39m=\u001B[39;49m\u001B[39m\"\u001B[39;49m\u001B[39mdate\u001B[39;49m\u001B[39m\"\u001B[39;49m, freq\u001B[39m=\u001B[39;49m\u001B[39m\"\u001B[39;49m\u001B[39mmin\u001B[39;49m\u001B[39m\"\u001B[39;49m))\u001B[39m.\u001B[39msum()\u001B[39m.\u001B[39mreset_index()\n",
      "File \u001B[0;32m~/.ghq/github.com/nnao45/jaist-my-jupyter/.venv/lib/python3.8/site-packages/pandas/core/frame.py:7712\u001B[0m, in \u001B[0;36mDataFrame.groupby\u001B[0;34m(self, by, axis, level, as_index, sort, group_keys, squeeze, observed, dropna)\u001B[0m\n\u001B[1;32m   7707\u001B[0m axis \u001B[39m=\u001B[39m \u001B[39mself\u001B[39m\u001B[39m.\u001B[39m_get_axis_number(axis)\n\u001B[1;32m   7709\u001B[0m \u001B[39m# https://github.com/python/mypy/issues/7642\u001B[39;00m\n\u001B[1;32m   7710\u001B[0m \u001B[39m# error: Argument \"squeeze\" to \"DataFrameGroupBy\" has incompatible type\u001B[39;00m\n\u001B[1;32m   7711\u001B[0m \u001B[39m# \"Union[bool, NoDefault]\"; expected \"bool\"\u001B[39;00m\n\u001B[0;32m-> 7712\u001B[0m \u001B[39mreturn\u001B[39;00m DataFrameGroupBy(\n\u001B[1;32m   7713\u001B[0m     obj\u001B[39m=\u001B[39;49m\u001B[39mself\u001B[39;49m,\n\u001B[1;32m   7714\u001B[0m     keys\u001B[39m=\u001B[39;49mby,\n\u001B[1;32m   7715\u001B[0m     axis\u001B[39m=\u001B[39;49maxis,\n\u001B[1;32m   7716\u001B[0m     level\u001B[39m=\u001B[39;49mlevel,\n\u001B[1;32m   7717\u001B[0m     as_index\u001B[39m=\u001B[39;49mas_index,\n\u001B[1;32m   7718\u001B[0m     sort\u001B[39m=\u001B[39;49msort,\n\u001B[1;32m   7719\u001B[0m     group_keys\u001B[39m=\u001B[39;49mgroup_keys,\n\u001B[1;32m   7720\u001B[0m     squeeze\u001B[39m=\u001B[39;49msqueeze,  \u001B[39m# type: ignore[arg-type]\u001B[39;49;00m\n\u001B[1;32m   7721\u001B[0m     observed\u001B[39m=\u001B[39;49mobserved,\n\u001B[1;32m   7722\u001B[0m     dropna\u001B[39m=\u001B[39;49mdropna,\n\u001B[1;32m   7723\u001B[0m )\n",
      "File \u001B[0;32m~/.ghq/github.com/nnao45/jaist-my-jupyter/.venv/lib/python3.8/site-packages/pandas/core/groupby/groupby.py:882\u001B[0m, in \u001B[0;36mGroupBy.__init__\u001B[0;34m(self, obj, keys, axis, level, grouper, exclusions, selection, as_index, sort, group_keys, squeeze, observed, mutated, dropna)\u001B[0m\n\u001B[1;32m    879\u001B[0m \u001B[39mif\u001B[39;00m grouper \u001B[39mis\u001B[39;00m \u001B[39mNone\u001B[39;00m:\n\u001B[1;32m    880\u001B[0m     \u001B[39mfrom\u001B[39;00m \u001B[39mpandas\u001B[39;00m\u001B[39m.\u001B[39;00m\u001B[39mcore\u001B[39;00m\u001B[39m.\u001B[39;00m\u001B[39mgroupby\u001B[39;00m\u001B[39m.\u001B[39;00m\u001B[39mgrouper\u001B[39;00m \u001B[39mimport\u001B[39;00m get_grouper\n\u001B[0;32m--> 882\u001B[0m     grouper, exclusions, obj \u001B[39m=\u001B[39m get_grouper(\n\u001B[1;32m    883\u001B[0m         obj,\n\u001B[1;32m    884\u001B[0m         keys,\n\u001B[1;32m    885\u001B[0m         axis\u001B[39m=\u001B[39;49maxis,\n\u001B[1;32m    886\u001B[0m         level\u001B[39m=\u001B[39;49mlevel,\n\u001B[1;32m    887\u001B[0m         sort\u001B[39m=\u001B[39;49msort,\n\u001B[1;32m    888\u001B[0m         observed\u001B[39m=\u001B[39;49mobserved,\n\u001B[1;32m    889\u001B[0m         mutated\u001B[39m=\u001B[39;49m\u001B[39mself\u001B[39;49m\u001B[39m.\u001B[39;49mmutated,\n\u001B[1;32m    890\u001B[0m         dropna\u001B[39m=\u001B[39;49m\u001B[39mself\u001B[39;49m\u001B[39m.\u001B[39;49mdropna,\n\u001B[1;32m    891\u001B[0m     )\n\u001B[1;32m    893\u001B[0m \u001B[39mself\u001B[39m\u001B[39m.\u001B[39mobj \u001B[39m=\u001B[39m obj\n\u001B[1;32m    894\u001B[0m \u001B[39mself\u001B[39m\u001B[39m.\u001B[39maxis \u001B[39m=\u001B[39m obj\u001B[39m.\u001B[39m_get_axis_number(axis)\n",
      "File \u001B[0;32m~/.ghq/github.com/nnao45/jaist-my-jupyter/.venv/lib/python3.8/site-packages/pandas/core/groupby/grouper.py:784\u001B[0m, in \u001B[0;36mget_grouper\u001B[0;34m(obj, key, axis, level, sort, observed, mutated, validate, dropna)\u001B[0m\n\u001B[1;32m    782\u001B[0m \u001B[39m# a passed-in Grouper, directly convert\u001B[39;00m\n\u001B[1;32m    783\u001B[0m \u001B[39mif\u001B[39;00m \u001B[39misinstance\u001B[39m(key, Grouper):\n\u001B[0;32m--> 784\u001B[0m     binner, grouper, obj \u001B[39m=\u001B[39m key\u001B[39m.\u001B[39;49m_get_grouper(obj, validate\u001B[39m=\u001B[39;49m\u001B[39mFalse\u001B[39;49;00m)\n\u001B[1;32m    785\u001B[0m     \u001B[39mif\u001B[39;00m key\u001B[39m.\u001B[39mkey \u001B[39mis\u001B[39;00m \u001B[39mNone\u001B[39;00m:\n\u001B[1;32m    786\u001B[0m         \u001B[39mreturn\u001B[39;00m grouper, \u001B[39mfrozenset\u001B[39m(), obj\n",
      "File \u001B[0;32m~/.ghq/github.com/nnao45/jaist-my-jupyter/.venv/lib/python3.8/site-packages/pandas/core/resample.py:1607\u001B[0m, in \u001B[0;36mTimeGrouper._get_grouper\u001B[0;34m(self, obj, validate)\u001B[0m\n\u001B[1;32m   1605\u001B[0m \u001B[39mdef\u001B[39;00m \u001B[39m_get_grouper\u001B[39m(\u001B[39mself\u001B[39m, obj, validate: \u001B[39mbool\u001B[39m \u001B[39m=\u001B[39m \u001B[39mTrue\u001B[39;00m):\n\u001B[1;32m   1606\u001B[0m     \u001B[39m# create the resampler and return our binner\u001B[39;00m\n\u001B[0;32m-> 1607\u001B[0m     r \u001B[39m=\u001B[39m \u001B[39mself\u001B[39;49m\u001B[39m.\u001B[39;49m_get_resampler(obj)\n\u001B[1;32m   1608\u001B[0m     \u001B[39mreturn\u001B[39;00m r\u001B[39m.\u001B[39mbinner, r\u001B[39m.\u001B[39mgrouper, r\u001B[39m.\u001B[39mobj\n",
      "File \u001B[0;32m~/.ghq/github.com/nnao45/jaist-my-jupyter/.venv/lib/python3.8/site-packages/pandas/core/resample.py:1599\u001B[0m, in \u001B[0;36mTimeGrouper._get_resampler\u001B[0;34m(self, obj, kind)\u001B[0m\n\u001B[1;32m   1596\u001B[0m \u001B[39melif\u001B[39;00m \u001B[39misinstance\u001B[39m(ax, TimedeltaIndex):\n\u001B[1;32m   1597\u001B[0m     \u001B[39mreturn\u001B[39;00m TimedeltaIndexResampler(obj, groupby\u001B[39m=\u001B[39m\u001B[39mself\u001B[39m, axis\u001B[39m=\u001B[39m\u001B[39mself\u001B[39m\u001B[39m.\u001B[39maxis)\n\u001B[0;32m-> 1599\u001B[0m \u001B[39mraise\u001B[39;00m \u001B[39mTypeError\u001B[39;00m(\n\u001B[1;32m   1600\u001B[0m     \u001B[39m\"\u001B[39m\u001B[39mOnly valid with DatetimeIndex, \u001B[39m\u001B[39m\"\u001B[39m\n\u001B[1;32m   1601\u001B[0m     \u001B[39m\"\u001B[39m\u001B[39mTimedeltaIndex or PeriodIndex, \u001B[39m\u001B[39m\"\u001B[39m\n\u001B[1;32m   1602\u001B[0m     \u001B[39mf\u001B[39m\u001B[39m\"\u001B[39m\u001B[39mbut got an instance of \u001B[39m\u001B[39m'\u001B[39m\u001B[39m{\u001B[39;00m\u001B[39mtype\u001B[39m(ax)\u001B[39m.\u001B[39m\u001B[39m__name__\u001B[39m\u001B[39m}\u001B[39;00m\u001B[39m'\u001B[39m\u001B[39m\"\u001B[39m\n\u001B[1;32m   1603\u001B[0m )\n",
      "\u001B[0;31mTypeError\u001B[0m: Only valid with DatetimeIndex, TimedeltaIndex or PeriodIndex, but got an instance of 'Index'"
     ]
    }
   ],
   "source": [
    "df_min_67_1 = df_S_67_1.groupby(pd.Grouper(key=\"date\", freq=\"min\")).sum().reset_index()"
   ]
  },
  {
   "cell_type": "code",
   "execution_count": 4,
   "metadata": {
    "pycharm": {
     "name": "#%%\n"
    }
   },
   "outputs": [
    {
     "data": {
      "text/plain": [
       "[<matplotlib.lines.Line2D at 0x11aed3dc0>]"
      ]
     },
     "execution_count": 4,
     "metadata": {},
     "output_type": "execute_result"
    },
    {
     "name": "stdout",
     "output_type": "stream",
     "text": [
      "Error in callback <function flush_figures at 0x10e0d4f70> (for post_execute):\n"
     ]
    },
    {
     "ename": "KeyboardInterrupt",
     "evalue": "",
     "output_type": "error",
     "traceback": [
      "\u001B[0;31m---------------------------------------------------------------------------\u001B[0m",
      "\u001B[0;31mAttributeError\u001B[0m                            Traceback (most recent call last)",
      "File \u001B[0;32m~/.ghq/github.com/nnao45/jaist-my-jupyter/.venv/lib/python3.8/site-packages/numpy/core/fromnumeric.py:40\u001B[0m, in \u001B[0;36m_wrapit\u001B[0;34m(obj, method, *args, **kwds)\u001B[0m\n\u001B[1;32m     39\u001B[0m \u001B[39mtry\u001B[39;00m:\n\u001B[0;32m---> 40\u001B[0m     wrap \u001B[39m=\u001B[39m obj\u001B[39m.\u001B[39;49m__array_wrap__\n\u001B[1;32m     41\u001B[0m \u001B[39mexcept\u001B[39;00m \u001B[39mAttributeError\u001B[39;00m:\n",
      "\u001B[0;31mAttributeError\u001B[0m: 'tuple' object has no attribute '__array_wrap__'",
      "\nDuring handling of the above exception, another exception occurred:\n",
      "\u001B[0;31mKeyboardInterrupt\u001B[0m                         Traceback (most recent call last)",
      "File \u001B[0;32m~/.ghq/github.com/nnao45/jaist-my-jupyter/.venv/lib/python3.8/site-packages/matplotlib_inline/backend_inline.py:121\u001B[0m, in \u001B[0;36mflush_figures\u001B[0;34m()\u001B[0m\n\u001B[1;32m    118\u001B[0m \u001B[39mif\u001B[39;00m InlineBackend\u001B[39m.\u001B[39minstance()\u001B[39m.\u001B[39mclose_figures:\n\u001B[1;32m    119\u001B[0m     \u001B[39m# ignore the tracking, just draw and close all figures\u001B[39;00m\n\u001B[1;32m    120\u001B[0m     \u001B[39mtry\u001B[39;00m:\n\u001B[0;32m--> 121\u001B[0m         \u001B[39mreturn\u001B[39;00m show(\u001B[39mTrue\u001B[39;49;00m)\n\u001B[1;32m    122\u001B[0m     \u001B[39mexcept\u001B[39;00m \u001B[39mException\u001B[39;00m \u001B[39mas\u001B[39;00m e:\n\u001B[1;32m    123\u001B[0m         \u001B[39m# safely show traceback if in IPython, else raise\u001B[39;00m\n\u001B[1;32m    124\u001B[0m         ip \u001B[39m=\u001B[39m get_ipython()\n",
      "File \u001B[0;32m~/.ghq/github.com/nnao45/jaist-my-jupyter/.venv/lib/python3.8/site-packages/matplotlib_inline/backend_inline.py:41\u001B[0m, in \u001B[0;36mshow\u001B[0;34m(close, block)\u001B[0m\n\u001B[1;32m     39\u001B[0m \u001B[39mtry\u001B[39;00m:\n\u001B[1;32m     40\u001B[0m     \u001B[39mfor\u001B[39;00m figure_manager \u001B[39min\u001B[39;00m Gcf\u001B[39m.\u001B[39mget_all_fig_managers():\n\u001B[0;32m---> 41\u001B[0m         display(\n\u001B[1;32m     42\u001B[0m             figure_manager\u001B[39m.\u001B[39;49mcanvas\u001B[39m.\u001B[39;49mfigure,\n\u001B[1;32m     43\u001B[0m             metadata\u001B[39m=\u001B[39;49m_fetch_figure_metadata(figure_manager\u001B[39m.\u001B[39;49mcanvas\u001B[39m.\u001B[39;49mfigure)\n\u001B[1;32m     44\u001B[0m         )\n\u001B[1;32m     45\u001B[0m \u001B[39mfinally\u001B[39;00m:\n\u001B[1;32m     46\u001B[0m     show\u001B[39m.\u001B[39m_to_draw \u001B[39m=\u001B[39m []\n",
      "File \u001B[0;32m~/.ghq/github.com/nnao45/jaist-my-jupyter/.venv/lib/python3.8/site-packages/IPython/core/display_functions.py:298\u001B[0m, in \u001B[0;36mdisplay\u001B[0;34m(include, exclude, metadata, transient, display_id, raw, clear, *objs, **kwargs)\u001B[0m\n\u001B[1;32m    296\u001B[0m     publish_display_data(data\u001B[39m=\u001B[39mobj, metadata\u001B[39m=\u001B[39mmetadata, \u001B[39m*\u001B[39m\u001B[39m*\u001B[39mkwargs)\n\u001B[1;32m    297\u001B[0m \u001B[39melse\u001B[39;00m:\n\u001B[0;32m--> 298\u001B[0m     format_dict, md_dict \u001B[39m=\u001B[39m \u001B[39mformat\u001B[39;49m(obj, include\u001B[39m=\u001B[39;49minclude, exclude\u001B[39m=\u001B[39;49mexclude)\n\u001B[1;32m    299\u001B[0m     \u001B[39mif\u001B[39;00m \u001B[39mnot\u001B[39;00m format_dict:\n\u001B[1;32m    300\u001B[0m         \u001B[39m# nothing to display (e.g. _ipython_display_ took over)\u001B[39;00m\n\u001B[1;32m    301\u001B[0m         \u001B[39mcontinue\u001B[39;00m\n",
      "File \u001B[0;32m~/.ghq/github.com/nnao45/jaist-my-jupyter/.venv/lib/python3.8/site-packages/IPython/core/formatters.py:178\u001B[0m, in \u001B[0;36mDisplayFormatter.format\u001B[0;34m(self, obj, include, exclude)\u001B[0m\n\u001B[1;32m    176\u001B[0m md \u001B[39m=\u001B[39m \u001B[39mNone\u001B[39;00m\n\u001B[1;32m    177\u001B[0m \u001B[39mtry\u001B[39;00m:\n\u001B[0;32m--> 178\u001B[0m     data \u001B[39m=\u001B[39m formatter(obj)\n\u001B[1;32m    179\u001B[0m \u001B[39mexcept\u001B[39;00m:\n\u001B[1;32m    180\u001B[0m     \u001B[39m# FIXME: log the exception\u001B[39;00m\n\u001B[1;32m    181\u001B[0m     \u001B[39mraise\u001B[39;00m\n",
      "File \u001B[0;32m~/.ghq/github.com/nnao45/jaist-my-jupyter/.venv/lib/python3.8/site-packages/decorator.py:232\u001B[0m, in \u001B[0;36mdecorate.<locals>.fun\u001B[0;34m(*args, **kw)\u001B[0m\n\u001B[1;32m    230\u001B[0m \u001B[39mif\u001B[39;00m \u001B[39mnot\u001B[39;00m kwsyntax:\n\u001B[1;32m    231\u001B[0m     args, kw \u001B[39m=\u001B[39m fix(args, kw, sig)\n\u001B[0;32m--> 232\u001B[0m \u001B[39mreturn\u001B[39;00m caller(func, \u001B[39m*\u001B[39;49m(extras \u001B[39m+\u001B[39;49m args), \u001B[39m*\u001B[39;49m\u001B[39m*\u001B[39;49mkw)\n",
      "File \u001B[0;32m~/.ghq/github.com/nnao45/jaist-my-jupyter/.venv/lib/python3.8/site-packages/IPython/core/formatters.py:222\u001B[0m, in \u001B[0;36mcatch_format_error\u001B[0;34m(method, self, *args, **kwargs)\u001B[0m\n\u001B[1;32m    220\u001B[0m \u001B[39m\"\"\"show traceback on failed format call\"\"\"\u001B[39;00m\n\u001B[1;32m    221\u001B[0m \u001B[39mtry\u001B[39;00m:\n\u001B[0;32m--> 222\u001B[0m     r \u001B[39m=\u001B[39m method(\u001B[39mself\u001B[39;49m, \u001B[39m*\u001B[39;49margs, \u001B[39m*\u001B[39;49m\u001B[39m*\u001B[39;49mkwargs)\n\u001B[1;32m    223\u001B[0m \u001B[39mexcept\u001B[39;00m \u001B[39mNotImplementedError\u001B[39;00m:\n\u001B[1;32m    224\u001B[0m     \u001B[39m# don't warn on NotImplementedErrors\u001B[39;00m\n\u001B[1;32m    225\u001B[0m     \u001B[39mreturn\u001B[39;00m \u001B[39mself\u001B[39m\u001B[39m.\u001B[39m_check_return(\u001B[39mNone\u001B[39;00m, args[\u001B[39m0\u001B[39m])\n",
      "File \u001B[0;32m~/.ghq/github.com/nnao45/jaist-my-jupyter/.venv/lib/python3.8/site-packages/IPython/core/formatters.py:339\u001B[0m, in \u001B[0;36mBaseFormatter.__call__\u001B[0;34m(self, obj)\u001B[0m\n\u001B[1;32m    337\u001B[0m     \u001B[39mpass\u001B[39;00m\n\u001B[1;32m    338\u001B[0m \u001B[39melse\u001B[39;00m:\n\u001B[0;32m--> 339\u001B[0m     \u001B[39mreturn\u001B[39;00m printer(obj)\n\u001B[1;32m    340\u001B[0m \u001B[39m# Finally look for special method names\u001B[39;00m\n\u001B[1;32m    341\u001B[0m method \u001B[39m=\u001B[39m get_real_method(obj, \u001B[39mself\u001B[39m\u001B[39m.\u001B[39mprint_method)\n",
      "File \u001B[0;32m~/.ghq/github.com/nnao45/jaist-my-jupyter/.venv/lib/python3.8/site-packages/IPython/core/pylabtools.py:151\u001B[0m, in \u001B[0;36mprint_figure\u001B[0;34m(fig, fmt, bbox_inches, base64, **kwargs)\u001B[0m\n\u001B[1;32m    148\u001B[0m     \u001B[39mfrom\u001B[39;00m \u001B[39mmatplotlib\u001B[39;00m\u001B[39m.\u001B[39;00m\u001B[39mbackend_bases\u001B[39;00m \u001B[39mimport\u001B[39;00m FigureCanvasBase\n\u001B[1;32m    149\u001B[0m     FigureCanvasBase(fig)\n\u001B[0;32m--> 151\u001B[0m fig\u001B[39m.\u001B[39;49mcanvas\u001B[39m.\u001B[39;49mprint_figure(bytes_io, \u001B[39m*\u001B[39;49m\u001B[39m*\u001B[39;49mkw)\n\u001B[1;32m    152\u001B[0m data \u001B[39m=\u001B[39m bytes_io\u001B[39m.\u001B[39mgetvalue()\n\u001B[1;32m    153\u001B[0m \u001B[39mif\u001B[39;00m fmt \u001B[39m==\u001B[39m \u001B[39m'\u001B[39m\u001B[39msvg\u001B[39m\u001B[39m'\u001B[39m:\n",
      "File \u001B[0;32m~/.ghq/github.com/nnao45/jaist-my-jupyter/.venv/lib/python3.8/site-packages/matplotlib/backend_bases.py:2295\u001B[0m, in \u001B[0;36mFigureCanvasBase.print_figure\u001B[0;34m(self, filename, dpi, facecolor, edgecolor, orientation, format, bbox_inches, pad_inches, bbox_extra_artists, backend, **kwargs)\u001B[0m\n\u001B[1;32m   2289\u001B[0m     renderer \u001B[39m=\u001B[39m _get_renderer(\n\u001B[1;32m   2290\u001B[0m         \u001B[39mself\u001B[39m\u001B[39m.\u001B[39mfigure,\n\u001B[1;32m   2291\u001B[0m         functools\u001B[39m.\u001B[39mpartial(\n\u001B[1;32m   2292\u001B[0m             print_method, orientation\u001B[39m=\u001B[39morientation)\n\u001B[1;32m   2293\u001B[0m     )\n\u001B[1;32m   2294\u001B[0m     \u001B[39mwith\u001B[39;00m \u001B[39mgetattr\u001B[39m(renderer, \u001B[39m\"\u001B[39m\u001B[39m_draw_disabled\u001B[39m\u001B[39m\"\u001B[39m, nullcontext)():\n\u001B[0;32m-> 2295\u001B[0m         \u001B[39mself\u001B[39;49m\u001B[39m.\u001B[39;49mfigure\u001B[39m.\u001B[39;49mdraw(renderer)\n\u001B[1;32m   2297\u001B[0m \u001B[39mif\u001B[39;00m bbox_inches:\n\u001B[1;32m   2298\u001B[0m     \u001B[39mif\u001B[39;00m bbox_inches \u001B[39m==\u001B[39m \u001B[39m\"\u001B[39m\u001B[39mtight\u001B[39m\u001B[39m\"\u001B[39m:\n",
      "File \u001B[0;32m~/.ghq/github.com/nnao45/jaist-my-jupyter/.venv/lib/python3.8/site-packages/matplotlib/artist.py:73\u001B[0m, in \u001B[0;36m_finalize_rasterization.<locals>.draw_wrapper\u001B[0;34m(artist, renderer, *args, **kwargs)\u001B[0m\n\u001B[1;32m     71\u001B[0m \u001B[39m@wraps\u001B[39m(draw)\n\u001B[1;32m     72\u001B[0m \u001B[39mdef\u001B[39;00m \u001B[39mdraw_wrapper\u001B[39m(artist, renderer, \u001B[39m*\u001B[39margs, \u001B[39m*\u001B[39m\u001B[39m*\u001B[39mkwargs):\n\u001B[0;32m---> 73\u001B[0m     result \u001B[39m=\u001B[39m draw(artist, renderer, \u001B[39m*\u001B[39;49margs, \u001B[39m*\u001B[39;49m\u001B[39m*\u001B[39;49mkwargs)\n\u001B[1;32m     74\u001B[0m     \u001B[39mif\u001B[39;00m renderer\u001B[39m.\u001B[39m_rasterizing:\n\u001B[1;32m     75\u001B[0m         renderer\u001B[39m.\u001B[39mstop_rasterizing()\n",
      "File \u001B[0;32m~/.ghq/github.com/nnao45/jaist-my-jupyter/.venv/lib/python3.8/site-packages/matplotlib/artist.py:50\u001B[0m, in \u001B[0;36mallow_rasterization.<locals>.draw_wrapper\u001B[0;34m(artist, renderer)\u001B[0m\n\u001B[1;32m     47\u001B[0m     \u001B[39mif\u001B[39;00m artist\u001B[39m.\u001B[39mget_agg_filter() \u001B[39mis\u001B[39;00m \u001B[39mnot\u001B[39;00m \u001B[39mNone\u001B[39;00m:\n\u001B[1;32m     48\u001B[0m         renderer\u001B[39m.\u001B[39mstart_filter()\n\u001B[0;32m---> 50\u001B[0m     \u001B[39mreturn\u001B[39;00m draw(artist, renderer)\n\u001B[1;32m     51\u001B[0m \u001B[39mfinally\u001B[39;00m:\n\u001B[1;32m     52\u001B[0m     \u001B[39mif\u001B[39;00m artist\u001B[39m.\u001B[39mget_agg_filter() \u001B[39mis\u001B[39;00m \u001B[39mnot\u001B[39;00m \u001B[39mNone\u001B[39;00m:\n",
      "File \u001B[0;32m~/.ghq/github.com/nnao45/jaist-my-jupyter/.venv/lib/python3.8/site-packages/matplotlib/figure.py:2837\u001B[0m, in \u001B[0;36mFigure.draw\u001B[0;34m(self, renderer)\u001B[0m\n\u001B[1;32m   2834\u001B[0m         \u001B[39m# ValueError can occur when resizing a window.\u001B[39;00m\n\u001B[1;32m   2836\u001B[0m \u001B[39mself\u001B[39m\u001B[39m.\u001B[39mpatch\u001B[39m.\u001B[39mdraw(renderer)\n\u001B[0;32m-> 2837\u001B[0m mimage\u001B[39m.\u001B[39;49m_draw_list_compositing_images(\n\u001B[1;32m   2838\u001B[0m     renderer, \u001B[39mself\u001B[39;49m, artists, \u001B[39mself\u001B[39;49m\u001B[39m.\u001B[39;49msuppressComposite)\n\u001B[1;32m   2840\u001B[0m \u001B[39mfor\u001B[39;00m sfig \u001B[39min\u001B[39;00m \u001B[39mself\u001B[39m\u001B[39m.\u001B[39msubfigs:\n\u001B[1;32m   2841\u001B[0m     sfig\u001B[39m.\u001B[39mdraw(renderer)\n",
      "File \u001B[0;32m~/.ghq/github.com/nnao45/jaist-my-jupyter/.venv/lib/python3.8/site-packages/matplotlib/image.py:132\u001B[0m, in \u001B[0;36m_draw_list_compositing_images\u001B[0;34m(renderer, parent, artists, suppress_composite)\u001B[0m\n\u001B[1;32m    130\u001B[0m \u001B[39mif\u001B[39;00m not_composite \u001B[39mor\u001B[39;00m \u001B[39mnot\u001B[39;00m has_images:\n\u001B[1;32m    131\u001B[0m     \u001B[39mfor\u001B[39;00m a \u001B[39min\u001B[39;00m artists:\n\u001B[0;32m--> 132\u001B[0m         a\u001B[39m.\u001B[39;49mdraw(renderer)\n\u001B[1;32m    133\u001B[0m \u001B[39melse\u001B[39;00m:\n\u001B[1;32m    134\u001B[0m     \u001B[39m# Composite any adjacent images together\u001B[39;00m\n\u001B[1;32m    135\u001B[0m     image_group \u001B[39m=\u001B[39m []\n",
      "File \u001B[0;32m~/.ghq/github.com/nnao45/jaist-my-jupyter/.venv/lib/python3.8/site-packages/matplotlib/artist.py:50\u001B[0m, in \u001B[0;36mallow_rasterization.<locals>.draw_wrapper\u001B[0;34m(artist, renderer)\u001B[0m\n\u001B[1;32m     47\u001B[0m     \u001B[39mif\u001B[39;00m artist\u001B[39m.\u001B[39mget_agg_filter() \u001B[39mis\u001B[39;00m \u001B[39mnot\u001B[39;00m \u001B[39mNone\u001B[39;00m:\n\u001B[1;32m     48\u001B[0m         renderer\u001B[39m.\u001B[39mstart_filter()\n\u001B[0;32m---> 50\u001B[0m     \u001B[39mreturn\u001B[39;00m draw(artist, renderer)\n\u001B[1;32m     51\u001B[0m \u001B[39mfinally\u001B[39;00m:\n\u001B[1;32m     52\u001B[0m     \u001B[39mif\u001B[39;00m artist\u001B[39m.\u001B[39mget_agg_filter() \u001B[39mis\u001B[39;00m \u001B[39mnot\u001B[39;00m \u001B[39mNone\u001B[39;00m:\n",
      "File \u001B[0;32m~/.ghq/github.com/nnao45/jaist-my-jupyter/.venv/lib/python3.8/site-packages/matplotlib/axes/_base.py:3091\u001B[0m, in \u001B[0;36m_AxesBase.draw\u001B[0;34m(self, renderer)\u001B[0m\n\u001B[1;32m   3088\u001B[0m         a\u001B[39m.\u001B[39mdraw(renderer)\n\u001B[1;32m   3089\u001B[0m     renderer\u001B[39m.\u001B[39mstop_rasterizing()\n\u001B[0;32m-> 3091\u001B[0m mimage\u001B[39m.\u001B[39;49m_draw_list_compositing_images(\n\u001B[1;32m   3092\u001B[0m     renderer, \u001B[39mself\u001B[39;49m, artists, \u001B[39mself\u001B[39;49m\u001B[39m.\u001B[39;49mfigure\u001B[39m.\u001B[39;49msuppressComposite)\n\u001B[1;32m   3094\u001B[0m renderer\u001B[39m.\u001B[39mclose_group(\u001B[39m'\u001B[39m\u001B[39maxes\u001B[39m\u001B[39m'\u001B[39m)\n\u001B[1;32m   3095\u001B[0m \u001B[39mself\u001B[39m\u001B[39m.\u001B[39mstale \u001B[39m=\u001B[39m \u001B[39mFalse\u001B[39;00m\n",
      "File \u001B[0;32m~/.ghq/github.com/nnao45/jaist-my-jupyter/.venv/lib/python3.8/site-packages/matplotlib/image.py:132\u001B[0m, in \u001B[0;36m_draw_list_compositing_images\u001B[0;34m(renderer, parent, artists, suppress_composite)\u001B[0m\n\u001B[1;32m    130\u001B[0m \u001B[39mif\u001B[39;00m not_composite \u001B[39mor\u001B[39;00m \u001B[39mnot\u001B[39;00m has_images:\n\u001B[1;32m    131\u001B[0m     \u001B[39mfor\u001B[39;00m a \u001B[39min\u001B[39;00m artists:\n\u001B[0;32m--> 132\u001B[0m         a\u001B[39m.\u001B[39;49mdraw(renderer)\n\u001B[1;32m    133\u001B[0m \u001B[39melse\u001B[39;00m:\n\u001B[1;32m    134\u001B[0m     \u001B[39m# Composite any adjacent images together\u001B[39;00m\n\u001B[1;32m    135\u001B[0m     image_group \u001B[39m=\u001B[39m []\n",
      "File \u001B[0;32m~/.ghq/github.com/nnao45/jaist-my-jupyter/.venv/lib/python3.8/site-packages/matplotlib/artist.py:50\u001B[0m, in \u001B[0;36mallow_rasterization.<locals>.draw_wrapper\u001B[0;34m(artist, renderer)\u001B[0m\n\u001B[1;32m     47\u001B[0m     \u001B[39mif\u001B[39;00m artist\u001B[39m.\u001B[39mget_agg_filter() \u001B[39mis\u001B[39;00m \u001B[39mnot\u001B[39;00m \u001B[39mNone\u001B[39;00m:\n\u001B[1;32m     48\u001B[0m         renderer\u001B[39m.\u001B[39mstart_filter()\n\u001B[0;32m---> 50\u001B[0m     \u001B[39mreturn\u001B[39;00m draw(artist, renderer)\n\u001B[1;32m     51\u001B[0m \u001B[39mfinally\u001B[39;00m:\n\u001B[1;32m     52\u001B[0m     \u001B[39mif\u001B[39;00m artist\u001B[39m.\u001B[39mget_agg_filter() \u001B[39mis\u001B[39;00m \u001B[39mnot\u001B[39;00m \u001B[39mNone\u001B[39;00m:\n",
      "File \u001B[0;32m~/.ghq/github.com/nnao45/jaist-my-jupyter/.venv/lib/python3.8/site-packages/matplotlib/axis.py:1163\u001B[0m, in \u001B[0;36mAxis.draw\u001B[0;34m(self, renderer, *args, **kwargs)\u001B[0m\n\u001B[1;32m   1159\u001B[0m ticklabelBoxes, ticklabelBoxes2 \u001B[39m=\u001B[39m \u001B[39mself\u001B[39m\u001B[39m.\u001B[39m_get_tick_bboxes(ticks_to_draw,\n\u001B[1;32m   1160\u001B[0m                                                         renderer)\n\u001B[1;32m   1162\u001B[0m \u001B[39mfor\u001B[39;00m tick \u001B[39min\u001B[39;00m ticks_to_draw:\n\u001B[0;32m-> 1163\u001B[0m     tick\u001B[39m.\u001B[39;49mdraw(renderer)\n\u001B[1;32m   1165\u001B[0m \u001B[39m# scale up the axis label box to also find the neighbors, not\u001B[39;00m\n\u001B[1;32m   1166\u001B[0m \u001B[39m# just the tick labels that actually overlap note we need a\u001B[39;00m\n\u001B[1;32m   1167\u001B[0m \u001B[39m# *copy* of the axis label box because we don't want to scale\u001B[39;00m\n\u001B[1;32m   1168\u001B[0m \u001B[39m# the actual bbox\u001B[39;00m\n\u001B[1;32m   1170\u001B[0m \u001B[39mself\u001B[39m\u001B[39m.\u001B[39m_update_label_position(renderer)\n",
      "File \u001B[0;32m~/.ghq/github.com/nnao45/jaist-my-jupyter/.venv/lib/python3.8/site-packages/matplotlib/artist.py:50\u001B[0m, in \u001B[0;36mallow_rasterization.<locals>.draw_wrapper\u001B[0;34m(artist, renderer)\u001B[0m\n\u001B[1;32m     47\u001B[0m     \u001B[39mif\u001B[39;00m artist\u001B[39m.\u001B[39mget_agg_filter() \u001B[39mis\u001B[39;00m \u001B[39mnot\u001B[39;00m \u001B[39mNone\u001B[39;00m:\n\u001B[1;32m     48\u001B[0m         renderer\u001B[39m.\u001B[39mstart_filter()\n\u001B[0;32m---> 50\u001B[0m     \u001B[39mreturn\u001B[39;00m draw(artist, renderer)\n\u001B[1;32m     51\u001B[0m \u001B[39mfinally\u001B[39;00m:\n\u001B[1;32m     52\u001B[0m     \u001B[39mif\u001B[39;00m artist\u001B[39m.\u001B[39mget_agg_filter() \u001B[39mis\u001B[39;00m \u001B[39mnot\u001B[39;00m \u001B[39mNone\u001B[39;00m:\n",
      "File \u001B[0;32m~/.ghq/github.com/nnao45/jaist-my-jupyter/.venv/lib/python3.8/site-packages/matplotlib/axis.py:299\u001B[0m, in \u001B[0;36mTick.draw\u001B[0;34m(self, renderer)\u001B[0m\n\u001B[1;32m    296\u001B[0m renderer\u001B[39m.\u001B[39mopen_group(\u001B[39mself\u001B[39m\u001B[39m.\u001B[39m\u001B[39m__name__\u001B[39m, gid\u001B[39m=\u001B[39m\u001B[39mself\u001B[39m\u001B[39m.\u001B[39mget_gid())\n\u001B[1;32m    297\u001B[0m \u001B[39mfor\u001B[39;00m artist \u001B[39min\u001B[39;00m [\u001B[39mself\u001B[39m\u001B[39m.\u001B[39mgridline, \u001B[39mself\u001B[39m\u001B[39m.\u001B[39mtick1line, \u001B[39mself\u001B[39m\u001B[39m.\u001B[39mtick2line,\n\u001B[1;32m    298\u001B[0m                \u001B[39mself\u001B[39m\u001B[39m.\u001B[39mlabel1, \u001B[39mself\u001B[39m\u001B[39m.\u001B[39mlabel2]:\n\u001B[0;32m--> 299\u001B[0m     artist\u001B[39m.\u001B[39;49mdraw(renderer)\n\u001B[1;32m    300\u001B[0m renderer\u001B[39m.\u001B[39mclose_group(\u001B[39mself\u001B[39m\u001B[39m.\u001B[39m\u001B[39m__name__\u001B[39m)\n\u001B[1;32m    301\u001B[0m \u001B[39mself\u001B[39m\u001B[39m.\u001B[39mstale \u001B[39m=\u001B[39m \u001B[39mFalse\u001B[39;00m\n",
      "File \u001B[0;32m~/.ghq/github.com/nnao45/jaist-my-jupyter/.venv/lib/python3.8/site-packages/matplotlib/artist.py:50\u001B[0m, in \u001B[0;36mallow_rasterization.<locals>.draw_wrapper\u001B[0;34m(artist, renderer)\u001B[0m\n\u001B[1;32m     47\u001B[0m     \u001B[39mif\u001B[39;00m artist\u001B[39m.\u001B[39mget_agg_filter() \u001B[39mis\u001B[39;00m \u001B[39mnot\u001B[39;00m \u001B[39mNone\u001B[39;00m:\n\u001B[1;32m     48\u001B[0m         renderer\u001B[39m.\u001B[39mstart_filter()\n\u001B[0;32m---> 50\u001B[0m     \u001B[39mreturn\u001B[39;00m draw(artist, renderer)\n\u001B[1;32m     51\u001B[0m \u001B[39mfinally\u001B[39;00m:\n\u001B[1;32m     52\u001B[0m     \u001B[39mif\u001B[39;00m artist\u001B[39m.\u001B[39mget_agg_filter() \u001B[39mis\u001B[39;00m \u001B[39mnot\u001B[39;00m \u001B[39mNone\u001B[39;00m:\n",
      "File \u001B[0;32m~/.ghq/github.com/nnao45/jaist-my-jupyter/.venv/lib/python3.8/site-packages/matplotlib/text.py:685\u001B[0m, in \u001B[0;36mText.draw\u001B[0;34m(self, renderer)\u001B[0m\n\u001B[1;32m    682\u001B[0m renderer\u001B[39m.\u001B[39mopen_group(\u001B[39m'\u001B[39m\u001B[39mtext\u001B[39m\u001B[39m'\u001B[39m, \u001B[39mself\u001B[39m\u001B[39m.\u001B[39mget_gid())\n\u001B[1;32m    684\u001B[0m \u001B[39mwith\u001B[39;00m \u001B[39mself\u001B[39m\u001B[39m.\u001B[39m_cm_set(text\u001B[39m=\u001B[39m\u001B[39mself\u001B[39m\u001B[39m.\u001B[39m_get_wrapped_text()):\n\u001B[0;32m--> 685\u001B[0m     bbox, info, descent \u001B[39m=\u001B[39m \u001B[39mself\u001B[39;49m\u001B[39m.\u001B[39;49m_get_layout(renderer)\n\u001B[1;32m    686\u001B[0m     trans \u001B[39m=\u001B[39m \u001B[39mself\u001B[39m\u001B[39m.\u001B[39mget_transform()\n\u001B[1;32m    688\u001B[0m     \u001B[39m# don't use self.get_position here, which refers to text\u001B[39;00m\n\u001B[1;32m    689\u001B[0m     \u001B[39m# position in Text:\u001B[39;00m\n",
      "File \u001B[0;32m~/.ghq/github.com/nnao45/jaist-my-jupyter/.venv/lib/python3.8/site-packages/matplotlib/text.py:438\u001B[0m, in \u001B[0;36mText._get_layout\u001B[0;34m(self, renderer)\u001B[0m\n\u001B[1;32m    435\u001B[0m xmin \u001B[39m-\u001B[39m\u001B[39m=\u001B[39m offsetx\n\u001B[1;32m    436\u001B[0m ymin \u001B[39m-\u001B[39m\u001B[39m=\u001B[39m offsety\n\u001B[0;32m--> 438\u001B[0m bbox \u001B[39m=\u001B[39m Bbox\u001B[39m.\u001B[39;49mfrom_bounds(xmin, ymin, width, height)\n\u001B[1;32m    440\u001B[0m \u001B[39m# now rotate the positions around the first (x, y) position\u001B[39;00m\n\u001B[1;32m    441\u001B[0m xys \u001B[39m=\u001B[39m M\u001B[39m.\u001B[39mtransform(offset_layout) \u001B[39m-\u001B[39m (offsetx, offsety)\n",
      "File \u001B[0;32m~/.ghq/github.com/nnao45/jaist-my-jupyter/.venv/lib/python3.8/site-packages/matplotlib/transforms.py:820\u001B[0m, in \u001B[0;36mBbox.from_bounds\u001B[0;34m(x0, y0, width, height)\u001B[0m\n\u001B[1;32m    813\u001B[0m \u001B[39m@staticmethod\u001B[39m\n\u001B[1;32m    814\u001B[0m \u001B[39mdef\u001B[39;00m \u001B[39mfrom_bounds\u001B[39m(x0, y0, width, height):\n\u001B[1;32m    815\u001B[0m     \u001B[39m\"\"\"\u001B[39;00m\n\u001B[1;32m    816\u001B[0m \u001B[39m    Create a new `Bbox` from *x0*, *y0*, *width* and *height*.\u001B[39;00m\n\u001B[1;32m    817\u001B[0m \n\u001B[1;32m    818\u001B[0m \u001B[39m    *width* and *height* may be negative.\u001B[39;00m\n\u001B[1;32m    819\u001B[0m \u001B[39m    \"\"\"\u001B[39;00m\n\u001B[0;32m--> 820\u001B[0m     \u001B[39mreturn\u001B[39;00m Bbox\u001B[39m.\u001B[39;49mfrom_extents(x0, y0, x0 \u001B[39m+\u001B[39;49m width, y0 \u001B[39m+\u001B[39;49m height)\n",
      "File \u001B[0;32m~/.ghq/github.com/nnao45/jaist-my-jupyter/.venv/lib/python3.8/site-packages/matplotlib/transforms.py:839\u001B[0m, in \u001B[0;36mBbox.from_extents\u001B[0;34m(minpos, *args)\u001B[0m\n\u001B[1;32m    822\u001B[0m \u001B[39m@staticmethod\u001B[39m\n\u001B[1;32m    823\u001B[0m \u001B[39mdef\u001B[39;00m \u001B[39mfrom_extents\u001B[39m(\u001B[39m*\u001B[39margs, minpos\u001B[39m=\u001B[39m\u001B[39mNone\u001B[39;00m):\n\u001B[1;32m    824\u001B[0m     \u001B[39m\"\"\"\u001B[39;00m\n\u001B[1;32m    825\u001B[0m \u001B[39m    Create a new Bbox from *left*, *bottom*, *right* and *top*.\u001B[39;00m\n\u001B[1;32m    826\u001B[0m \n\u001B[0;32m   (...)\u001B[0m\n\u001B[1;32m    837\u001B[0m \u001B[39m       scales where negative bounds result in floating point errors.\u001B[39;00m\n\u001B[1;32m    838\u001B[0m \u001B[39m    \"\"\"\u001B[39;00m\n\u001B[0;32m--> 839\u001B[0m     bbox \u001B[39m=\u001B[39m Bbox(np\u001B[39m.\u001B[39;49mreshape(args, (\u001B[39m2\u001B[39;49m, \u001B[39m2\u001B[39;49m)))\n\u001B[1;32m    840\u001B[0m     \u001B[39mif\u001B[39;00m minpos \u001B[39mis\u001B[39;00m \u001B[39mnot\u001B[39;00m \u001B[39mNone\u001B[39;00m:\n\u001B[1;32m    841\u001B[0m         bbox\u001B[39m.\u001B[39m_minpos[:] \u001B[39m=\u001B[39m minpos\n",
      "File \u001B[0;32m<__array_function__ internals>:180\u001B[0m, in \u001B[0;36mreshape\u001B[0;34m(*args, **kwargs)\u001B[0m\n",
      "File \u001B[0;32m~/.ghq/github.com/nnao45/jaist-my-jupyter/.venv/lib/python3.8/site-packages/numpy/core/fromnumeric.py:298\u001B[0m, in \u001B[0;36mreshape\u001B[0;34m(a, newshape, order)\u001B[0m\n\u001B[1;32m    198\u001B[0m \u001B[39m@array_function_dispatch\u001B[39m(_reshape_dispatcher)\n\u001B[1;32m    199\u001B[0m \u001B[39mdef\u001B[39;00m \u001B[39mreshape\u001B[39m(a, newshape, order\u001B[39m=\u001B[39m\u001B[39m'\u001B[39m\u001B[39mC\u001B[39m\u001B[39m'\u001B[39m):\n\u001B[1;32m    200\u001B[0m     \u001B[39m\"\"\"\u001B[39;00m\n\u001B[1;32m    201\u001B[0m \u001B[39m    Gives a new shape to an array without changing its data.\u001B[39;00m\n\u001B[1;32m    202\u001B[0m \n\u001B[0;32m   (...)\u001B[0m\n\u001B[1;32m    296\u001B[0m \u001B[39m           [5, 6]])\u001B[39;00m\n\u001B[1;32m    297\u001B[0m \u001B[39m    \"\"\"\u001B[39;00m\n\u001B[0;32m--> 298\u001B[0m     \u001B[39mreturn\u001B[39;00m _wrapfunc(a, \u001B[39m'\u001B[39;49m\u001B[39mreshape\u001B[39;49m\u001B[39m'\u001B[39;49m, newshape, order\u001B[39m=\u001B[39;49morder)\n",
      "File \u001B[0;32m~/.ghq/github.com/nnao45/jaist-my-jupyter/.venv/lib/python3.8/site-packages/numpy/core/fromnumeric.py:54\u001B[0m, in \u001B[0;36m_wrapfunc\u001B[0;34m(obj, method, *args, **kwds)\u001B[0m\n\u001B[1;32m     52\u001B[0m bound \u001B[39m=\u001B[39m \u001B[39mgetattr\u001B[39m(obj, method, \u001B[39mNone\u001B[39;00m)\n\u001B[1;32m     53\u001B[0m \u001B[39mif\u001B[39;00m bound \u001B[39mis\u001B[39;00m \u001B[39mNone\u001B[39;00m:\n\u001B[0;32m---> 54\u001B[0m     \u001B[39mreturn\u001B[39;00m _wrapit(obj, method, \u001B[39m*\u001B[39;49margs, \u001B[39m*\u001B[39;49m\u001B[39m*\u001B[39;49mkwds)\n\u001B[1;32m     56\u001B[0m \u001B[39mtry\u001B[39;00m:\n\u001B[1;32m     57\u001B[0m     \u001B[39mreturn\u001B[39;00m bound(\u001B[39m*\u001B[39margs, \u001B[39m*\u001B[39m\u001B[39m*\u001B[39mkwds)\n",
      "File \u001B[0;32m~/.ghq/github.com/nnao45/jaist-my-jupyter/.venv/lib/python3.8/site-packages/numpy/core/fromnumeric.py:40\u001B[0m, in \u001B[0;36m_wrapit\u001B[0;34m(obj, method, *args, **kwds)\u001B[0m\n\u001B[1;32m     38\u001B[0m \u001B[39mdef\u001B[39;00m \u001B[39m_wrapit\u001B[39m(obj, method, \u001B[39m*\u001B[39margs, \u001B[39m*\u001B[39m\u001B[39m*\u001B[39mkwds):\n\u001B[1;32m     39\u001B[0m     \u001B[39mtry\u001B[39;00m:\n\u001B[0;32m---> 40\u001B[0m         wrap \u001B[39m=\u001B[39m obj\u001B[39m.\u001B[39;49m__array_wrap__\n\u001B[1;32m     41\u001B[0m     \u001B[39mexcept\u001B[39;00m \u001B[39mAttributeError\u001B[39;00m:\n\u001B[1;32m     42\u001B[0m         wrap \u001B[39m=\u001B[39m \u001B[39mNone\u001B[39;00m\n",
      "\u001B[0;31mKeyboardInterrupt\u001B[0m: "
     ]
    }
   ],
   "source": [
    "plt.plot(df_S_67_1[\"date\"], df_S_67_1[\"count\"])"
   ]
  },
  {
   "cell_type": "code",
   "execution_count": 3,
   "metadata": {
    "pycharm": {
     "name": "#%%\n"
    }
   },
   "outputs": [],
   "source": [
    "log_line_data = None\n",
    "line_parser = apache_log_parser.make_parser(\"%h %l %u %t \\\"%r\\\" %>s %b\")\n",
    "with open(f\"{os.getcwd()}/wc_day67_2.log\", mode='r', encoding=\"utf8\", errors='ignore') as f1:\n",
    "    log_line_data = [line_parser(line) for line in f1.readlines()]\n"
   ]
  },
  {
   "cell_type": "code",
   "execution_count": null,
   "outputs": [],
   "source": [
    "df_SS = (pd.read_csv(\"wc_day67_1.csv\")\n",
    "            .append(pd.read_csv(\"wc_day67_2.csv\"), ignore_index=True)\n",
    "            .append(pd.read_csv(\"wc_day67_3.csv\"), ignore_index=True)\n",
    "            .append(pd.read_csv(\"wc_day67_4.csv\"), ignore_index=True)\n",
    "            .append(pd.read_csv(\"wc_day67_5.csv\"), ignore_index=True)\n",
    "            .append(pd.read_csv(\"wc_day68_1.csv\"), ignore_index=True)\n",
    "            .append(pd.read_csv(\"wc_day68_2.csv\"), ignore_index=True)\n",
    "            .append(pd.read_csv(\"wc_day68_3.csv\"), ignore_index=True)\n",
    "            .append(pd.read_csv(\"wc_day69_1.csv\"), ignore_index=True)\n",
    ")\n"
   ],
   "metadata": {
    "collapsed": false,
    "pycharm": {
     "name": "#%%\n"
    }
   }
  },
  {
   "cell_type": "code",
   "execution_count": null,
   "outputs": [],
   "source": [
    "df_SS"
   ],
   "metadata": {
    "collapsed": false,
    "pycharm": {
     "name": "#%%\n"
    }
   }
  },
  {
   "cell_type": "code",
   "execution_count": null,
   "outputs": [],
   "source": [
    "df_SS_date =  pd.to_datetime(df_SS[\"date\"]).astype(int).array.reshape(-1, 1)\n",
    "df_SS_count = df_SS[\"count\"].array.reshape(-1, 1)\n",
    "plt.plot(df_SS_date, df_SS_count)"
   ],
   "metadata": {
    "collapsed": false,
    "pycharm": {
     "name": "#%%\n"
    }
   }
  },
  {
   "cell_type": "code",
   "execution_count": null,
   "outputs": [],
   "source": [
    "df_SS_date = df_S_date = pd.to_datetime(df_S[\"date\"]).astype(int).array.reshape(-1, 1)\n",
    "df_SS_count = df_S[\"count\"].array.reshape(-1, 1)"
   ],
   "metadata": {
    "collapsed": false,
    "pycharm": {
     "name": "#%%\n"
    }
   }
  },
  {
   "cell_type": "code",
   "execution_count": null,
   "outputs": [],
   "source": [
    "def log2csv(prefix: str):\n",
    "    log_line_data = []\n",
    "    with open(f\"{os.getcwd()}/{prefix}.log\", mode='r', encoding=\"utf8\", errors='ignore') as f1:\n",
    "        log_line_data = np.array([line for line in f1.readlines()])\n",
    "    replaced = pd.DataFrame([{\"date\": datetime.strptime(line.split()[3]+\" \"+line.split()[4],  \"[%d/%b/%Y:%H:%M:%S +0000]\"), \"count\": 1} for line in log_line_data])\n",
    "    replaced.groupby(pd.Grouper(key=\"date\", freq=\"S\")).sum().reset_index().to_csv(f\"{prefix}.csv\")\n"
   ],
   "metadata": {
    "collapsed": false,
    "pycharm": {
     "name": "#%%\n"
    }
   }
  },
  {
   "cell_type": "code",
   "execution_count": null,
   "outputs": [],
   "source": [
    "log2csv(\"wc_day62_1\")\n",
    "log2csv(\"wc_day62_2\")\n",
    "log2csv(\"wc_day62_3\")\n",
    "log2csv(\"wc_day62_4\")\n",
    "log2csv(\"wc_day62_5\")\n",
    "log2csv(\"wc_day62_6\")\n",
    "log2csv(\"wc_day62_7\")\n",
    "log2csv(\"wc_day62_8\")\n",
    "log2csv(\"wc_day62_9\")\n",
    "log2csv(\"wc_day62_1\")\n",
    "log2csv(\"wc_day63_1\")\n",
    "log2csv(\"wc_day63_2\")"
   ],
   "metadata": {
    "collapsed": false,
    "pycharm": {
     "name": "#%%\n"
    }
   }
  },
  {
   "cell_type": "code",
   "execution_count": null,
   "outputs": [],
   "source": [
    "log2csv(\"wc_day62_10\")"
   ],
   "metadata": {
    "collapsed": false,
    "pycharm": {
     "name": "#%%\n"
    }
   }
  },
  {
   "cell_type": "code",
   "execution_count": 5,
   "outputs": [
    {
     "ename": "FileNotFoundError",
     "evalue": "[Errno 2] No such file or directory: 'wc_day62_1.csv'",
     "output_type": "error",
     "traceback": [
      "\u001B[0;31m---------------------------------------------------------------------------\u001B[0m",
      "\u001B[0;31mFileNotFoundError\u001B[0m                         Traceback (most recent call last)",
      "Input \u001B[0;32mIn [5]\u001B[0m, in \u001B[0;36m<cell line: 1>\u001B[0;34m()\u001B[0m\n\u001B[0;32m----> 1\u001B[0m df_SS_2 \u001B[38;5;241m=\u001B[39m (         \u001B[43mpd\u001B[49m\u001B[38;5;241;43m.\u001B[39;49m\u001B[43mread_csv\u001B[49m\u001B[43m(\u001B[49m\u001B[38;5;124;43m\"\u001B[39;49m\u001B[38;5;124;43mwc_day62_1.csv\u001B[39;49m\u001B[38;5;124;43m\"\u001B[39;49m\u001B[43m)\u001B[49m\n\u001B[1;32m      2\u001B[0m             \u001B[38;5;241m.\u001B[39mappend(pd\u001B[38;5;241m.\u001B[39mread_csv(\u001B[38;5;124m\"\u001B[39m\u001B[38;5;124mwc_day62_2.csv\u001B[39m\u001B[38;5;124m\"\u001B[39m), ignore_index\u001B[38;5;241m=\u001B[39m\u001B[38;5;28;01mTrue\u001B[39;00m)\n\u001B[1;32m      3\u001B[0m             \u001B[38;5;241m.\u001B[39mappend(pd\u001B[38;5;241m.\u001B[39mread_csv(\u001B[38;5;124m\"\u001B[39m\u001B[38;5;124mwc_day62_3.csv\u001B[39m\u001B[38;5;124m\"\u001B[39m), ignore_index\u001B[38;5;241m=\u001B[39m\u001B[38;5;28;01mTrue\u001B[39;00m)\n\u001B[1;32m      4\u001B[0m             \u001B[38;5;241m.\u001B[39mappend(pd\u001B[38;5;241m.\u001B[39mread_csv(\u001B[38;5;124m\"\u001B[39m\u001B[38;5;124mwc_day62_4.csv\u001B[39m\u001B[38;5;124m\"\u001B[39m), ignore_index\u001B[38;5;241m=\u001B[39m\u001B[38;5;28;01mTrue\u001B[39;00m)\n\u001B[1;32m      5\u001B[0m             \u001B[38;5;241m.\u001B[39mappend(pd\u001B[38;5;241m.\u001B[39mread_csv(\u001B[38;5;124m\"\u001B[39m\u001B[38;5;124mwc_day62_5.csv\u001B[39m\u001B[38;5;124m\"\u001B[39m), ignore_index\u001B[38;5;241m=\u001B[39m\u001B[38;5;28;01mTrue\u001B[39;00m)\n\u001B[1;32m      6\u001B[0m             \u001B[38;5;241m.\u001B[39mappend(pd\u001B[38;5;241m.\u001B[39mread_csv(\u001B[38;5;124m\"\u001B[39m\u001B[38;5;124mwc_day62_6.csv\u001B[39m\u001B[38;5;124m\"\u001B[39m), ignore_index\u001B[38;5;241m=\u001B[39m\u001B[38;5;28;01mTrue\u001B[39;00m)\n\u001B[1;32m      7\u001B[0m             \u001B[38;5;241m.\u001B[39mappend(pd\u001B[38;5;241m.\u001B[39mread_csv(\u001B[38;5;124m\"\u001B[39m\u001B[38;5;124mwc_day62_7.csv\u001B[39m\u001B[38;5;124m\"\u001B[39m), ignore_index\u001B[38;5;241m=\u001B[39m\u001B[38;5;28;01mTrue\u001B[39;00m)\n\u001B[1;32m      8\u001B[0m             \u001B[38;5;241m.\u001B[39mappend(pd\u001B[38;5;241m.\u001B[39mread_csv(\u001B[38;5;124m\"\u001B[39m\u001B[38;5;124mwc_day62_8.csv\u001B[39m\u001B[38;5;124m\"\u001B[39m), ignore_index\u001B[38;5;241m=\u001B[39m\u001B[38;5;28;01mTrue\u001B[39;00m)\n\u001B[1;32m      9\u001B[0m             \u001B[38;5;241m.\u001B[39mappend(pd\u001B[38;5;241m.\u001B[39mread_csv(\u001B[38;5;124m\"\u001B[39m\u001B[38;5;124mwc_day62_9.csv\u001B[39m\u001B[38;5;124m\"\u001B[39m), ignore_index\u001B[38;5;241m=\u001B[39m\u001B[38;5;28;01mTrue\u001B[39;00m)\n\u001B[1;32m     10\u001B[0m             \u001B[38;5;241m.\u001B[39mappend(pd\u001B[38;5;241m.\u001B[39mread_csv(\u001B[38;5;124m\"\u001B[39m\u001B[38;5;124mwc_day62_10.csv\u001B[39m\u001B[38;5;124m\"\u001B[39m), ignore_index\u001B[38;5;241m=\u001B[39m\u001B[38;5;28;01mTrue\u001B[39;00m)\n\u001B[1;32m     11\u001B[0m             \u001B[38;5;241m.\u001B[39mappend(pd\u001B[38;5;241m.\u001B[39mread_csv(\u001B[38;5;124m\"\u001B[39m\u001B[38;5;124mwc_day63_1.csv\u001B[39m\u001B[38;5;124m\"\u001B[39m), ignore_index\u001B[38;5;241m=\u001B[39m\u001B[38;5;28;01mTrue\u001B[39;00m)\n\u001B[1;32m     12\u001B[0m             \u001B[38;5;241m.\u001B[39mappend(pd\u001B[38;5;241m.\u001B[39mread_csv(\u001B[38;5;124m\"\u001B[39m\u001B[38;5;124mwc_day63_2.csv\u001B[39m\u001B[38;5;124m\"\u001B[39m), ignore_index\u001B[38;5;241m=\u001B[39m\u001B[38;5;28;01mTrue\u001B[39;00m)\n\u001B[1;32m     13\u001B[0m )\n\u001B[1;32m     14\u001B[0m df_SS_2\u001B[38;5;241m.\u001B[39mto_csv(\u001B[38;5;124m'\u001B[39m\u001B[38;5;124mwc_day62_63.csv\u001B[39m\u001B[38;5;124m'\u001B[39m)\n",
      "File \u001B[0;32m~/.ghq/github.com/nnao45/jaist-my-jupyter/.venv/lib/python3.8/site-packages/pandas/util/_decorators.py:311\u001B[0m, in \u001B[0;36mdeprecate_nonkeyword_arguments.<locals>.decorate.<locals>.wrapper\u001B[0;34m(*args, **kwargs)\u001B[0m\n\u001B[1;32m    305\u001B[0m \u001B[38;5;28;01mif\u001B[39;00m \u001B[38;5;28mlen\u001B[39m(args) \u001B[38;5;241m>\u001B[39m num_allow_args:\n\u001B[1;32m    306\u001B[0m     warnings\u001B[38;5;241m.\u001B[39mwarn(\n\u001B[1;32m    307\u001B[0m         msg\u001B[38;5;241m.\u001B[39mformat(arguments\u001B[38;5;241m=\u001B[39marguments),\n\u001B[1;32m    308\u001B[0m         \u001B[38;5;167;01mFutureWarning\u001B[39;00m,\n\u001B[1;32m    309\u001B[0m         stacklevel\u001B[38;5;241m=\u001B[39mstacklevel,\n\u001B[1;32m    310\u001B[0m     )\n\u001B[0;32m--> 311\u001B[0m \u001B[38;5;28;01mreturn\u001B[39;00m \u001B[43mfunc\u001B[49m\u001B[43m(\u001B[49m\u001B[38;5;241;43m*\u001B[39;49m\u001B[43margs\u001B[49m\u001B[43m,\u001B[49m\u001B[43m \u001B[49m\u001B[38;5;241;43m*\u001B[39;49m\u001B[38;5;241;43m*\u001B[39;49m\u001B[43mkwargs\u001B[49m\u001B[43m)\u001B[49m\n",
      "File \u001B[0;32m~/.ghq/github.com/nnao45/jaist-my-jupyter/.venv/lib/python3.8/site-packages/pandas/io/parsers/readers.py:680\u001B[0m, in \u001B[0;36mread_csv\u001B[0;34m(filepath_or_buffer, sep, delimiter, header, names, index_col, usecols, squeeze, prefix, mangle_dupe_cols, dtype, engine, converters, true_values, false_values, skipinitialspace, skiprows, skipfooter, nrows, na_values, keep_default_na, na_filter, verbose, skip_blank_lines, parse_dates, infer_datetime_format, keep_date_col, date_parser, dayfirst, cache_dates, iterator, chunksize, compression, thousands, decimal, lineterminator, quotechar, quoting, doublequote, escapechar, comment, encoding, encoding_errors, dialect, error_bad_lines, warn_bad_lines, on_bad_lines, delim_whitespace, low_memory, memory_map, float_precision, storage_options)\u001B[0m\n\u001B[1;32m    665\u001B[0m kwds_defaults \u001B[38;5;241m=\u001B[39m _refine_defaults_read(\n\u001B[1;32m    666\u001B[0m     dialect,\n\u001B[1;32m    667\u001B[0m     delimiter,\n\u001B[0;32m   (...)\u001B[0m\n\u001B[1;32m    676\u001B[0m     defaults\u001B[38;5;241m=\u001B[39m{\u001B[38;5;124m\"\u001B[39m\u001B[38;5;124mdelimiter\u001B[39m\u001B[38;5;124m\"\u001B[39m: \u001B[38;5;124m\"\u001B[39m\u001B[38;5;124m,\u001B[39m\u001B[38;5;124m\"\u001B[39m},\n\u001B[1;32m    677\u001B[0m )\n\u001B[1;32m    678\u001B[0m kwds\u001B[38;5;241m.\u001B[39mupdate(kwds_defaults)\n\u001B[0;32m--> 680\u001B[0m \u001B[38;5;28;01mreturn\u001B[39;00m \u001B[43m_read\u001B[49m\u001B[43m(\u001B[49m\u001B[43mfilepath_or_buffer\u001B[49m\u001B[43m,\u001B[49m\u001B[43m \u001B[49m\u001B[43mkwds\u001B[49m\u001B[43m)\u001B[49m\n",
      "File \u001B[0;32m~/.ghq/github.com/nnao45/jaist-my-jupyter/.venv/lib/python3.8/site-packages/pandas/io/parsers/readers.py:575\u001B[0m, in \u001B[0;36m_read\u001B[0;34m(filepath_or_buffer, kwds)\u001B[0m\n\u001B[1;32m    572\u001B[0m _validate_names(kwds\u001B[38;5;241m.\u001B[39mget(\u001B[38;5;124m\"\u001B[39m\u001B[38;5;124mnames\u001B[39m\u001B[38;5;124m\"\u001B[39m, \u001B[38;5;28;01mNone\u001B[39;00m))\n\u001B[1;32m    574\u001B[0m \u001B[38;5;66;03m# Create the parser.\u001B[39;00m\n\u001B[0;32m--> 575\u001B[0m parser \u001B[38;5;241m=\u001B[39m \u001B[43mTextFileReader\u001B[49m\u001B[43m(\u001B[49m\u001B[43mfilepath_or_buffer\u001B[49m\u001B[43m,\u001B[49m\u001B[43m \u001B[49m\u001B[38;5;241;43m*\u001B[39;49m\u001B[38;5;241;43m*\u001B[39;49m\u001B[43mkwds\u001B[49m\u001B[43m)\u001B[49m\n\u001B[1;32m    577\u001B[0m \u001B[38;5;28;01mif\u001B[39;00m chunksize \u001B[38;5;129;01mor\u001B[39;00m iterator:\n\u001B[1;32m    578\u001B[0m     \u001B[38;5;28;01mreturn\u001B[39;00m parser\n",
      "File \u001B[0;32m~/.ghq/github.com/nnao45/jaist-my-jupyter/.venv/lib/python3.8/site-packages/pandas/io/parsers/readers.py:933\u001B[0m, in \u001B[0;36mTextFileReader.__init__\u001B[0;34m(self, f, engine, **kwds)\u001B[0m\n\u001B[1;32m    930\u001B[0m     \u001B[38;5;28mself\u001B[39m\u001B[38;5;241m.\u001B[39moptions[\u001B[38;5;124m\"\u001B[39m\u001B[38;5;124mhas_index_names\u001B[39m\u001B[38;5;124m\"\u001B[39m] \u001B[38;5;241m=\u001B[39m kwds[\u001B[38;5;124m\"\u001B[39m\u001B[38;5;124mhas_index_names\u001B[39m\u001B[38;5;124m\"\u001B[39m]\n\u001B[1;32m    932\u001B[0m \u001B[38;5;28mself\u001B[39m\u001B[38;5;241m.\u001B[39mhandles: IOHandles \u001B[38;5;241m|\u001B[39m \u001B[38;5;28;01mNone\u001B[39;00m \u001B[38;5;241m=\u001B[39m \u001B[38;5;28;01mNone\u001B[39;00m\n\u001B[0;32m--> 933\u001B[0m \u001B[38;5;28mself\u001B[39m\u001B[38;5;241m.\u001B[39m_engine \u001B[38;5;241m=\u001B[39m \u001B[38;5;28;43mself\u001B[39;49m\u001B[38;5;241;43m.\u001B[39;49m\u001B[43m_make_engine\u001B[49m\u001B[43m(\u001B[49m\u001B[43mf\u001B[49m\u001B[43m,\u001B[49m\u001B[43m \u001B[49m\u001B[38;5;28;43mself\u001B[39;49m\u001B[38;5;241;43m.\u001B[39;49m\u001B[43mengine\u001B[49m\u001B[43m)\u001B[49m\n",
      "File \u001B[0;32m~/.ghq/github.com/nnao45/jaist-my-jupyter/.venv/lib/python3.8/site-packages/pandas/io/parsers/readers.py:1217\u001B[0m, in \u001B[0;36mTextFileReader._make_engine\u001B[0;34m(self, f, engine)\u001B[0m\n\u001B[1;32m   1213\u001B[0m     mode \u001B[38;5;241m=\u001B[39m \u001B[38;5;124m\"\u001B[39m\u001B[38;5;124mrb\u001B[39m\u001B[38;5;124m\"\u001B[39m\n\u001B[1;32m   1214\u001B[0m \u001B[38;5;66;03m# error: No overload variant of \"get_handle\" matches argument types\u001B[39;00m\n\u001B[1;32m   1215\u001B[0m \u001B[38;5;66;03m# \"Union[str, PathLike[str], ReadCsvBuffer[bytes], ReadCsvBuffer[str]]\"\u001B[39;00m\n\u001B[1;32m   1216\u001B[0m \u001B[38;5;66;03m# , \"str\", \"bool\", \"Any\", \"Any\", \"Any\", \"Any\", \"Any\"\u001B[39;00m\n\u001B[0;32m-> 1217\u001B[0m \u001B[38;5;28mself\u001B[39m\u001B[38;5;241m.\u001B[39mhandles \u001B[38;5;241m=\u001B[39m \u001B[43mget_handle\u001B[49m\u001B[43m(\u001B[49m\u001B[43m  \u001B[49m\u001B[38;5;66;43;03m# type: ignore[call-overload]\u001B[39;49;00m\n\u001B[1;32m   1218\u001B[0m \u001B[43m    \u001B[49m\u001B[43mf\u001B[49m\u001B[43m,\u001B[49m\n\u001B[1;32m   1219\u001B[0m \u001B[43m    \u001B[49m\u001B[43mmode\u001B[49m\u001B[43m,\u001B[49m\n\u001B[1;32m   1220\u001B[0m \u001B[43m    \u001B[49m\u001B[43mencoding\u001B[49m\u001B[38;5;241;43m=\u001B[39;49m\u001B[38;5;28;43mself\u001B[39;49m\u001B[38;5;241;43m.\u001B[39;49m\u001B[43moptions\u001B[49m\u001B[38;5;241;43m.\u001B[39;49m\u001B[43mget\u001B[49m\u001B[43m(\u001B[49m\u001B[38;5;124;43m\"\u001B[39;49m\u001B[38;5;124;43mencoding\u001B[39;49m\u001B[38;5;124;43m\"\u001B[39;49m\u001B[43m,\u001B[49m\u001B[43m \u001B[49m\u001B[38;5;28;43;01mNone\u001B[39;49;00m\u001B[43m)\u001B[49m\u001B[43m,\u001B[49m\n\u001B[1;32m   1221\u001B[0m \u001B[43m    \u001B[49m\u001B[43mcompression\u001B[49m\u001B[38;5;241;43m=\u001B[39;49m\u001B[38;5;28;43mself\u001B[39;49m\u001B[38;5;241;43m.\u001B[39;49m\u001B[43moptions\u001B[49m\u001B[38;5;241;43m.\u001B[39;49m\u001B[43mget\u001B[49m\u001B[43m(\u001B[49m\u001B[38;5;124;43m\"\u001B[39;49m\u001B[38;5;124;43mcompression\u001B[39;49m\u001B[38;5;124;43m\"\u001B[39;49m\u001B[43m,\u001B[49m\u001B[43m \u001B[49m\u001B[38;5;28;43;01mNone\u001B[39;49;00m\u001B[43m)\u001B[49m\u001B[43m,\u001B[49m\n\u001B[1;32m   1222\u001B[0m \u001B[43m    \u001B[49m\u001B[43mmemory_map\u001B[49m\u001B[38;5;241;43m=\u001B[39;49m\u001B[38;5;28;43mself\u001B[39;49m\u001B[38;5;241;43m.\u001B[39;49m\u001B[43moptions\u001B[49m\u001B[38;5;241;43m.\u001B[39;49m\u001B[43mget\u001B[49m\u001B[43m(\u001B[49m\u001B[38;5;124;43m\"\u001B[39;49m\u001B[38;5;124;43mmemory_map\u001B[39;49m\u001B[38;5;124;43m\"\u001B[39;49m\u001B[43m,\u001B[49m\u001B[43m \u001B[49m\u001B[38;5;28;43;01mFalse\u001B[39;49;00m\u001B[43m)\u001B[49m\u001B[43m,\u001B[49m\n\u001B[1;32m   1223\u001B[0m \u001B[43m    \u001B[49m\u001B[43mis_text\u001B[49m\u001B[38;5;241;43m=\u001B[39;49m\u001B[43mis_text\u001B[49m\u001B[43m,\u001B[49m\n\u001B[1;32m   1224\u001B[0m \u001B[43m    \u001B[49m\u001B[43merrors\u001B[49m\u001B[38;5;241;43m=\u001B[39;49m\u001B[38;5;28;43mself\u001B[39;49m\u001B[38;5;241;43m.\u001B[39;49m\u001B[43moptions\u001B[49m\u001B[38;5;241;43m.\u001B[39;49m\u001B[43mget\u001B[49m\u001B[43m(\u001B[49m\u001B[38;5;124;43m\"\u001B[39;49m\u001B[38;5;124;43mencoding_errors\u001B[39;49m\u001B[38;5;124;43m\"\u001B[39;49m\u001B[43m,\u001B[49m\u001B[43m \u001B[49m\u001B[38;5;124;43m\"\u001B[39;49m\u001B[38;5;124;43mstrict\u001B[39;49m\u001B[38;5;124;43m\"\u001B[39;49m\u001B[43m)\u001B[49m\u001B[43m,\u001B[49m\n\u001B[1;32m   1225\u001B[0m \u001B[43m    \u001B[49m\u001B[43mstorage_options\u001B[49m\u001B[38;5;241;43m=\u001B[39;49m\u001B[38;5;28;43mself\u001B[39;49m\u001B[38;5;241;43m.\u001B[39;49m\u001B[43moptions\u001B[49m\u001B[38;5;241;43m.\u001B[39;49m\u001B[43mget\u001B[49m\u001B[43m(\u001B[49m\u001B[38;5;124;43m\"\u001B[39;49m\u001B[38;5;124;43mstorage_options\u001B[39;49m\u001B[38;5;124;43m\"\u001B[39;49m\u001B[43m,\u001B[49m\u001B[43m \u001B[49m\u001B[38;5;28;43;01mNone\u001B[39;49;00m\u001B[43m)\u001B[49m\u001B[43m,\u001B[49m\n\u001B[1;32m   1226\u001B[0m \u001B[43m\u001B[49m\u001B[43m)\u001B[49m\n\u001B[1;32m   1227\u001B[0m \u001B[38;5;28;01massert\u001B[39;00m \u001B[38;5;28mself\u001B[39m\u001B[38;5;241m.\u001B[39mhandles \u001B[38;5;129;01mis\u001B[39;00m \u001B[38;5;129;01mnot\u001B[39;00m \u001B[38;5;28;01mNone\u001B[39;00m\n\u001B[1;32m   1228\u001B[0m f \u001B[38;5;241m=\u001B[39m \u001B[38;5;28mself\u001B[39m\u001B[38;5;241m.\u001B[39mhandles\u001B[38;5;241m.\u001B[39mhandle\n",
      "File \u001B[0;32m~/.ghq/github.com/nnao45/jaist-my-jupyter/.venv/lib/python3.8/site-packages/pandas/io/common.py:789\u001B[0m, in \u001B[0;36mget_handle\u001B[0;34m(path_or_buf, mode, encoding, compression, memory_map, is_text, errors, storage_options)\u001B[0m\n\u001B[1;32m    784\u001B[0m \u001B[38;5;28;01melif\u001B[39;00m \u001B[38;5;28misinstance\u001B[39m(handle, \u001B[38;5;28mstr\u001B[39m):\n\u001B[1;32m    785\u001B[0m     \u001B[38;5;66;03m# Check whether the filename is to be opened in binary mode.\u001B[39;00m\n\u001B[1;32m    786\u001B[0m     \u001B[38;5;66;03m# Binary mode does not support 'encoding' and 'newline'.\u001B[39;00m\n\u001B[1;32m    787\u001B[0m     \u001B[38;5;28;01mif\u001B[39;00m ioargs\u001B[38;5;241m.\u001B[39mencoding \u001B[38;5;129;01mand\u001B[39;00m \u001B[38;5;124m\"\u001B[39m\u001B[38;5;124mb\u001B[39m\u001B[38;5;124m\"\u001B[39m \u001B[38;5;129;01mnot\u001B[39;00m \u001B[38;5;129;01min\u001B[39;00m ioargs\u001B[38;5;241m.\u001B[39mmode:\n\u001B[1;32m    788\u001B[0m         \u001B[38;5;66;03m# Encoding\u001B[39;00m\n\u001B[0;32m--> 789\u001B[0m         handle \u001B[38;5;241m=\u001B[39m \u001B[38;5;28;43mopen\u001B[39;49m\u001B[43m(\u001B[49m\n\u001B[1;32m    790\u001B[0m \u001B[43m            \u001B[49m\u001B[43mhandle\u001B[49m\u001B[43m,\u001B[49m\n\u001B[1;32m    791\u001B[0m \u001B[43m            \u001B[49m\u001B[43mioargs\u001B[49m\u001B[38;5;241;43m.\u001B[39;49m\u001B[43mmode\u001B[49m\u001B[43m,\u001B[49m\n\u001B[1;32m    792\u001B[0m \u001B[43m            \u001B[49m\u001B[43mencoding\u001B[49m\u001B[38;5;241;43m=\u001B[39;49m\u001B[43mioargs\u001B[49m\u001B[38;5;241;43m.\u001B[39;49m\u001B[43mencoding\u001B[49m\u001B[43m,\u001B[49m\n\u001B[1;32m    793\u001B[0m \u001B[43m            \u001B[49m\u001B[43merrors\u001B[49m\u001B[38;5;241;43m=\u001B[39;49m\u001B[43merrors\u001B[49m\u001B[43m,\u001B[49m\n\u001B[1;32m    794\u001B[0m \u001B[43m            \u001B[49m\u001B[43mnewline\u001B[49m\u001B[38;5;241;43m=\u001B[39;49m\u001B[38;5;124;43m\"\u001B[39;49m\u001B[38;5;124;43m\"\u001B[39;49m\u001B[43m,\u001B[49m\n\u001B[1;32m    795\u001B[0m \u001B[43m        \u001B[49m\u001B[43m)\u001B[49m\n\u001B[1;32m    796\u001B[0m     \u001B[38;5;28;01melse\u001B[39;00m:\n\u001B[1;32m    797\u001B[0m         \u001B[38;5;66;03m# Binary mode\u001B[39;00m\n\u001B[1;32m    798\u001B[0m         handle \u001B[38;5;241m=\u001B[39m \u001B[38;5;28mopen\u001B[39m(handle, ioargs\u001B[38;5;241m.\u001B[39mmode)\n",
      "\u001B[0;31mFileNotFoundError\u001B[0m: [Errno 2] No such file or directory: 'wc_day62_1.csv'"
     ]
    }
   ],
   "source": [
    "df_SS_2 = (         pd.read_csv(\"wc_day62_1.csv\")\n",
    "            .append(pd.read_csv(\"wc_day62_2.csv\"), ignore_index=True)\n",
    "            .append(pd.read_csv(\"wc_day62_3.csv\"), ignore_index=True)\n",
    "            .append(pd.read_csv(\"wc_day62_4.csv\"), ignore_index=True)\n",
    "            .append(pd.read_csv(\"wc_day62_5.csv\"), ignore_index=True)\n",
    "            .append(pd.read_csv(\"wc_day62_6.csv\"), ignore_index=True)\n",
    "            .append(pd.read_csv(\"wc_day62_7.csv\"), ignore_index=True)\n",
    "            .append(pd.read_csv(\"wc_day62_8.csv\"), ignore_index=True)\n",
    "            .append(pd.read_csv(\"wc_day62_9.csv\"), ignore_index=True)\n",
    "            .append(pd.read_csv(\"wc_day62_10.csv\"), ignore_index=True)\n",
    "            .append(pd.read_csv(\"wc_day63_1.csv\"), ignore_index=True)\n",
    "            .append(pd.read_csv(\"wc_day63_2.csv\"), ignore_index=True)\n",
    ")\n",
    "df_SS_2.to_csv('wc_day62_63.csv')"
   ],
   "metadata": {
    "collapsed": false,
    "pycharm": {
     "name": "#%%\n"
    }
   }
  },
  {
   "cell_type": "code",
   "execution_count": 3,
   "outputs": [
    {
     "data": {
      "text/plain": "[<matplotlib.lines.Line2D at 0x11b3b9670>]"
     },
     "execution_count": 3,
     "metadata": {},
     "output_type": "execute_result"
    },
    {
     "data": {
      "text/plain": "<Figure size 432x288 with 1 Axes>",
      "image/png": "[encoded data removed]"
     },
     "metadata": {
      "needs_background": "light"
     },
     "output_type": "display_data"
    }
   ],
   "source": [
    "df_SS_2 = pd.read_csv(\"wc_day62_63.csv\")\n",
    "df_SS_date_2 =  pd.to_datetime(df_SS_2[\"date\"]).astype(int).array.reshape(-1, 1)\n",
    "df_SS_count_2 = df_SS_2[\"count\"].array.reshape(-1, 1)\n",
    "plt.plot(df_SS_date_2, df_SS_count_2)"
   ],
   "metadata": {
    "collapsed": false,
    "pycharm": {
     "name": "#%%\n"
    }
   }
  },
  {
   "cell_type": "code",
   "execution_count": 55,
   "outputs": [
    {
     "name": "stdout",
     "output_type": "stream",
     "text": [
      "wowow!! a!!\n"
     ]
    },
    {
     "ename": "AttributeError",
     "evalue": "'NoneType' object has no attribute 'wow'",
     "output_type": "error",
     "traceback": [
      "\u001B[0;31m---------------------------------------------------------------------------\u001B[0m",
      "\u001B[0;31mAttributeError\u001B[0m                            Traceback (most recent call last)",
      "Input \u001B[0;32mIn [55]\u001B[0m, in \u001B[0;36m<cell line: 19>\u001B[0;34m()\u001B[0m\n\u001B[1;32m     16\u001B[0m         \u001B[38;5;28mprint\u001B[39m(\u001B[38;5;124mf\u001B[39m\u001B[38;5;124m\"\u001B[39m\u001B[38;5;124mwowow!! \u001B[39m\u001B[38;5;132;01m{\u001B[39;00m\u001B[38;5;28mself\u001B[39m\u001B[38;5;241m.\u001B[39mval\u001B[38;5;132;01m}\u001B[39;00m\u001B[38;5;124m!!\u001B[39m\u001B[38;5;124m\"\u001B[39m)\n\u001B[1;32m     18\u001B[0m Hoge\u001B[38;5;241m.\u001B[39mapply(\u001B[38;5;124m'\u001B[39m\u001B[38;5;124ma\u001B[39m\u001B[38;5;124m'\u001B[39m)\u001B[38;5;241m.\u001B[39mwow()\n\u001B[0;32m---> 19\u001B[0m \u001B[43mHoge\u001B[49m\u001B[38;5;241;43m.\u001B[39;49m\u001B[43mapply\u001B[49m\u001B[43m(\u001B[49m\u001B[38;5;124;43m'\u001B[39;49m\u001B[38;5;124;43mbaa\u001B[39;49m\u001B[38;5;124;43m'\u001B[39;49m\u001B[43m)\u001B[49m\u001B[38;5;241;43m.\u001B[39;49m\u001B[43mwow\u001B[49m()\n",
      "\u001B[0;31mAttributeError\u001B[0m: 'NoneType' object has no attribute 'wow'"
     ]
    }
   ],
   "source": [
    "\n",
    "from typing import Optional\n",
    "import dataclasses\n",
    "\n",
    "@dataclasses.dataclass\n",
    "class Hoge:\n",
    "    val: str\n",
    "\n",
    "    @staticmethod\n",
    "    def apply(raw: str) -> Optional['Hoge']:\n",
    "        if raw == \"a\":\n",
    "            return Hoge(raw)\n",
    "        else:\n",
    "            return None\n",
    "\n",
    "    def wow(self):\n",
    "        print(f\"wowow!! {self.val}!!\")\n",
    "\n",
    "Hoge.apply('a').wow()\n",
    "Hoge.apply('baa').wow()"
   ],
   "metadata": {
    "collapsed": false,
    "pycharm": {
     "name": "#%%\n"
    }
   }
  },
  {
   "cell_type": "code",
   "execution_count": 52,
   "outputs": [
    {
     "name": "stdout",
     "output_type": "stream",
     "text": [
      "Some\n"
     ]
    }
   ],
   "source": [
    "if Hoge(\"howaaa\") is None:\n",
    "    print(\"None\")\n",
    "else:\n",
    "    print(\"Some\")"
   ],
   "metadata": {
    "collapsed": false,
    "pycharm": {
     "name": "#%%\n"
    }
   }
  },
  {
   "cell_type": "code",
   "execution_count": 53,
   "outputs": [
    {
     "name": "stdout",
     "output_type": "stream",
     "text": [
      "Some\n"
     ]
    }
   ],
   "source": [
    "if Hoge(\"a\") is None:\n",
    "    print(\"None\")\n",
    "else:\n",
    "    print(\"Some\")"
   ],
   "metadata": {
    "collapsed": false,
    "pycharm": {
     "name": "#%%\n"
    }
   }
  },
  {
   "cell_type": "code",
   "execution_count": null,
   "outputs": [],
   "source": [],
   "metadata": {
    "collapsed": false,
    "pycharm": {
     "name": "#%%\n"
    }
   }
  },
  {
   "cell_type": "code",
   "execution_count": 47,
   "metadata": {
    "pycharm": {
     "name": "#%%\n"
    }
   },
   "outputs": [
    {
     "data": {
      "text/html": [
       "<div>\n",
       "<style scoped>\n",
       "    .dataframe tbody tr th:only-of-type {\n",
       "        vertical-align: middle;\n",
       "    }\n",
       "\n",
       "    .dataframe tbody tr th {\n",
       "        vertical-align: top;\n",
       "    }\n",
       "\n",
       "    .dataframe thead th {\n",
       "        text-align: right;\n",
       "    }\n",
       "</style>\n",
       "<table border=\"1\" class=\"dataframe\">\n",
       "  <thead>\n",
       "    <tr style=\"text-align: right;\">\n",
       "      <th></th>\n",
       "      <th>Unnamed: 0</th>\n",
       "      <th>date</th>\n",
       "      <th>count</th>\n",
       "    </tr>\n",
       "  </thead>\n",
       "  <tbody>\n",
       "    <tr>\n",
       "      <th>0</th>\n",
       "      <td>0</td>\n",
       "      <td>1998-06-30 22:00:01</td>\n",
       "      <td>496</td>\n",
       "    </tr>\n",
       "    <tr>\n",
       "      <th>1</th>\n",
       "      <td>1</td>\n",
       "      <td>1998-06-30 22:00:02</td>\n",
       "      <td>1110</td>\n",
       "    </tr>\n",
       "    <tr>\n",
       "      <th>2</th>\n",
       "      <td>2</td>\n",
       "      <td>1998-06-30 22:00:03</td>\n",
       "      <td>1302</td>\n",
       "    </tr>\n",
       "    <tr>\n",
       "      <th>3</th>\n",
       "      <td>3</td>\n",
       "      <td>1998-06-30 22:00:04</td>\n",
       "      <td>1461</td>\n",
       "    </tr>\n",
       "    <tr>\n",
       "      <th>4</th>\n",
       "      <td>4</td>\n",
       "      <td>1998-06-30 22:00:05</td>\n",
       "      <td>1813</td>\n",
       "    </tr>\n",
       "    <tr>\n",
       "      <th>...</th>\n",
       "      <td>...</td>\n",
       "      <td>...</td>\n",
       "      <td>...</td>\n",
       "    </tr>\n",
       "    <tr>\n",
       "      <th>216437</th>\n",
       "      <td>43631</td>\n",
       "      <td>1998-07-03 10:07:12</td>\n",
       "      <td>164</td>\n",
       "    </tr>\n",
       "    <tr>\n",
       "      <th>216438</th>\n",
       "      <td>43632</td>\n",
       "      <td>1998-07-03 10:07:13</td>\n",
       "      <td>176</td>\n",
       "    </tr>\n",
       "    <tr>\n",
       "      <th>216439</th>\n",
       "      <td>43633</td>\n",
       "      <td>1998-07-03 10:07:14</td>\n",
       "      <td>159</td>\n",
       "    </tr>\n",
       "    <tr>\n",
       "      <th>216440</th>\n",
       "      <td>43634</td>\n",
       "      <td>1998-07-03 10:07:15</td>\n",
       "      <td>173</td>\n",
       "    </tr>\n",
       "    <tr>\n",
       "      <th>216441</th>\n",
       "      <td>43635</td>\n",
       "      <td>1998-07-03 10:07:16</td>\n",
       "      <td>13</td>\n",
       "    </tr>\n",
       "  </tbody>\n",
       "</table>\n",
       "<p>216442 rows × 3 columns</p>\n",
       "</div>"
      ],
      "text/plain": [
       "        Unnamed: 0                 date  count\n",
       "0                0  1998-06-30 22:00:01    496\n",
       "1                1  1998-06-30 22:00:02   1110\n",
       "2                2  1998-06-30 22:00:03   1302\n",
       "3                3  1998-06-30 22:00:04   1461\n",
       "4                4  1998-06-30 22:00:05   1813\n",
       "...            ...                  ...    ...\n",
       "216437       43631  1998-07-03 10:07:12    164\n",
       "216438       43632  1998-07-03 10:07:13    176\n",
       "216439       43633  1998-07-03 10:07:14    159\n",
       "216440       43634  1998-07-03 10:07:15    173\n",
       "216441       43635  1998-07-03 10:07:16     13\n",
       "\n",
       "[216442 rows x 3 columns]"
      ]
     },
     "execution_count": 47,
     "metadata": {},
     "output_type": "execute_result"
    }
   ],
   "source": [
    "df_SS"
   ]
  },
  {
   "cell_type": "code",
   "execution_count": 51,
   "metadata": {
    "pycharm": {
     "name": "#%%\n"
    }
   },
   "outputs": [
    {
     "data": {
      "text/plain": [
       "[<matplotlib.lines.Line2D at 0x15dd857c0>]"
      ]
     },
     "execution_count": 51,
     "metadata": {},
     "output_type": "execute_result"
    },
    {
     "data": {
      "image/png": "[encoded data removed]",
      "text/plain": [
       "<Figure size 432x288 with 1 Axes>"
      ]
     },
     "metadata": {
      "needs_background": "light"
     },
     "output_type": "display_data"
    }
   ],
   "source": [
    "df_SS_date =  pd.to_datetime(df_SS[\"date\"]).astype(int).array.reshape(-1, 1)\n",
    "df_SS_count = df_SS[\"count\"].array.reshape(-1, 1)\n",
    "plt.plot(df_SS_date, df_SS_count)"
   ]
  },
  {
   "cell_type": "code",
   "execution_count": null,
   "metadata": {
    "pycharm": {
     "name": "#%%\n"
    }
   },
   "outputs": [],
   "source": [
    "df_SS_date = df_S_date = pd.to_datetime(df_S[\"date\"]).astype(int).array.reshape(-1, 1)\n",
    "df_SS_count = df_S[\"count\"].array.reshape(-1, 1)"
   ]
  },
  {
   "cell_type": "code",
   "execution_count": 53,
   "metadata": {
    "pycharm": {
     "name": "#%%\n"
    }
   },
   "outputs": [],
   "source": [
    "def log2csv(prefix: str):\n",
    "    log_line_data = []\n",
    "    with open(f\"{os.getcwd()}/{prefix}.log\", mode='r', encoding=\"utf8\", errors='ignore') as f1:\n",
    "        log_line_data = np.array([line for line in f1.readlines()])\n",
    "    replaced = pd.DataFrame([{\"date\": datetime.strptime(line.split()[3]+\" \"+line.split()[4],  \"[%d/%b/%Y:%H:%M:%S +0000]\"), \"count\": 1} for line in log_line_data])\n",
    "    replaced.groupby(pd.Grouper(key=\"date\", freq=\"S\")).sum().reset_index().to_csv(f\"{prefix}.csv\")\n"
   ]
  },
  {
   "cell_type": "code",
   "execution_count": 54,
   "metadata": {
    "pycharm": {
     "name": "#%%\n"
    }
   },
   "outputs": [],
   "source": [
    "log2csv(\"wc_day62_1\")\n",
    "log2csv(\"wc_day62_2\")\n",
    "log2csv(\"wc_day62_3\")\n",
    "log2csv(\"wc_day62_4\")\n",
    "log2csv(\"wc_day62_5\")\n",
    "log2csv(\"wc_day62_6\")\n",
    "log2csv(\"wc_day62_7\")\n",
    "log2csv(\"wc_day62_8\")\n",
    "log2csv(\"wc_day62_9\")\n",
    "log2csv(\"wc_day62_1\")\n",
    "log2csv(\"wc_day63_1\")\n",
    "log2csv(\"wc_day63_2\")"
   ]
  },
  {
   "cell_type": "code",
   "execution_count": 55,
   "metadata": {
    "pycharm": {
     "name": "#%%\n"
    }
   },
   "outputs": [],
   "source": [
    "log2csv(\"wc_day62_10\")"
   ]
  },
  {
   "cell_type": "code",
   "execution_count": 60,
   "metadata": {
    "pycharm": {
     "name": "#%%\n"
    }
   },
   "outputs": [
    {
     "name": "stderr",
     "output_type": "stream",
     "text": [
      "/var/folders/zk/cf948rq56631k5dgzn62fkjm0000gn/T/ipykernel_18334/789111281.py:1: FutureWarning: The frame.append method is deprecated and will be removed from pandas in a future version. Use pandas.concat instead.\n",
      "  df_SS_2 = (         pd.read_csv(\"wc_day62_1.csv\")\n",
      "/var/folders/zk/cf948rq56631k5dgzn62fkjm0000gn/T/ipykernel_18334/789111281.py:1: FutureWarning: The frame.append method is deprecated and will be removed from pandas in a future version. Use pandas.concat instead.\n",
      "  df_SS_2 = (         pd.read_csv(\"wc_day62_1.csv\")\n",
      "/var/folders/zk/cf948rq56631k5dgzn62fkjm0000gn/T/ipykernel_18334/789111281.py:1: FutureWarning: The frame.append method is deprecated and will be removed from pandas in a future version. Use pandas.concat instead.\n",
      "  df_SS_2 = (         pd.read_csv(\"wc_day62_1.csv\")\n",
      "/var/folders/zk/cf948rq56631k5dgzn62fkjm0000gn/T/ipykernel_18334/789111281.py:1: FutureWarning: The frame.append method is deprecated and will be removed from pandas in a future version. Use pandas.concat instead.\n",
      "  df_SS_2 = (         pd.read_csv(\"wc_day62_1.csv\")\n",
      "/var/folders/zk/cf948rq56631k5dgzn62fkjm0000gn/T/ipykernel_18334/789111281.py:1: FutureWarning: The frame.append method is deprecated and will be removed from pandas in a future version. Use pandas.concat instead.\n",
      "  df_SS_2 = (         pd.read_csv(\"wc_day62_1.csv\")\n",
      "/var/folders/zk/cf948rq56631k5dgzn62fkjm0000gn/T/ipykernel_18334/789111281.py:1: FutureWarning: The frame.append method is deprecated and will be removed from pandas in a future version. Use pandas.concat instead.\n",
      "  df_SS_2 = (         pd.read_csv(\"wc_day62_1.csv\")\n",
      "/var/folders/zk/cf948rq56631k5dgzn62fkjm0000gn/T/ipykernel_18334/789111281.py:1: FutureWarning: The frame.append method is deprecated and will be removed from pandas in a future version. Use pandas.concat instead.\n",
      "  df_SS_2 = (         pd.read_csv(\"wc_day62_1.csv\")\n",
      "/var/folders/zk/cf948rq56631k5dgzn62fkjm0000gn/T/ipykernel_18334/789111281.py:1: FutureWarning: The frame.append method is deprecated and will be removed from pandas in a future version. Use pandas.concat instead.\n",
      "  df_SS_2 = (         pd.read_csv(\"wc_day62_1.csv\")\n",
      "/var/folders/zk/cf948rq56631k5dgzn62fkjm0000gn/T/ipykernel_18334/789111281.py:1: FutureWarning: The frame.append method is deprecated and will be removed from pandas in a future version. Use pandas.concat instead.\n",
      "  df_SS_2 = (         pd.read_csv(\"wc_day62_1.csv\")\n",
      "/var/folders/zk/cf948rq56631k5dgzn62fkjm0000gn/T/ipykernel_18334/789111281.py:1: FutureWarning: The frame.append method is deprecated and will be removed from pandas in a future version. Use pandas.concat instead.\n",
      "  df_SS_2 = (         pd.read_csv(\"wc_day62_1.csv\")\n",
      "/var/folders/zk/cf948rq56631k5dgzn62fkjm0000gn/T/ipykernel_18334/789111281.py:1: FutureWarning: The frame.append method is deprecated and will be removed from pandas in a future version. Use pandas.concat instead.\n",
      "  df_SS_2 = (         pd.read_csv(\"wc_day62_1.csv\")\n"
     ]
    }
   ],
   "source": [
    "df_SS_2 = (         pd.read_csv(\"wc_day62_1.csv\")\n",
    "            .append(pd.read_csv(\"wc_day62_2.csv\"), ignore_index=True)\n",
    "            .append(pd.read_csv(\"wc_day62_3.csv\"), ignore_index=True)\n",
    "            .append(pd.read_csv(\"wc_day62_4.csv\"), ignore_index=True)\n",
    "            .append(pd.read_csv(\"wc_day62_5.csv\"), ignore_index=True)\n",
    "            .append(pd.read_csv(\"wc_day62_6.csv\"), ignore_index=True)\n",
    "            .append(pd.read_csv(\"wc_day62_7.csv\"), ignore_index=True)\n",
    "            .append(pd.read_csv(\"wc_day62_8.csv\"), ignore_index=True)\n",
    "            .append(pd.read_csv(\"wc_day62_9.csv\"), ignore_index=True)\n",
    "            .append(pd.read_csv(\"wc_day62_10.csv\"), ignore_index=True)\n",
    "            .append(pd.read_csv(\"wc_day63_1.csv\"), ignore_index=True)\n",
    "            .append(pd.read_csv(\"wc_day63_2.csv\"), ignore_index=True)\n",
    ")\n",
    "df_SS_2.to_csv('wc_day62_63.csv')"
   ]
  },
  {
   "cell_type": "code",
   "execution_count": 6,
   "metadata": {
    "pycharm": {
     "name": "#%%\n"
    }
   },
   "outputs": [
    {
     "data": {
      "text/plain": "[<matplotlib.lines.Line2D at 0x12727f730>]"
     },
     "execution_count": 6,
     "metadata": {},
     "output_type": "execute_result"
    },
    {
     "data": {
      "text/plain": "<Figure size 432x288 with 1 Axes>",
      "image/png": "[encoded data removed]"
     },
     "metadata": {
      "needs_background": "light"
     },
     "output_type": "display_data"
    }
   ],
   "source": [
    "df_SS_2 = pd.read_csv(\"wc_day62_63.csv\")\n",
    "df_SS_date_2 =  pd.to_datetime(df_SS_2[\"date\"]).astype(int).array.reshape(-1, 1)\n",
    "df_SS_count_2 = df_SS_2[\"count\"].array.reshape(-1, 1)\n",
    "plt.plot(df_SS_date_2, df_SS_count_2)"
   ]
  },
  {
   "cell_type": "code",
   "execution_count": 7,
   "outputs": [
    {
     "data": {
      "text/plain": "        Unnamed: 0.1  Unnamed: 0                 date  count\n0                  0           0  1998-06-25 22:00:01    116\n1                  1           1  1998-06-25 22:00:02    281\n2                  2           2  1998-06-25 22:00:03    307\n3                  3           3  1998-06-25 22:00:04    350\n4                  4           4  1998-06-25 22:00:05    380\n...              ...         ...                  ...    ...\n149756        149756       37731  1998-06-27 15:35:47    382\n149757        149757       37732  1998-06-27 15:35:48    448\n149758        149758       37733  1998-06-27 15:35:49    414\n149759        149759       37734  1998-06-27 15:35:50    413\n149760        149760       37735  1998-06-27 15:35:51    291\n\n[149761 rows x 4 columns]",
      "text/html": "<div>\n<style scoped>\n    .dataframe tbody tr th:only-of-type {\n        vertical-align: middle;\n    }\n\n    .dataframe tbody tr th {\n        vertical-align: top;\n    }\n\n    .dataframe thead th {\n        text-align: right;\n    }\n</style>\n<table border=\"1\" class=\"dataframe\">\n  <thead>\n    <tr style=\"text-align: right;\">\n      <th></th>\n      <th>Unnamed: 0.1</th>\n      <th>Unnamed: 0</th>\n      <th>date</th>\n      <th>count</th>\n    </tr>\n  </thead>\n  <tbody>\n    <tr>\n      <th>0</th>\n      <td>0</td>\n      <td>0</td>\n      <td>1998-06-25 22:00:01</td>\n      <td>116</td>\n    </tr>\n    <tr>\n      <th>1</th>\n      <td>1</td>\n      <td>1</td>\n      <td>1998-06-25 22:00:02</td>\n      <td>281</td>\n    </tr>\n    <tr>\n      <th>2</th>\n      <td>2</td>\n      <td>2</td>\n      <td>1998-06-25 22:00:03</td>\n      <td>307</td>\n    </tr>\n    <tr>\n      <th>3</th>\n      <td>3</td>\n      <td>3</td>\n      <td>1998-06-25 22:00:04</td>\n      <td>350</td>\n    </tr>\n    <tr>\n      <th>4</th>\n      <td>4</td>\n      <td>4</td>\n      <td>1998-06-25 22:00:05</td>\n      <td>380</td>\n    </tr>\n    <tr>\n      <th>...</th>\n      <td>...</td>\n      <td>...</td>\n      <td>...</td>\n      <td>...</td>\n    </tr>\n    <tr>\n      <th>149756</th>\n      <td>149756</td>\n      <td>37731</td>\n      <td>1998-06-27 15:35:47</td>\n      <td>382</td>\n    </tr>\n    <tr>\n      <th>149757</th>\n      <td>149757</td>\n      <td>37732</td>\n      <td>1998-06-27 15:35:48</td>\n      <td>448</td>\n    </tr>\n    <tr>\n      <th>149758</th>\n      <td>149758</td>\n      <td>37733</td>\n      <td>1998-06-27 15:35:49</td>\n      <td>414</td>\n    </tr>\n    <tr>\n      <th>149759</th>\n      <td>149759</td>\n      <td>37734</td>\n      <td>1998-06-27 15:35:50</td>\n      <td>413</td>\n    </tr>\n    <tr>\n      <th>149760</th>\n      <td>149760</td>\n      <td>37735</td>\n      <td>1998-06-27 15:35:51</td>\n      <td>291</td>\n    </tr>\n  </tbody>\n</table>\n<p>149761 rows × 4 columns</p>\n</div>"
     },
     "execution_count": 7,
     "metadata": {},
     "output_type": "execute_result"
    }
   ],
   "source": [
    "df_SS_2\n"
   ],
   "metadata": {
    "collapsed": false,
    "pycharm": {
     "name": "#%%\n"
    }
   }
  },
  {
   "cell_type": "code",
   "execution_count": null,
   "outputs": [],
   "source": [],
   "metadata": {
    "collapsed": false,
    "pycharm": {
     "name": "#%%\n"
    }
   }
  }
 ],
 "metadata": {
  "kernelspec": {
   "display_name": "Python 3.8.13 ('.venv': poetry)",
   "language": "python",
   "name": "python3"
  },
  "language_info": {
   "codemirror_mode": {
    "name": "ipython",
    "version": 3
   },
   "file_extension": ".py",
   "mimetype": "text/x-python",
   "name": "python",
   "nbconvert_exporter": "python",
   "pygments_lexer": "ipython3",
   "version": "3.8.13"
  },
  "orig_nbformat": 4,
  "vscode": {
   "interpreter": {
    "hash": "0832aecaa7ed622fdc0197e1700be008ee27148bbf072a7255df15408d95786a"
   }
  }
 },
 "nbformat": 4,
 "nbformat_minor": 2
}