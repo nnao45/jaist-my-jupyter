{
 "cells": [
  {
   "cell_type": "code",
   "execution_count": 1,
   "metadata": {},
   "outputs": [],
   "source": [
    "%matplotlib inline\n",
    "import numpy as np\n",
    "import pandas as pd\n",
    "from sklearn.linear_model import Ridge, Lasso, ElasticNet\n",
    "from sklearn.metrics import mean_squared_error,r2_score\n",
    "from sklearn.model_selection import train_test_split, cross_val_score\n",
    "from sklearn import model_selection\n",
    "import matplotlib.pyplot as plt\n",
    "from sklearn.linear_model import LinearRegression, RidgeCV, LassoCV,ElasticNetCV\n",
    "from pyentrp import entropy as pyent\n",
    "import EntropyHub as EH\n",
    "import neurokit2 as nk\n",
    "import random\n",
    "import sampen\n",
    "import requests\n",
    "import io\n",
    "import apache_log_parser\n",
    "from pprint import pprint\n",
    "import os\n",
    "from sklearn import preprocessing\n"
   ]
  },
  {
   "cell_type": "code",
   "execution_count": 45,
   "metadata": {},
   "outputs": [],
   "source": [
    "log_line_data = None\n",
    "line_parser = apache_log_parser.make_parser(\"%h %l %u %t \\\"%r\\\" %>s %b\")\n",
    "with   (open(f\"{os.getcwd()}/wc_day73_1.log\", mode='r') as f1,\n",
    "        open(f\"{os.getcwd()}/wc_day73_2.log\", mode='r') as f2,\n",
    "        open(f\"{os.getcwd()}/wc_day73_3.log\", mode='r') as f3,\n",
    "        open(f\"{os.getcwd()}/wc_day73_4.log\", mode='r') as f4,\n",
    "        open(f\"{os.getcwd()}/wc_day73_5.log\", mode='r') as f5,\n",
    "        open(f\"{os.getcwd()}/wc_day73_6.log\", mode='r') as f6,\n",
    "        open(f\"{os.getcwd()}/wc_day74_1.log\", mode='r') as f7):\n",
    "    log_line_data = [line_parser(line) for line in f1.readlines() + f2.readlines() + f3.readlines() + f4.readlines() + f5.readlines() + f6.readlines() + f7.readlines()]\n"
   ]
  },
  {
   "cell_type": "code",
   "execution_count": 46,
   "metadata": {},
   "outputs": [],
   "source": [
    "df_log_line_data = pd.DataFrame([{\"date\": df_line[\"time_received_datetimeobj\"], \"count\": 1} for df_line in log_line_data])"
   ]
  },
  {
   "cell_type": "code",
   "execution_count": 47,
   "metadata": {},
   "outputs": [],
   "source": [
    "df_S = df_log_line_data.groupby(pd.Grouper(key=\"date\", freq=\"S\")).sum().reset_index()"
   ]
  },
  {
   "cell_type": "code",
   "execution_count": 48,
   "metadata": {},
   "outputs": [],
   "source": [
    "df_S.to_csv(f\"{os.getcwd()}/wc_day73.csv\")"
   ]
  }
 ],
 "metadata": {
  "interpreter": {
   "hash": "ed3e3cd7eaae78a028302f8c60b23327bead7311331f61381685cdcdea648c8d"
  },
  "kernelspec": {
   "display_name": "Python 3.9.1 ('.venv': poetry)",
   "language": "python",
   "name": "python3"
  },
  "language_info": {
   "codemirror_mode": {
    "name": "ipython",
    "version": 3
   },
   "file_extension": ".py",
   "mimetype": "text/x-python",
   "name": "python",
   "nbconvert_exporter": "python",
   "pygments_lexer": "ipython3",
   "version": "3.8.10"
  },
  "orig_nbformat": 4
 },
 "nbformat": 4,
 "nbformat_minor": 2
}
