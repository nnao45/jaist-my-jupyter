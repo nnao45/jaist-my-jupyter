{
 "cells": [
  {
   "cell_type": "code",
   "execution_count": 2,
   "metadata": {},
   "outputs": [
    {
     "data": {
      "text/html": [
       "<div>\n",
       "<style scoped>\n",
       "    .dataframe tbody tr th:only-of-type {\n",
       "        vertical-align: middle;\n",
       "    }\n",
       "\n",
       "    .dataframe tbody tr th {\n",
       "        vertical-align: top;\n",
       "    }\n",
       "\n",
       "    .dataframe thead th {\n",
       "        text-align: right;\n",
       "    }\n",
       "</style>\n",
       "<table border=\"1\" class=\"dataframe\">\n",
       "  <thead>\n",
       "    <tr style=\"text-align: right;\">\n",
       "      <th></th>\n",
       "      <th>年</th>\n",
       "      <th>月</th>\n",
       "      <th>アイスクリーム</th>\n",
       "    </tr>\n",
       "  </thead>\n",
       "  <tbody>\n",
       "    <tr>\n",
       "      <th>0</th>\n",
       "      <td>2003</td>\n",
       "      <td>1</td>\n",
       "      <td>331</td>\n",
       "    </tr>\n",
       "    <tr>\n",
       "      <th>1</th>\n",
       "      <td>2003</td>\n",
       "      <td>2</td>\n",
       "      <td>268</td>\n",
       "    </tr>\n",
       "    <tr>\n",
       "      <th>2</th>\n",
       "      <td>2003</td>\n",
       "      <td>3</td>\n",
       "      <td>365</td>\n",
       "    </tr>\n",
       "    <tr>\n",
       "      <th>3</th>\n",
       "      <td>2003</td>\n",
       "      <td>4</td>\n",
       "      <td>492</td>\n",
       "    </tr>\n",
       "    <tr>\n",
       "      <th>4</th>\n",
       "      <td>2003</td>\n",
       "      <td>5</td>\n",
       "      <td>632</td>\n",
       "    </tr>\n",
       "    <tr>\n",
       "      <th>...</th>\n",
       "      <td>...</td>\n",
       "      <td>...</td>\n",
       "      <td>...</td>\n",
       "    </tr>\n",
       "    <tr>\n",
       "      <th>115</th>\n",
       "      <td>2012</td>\n",
       "      <td>8</td>\n",
       "      <td>1332</td>\n",
       "    </tr>\n",
       "    <tr>\n",
       "      <th>116</th>\n",
       "      <td>2012</td>\n",
       "      <td>9</td>\n",
       "      <td>849</td>\n",
       "    </tr>\n",
       "    <tr>\n",
       "      <th>117</th>\n",
       "      <td>2012</td>\n",
       "      <td>10</td>\n",
       "      <td>515</td>\n",
       "    </tr>\n",
       "    <tr>\n",
       "      <th>118</th>\n",
       "      <td>2012</td>\n",
       "      <td>11</td>\n",
       "      <td>326</td>\n",
       "    </tr>\n",
       "    <tr>\n",
       "      <th>119</th>\n",
       "      <td>2012</td>\n",
       "      <td>12</td>\n",
       "      <td>414</td>\n",
       "    </tr>\n",
       "  </tbody>\n",
       "</table>\n",
       "<p>120 rows × 3 columns</p>\n",
       "</div>"
      ],
      "text/plain": [
       "        年   月  アイスクリーム\n",
       "0    2003   1      331\n",
       "1    2003   2      268\n",
       "2    2003   3      365\n",
       "3    2003   4      492\n",
       "4    2003   5      632\n",
       "..    ...  ..      ...\n",
       "115  2012   8     1332\n",
       "116  2012   9      849\n",
       "117  2012  10      515\n",
       "118  2012  11      326\n",
       "119  2012  12      414\n",
       "\n",
       "[120 rows x 3 columns]"
      ]
     },
     "execution_count": 2,
     "metadata": {},
     "output_type": "execute_result"
    }
   ],
   "source": [
    "import pandas as pd\n",
    "\n",
    "%matplotlib inline\n",
    "import matplotlib.pyplot as plt\n",
    "\n",
    "df_ice = pd.read_csv('./icecream__utf8.csv')\n",
    "df_ice"
   ]
  },
  {
   "cell_type": "code",
   "execution_count": null,
   "metadata": {},
   "outputs": [],
   "source": []
  },
  {
   "cell_type": "code",
   "execution_count": 3,
   "metadata": {},
   "outputs": [
    {
     "data": {
      "text/plain": [
       "<AxesSubplot:>"
      ]
     },
     "execution_count": 3,
     "metadata": {},
     "output_type": "execute_result"
    },
    {
     "data": {
      "image/png": "[encoded data removed]",
      "text/plain": [
       "<Figure size 432x288 with 1 Axes>"
      ]
     },
     "metadata": {
      "needs_background": "light"
     },
     "output_type": "display_data"
    }
   ],
   "source": [
    "df_ice.アイスクリーム.plot()"
   ]
  },
  {
   "cell_type": "code",
   "execution_count": 1,
   "metadata": {},
   "outputs": [
    {
     "ename": "NameError",
     "evalue": "name 'df_ice' is not defined",
     "output_type": "error",
     "traceback": [
      "\u001b[0;31m---------------------------------------------------------------------------\u001b[0m",
      "\u001b[0;31mNameError\u001b[0m                                 Traceback (most recent call last)",
      "\u001b[1;32m/Users/s02435/ghq/github.com/nnao45/jaist-my-jupyter/notebook/cma/test-1.ipynb Cell 4'\u001b[0m in \u001b[0;36m<cell line: 1>\u001b[0;34m()\u001b[0m\n\u001b[0;32m----> <a href='vscode-notebook-cell:/Users/s02435/ghq/github.com/nnao45/jaist-my-jupyter/notebook/cma/test-1.ipynb#ch0000003?line=0'>1</a>\u001b[0m df_ma \u001b[39m=\u001b[39m df_ice\u001b[39m.\u001b[39mアイスクリーム\u001b[39m.\u001b[39mrolling(window\u001b[39m=\u001b[39m\u001b[39m12\u001b[39m)\u001b[39m.\u001b[39mmean()\u001b[39m.\u001b[39mshift(\u001b[39m-\u001b[39m\u001b[39m6\u001b[39m)\n\u001b[1;32m      <a href='vscode-notebook-cell:/Users/s02435/ghq/github.com/nnao45/jaist-my-jupyter/notebook/cma/test-1.ipynb#ch0000003?line=1'>2</a>\u001b[0m df_cma \u001b[39m=\u001b[39m df_ma\u001b[39m.\u001b[39mアイスクリーム\u001b[39m.\u001b[39mrolling(window\u001b[39m=\u001b[39m\u001b[39m2\u001b[39m)\u001b[39m.\u001b[39mmean()\n\u001b[1;32m      <a href='vscode-notebook-cell:/Users/s02435/ghq/github.com/nnao45/jaist-my-jupyter/notebook/cma/test-1.ipynb#ch0000003?line=3'>4</a>\u001b[0m fig, ax \u001b[39m=\u001b[39m plt\u001b[39m.\u001b[39msubplots()\n",
      "\u001b[0;31mNameError\u001b[0m: name 'df_ice' is not defined"
     ]
    }
   ],
   "source": [
    "df_ma = df_ice.アイスクリーム.rolling(window=12).mean().shift(-6)\n",
    "df_cma = df_ma.rolling(window=2).mean()\n",
    "\n",
    "fig, ax = plt.subplots()\n",
    "ax.grid()\n",
    "\n",
    "\n",
    "ax.plot(df_ice)\n",
    "ax.plot(df_cma)\n",
    "fig.tight_layout()"
   ]
  },
  {
   "cell_type": "code",
   "execution_count": 8,
   "metadata": {},
   "outputs": [
    {
     "data": {
      "text/plain": [
       "0     NaN\n",
       "1     NaN\n",
       "2     NaN\n",
       "3     NaN\n",
       "4     NaN\n",
       "       ..\n",
       "115   NaN\n",
       "116   NaN\n",
       "117   NaN\n",
       "118   NaN\n",
       "119   NaN\n",
       "Name: アイスクリーム, Length: 120, dtype: float64"
      ]
     },
     "execution_count": 8,
     "metadata": {},
     "output_type": "execute_result"
    }
   ],
   "source": [
    "df_ma = df_ice.アイスクリーム.rolling(window=12).mean().shift(-6)\n",
    "df_cma = df_ma.rolling(window=2).mean()\n",
    "\n",
    "df_ma"
   ]
  },
  {
   "cell_type": "code",
   "execution_count": 9,
   "metadata": {},
   "outputs": [
    {
     "data": {
      "text/plain": [
       "array([       nan,        nan,        nan,        nan,        nan,\n",
       "              nan, 1.48418198, 1.90022472, 1.29613606, 0.76877235,\n",
       "       0.64653061, 0.73494687, 0.60512894, 0.54151776, 0.61927863,\n",
       "       0.86126024, 1.13090781, 1.31190257, 1.95848735, 1.85129634,\n",
       "       1.12327982, 0.7452243 , 0.6131887 , 0.66268147, 0.55446678,\n",
       "       0.48621949, 0.60534125, 0.91394908, 1.12455216, 1.37597967,\n",
       "       1.76098493, 2.00283126, 1.254314  , 0.77270789, 0.54314247,\n",
       "       0.62480058, 0.56565657, 0.4919189 , 0.66110332, 0.81268524,\n",
       "       1.0657225 , 1.31893322, 1.70839125, 2.08885971, 1.14285714,\n",
       "       0.86007124, 0.58367111, 0.67751692, 0.60169063, 0.50555475,\n",
       "       0.65975281, 0.78849408, 1.10602205, 1.30270691, 1.53887437,\n",
       "       2.16840916, 1.32796951, 0.79150552, 0.54404254, 0.68024354,\n",
       "       0.57182206, 0.46998028, 0.66753873, 0.83268698, 1.14206782,\n",
       "       1.20173566, 1.95197138, 1.96248196, 1.13979381, 0.78410959,\n",
       "       0.57774463, 0.66604102, 0.56536913, 0.49085386, 0.62291555,\n",
       "       0.91515883, 1.22986588, 1.30517928, 1.70417964, 1.92984778,\n",
       "       1.14845456, 0.7919472 , 0.6483871 , 0.70939137, 0.57739084,\n",
       "       0.47464661, 0.58180898, 0.69822559, 1.13459483, 1.27432287,\n",
       "       1.83879539, 2.20768353, 1.32042792, 0.77300613, 0.54117949,\n",
       "       0.65768334, 0.53782383, 0.4538079 , 0.52720839, 0.74456084,\n",
       "       1.0790847 , 1.26661329, 2.02656698, 1.99104218, 1.2272    ,\n",
       "       0.81915597, 0.62138481, 0.66855449, 0.53909356, 0.43598754,\n",
       "       0.60566335, 0.81997783, 1.05468597, 1.26058053,        nan,\n",
       "              nan,        nan,        nan,        nan,        nan])"
      ]
     },
     "execution_count": 9,
     "metadata": {},
     "output_type": "execute_result"
    }
   ],
   "source": [
    "# 原系列（df_ice.アイスクリーム)/中心異動平均系列(df_cma)\n",
    "df_orig_div_cma = df_ice.アイスクリーム / df_cma\n",
    "df_orig_div_cma.values"
   ]
  },
  {
   "cell_type": "code",
   "execution_count": null,
   "metadata": {},
   "outputs": [],
   "source": []
  }
 ],
 "metadata": {
  "interpreter": {
   "hash": "ed3e3cd7eaae78a028302f8c60b23327bead7311331f61381685cdcdea648c8d"
  },
  "kernelspec": {
   "display_name": "Python 3.9.1 ('.venv': poetry)",
   "language": "python",
   "name": "python3"
  },
  "language_info": {
   "codemirror_mode": {
    "name": "ipython",
    "version": 3
   },
   "file_extension": ".py",
   "mimetype": "text/x-python",
   "name": "python",
   "nbconvert_exporter": "python",
   "pygments_lexer": "ipython3",
   "version": "3.9.1"
  },
  "orig_nbformat": 4
 },
 "nbformat": 4,
 "nbformat_minor": 2
}
