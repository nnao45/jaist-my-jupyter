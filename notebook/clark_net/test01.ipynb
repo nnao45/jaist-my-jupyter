{
 "cells": [
  {
   "cell_type": "code",
   "execution_count": 1,
   "metadata": {},
   "outputs": [],
   "source": [
    "%matplotlib inline\n",
    "import pandas as pd\n",
    "import numpy as np\n",
    "import matplotlib.pyplot as plt\n",
    "import requests\n",
    "import io\n",
    "import json\n",
    "import apache_log_parser\n",
    "from pprint import pprint\n",
    "import os"
   ]
  },
  {
   "cell_type": "code",
   "execution_count": 2,
   "metadata": {},
   "outputs": [
    {
     "name": "stdout",
     "output_type": "stream",
     "text": [
      "{'remote_host': '204.249.225.59',\n",
      " 'remote_logname': '-',\n",
      " 'remote_user': '-',\n",
      " 'request_first_line': 'GET /pub/rmharris/catalogs/dawsocat/intro.html '\n",
      "                       'HTTP/1.0',\n",
      " 'request_http_ver': '1.0',\n",
      " 'request_method': 'GET',\n",
      " 'request_url': '/pub/rmharris/catalogs/dawsocat/intro.html',\n",
      " 'request_url_fragment': '',\n",
      " 'request_url_hostname': None,\n",
      " 'request_url_netloc': '',\n",
      " 'request_url_password': None,\n",
      " 'request_url_path': '/pub/rmharris/catalogs/dawsocat/intro.html',\n",
      " 'request_url_port': None,\n",
      " 'request_url_query': '',\n",
      " 'request_url_query_dict': {},\n",
      " 'request_url_query_list': [],\n",
      " 'request_url_query_simple_dict': {},\n",
      " 'request_url_scheme': '',\n",
      " 'request_url_username': None,\n",
      " 'time_received': '[28/Aug/1995:00:00:34 -0400]',\n",
      " 'time_received_datetimeobj': datetime.datetime(1995, 8, 28, 0, 0, 34),\n",
      " 'time_received_isoformat': '1995-08-28T00:00:34',\n",
      " 'time_received_tz_datetimeobj': datetime.datetime(1995, 8, 28, 0, 0, 34, tzinfo='0400'),\n",
      " 'time_received_tz_isoformat': '1995-08-28T00:00:34-04:00',\n",
      " 'time_received_utc_datetimeobj': datetime.datetime(1995, 8, 28, 4, 0, 34, tzinfo='0000'),\n",
      " 'time_received_utc_isoformat': '1995-08-28T04:00:34+00:00'}\n"
     ]
    }
   ],
   "source": [
    "\n",
    "\n",
    "line_parser = apache_log_parser.make_parser(\"%h %l %u %t \\\"%r\\\"\")\n",
    "test_data ='204.249.225.59 - - [28/Aug/1995:00:00:34 -0400] \"GET /pub/rmharris/catalogs/dawsocat/intro.html HTTP/1.0\" 200 3542'\n",
    "log_line_data = line_parser(test_data)\n",
    "pprint(log_line_data)"
   ]
  },
  {
   "cell_type": "code",
   "execution_count": 14,
   "metadata": {},
   "outputs": [],
   "source": [
    "from typing import List\n",
    "\n",
    "log_line_data = None\n",
    "line_parser = apache_log_parser.make_parser(\"%h %l %u %t \\\"%r\\\"\")\n",
    "with open(f\"{os.getcwd()}/clarknet_access_log_Aug28\", mode='r') as f1:\n",
    "    log_line_data = [line_parser(line) for line in f1.readlines()]\n"
   ]
  },
  {
   "cell_type": "code",
   "execution_count": 15,
   "metadata": {},
   "outputs": [
    {
     "data": {
      "text/html": [
       "<div>\n",
       "<style scoped>\n",
       "    .dataframe tbody tr th:only-of-type {\n",
       "        vertical-align: middle;\n",
       "    }\n",
       "\n",
       "    .dataframe tbody tr th {\n",
       "        vertical-align: top;\n",
       "    }\n",
       "\n",
       "    .dataframe thead th {\n",
       "        text-align: right;\n",
       "    }\n",
       "</style>\n",
       "<table border=\"1\" class=\"dataframe\">\n",
       "  <thead>\n",
       "    <tr style=\"text-align: right;\">\n",
       "      <th></th>\n",
       "      <th>date</th>\n",
       "      <th>count</th>\n",
       "    </tr>\n",
       "  </thead>\n",
       "  <tbody>\n",
       "    <tr>\n",
       "      <th>0</th>\n",
       "      <td>1995-08-28 00:00:34</td>\n",
       "      <td>1</td>\n",
       "    </tr>\n",
       "    <tr>\n",
       "      <th>1</th>\n",
       "      <td>1995-08-28 00:00:35</td>\n",
       "      <td>1</td>\n",
       "    </tr>\n",
       "    <tr>\n",
       "      <th>2</th>\n",
       "      <td>1995-08-28 00:00:35</td>\n",
       "      <td>1</td>\n",
       "    </tr>\n",
       "    <tr>\n",
       "      <th>3</th>\n",
       "      <td>1995-08-28 00:00:36</td>\n",
       "      <td>1</td>\n",
       "    </tr>\n",
       "    <tr>\n",
       "      <th>4</th>\n",
       "      <td>1995-08-28 00:00:36</td>\n",
       "      <td>1</td>\n",
       "    </tr>\n",
       "    <tr>\n",
       "      <th>...</th>\n",
       "      <td>...</td>\n",
       "      <td>...</td>\n",
       "    </tr>\n",
       "    <tr>\n",
       "      <th>1654881</th>\n",
       "      <td>1995-09-03 23:58:59</td>\n",
       "      <td>1</td>\n",
       "    </tr>\n",
       "    <tr>\n",
       "      <th>1654882</th>\n",
       "      <td>1995-09-03 23:58:59</td>\n",
       "      <td>1</td>\n",
       "    </tr>\n",
       "    <tr>\n",
       "      <th>1654883</th>\n",
       "      <td>1995-09-03 23:59:00</td>\n",
       "      <td>1</td>\n",
       "    </tr>\n",
       "    <tr>\n",
       "      <th>1654884</th>\n",
       "      <td>1995-09-03 23:59:00</td>\n",
       "      <td>1</td>\n",
       "    </tr>\n",
       "    <tr>\n",
       "      <th>1654885</th>\n",
       "      <td>1995-09-03 23:59:00</td>\n",
       "      <td>1</td>\n",
       "    </tr>\n",
       "  </tbody>\n",
       "</table>\n",
       "<p>1654886 rows × 2 columns</p>\n",
       "</div>"
      ],
      "text/plain": [
       "                       date  count\n",
       "0       1995-08-28 00:00:34      1\n",
       "1       1995-08-28 00:00:35      1\n",
       "2       1995-08-28 00:00:35      1\n",
       "3       1995-08-28 00:00:36      1\n",
       "4       1995-08-28 00:00:36      1\n",
       "...                     ...    ...\n",
       "1654881 1995-09-03 23:58:59      1\n",
       "1654882 1995-09-03 23:58:59      1\n",
       "1654883 1995-09-03 23:59:00      1\n",
       "1654884 1995-09-03 23:59:00      1\n",
       "1654885 1995-09-03 23:59:00      1\n",
       "\n",
       "[1654886 rows x 2 columns]"
      ]
     },
     "execution_count": 15,
     "metadata": {},
     "output_type": "execute_result"
    }
   ],
   "source": [
    "df_log_line_data = pd.DataFrame([{\"date\": df_line[\"time_received_datetimeobj\"], \"count\": 1} for df_line in log_line_data])\n",
    "df_log_line_data"
   ]
  },
  {
   "cell_type": "code",
   "execution_count": 16,
   "metadata": {},
   "outputs": [],
   "source": [
    "df_S = df_log_line_data.groupby(pd.Grouper(key=\"date\", freq=\"S\")).sum().reset_index()\n",
    "df_S.to_csv(f\"{os.getcwd()}/clarknet_access_log_Aug28.csv\")"
   ]
  },
  {
   "cell_type": "code",
   "execution_count": 28,
   "metadata": {},
   "outputs": [
    {
     "data": {
      "text/html": [
       "<div>\n",
       "<style scoped>\n",
       "    .dataframe tbody tr th:only-of-type {\n",
       "        vertical-align: middle;\n",
       "    }\n",
       "\n",
       "    .dataframe tbody tr th {\n",
       "        vertical-align: top;\n",
       "    }\n",
       "\n",
       "    .dataframe thead th {\n",
       "        text-align: right;\n",
       "    }\n",
       "</style>\n",
       "<table border=\"1\" class=\"dataframe\">\n",
       "  <thead>\n",
       "    <tr style=\"text-align: right;\">\n",
       "      <th></th>\n",
       "      <th>date</th>\n",
       "      <th>count</th>\n",
       "    </tr>\n",
       "  </thead>\n",
       "  <tbody>\n",
       "    <tr>\n",
       "      <th>0</th>\n",
       "      <td>1995-08-28 00:00:00</td>\n",
       "      <td>44</td>\n",
       "    </tr>\n",
       "    <tr>\n",
       "      <th>1</th>\n",
       "      <td>1995-08-28 00:01:00</td>\n",
       "      <td>124</td>\n",
       "    </tr>\n",
       "    <tr>\n",
       "      <th>2</th>\n",
       "      <td>1995-08-28 00:02:00</td>\n",
       "      <td>166</td>\n",
       "    </tr>\n",
       "    <tr>\n",
       "      <th>3</th>\n",
       "      <td>1995-08-28 00:03:00</td>\n",
       "      <td>117</td>\n",
       "    </tr>\n",
       "    <tr>\n",
       "      <th>4</th>\n",
       "      <td>1995-08-28 00:04:00</td>\n",
       "      <td>182</td>\n",
       "    </tr>\n",
       "    <tr>\n",
       "      <th>...</th>\n",
       "      <td>...</td>\n",
       "      <td>...</td>\n",
       "    </tr>\n",
       "    <tr>\n",
       "      <th>10075</th>\n",
       "      <td>1995-09-03 23:55:00</td>\n",
       "      <td>154</td>\n",
       "    </tr>\n",
       "    <tr>\n",
       "      <th>10076</th>\n",
       "      <td>1995-09-03 23:56:00</td>\n",
       "      <td>220</td>\n",
       "    </tr>\n",
       "    <tr>\n",
       "      <th>10077</th>\n",
       "      <td>1995-09-03 23:57:00</td>\n",
       "      <td>168</td>\n",
       "    </tr>\n",
       "    <tr>\n",
       "      <th>10078</th>\n",
       "      <td>1995-09-03 23:58:00</td>\n",
       "      <td>151</td>\n",
       "    </tr>\n",
       "    <tr>\n",
       "      <th>10079</th>\n",
       "      <td>1995-09-03 23:59:00</td>\n",
       "      <td>3</td>\n",
       "    </tr>\n",
       "  </tbody>\n",
       "</table>\n",
       "<p>10080 rows × 2 columns</p>\n",
       "</div>"
      ],
      "text/plain": [
       "                     date  count\n",
       "0     1995-08-28 00:00:00     44\n",
       "1     1995-08-28 00:01:00    124\n",
       "2     1995-08-28 00:02:00    166\n",
       "3     1995-08-28 00:03:00    117\n",
       "4     1995-08-28 00:04:00    182\n",
       "...                   ...    ...\n",
       "10075 1995-09-03 23:55:00    154\n",
       "10076 1995-09-03 23:56:00    220\n",
       "10077 1995-09-03 23:57:00    168\n",
       "10078 1995-09-03 23:58:00    151\n",
       "10079 1995-09-03 23:59:00      3\n",
       "\n",
       "[10080 rows x 2 columns]"
      ]
     },
     "execution_count": 28,
     "metadata": {},
     "output_type": "execute_result"
    }
   ],
   "source": [
    "df_log_line_data_by_min = df_log_line_data.groupby(pd.Grouper(key=\"date\", freq=\"min\")).sum().reset_index()\n",
    "df_log_line_data_by_min"
   ]
  },
  {
   "cell_type": "code",
   "execution_count": 23,
   "metadata": {},
   "outputs": [
    {
     "data": {
      "text/html": [
       "<div>\n",
       "<style scoped>\n",
       "    .dataframe tbody tr th:only-of-type {\n",
       "        vertical-align: middle;\n",
       "    }\n",
       "\n",
       "    .dataframe tbody tr th {\n",
       "        vertical-align: top;\n",
       "    }\n",
       "\n",
       "    .dataframe thead th {\n",
       "        text-align: right;\n",
       "    }\n",
       "</style>\n",
       "<table border=\"1\" class=\"dataframe\">\n",
       "  <thead>\n",
       "    <tr style=\"text-align: right;\">\n",
       "      <th></th>\n",
       "      <th>date</th>\n",
       "      <th>count</th>\n",
       "    </tr>\n",
       "  </thead>\n",
       "  <tbody>\n",
       "    <tr>\n",
       "      <th>0</th>\n",
       "      <td>1995-08-28 00:00:00</td>\n",
       "      <td>8478</td>\n",
       "    </tr>\n",
       "    <tr>\n",
       "      <th>1</th>\n",
       "      <td>1995-08-28 01:00:00</td>\n",
       "      <td>6313</td>\n",
       "    </tr>\n",
       "    <tr>\n",
       "      <th>2</th>\n",
       "      <td>1995-08-28 02:00:00</td>\n",
       "      <td>6484</td>\n",
       "    </tr>\n",
       "    <tr>\n",
       "      <th>3</th>\n",
       "      <td>1995-08-28 03:00:00</td>\n",
       "      <td>5790</td>\n",
       "    </tr>\n",
       "    <tr>\n",
       "      <th>4</th>\n",
       "      <td>1995-08-28 04:00:00</td>\n",
       "      <td>4635</td>\n",
       "    </tr>\n",
       "    <tr>\n",
       "      <th>...</th>\n",
       "      <td>...</td>\n",
       "      <td>...</td>\n",
       "    </tr>\n",
       "    <tr>\n",
       "      <th>163</th>\n",
       "      <td>1995-09-03 19:00:00</td>\n",
       "      <td>7461</td>\n",
       "    </tr>\n",
       "    <tr>\n",
       "      <th>164</th>\n",
       "      <td>1995-09-03 20:00:00</td>\n",
       "      <td>7894</td>\n",
       "    </tr>\n",
       "    <tr>\n",
       "      <th>165</th>\n",
       "      <td>1995-09-03 21:00:00</td>\n",
       "      <td>8273</td>\n",
       "    </tr>\n",
       "    <tr>\n",
       "      <th>166</th>\n",
       "      <td>1995-09-03 22:00:00</td>\n",
       "      <td>9125</td>\n",
       "    </tr>\n",
       "    <tr>\n",
       "      <th>167</th>\n",
       "      <td>1995-09-03 23:00:00</td>\n",
       "      <td>8829</td>\n",
       "    </tr>\n",
       "  </tbody>\n",
       "</table>\n",
       "<p>168 rows × 2 columns</p>\n",
       "</div>"
      ],
      "text/plain": [
       "                   date  count\n",
       "0   1995-08-28 00:00:00   8478\n",
       "1   1995-08-28 01:00:00   6313\n",
       "2   1995-08-28 02:00:00   6484\n",
       "3   1995-08-28 03:00:00   5790\n",
       "4   1995-08-28 04:00:00   4635\n",
       "..                  ...    ...\n",
       "163 1995-09-03 19:00:00   7461\n",
       "164 1995-09-03 20:00:00   7894\n",
       "165 1995-09-03 21:00:00   8273\n",
       "166 1995-09-03 22:00:00   9125\n",
       "167 1995-09-03 23:00:00   8829\n",
       "\n",
       "[168 rows x 2 columns]"
      ]
     },
     "execution_count": 23,
     "metadata": {},
     "output_type": "execute_result"
    }
   ],
   "source": [
    "df_log_line_data_by_hourly = df_log_line_data.groupby(pd.Grouper(key=\"date\", freq=\"H\")).sum().reset_index()\n",
    "df_log_line_data_by_hourly"
   ]
  },
  {
   "cell_type": "code",
   "execution_count": 24,
   "metadata": {},
   "outputs": [],
   "source": [
    "df_H_date = (pd.to_datetime(df_log_line_data_by_hourly[\"date\"]).astype(int) / 10**9).array.reshape(-1, 1)\n",
    "df_H_count = df_log_line_data_by_hourly[\"count\"].array.reshape(-1, 1)"
   ]
  },
  {
   "cell_type": "code",
   "execution_count": 25,
   "metadata": {},
   "outputs": [
    {
     "data": {
      "text/plain": [
       "[<matplotlib.lines.Line2D at 0x179bbb130>]"
      ]
     },
     "execution_count": 25,
     "metadata": {},
     "output_type": "execute_result"
    },
    {
     "data": {
      "image/png": "[encoded data removed]",
      "text/plain": [
       "<Figure size 432x288 with 1 Axes>"
      ]
     },
     "metadata": {
      "needs_background": "light"
     },
     "output_type": "display_data"
    }
   ],
   "source": [
    "plt.plot(df_H_date, df_H_count)"
   ]
  },
  {
   "cell_type": "code",
   "execution_count": 31,
   "metadata": {},
   "outputs": [],
   "source": [
    "df_M_date = (pd.to_datetime(df_log_line_data_by_min[\"date\"])).array.reshape(-1, 1)\n",
    "df_M_count = df_log_line_data_by_min[\"count\"].array.reshape(-1, 1)"
   ]
  },
  {
   "cell_type": "code",
   "execution_count": 32,
   "metadata": {},
   "outputs": [
    {
     "data": {
      "text/plain": [
       "[<matplotlib.lines.Line2D at 0x17cabdbe0>]"
      ]
     },
     "execution_count": 32,
     "metadata": {},
     "output_type": "execute_result"
    },
    {
     "data": {
      "image/png": "[encoded data removed]",
      "text/plain": [
       "<Figure size 432x288 with 1 Axes>"
      ]
     },
     "metadata": {
      "needs_background": "light"
     },
     "output_type": "display_data"
    }
   ],
   "source": [
    "plt.plot(df_M_date, df_M_count)"
   ]
  },
  {
   "cell_type": "code",
   "execution_count": 34,
   "metadata": {},
   "outputs": [
    {
     "data": {
      "text/plain": [
       "[<matplotlib.lines.Line2D at 0x17cc632b0>]"
      ]
     },
     "execution_count": 34,
     "metadata": {},
     "output_type": "execute_result"
    },
    {
     "data": {
      "image/png": "[encoded data removed]",
      "text/plain": [
       "<Figure size 432x288 with 1 Axes>"
      ]
     },
     "metadata": {
      "needs_background": "light"
     },
     "output_type": "display_data"
    }
   ],
   "source": [
    "plt.plot(df_M_date[:1000], df_M_count[:1000])"
   ]
  },
  {
   "cell_type": "code",
   "execution_count": null,
   "metadata": {},
   "outputs": [],
   "source": []
  }
 ],
 "metadata": {
  "interpreter": {
   "hash": "ed3e3cd7eaae78a028302f8c60b23327bead7311331f61381685cdcdea648c8d"
  },
  "kernelspec": {
   "display_name": "Python 3.9.1 ('.venv': poetry)",
   "language": "python",
   "name": "python3"
  },
  "language_info": {
   "codemirror_mode": {
    "name": "ipython",
    "version": 3
   },
   "file_extension": ".py",
   "mimetype": "text/x-python",
   "name": "python",
   "nbconvert_exporter": "python",
   "pygments_lexer": "ipython3",
   "version": "3.8.10"
  },
  "orig_nbformat": 4
 },
 "nbformat": 4,
 "nbformat_minor": 2
}
