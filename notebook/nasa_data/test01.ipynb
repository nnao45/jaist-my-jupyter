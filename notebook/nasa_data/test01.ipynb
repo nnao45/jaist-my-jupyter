{
 "cells": [
  {
   "cell_type": "code",
   "execution_count": 2,
   "metadata": {},
   "outputs": [],
   "source": [
    "%matplotlib inline\n",
    "import pandas as pd\n",
    "import numpy as np\n",
    "import matplotlib.pyplot as plt\n",
    "import requests\n",
    "import io\n",
    "import json\n",
    "import apache_log_parser\n",
    "from pprint import pprint\n",
    "import os"
   ]
  },
  {
   "cell_type": "code",
   "execution_count": 2,
   "metadata": {},
   "outputs": [
    {
     "name": "stdout",
     "output_type": "stream",
     "text": [
      "{'remote_host': 'xxx.xxx.xxx.xxx',\n",
      " 'remote_logname': '-',\n",
      " 'remote_user': '-',\n",
      " 'request_first_line': 'GET /ja/index.html HTTP/1.1',\n",
      " 'request_header_referer': '-',\n",
      " 'request_header_user_agent': 'Mozilla/5.0 (compatible; MSIE 10.0; Windows NT '\n",
      "                              '6.1; Trident/6.0)',\n",
      " 'request_header_user_agent__browser__family': 'IE',\n",
      " 'request_header_user_agent__browser__version_string': '10.0',\n",
      " 'request_header_user_agent__is_mobile': False,\n",
      " 'request_header_user_agent__os__family': 'Windows',\n",
      " 'request_header_user_agent__os__version_string': '7',\n",
      " 'request_http_ver': '1.1',\n",
      " 'request_method': 'GET',\n",
      " 'request_url': '/ja/index.html',\n",
      " 'request_url_fragment': '',\n",
      " 'request_url_hostname': None,\n",
      " 'request_url_netloc': '',\n",
      " 'request_url_password': None,\n",
      " 'request_url_path': '/ja/index.html',\n",
      " 'request_url_port': None,\n",
      " 'request_url_query': '',\n",
      " 'request_url_query_dict': {},\n",
      " 'request_url_query_list': [],\n",
      " 'request_url_query_simple_dict': {},\n",
      " 'request_url_scheme': '',\n",
      " 'request_url_username': None,\n",
      " 'response_bytes_clf': '240',\n",
      " 'status': '301',\n",
      " 'time_received': '[18/Feb/2019:23:58:36 +0900]',\n",
      " 'time_received_datetimeobj': datetime.datetime(2019, 2, 18, 23, 58, 36),\n",
      " 'time_received_isoformat': '2019-02-18T23:58:36',\n",
      " 'time_received_tz_datetimeobj': datetime.datetime(2019, 2, 18, 23, 58, 36, tzinfo='0900'),\n",
      " 'time_received_tz_isoformat': '2019-02-18T23:58:36+09:00',\n",
      " 'time_received_utc_datetimeobj': datetime.datetime(2019, 2, 18, 14, 58, 36, tzinfo='0000'),\n",
      " 'time_received_utc_isoformat': '2019-02-18T14:58:36+00:00'}\n"
     ]
    }
   ],
   "source": [
    "\n",
    "\n",
    "line_parser = apache_log_parser.make_parser(\"%h %l %u %t \\\"%r\\\" %>s %b \\\"%{Referer}i\\\" \\\"%{User-Agent}i\\\"\")\n",
    "test_data ='xxx.xxx.xxx.xxx - - [18/Feb/2019:23:58:36 +0900] \"GET /ja/index.html HTTP/1.1\" 301 240 \"-\" \"Mozilla/5.0 (compatible; MSIE 10.0; Windows NT 6.1; Trident/6.0)\"'\n",
    "log_line_data = line_parser(test_data)\n",
    "pprint(log_line_data)"
   ]
  },
  {
   "cell_type": "code",
   "execution_count": 3,
   "metadata": {},
   "outputs": [
    {
     "name": "stdout",
     "output_type": "stream",
     "text": [
      "{'remote_host': '199.72.81.55',\n",
      " 'remote_logname': '-',\n",
      " 'remote_user': '-',\n",
      " 'request_first_line': 'GET /history/apollo/ HTTP/1.0',\n",
      " 'request_http_ver': '1.0',\n",
      " 'request_method': 'GET',\n",
      " 'request_url': '/history/apollo/',\n",
      " 'request_url_fragment': '',\n",
      " 'request_url_hostname': None,\n",
      " 'request_url_netloc': '',\n",
      " 'request_url_password': None,\n",
      " 'request_url_path': '/history/apollo/',\n",
      " 'request_url_port': None,\n",
      " 'request_url_query': '',\n",
      " 'request_url_query_dict': {},\n",
      " 'request_url_query_list': [],\n",
      " 'request_url_query_simple_dict': {},\n",
      " 'request_url_scheme': '',\n",
      " 'request_url_username': None,\n",
      " 'response_bytes_clf': '6245',\n",
      " 'status': '200',\n",
      " 'time_received': '[01/Jul/1995:00:00:01 -0400]',\n",
      " 'time_received_datetimeobj': datetime.datetime(1995, 7, 1, 0, 0, 1),\n",
      " 'time_received_isoformat': '1995-07-01T00:00:01',\n",
      " 'time_received_tz_datetimeobj': datetime.datetime(1995, 7, 1, 0, 0, 1, tzinfo='0400'),\n",
      " 'time_received_tz_isoformat': '1995-07-01T00:00:01-04:00',\n",
      " 'time_received_utc_datetimeobj': datetime.datetime(1995, 7, 1, 4, 0, 1, tzinfo='0000'),\n",
      " 'time_received_utc_isoformat': '1995-07-01T04:00:01+00:00'}\n"
     ]
    }
   ],
   "source": [
    "#  199.72.81.55 - - [01/Jul/1995:00:00:01 -0400] \"GET /history/apollo/ HTTP/1.0\" 200 6245\n",
    "line_parser = apache_log_parser.make_parser(\"%h %l %u %t \\\"%r\\\" %>s %b\")\n",
    "test_data ='199.72.81.55 - - [01/Jul/1995:00:00:01 -0400] \"GET /history/apollo/ HTTP/1.0\" 200 6245'\n",
    "log_line_data = line_parser(test_data)\n",
    "pprint(log_line_data)"
   ]
  },
  {
   "cell_type": "code",
   "execution_count": 49,
   "metadata": {},
   "outputs": [
    {
     "ename": "LineDoesntMatchException",
     "evalue": "LineDoesntMatchException(log_line='128.159.122.20 - - [24/Jul/1995:13:52:50 -0400] \"k\\x03tx\\x04tG\\x07t̓ 400 -\\n', regex='(?P<remote_host>.*?)\\\\ (?P<remote_logname>.*?)\\\\ (?P<remote_user>.*?)\\\\ (?P<time_received>\\\\[.*?\\\\])\\\\ \"(?P<request_first_line>.*?)\"\\\\ (?P<status>([0-9]+?|-))\\\\ (?P<response_bytes_clf>(\\\\d+|-))')",
     "output_type": "error",
     "traceback": [
      "\u001b[0;31m---------------------------------------------------------------------------\u001b[0m",
      "\u001b[0;31mLineDoesntMatchException\u001b[0m                  Traceback (most recent call last)",
      "\u001b[1;32m/Users/s02435/ghq/github.com/nnao45/jaist-my-jupyter/notebook/nasa_data/test01.ipynb Cell 4'\u001b[0m in \u001b[0;36m<cell line: 7>\u001b[0;34m()\u001b[0m\n\u001b[1;32m      <a href='vscode-notebook-cell:/Users/s02435/ghq/github.com/nnao45/jaist-my-jupyter/notebook/nasa_data/test01.ipynb#ch0000003?line=6'>7</a>\u001b[0m \u001b[39mwith\u001b[39;00m \u001b[39mopen\u001b[39m(\u001b[39mf\u001b[39m\u001b[39m\"\u001b[39m\u001b[39m{\u001b[39;00mos\u001b[39m.\u001b[39mgetcwd()\u001b[39m}\u001b[39;00m\u001b[39m/NASA_access_log_Jul95.log\u001b[39m\u001b[39m\"\u001b[39m, mode\u001b[39m=\u001b[39m\u001b[39m'\u001b[39m\u001b[39mr\u001b[39m\u001b[39m'\u001b[39m) \u001b[39mas\u001b[39;00m f1:\n\u001b[1;32m      <a href='vscode-notebook-cell:/Users/s02435/ghq/github.com/nnao45/jaist-my-jupyter/notebook/nasa_data/test01.ipynb#ch0000003?line=7'>8</a>\u001b[0m     \u001b[39mwith\u001b[39;00m \u001b[39mopen\u001b[39m(\u001b[39mf\u001b[39m\u001b[39m\"\u001b[39m\u001b[39m{\u001b[39;00mos\u001b[39m.\u001b[39mgetcwd()\u001b[39m}\u001b[39;00m\u001b[39m/NASA_access_log_Aug95.log\u001b[39m\u001b[39m\"\u001b[39m, mode\u001b[39m=\u001b[39m\u001b[39m'\u001b[39m\u001b[39mr\u001b[39m\u001b[39m'\u001b[39m) \u001b[39mas\u001b[39;00m f2:\n\u001b[0;32m----> <a href='vscode-notebook-cell:/Users/s02435/ghq/github.com/nnao45/jaist-my-jupyter/notebook/nasa_data/test01.ipynb#ch0000003?line=8'>9</a>\u001b[0m         log_line_data \u001b[39m=\u001b[39m [line_parser(line) \u001b[39mfor\u001b[39;00m line \u001b[39min\u001b[39;00m f1\u001b[39m.\u001b[39mreadlines() \u001b[39m+\u001b[39m f2\u001b[39m.\u001b[39mreadlines()]\n\u001b[1;32m     <a href='vscode-notebook-cell:/Users/s02435/ghq/github.com/nnao45/jaist-my-jupyter/notebook/nasa_data/test01.ipynb#ch0000003?line=9'>10</a>\u001b[0m         \u001b[39mlen\u001b[39m(log_line_data)\n",
      "\u001b[1;32m/Users/s02435/ghq/github.com/nnao45/jaist-my-jupyter/notebook/nasa_data/test01.ipynb Cell 4'\u001b[0m in \u001b[0;36m<listcomp>\u001b[0;34m(.0)\u001b[0m\n\u001b[1;32m      <a href='vscode-notebook-cell:/Users/s02435/ghq/github.com/nnao45/jaist-my-jupyter/notebook/nasa_data/test01.ipynb#ch0000003?line=6'>7</a>\u001b[0m \u001b[39mwith\u001b[39;00m \u001b[39mopen\u001b[39m(\u001b[39mf\u001b[39m\u001b[39m\"\u001b[39m\u001b[39m{\u001b[39;00mos\u001b[39m.\u001b[39mgetcwd()\u001b[39m}\u001b[39;00m\u001b[39m/NASA_access_log_Jul95.log\u001b[39m\u001b[39m\"\u001b[39m, mode\u001b[39m=\u001b[39m\u001b[39m'\u001b[39m\u001b[39mr\u001b[39m\u001b[39m'\u001b[39m) \u001b[39mas\u001b[39;00m f1:\n\u001b[1;32m      <a href='vscode-notebook-cell:/Users/s02435/ghq/github.com/nnao45/jaist-my-jupyter/notebook/nasa_data/test01.ipynb#ch0000003?line=7'>8</a>\u001b[0m     \u001b[39mwith\u001b[39;00m \u001b[39mopen\u001b[39m(\u001b[39mf\u001b[39m\u001b[39m\"\u001b[39m\u001b[39m{\u001b[39;00mos\u001b[39m.\u001b[39mgetcwd()\u001b[39m}\u001b[39;00m\u001b[39m/NASA_access_log_Aug95.log\u001b[39m\u001b[39m\"\u001b[39m, mode\u001b[39m=\u001b[39m\u001b[39m'\u001b[39m\u001b[39mr\u001b[39m\u001b[39m'\u001b[39m) \u001b[39mas\u001b[39;00m f2:\n\u001b[0;32m----> <a href='vscode-notebook-cell:/Users/s02435/ghq/github.com/nnao45/jaist-my-jupyter/notebook/nasa_data/test01.ipynb#ch0000003?line=8'>9</a>\u001b[0m         log_line_data \u001b[39m=\u001b[39m [line_parser(line) \u001b[39mfor\u001b[39;00m line \u001b[39min\u001b[39;00m f1\u001b[39m.\u001b[39mreadlines() \u001b[39m+\u001b[39m f2\u001b[39m.\u001b[39mreadlines()]\n\u001b[1;32m     <a href='vscode-notebook-cell:/Users/s02435/ghq/github.com/nnao45/jaist-my-jupyter/notebook/nasa_data/test01.ipynb#ch0000003?line=9'>10</a>\u001b[0m         \u001b[39mlen\u001b[39m(log_line_data)\n",
      "File \u001b[0;32m~/ghq/github.com/nnao45/jaist-my-jupyter/.venv/lib/python3.9/site-packages/apache_log_parser/__init__.py:248\u001b[0m, in \u001b[0;36mParser.parse\u001b[0;34m(self, log_line)\u001b[0m\n\u001b[1;32m    <a href='file:///Users/s02435/ghq/github.com/nnao45/jaist-my-jupyter/.venv/lib/python3.9/site-packages/apache_log_parser/__init__.py?line=245'>246</a>\u001b[0m match \u001b[39m=\u001b[39m \u001b[39mself\u001b[39m\u001b[39m.\u001b[39mlog_line_regex\u001b[39m.\u001b[39mmatch(log_line)\n\u001b[1;32m    <a href='file:///Users/s02435/ghq/github.com/nnao45/jaist-my-jupyter/.venv/lib/python3.9/site-packages/apache_log_parser/__init__.py?line=246'>247</a>\u001b[0m \u001b[39mif\u001b[39;00m match \u001b[39mis\u001b[39;00m \u001b[39mNone\u001b[39;00m:\n\u001b[0;32m--> <a href='file:///Users/s02435/ghq/github.com/nnao45/jaist-my-jupyter/.venv/lib/python3.9/site-packages/apache_log_parser/__init__.py?line=247'>248</a>\u001b[0m     \u001b[39mraise\u001b[39;00m LineDoesntMatchException(log_line\u001b[39m=\u001b[39mlog_line, regex\u001b[39m=\u001b[39m\u001b[39mself\u001b[39m\u001b[39m.\u001b[39mlog_line_regex\u001b[39m.\u001b[39mpattern)\n\u001b[1;32m    <a href='file:///Users/s02435/ghq/github.com/nnao45/jaist-my-jupyter/.venv/lib/python3.9/site-packages/apache_log_parser/__init__.py?line=248'>249</a>\u001b[0m \u001b[39melse\u001b[39;00m:\n\u001b[1;32m    <a href='file:///Users/s02435/ghq/github.com/nnao45/jaist-my-jupyter/.venv/lib/python3.9/site-packages/apache_log_parser/__init__.py?line=249'>250</a>\u001b[0m     results \u001b[39m=\u001b[39m {}\n",
      "\u001b[0;31mLineDoesntMatchException\u001b[0m: LineDoesntMatchException(log_line='128.159.122.20 - - [24/Jul/1995:13:52:50 -0400] \"k\\x03tx\\x04tG\\x07t̓ 400 -\\n', regex='(?P<remote_host>.*?)\\\\ (?P<remote_logname>.*?)\\\\ (?P<remote_user>.*?)\\\\ (?P<time_received>\\\\[.*?\\\\])\\\\ \"(?P<request_first_line>.*?)\"\\\\ (?P<status>([0-9]+?|-))\\\\ (?P<response_bytes_clf>(\\\\d+|-))')"
     ]
    }
   ],
   "source": [
    "from typing import List\n",
    "import sys, codecs\n",
    "sys.stdout = codecs.getwriter('utf_8')(sys.stdout)\n",
    "sys.stderr = codecs.getwriter('utf_8')(sys.stderr)\n",
    "\n",
    "line_parser = apache_log_parser.make_parser(\"%h %l %u %t \\\"%r\\\" %>s %b\")\n",
    "with open(f\"{os.getcwd()}/NASA_access_log_Jul95.log\", mode='r') as f1:\n",
    "    with open(f\"{os.getcwd()}/NASA_access_log_Aug95.log\", mode='r') as f2:\n",
    "        log_line_data = [line_parser(line) for line in f1.readlines() + f2.readlines()]\n",
    "        len(log_line_data)\n"
   ]
  }
 ],
 "metadata": {
  "interpreter": {
   "hash": "ed3e3cd7eaae78a028302f8c60b23327bead7311331f61381685cdcdea648c8d"
  },
  "kernelspec": {
   "display_name": "Python 3.9.1 ('.venv': poetry)",
   "language": "python",
   "name": "python3"
  },
  "language_info": {
   "codemirror_mode": {
    "name": "ipython",
    "version": 3
   },
   "file_extension": ".py",
   "mimetype": "text/x-python",
   "name": "python",
   "nbconvert_exporter": "python",
   "pygments_lexer": "ipython3",
   "version": "3.9.1"
  },
  "orig_nbformat": 4
 },
 "nbformat": 4,
 "nbformat_minor": 2
}
