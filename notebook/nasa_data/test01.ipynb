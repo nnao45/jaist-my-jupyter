{
 "cells": [
  {
   "cell_type": "code",
   "execution_count": 1,
   "metadata": {},
   "outputs": [],
   "source": [
    "%matplotlib inline\n",
    "import pandas as pd\n",
    "import numpy as np\n",
    "import matplotlib.pyplot as plt\n",
    "import requests\n",
    "import io\n",
    "import json\n",
    "import apache_log_parser\n",
    "from pprint import pprint\n",
    "import os"
   ]
  },
  {
   "cell_type": "code",
   "execution_count": 2,
   "metadata": {},
   "outputs": [
    {
     "name": "stdout",
     "output_type": "stream",
     "text": [
      "{'remote_host': 'xxx.xxx.xxx.xxx',\n",
      " 'remote_logname': '-',\n",
      " 'remote_user': '-',\n",
      " 'request_first_line': 'GET /ja/index.html HTTP/1.1',\n",
      " 'request_header_referer': '-',\n",
      " 'request_header_user_agent': 'Mozilla/5.0 (compatible; MSIE 10.0; Windows NT '\n",
      "                              '6.1; Trident/6.0)',\n",
      " 'request_header_user_agent__browser__family': 'IE',\n",
      " 'request_header_user_agent__browser__version_string': '10.0',\n",
      " 'request_header_user_agent__is_mobile': False,\n",
      " 'request_header_user_agent__os__family': 'Windows',\n",
      " 'request_header_user_agent__os__version_string': '7',\n",
      " 'request_http_ver': '1.1',\n",
      " 'request_method': 'GET',\n",
      " 'request_url': '/ja/index.html',\n",
      " 'request_url_fragment': '',\n",
      " 'request_url_hostname': None,\n",
      " 'request_url_netloc': '',\n",
      " 'request_url_password': None,\n",
      " 'request_url_path': '/ja/index.html',\n",
      " 'request_url_port': None,\n",
      " 'request_url_query': '',\n",
      " 'request_url_query_dict': {},\n",
      " 'request_url_query_list': [],\n",
      " 'request_url_query_simple_dict': {},\n",
      " 'request_url_scheme': '',\n",
      " 'request_url_username': None,\n",
      " 'response_bytes_clf': '240',\n",
      " 'status': '301',\n",
      " 'time_received': '[18/Feb/2019:23:58:36 +0900]',\n",
      " 'time_received_datetimeobj': datetime.datetime(2019, 2, 18, 23, 58, 36),\n",
      " 'time_received_isoformat': '2019-02-18T23:58:36',\n",
      " 'time_received_tz_datetimeobj': datetime.datetime(2019, 2, 18, 23, 58, 36, tzinfo='0900'),\n",
      " 'time_received_tz_isoformat': '2019-02-18T23:58:36+09:00',\n",
      " 'time_received_utc_datetimeobj': datetime.datetime(2019, 2, 18, 14, 58, 36, tzinfo='0000'),\n",
      " 'time_received_utc_isoformat': '2019-02-18T14:58:36+00:00'}\n"
     ]
    }
   ],
   "source": [
    "\n",
    "\n",
    "line_parser = apache_log_parser.make_parser(\"%h %l %u %t \\\"%r\\\" %>s %b \\\"%{Referer}i\\\" \\\"%{User-Agent}i\\\"\")\n",
    "test_data ='xxx.xxx.xxx.xxx - - [18/Feb/2019:23:58:36 +0900] \"GET /ja/index.html HTTP/1.1\" 301 240 \"-\" \"Mozilla/5.0 (compatible; MSIE 10.0; Windows NT 6.1; Trident/6.0)\"'\n",
    "log_line_data = line_parser(test_data)\n",
    "pprint(log_line_data)"
   ]
  },
  {
   "cell_type": "code",
   "execution_count": 3,
   "metadata": {},
   "outputs": [
    {
     "name": "stdout",
     "output_type": "stream",
     "text": [
      "{'remote_host': '199.72.81.55',\n",
      " 'remote_logname': '-',\n",
      " 'remote_user': '-',\n",
      " 'request_first_line': 'GET /history/apollo/ HTTP/1.0',\n",
      " 'request_http_ver': '1.0',\n",
      " 'request_method': 'GET',\n",
      " 'request_url': '/history/apollo/',\n",
      " 'request_url_fragment': '',\n",
      " 'request_url_hostname': None,\n",
      " 'request_url_netloc': '',\n",
      " 'request_url_password': None,\n",
      " 'request_url_path': '/history/apollo/',\n",
      " 'request_url_port': None,\n",
      " 'request_url_query': '',\n",
      " 'request_url_query_dict': {},\n",
      " 'request_url_query_list': [],\n",
      " 'request_url_query_simple_dict': {},\n",
      " 'request_url_scheme': '',\n",
      " 'request_url_username': None,\n",
      " 'response_bytes_clf': '6245',\n",
      " 'status': '200',\n",
      " 'time_received': '[01/Jul/1995:00:00:01 -0400]',\n",
      " 'time_received_datetimeobj': datetime.datetime(1995, 7, 1, 0, 0, 1),\n",
      " 'time_received_isoformat': '1995-07-01T00:00:01',\n",
      " 'time_received_tz_datetimeobj': datetime.datetime(1995, 7, 1, 0, 0, 1, tzinfo='0400'),\n",
      " 'time_received_tz_isoformat': '1995-07-01T00:00:01-04:00',\n",
      " 'time_received_utc_datetimeobj': datetime.datetime(1995, 7, 1, 4, 0, 1, tzinfo='0000'),\n",
      " 'time_received_utc_isoformat': '1995-07-01T04:00:01+00:00'}\n"
     ]
    }
   ],
   "source": [
    "#  199.72.81.55 - - [01/Jul/1995:00:00:01 -0400] \"GET /history/apollo/ HTTP/1.0\" 200 6245\n",
    "line_parser = apache_log_parser.make_parser(\"%h %l %u %t \\\"%r\\\" %>s %b\")\n",
    "test_data ='199.72.81.55 - - [01/Jul/1995:00:00:01 -0400] \"GET /history/apollo/ HTTP/1.0\" 200 6245'\n",
    "log_line_data = line_parser(test_data)\n",
    "pprint(log_line_data)"
   ]
  },
  {
   "cell_type": "code",
   "execution_count": 4,
   "metadata": {},
   "outputs": [],
   "source": [
    "from typing import List\n",
    "\n",
    "log_line_data = None\n",
    "line_parser = apache_log_parser.make_parser(\"%h %l %u %t \\\"%r\\\" %>s %b\")\n",
    "with open(f\"{os.getcwd()}/NASA_access_log_Jul95.log\", mode='r') as f1:\n",
    "    with open(f\"{os.getcwd()}/NASA_access_log_Aug95.log\", mode='r') as f2:\n",
    "        log_line_data = [line_parser(line) for line in f1.readlines() + f2.readlines()]\n"
   ]
  },
  {
   "cell_type": "code",
   "execution_count": 8,
   "metadata": {},
   "outputs": [
    {
     "data": {
      "text/html": [
       "<div>\n",
       "<style scoped>\n",
       "    .dataframe tbody tr th:only-of-type {\n",
       "        vertical-align: middle;\n",
       "    }\n",
       "\n",
       "    .dataframe tbody tr th {\n",
       "        vertical-align: top;\n",
       "    }\n",
       "\n",
       "    .dataframe thead th {\n",
       "        text-align: right;\n",
       "    }\n",
       "</style>\n",
       "<table border=\"1\" class=\"dataframe\">\n",
       "  <thead>\n",
       "    <tr style=\"text-align: right;\">\n",
       "      <th></th>\n",
       "      <th>date</th>\n",
       "      <th>count</th>\n",
       "    </tr>\n",
       "  </thead>\n",
       "  <tbody>\n",
       "    <tr>\n",
       "      <th>0</th>\n",
       "      <td>1995-07-01 00:00:01</td>\n",
       "      <td>1</td>\n",
       "    </tr>\n",
       "    <tr>\n",
       "      <th>1</th>\n",
       "      <td>1995-07-01 00:00:06</td>\n",
       "      <td>1</td>\n",
       "    </tr>\n",
       "    <tr>\n",
       "      <th>2</th>\n",
       "      <td>1995-07-01 00:00:09</td>\n",
       "      <td>1</td>\n",
       "    </tr>\n",
       "    <tr>\n",
       "      <th>3</th>\n",
       "      <td>1995-07-01 00:00:11</td>\n",
       "      <td>1</td>\n",
       "    </tr>\n",
       "    <tr>\n",
       "      <th>4</th>\n",
       "      <td>1995-07-01 00:00:11</td>\n",
       "      <td>1</td>\n",
       "    </tr>\n",
       "    <tr>\n",
       "      <th>...</th>\n",
       "      <td>...</td>\n",
       "      <td>...</td>\n",
       "    </tr>\n",
       "    <tr>\n",
       "      <th>3461607</th>\n",
       "      <td>1995-08-31 23:59:49</td>\n",
       "      <td>1</td>\n",
       "    </tr>\n",
       "    <tr>\n",
       "      <th>3461608</th>\n",
       "      <td>1995-08-31 23:59:49</td>\n",
       "      <td>1</td>\n",
       "    </tr>\n",
       "    <tr>\n",
       "      <th>3461609</th>\n",
       "      <td>1995-08-31 23:59:52</td>\n",
       "      <td>1</td>\n",
       "    </tr>\n",
       "    <tr>\n",
       "      <th>3461610</th>\n",
       "      <td>1995-08-31 23:59:52</td>\n",
       "      <td>1</td>\n",
       "    </tr>\n",
       "    <tr>\n",
       "      <th>3461611</th>\n",
       "      <td>1995-08-31 23:59:53</td>\n",
       "      <td>1</td>\n",
       "    </tr>\n",
       "  </tbody>\n",
       "</table>\n",
       "<p>3461612 rows × 2 columns</p>\n",
       "</div>"
      ],
      "text/plain": [
       "                       date  count\n",
       "0       1995-07-01 00:00:01      1\n",
       "1       1995-07-01 00:00:06      1\n",
       "2       1995-07-01 00:00:09      1\n",
       "3       1995-07-01 00:00:11      1\n",
       "4       1995-07-01 00:00:11      1\n",
       "...                     ...    ...\n",
       "3461607 1995-08-31 23:59:49      1\n",
       "3461608 1995-08-31 23:59:49      1\n",
       "3461609 1995-08-31 23:59:52      1\n",
       "3461610 1995-08-31 23:59:52      1\n",
       "3461611 1995-08-31 23:59:53      1\n",
       "\n",
       "[3461612 rows x 2 columns]"
      ]
     },
     "execution_count": 8,
     "metadata": {},
     "output_type": "execute_result"
    }
   ],
   "source": [
    "df_log_line_data = pd.DataFrame([{\"date\": df_line[\"time_received_datetimeobj\"], \"count\": 1} for df_line in log_line_data])\n",
    "df_log_line_data"
   ]
  },
  {
   "cell_type": "code",
   "execution_count": 28,
   "metadata": {},
   "outputs": [
    {
     "data": {
      "text/html": [
       "<div>\n",
       "<style scoped>\n",
       "    .dataframe tbody tr th:only-of-type {\n",
       "        vertical-align: middle;\n",
       "    }\n",
       "\n",
       "    .dataframe tbody tr th {\n",
       "        vertical-align: top;\n",
       "    }\n",
       "\n",
       "    .dataframe thead th {\n",
       "        text-align: right;\n",
       "    }\n",
       "</style>\n",
       "<table border=\"1\" class=\"dataframe\">\n",
       "  <thead>\n",
       "    <tr style=\"text-align: right;\">\n",
       "      <th></th>\n",
       "      <th>count</th>\n",
       "    </tr>\n",
       "    <tr>\n",
       "      <th>date</th>\n",
       "      <th></th>\n",
       "    </tr>\n",
       "  </thead>\n",
       "  <tbody>\n",
       "    <tr>\n",
       "      <th>1995-07-01 00:00:00</th>\n",
       "      <td>42</td>\n",
       "    </tr>\n",
       "    <tr>\n",
       "      <th>1995-07-01 00:01:00</th>\n",
       "      <td>61</td>\n",
       "    </tr>\n",
       "    <tr>\n",
       "      <th>1995-07-01 00:02:00</th>\n",
       "      <td>57</td>\n",
       "    </tr>\n",
       "    <tr>\n",
       "      <th>1995-07-01 00:03:00</th>\n",
       "      <td>71</td>\n",
       "    </tr>\n",
       "    <tr>\n",
       "      <th>1995-07-01 00:04:00</th>\n",
       "      <td>70</td>\n",
       "    </tr>\n",
       "    <tr>\n",
       "      <th>...</th>\n",
       "      <td>...</td>\n",
       "    </tr>\n",
       "    <tr>\n",
       "      <th>1995-08-31 23:55:00</th>\n",
       "      <td>30</td>\n",
       "    </tr>\n",
       "    <tr>\n",
       "      <th>1995-08-31 23:56:00</th>\n",
       "      <td>38</td>\n",
       "    </tr>\n",
       "    <tr>\n",
       "      <th>1995-08-31 23:57:00</th>\n",
       "      <td>16</td>\n",
       "    </tr>\n",
       "    <tr>\n",
       "      <th>1995-08-31 23:58:00</th>\n",
       "      <td>17</td>\n",
       "    </tr>\n",
       "    <tr>\n",
       "      <th>1995-08-31 23:59:00</th>\n",
       "      <td>22</td>\n",
       "    </tr>\n",
       "  </tbody>\n",
       "</table>\n",
       "<p>89280 rows × 1 columns</p>\n",
       "</div>"
      ],
      "text/plain": [
       "                     count\n",
       "date                      \n",
       "1995-07-01 00:00:00     42\n",
       "1995-07-01 00:01:00     61\n",
       "1995-07-01 00:02:00     57\n",
       "1995-07-01 00:03:00     71\n",
       "1995-07-01 00:04:00     70\n",
       "...                    ...\n",
       "1995-08-31 23:55:00     30\n",
       "1995-08-31 23:56:00     38\n",
       "1995-08-31 23:57:00     16\n",
       "1995-08-31 23:58:00     17\n",
       "1995-08-31 23:59:00     22\n",
       "\n",
       "[89280 rows x 1 columns]"
      ]
     },
     "execution_count": 28,
     "metadata": {},
     "output_type": "execute_result"
    }
   ],
   "source": [
    "df_log_line_data_by_min = df_log_line_data.groupby(pd.Grouper(key=\"date\", freq=\"min\")).sum()\n",
    "df_log_line_data_by_min"
   ]
  },
  {
   "cell_type": "code",
   "execution_count": 38,
   "metadata": {},
   "outputs": [
    {
     "data": {
      "text/html": [
       "<div>\n",
       "<style scoped>\n",
       "    .dataframe tbody tr th:only-of-type {\n",
       "        vertical-align: middle;\n",
       "    }\n",
       "\n",
       "    .dataframe tbody tr th {\n",
       "        vertical-align: top;\n",
       "    }\n",
       "\n",
       "    .dataframe thead th {\n",
       "        text-align: right;\n",
       "    }\n",
       "</style>\n",
       "<table border=\"1\" class=\"dataframe\">\n",
       "  <thead>\n",
       "    <tr style=\"text-align: right;\">\n",
       "      <th></th>\n",
       "      <th>count</th>\n",
       "    </tr>\n",
       "    <tr>\n",
       "      <th>date</th>\n",
       "      <th></th>\n",
       "    </tr>\n",
       "  </thead>\n",
       "  <tbody>\n",
       "    <tr>\n",
       "      <th>1995-07-01 00:00:00</th>\n",
       "      <td>3565</td>\n",
       "    </tr>\n",
       "    <tr>\n",
       "      <th>1995-07-01 01:00:00</th>\n",
       "      <td>3004</td>\n",
       "    </tr>\n",
       "    <tr>\n",
       "      <th>1995-07-01 02:00:00</th>\n",
       "      <td>2268</td>\n",
       "    </tr>\n",
       "    <tr>\n",
       "      <th>1995-07-01 03:00:00</th>\n",
       "      <td>1734</td>\n",
       "    </tr>\n",
       "    <tr>\n",
       "      <th>1995-07-01 04:00:00</th>\n",
       "      <td>1482</td>\n",
       "    </tr>\n",
       "    <tr>\n",
       "      <th>...</th>\n",
       "      <td>...</td>\n",
       "    </tr>\n",
       "    <tr>\n",
       "      <th>1995-08-31 19:00:00</th>\n",
       "      <td>2946</td>\n",
       "    </tr>\n",
       "    <tr>\n",
       "      <th>1995-08-31 20:00:00</th>\n",
       "      <td>2737</td>\n",
       "    </tr>\n",
       "    <tr>\n",
       "      <th>1995-08-31 21:00:00</th>\n",
       "      <td>2463</td>\n",
       "    </tr>\n",
       "    <tr>\n",
       "      <th>1995-08-31 22:00:00</th>\n",
       "      <td>2896</td>\n",
       "    </tr>\n",
       "    <tr>\n",
       "      <th>1995-08-31 23:00:00</th>\n",
       "      <td>2457</td>\n",
       "    </tr>\n",
       "  </tbody>\n",
       "</table>\n",
       "<p>1488 rows × 1 columns</p>\n",
       "</div>"
      ],
      "text/plain": [
       "                     count\n",
       "date                      \n",
       "1995-07-01 00:00:00   3565\n",
       "1995-07-01 01:00:00   3004\n",
       "1995-07-01 02:00:00   2268\n",
       "1995-07-01 03:00:00   1734\n",
       "1995-07-01 04:00:00   1482\n",
       "...                    ...\n",
       "1995-08-31 19:00:00   2946\n",
       "1995-08-31 20:00:00   2737\n",
       "1995-08-31 21:00:00   2463\n",
       "1995-08-31 22:00:00   2896\n",
       "1995-08-31 23:00:00   2457\n",
       "\n",
       "[1488 rows x 1 columns]"
      ]
     },
     "execution_count": 38,
     "metadata": {},
     "output_type": "execute_result"
    }
   ],
   "source": [
    "df_log_line_data_by_hourly = df_log_line_data.groupby(pd.Grouper(key=\"date\", freq=\"H\")).sum()\n",
    "df_log_line_data_by_hourly"
   ]
  },
  {
   "cell_type": "code",
   "execution_count": 50,
   "metadata": {},
   "outputs": [
    {
     "data": {
      "text/plain": [
       "<AxesSubplot:xlabel='date'>"
      ]
     },
     "execution_count": 50,
     "metadata": {},
     "output_type": "execute_result"
    },
    {
     "data": {
      "image/png": "[encoded data removed]",
      "text/plain": [
       "<Figure size 432x288 with 1 Axes>"
      ]
     },
     "metadata": {
      "needs_background": "light"
     },
     "output_type": "display_data"
    }
   ],
   "source": [
    "df_log_line_data_by_min.plot()"
   ]
  },
  {
   "cell_type": "code",
   "execution_count": 49,
   "metadata": {},
   "outputs": [
    {
     "data": {
      "text/plain": [
       "<AxesSubplot:xlabel='date'>"
      ]
     },
     "execution_count": 49,
     "metadata": {},
     "output_type": "execute_result"
    },
    {
     "data": {
      "image/png": "[encoded data removed]",
      "text/plain": [
       "<Figure size 432x288 with 1 Axes>"
      ]
     },
     "metadata": {
      "needs_background": "light"
     },
     "output_type": "display_data"
    }
   ],
   "source": [
    "df_log_line_data_by_hourly.plot()"
   ]
  }
 ],
 "metadata": {
  "interpreter": {
   "hash": "ed3e3cd7eaae78a028302f8c60b23327bead7311331f61381685cdcdea648c8d"
  },
  "kernelspec": {
   "display_name": "Python 3.9.1 ('.venv': poetry)",
   "language": "python",
   "name": "python3"
  },
  "language_info": {
   "codemirror_mode": {
    "name": "ipython",
    "version": 3
   },
   "file_extension": ".py",
   "mimetype": "text/x-python",
   "name": "python",
   "nbconvert_exporter": "python",
   "pygments_lexer": "ipython3",
   "version": "3.9.1"
  },
  "orig_nbformat": 4
 },
 "nbformat": 4,
 "nbformat_minor": 2
}
