{
 "cells": [
  {
   "cell_type": "code",
   "execution_count": 1,
   "metadata": {},
   "outputs": [],
   "source": [
    "%matplotlib inline\n",
    "import pandas as pd\n",
    "import numpy as np\n",
    "import matplotlib.pyplot as plt\n",
    "import requests\n",
    "import io\n",
    "import json\n",
    "import os"
   ]
  },
  {
   "cell_type": "code",
   "execution_count": 2,
   "metadata": {},
   "outputs": [
    {
     "name": "stdout",
     "output_type": "stream",
     "text": [
      "{'remote_host': 'xxx.xxx.xxx.xxx',\n",
      " 'remote_logname': '-',\n",
      " 'remote_user': '-',\n",
      " 'request_first_line': 'GET /ja/index.html HTTP/1.1',\n",
      " 'request_header_referer': '-',\n",
      " 'request_header_user_agent': 'Mozilla/5.0 (compatible; MSIE 10.0; Windows NT '\n",
      "                              '6.1; Trident/6.0)',\n",
      " 'request_header_user_agent__browser__family': 'IE',\n",
      " 'request_header_user_agent__browser__version_string': '10.0',\n",
      " 'request_header_user_agent__is_mobile': False,\n",
      " 'request_header_user_agent__os__family': 'Windows',\n",
      " 'request_header_user_agent__os__version_string': '7',\n",
      " 'request_http_ver': '1.1',\n",
      " 'request_method': 'GET',\n",
      " 'request_url': '/ja/index.html',\n",
      " 'request_url_fragment': '',\n",
      " 'request_url_hostname': None,\n",
      " 'request_url_netloc': '',\n",
      " 'request_url_password': None,\n",
      " 'request_url_path': '/ja/index.html',\n",
      " 'request_url_port': None,\n",
      " 'request_url_query': '',\n",
      " 'request_url_query_dict': {},\n",
      " 'request_url_query_list': [],\n",
      " 'request_url_query_simple_dict': {},\n",
      " 'request_url_scheme': '',\n",
      " 'request_url_username': None,\n",
      " 'response_bytes_clf': '240',\n",
      " 'status': '301',\n",
      " 'time_received': '[18/Feb/2019:23:58:36 +0900]',\n",
      " 'time_received_datetimeobj': datetime.datetime(2019, 2, 18, 23, 58, 36),\n",
      " 'time_received_isoformat': '2019-02-18T23:58:36',\n",
      " 'time_received_tz_datetimeobj': datetime.datetime(2019, 2, 18, 23, 58, 36, tzinfo='0900'),\n",
      " 'time_received_tz_isoformat': '2019-02-18T23:58:36+09:00',\n",
      " 'time_received_utc_datetimeobj': datetime.datetime(2019, 2, 18, 14, 58, 36, tzinfo='0000'),\n",
      " 'time_received_utc_isoformat': '2019-02-18T14:58:36+00:00'}\n"
     ]
    }
   ],
   "source": [
    "import apache_log_parser\n",
    "from pprint import pprint\n",
    "\n",
    "line_parser = apache_log_parser.make_parser(\"%h %l %u %t \\\"%r\\\" %>s %b \\\"%{Referer}i\\\" \\\"%{User-Agent}i\\\"\")\n",
    "test_data ='xxx.xxx.xxx.xxx - - [18/Feb/2019:23:58:36 +0900] \"GET /ja/index.html HTTP/1.1\" 301 240 \"-\" \"Mozilla/5.0 (compatible; MSIE 10.0; Windows NT 6.1; Trident/6.0)\"'\n",
    "log_line_data = line_parser(test_data)\n",
    "pprint(log_line_data)"
   ]
  },
  {
   "cell_type": "code",
   "execution_count": 3,
   "metadata": {},
   "outputs": [
    {
     "name": "stdout",
     "output_type": "stream",
     "text": [
      "{'remote_host': '199.72.81.55',\n",
      " 'remote_logname': '-',\n",
      " 'remote_user': '-',\n",
      " 'request_first_line': 'GET /history/apollo/ HTTP/1.0',\n",
      " 'request_http_ver': '1.0',\n",
      " 'request_method': 'GET',\n",
      " 'request_url': '/history/apollo/',\n",
      " 'request_url_fragment': '',\n",
      " 'request_url_hostname': None,\n",
      " 'request_url_netloc': '',\n",
      " 'request_url_password': None,\n",
      " 'request_url_path': '/history/apollo/',\n",
      " 'request_url_port': None,\n",
      " 'request_url_query': '',\n",
      " 'request_url_query_dict': {},\n",
      " 'request_url_query_list': [],\n",
      " 'request_url_query_simple_dict': {},\n",
      " 'request_url_scheme': '',\n",
      " 'request_url_username': None,\n",
      " 'response_bytes_clf': '6245',\n",
      " 'status': '200',\n",
      " 'time_received': '[01/Jul/1995:00:00:01 -0400]',\n",
      " 'time_received_datetimeobj': datetime.datetime(1995, 7, 1, 0, 0, 1),\n",
      " 'time_received_isoformat': '1995-07-01T00:00:01',\n",
      " 'time_received_tz_datetimeobj': datetime.datetime(1995, 7, 1, 0, 0, 1, tzinfo='0400'),\n",
      " 'time_received_tz_isoformat': '1995-07-01T00:00:01-04:00',\n",
      " 'time_received_utc_datetimeobj': datetime.datetime(1995, 7, 1, 4, 0, 1, tzinfo='0000'),\n",
      " 'time_received_utc_isoformat': '1995-07-01T04:00:01+00:00'}\n"
     ]
    }
   ],
   "source": [
    "#  199.72.81.55 - - [01/Jul/1995:00:00:01 -0400] \"GET /history/apollo/ HTTP/1.0\" 200 6245\n",
    "line_parser = apache_log_parser.make_parser(\"%h %l %u %t \\\"%r\\\" %>s %b\")\n",
    "test_data ='199.72.81.55 - - [01/Jul/1995:00:00:01 -0400] \"GET /history/apollo/ HTTP/1.0\" 200 6245'\n",
    "log_line_data = line_parser(test_data)\n",
    "pprint(log_line_data)"
   ]
  }
 ],
 "metadata": {
  "interpreter": {
   "hash": "ed3e3cd7eaae78a028302f8c60b23327bead7311331f61381685cdcdea648c8d"
  },
  "kernelspec": {
   "display_name": "Python 3.9.1 ('.venv': poetry)",
   "language": "python",
   "name": "python3"
  },
  "language_info": {
   "codemirror_mode": {
    "name": "ipython",
    "version": 3
   },
   "file_extension": ".py",
   "mimetype": "text/x-python",
   "name": "python",
   "nbconvert_exporter": "python",
   "pygments_lexer": "ipython3",
   "version": "3.9.1"
  },
  "orig_nbformat": 4
 },
 "nbformat": 4,
 "nbformat_minor": 2
}
