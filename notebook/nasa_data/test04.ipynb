{
 "cells": [
  {
   "cell_type": "code",
   "execution_count": 4,
   "metadata": {},
   "outputs": [],
   "source": [
    "%matplotlib inline\n",
    "import numpy as np\n",
    "import pandas as pd\n",
    "from sklearn.linear_model import Ridge, Lasso, ElasticNet\n",
    "from sklearn.metrics import mean_squared_error,r2_score\n",
    "from sklearn.model_selection import train_test_split, cross_val_score\n",
    "from sklearn import model_selection\n",
    "import matplotlib.pyplot as plt\n",
    "from sklearn.linear_model import LinearRegression, RidgeCV, LassoCV,ElasticNetCV\n",
    "import requests\n",
    "import io\n",
    "import apache_log_parser\n",
    "from pprint import pprint\n",
    "import os\n",
    "import EntropyHub as EH"
   ]
  },
  {
   "cell_type": "code",
   "execution_count": 11,
   "metadata": {},
   "outputs": [
    {
     "ename": "KeyboardInterrupt",
     "evalue": "",
     "output_type": "error",
     "traceback": [
      "\u001b[0;31m---------------------------------------------------------------------------\u001b[0m",
      "\u001b[0;31mKeyboardInterrupt\u001b[0m                         Traceback (most recent call last)",
      "\u001b[1;32m/Users/s02435/ghq/github.com/nnao45/jaist-my-jupyter/notebook/nasa_data/test04.ipynb Cell 2'\u001b[0m in \u001b[0;36m<cell line: 5>\u001b[0;34m()\u001b[0m\n\u001b[1;32m      <a href='vscode-notebook-cell:/Users/s02435/ghq/github.com/nnao45/jaist-my-jupyter/notebook/nasa_data/test04.ipynb#ch0000001?line=4'>5</a>\u001b[0m \u001b[39mwith\u001b[39;00m \u001b[39mopen\u001b[39m(\u001b[39mf\u001b[39m\u001b[39m\"\u001b[39m\u001b[39m{\u001b[39;00mos\u001b[39m.\u001b[39mgetcwd()\u001b[39m}\u001b[39;00m\u001b[39m/NASA_access_log_Jul95.log\u001b[39m\u001b[39m\"\u001b[39m, mode\u001b[39m=\u001b[39m\u001b[39m'\u001b[39m\u001b[39mr\u001b[39m\u001b[39m'\u001b[39m) \u001b[39mas\u001b[39;00m f1:\n\u001b[1;32m      <a href='vscode-notebook-cell:/Users/s02435/ghq/github.com/nnao45/jaist-my-jupyter/notebook/nasa_data/test04.ipynb#ch0000001?line=5'>6</a>\u001b[0m     \u001b[39mwith\u001b[39;00m \u001b[39mopen\u001b[39m(\u001b[39mf\u001b[39m\u001b[39m\"\u001b[39m\u001b[39m{\u001b[39;00mos\u001b[39m.\u001b[39mgetcwd()\u001b[39m}\u001b[39;00m\u001b[39m/NASA_access_log_Aug95.log\u001b[39m\u001b[39m\"\u001b[39m, mode\u001b[39m=\u001b[39m\u001b[39m'\u001b[39m\u001b[39mr\u001b[39m\u001b[39m'\u001b[39m) \u001b[39mas\u001b[39;00m f2:\n\u001b[0;32m----> <a href='vscode-notebook-cell:/Users/s02435/ghq/github.com/nnao45/jaist-my-jupyter/notebook/nasa_data/test04.ipynb#ch0000001?line=6'>7</a>\u001b[0m         log_line_data \u001b[39m=\u001b[39m [line_parser(line) \u001b[39mfor\u001b[39;00m line \u001b[39min\u001b[39;00m f1\u001b[39m.\u001b[39mreadlines() \u001b[39m+\u001b[39m f2\u001b[39m.\u001b[39mreadlines()]\n",
      "\u001b[1;32m/Users/s02435/ghq/github.com/nnao45/jaist-my-jupyter/notebook/nasa_data/test04.ipynb Cell 2'\u001b[0m in \u001b[0;36m<listcomp>\u001b[0;34m(.0)\u001b[0m\n\u001b[1;32m      <a href='vscode-notebook-cell:/Users/s02435/ghq/github.com/nnao45/jaist-my-jupyter/notebook/nasa_data/test04.ipynb#ch0000001?line=4'>5</a>\u001b[0m \u001b[39mwith\u001b[39;00m \u001b[39mopen\u001b[39m(\u001b[39mf\u001b[39m\u001b[39m\"\u001b[39m\u001b[39m{\u001b[39;00mos\u001b[39m.\u001b[39mgetcwd()\u001b[39m}\u001b[39;00m\u001b[39m/NASA_access_log_Jul95.log\u001b[39m\u001b[39m\"\u001b[39m, mode\u001b[39m=\u001b[39m\u001b[39m'\u001b[39m\u001b[39mr\u001b[39m\u001b[39m'\u001b[39m) \u001b[39mas\u001b[39;00m f1:\n\u001b[1;32m      <a href='vscode-notebook-cell:/Users/s02435/ghq/github.com/nnao45/jaist-my-jupyter/notebook/nasa_data/test04.ipynb#ch0000001?line=5'>6</a>\u001b[0m     \u001b[39mwith\u001b[39;00m \u001b[39mopen\u001b[39m(\u001b[39mf\u001b[39m\u001b[39m\"\u001b[39m\u001b[39m{\u001b[39;00mos\u001b[39m.\u001b[39mgetcwd()\u001b[39m}\u001b[39;00m\u001b[39m/NASA_access_log_Aug95.log\u001b[39m\u001b[39m\"\u001b[39m, mode\u001b[39m=\u001b[39m\u001b[39m'\u001b[39m\u001b[39mr\u001b[39m\u001b[39m'\u001b[39m) \u001b[39mas\u001b[39;00m f2:\n\u001b[0;32m----> <a href='vscode-notebook-cell:/Users/s02435/ghq/github.com/nnao45/jaist-my-jupyter/notebook/nasa_data/test04.ipynb#ch0000001?line=6'>7</a>\u001b[0m         log_line_data \u001b[39m=\u001b[39m [line_parser(line) \u001b[39mfor\u001b[39;00m line \u001b[39min\u001b[39;00m f1\u001b[39m.\u001b[39mreadlines() \u001b[39m+\u001b[39m f2\u001b[39m.\u001b[39mreadlines()]\n",
      "File \u001b[0;32m~/ghq/github.com/nnao45/jaist-my-jupyter/.venv/lib/python3.9/site-packages/apache_log_parser/__init__.py:252\u001b[0m, in \u001b[0;36mParser.parse\u001b[0;34m(self, log_line)\u001b[0m\n\u001b[1;32m    <a href='file:///Users/s02435/ghq/github.com/nnao45/jaist-my-jupyter/.venv/lib/python3.9/site-packages/apache_log_parser/__init__.py?line=249'>250</a>\u001b[0m results \u001b[39m=\u001b[39m {}\n\u001b[1;32m    <a href='file:///Users/s02435/ghq/github.com/nnao45/jaist-my-jupyter/.venv/lib/python3.9/site-packages/apache_log_parser/__init__.py?line=250'>251</a>\u001b[0m \u001b[39mfor\u001b[39;00m name \u001b[39min\u001b[39;00m \u001b[39mself\u001b[39m\u001b[39m.\u001b[39mfunctions_to_parse:\n\u001b[0;32m--> <a href='file:///Users/s02435/ghq/github.com/nnao45/jaist-my-jupyter/.venv/lib/python3.9/site-packages/apache_log_parser/__init__.py?line=251'>252</a>\u001b[0m     values \u001b[39m=\u001b[39m {name: match\u001b[39m.\u001b[39;49mgroupdict()[name]}\n\u001b[1;32m    <a href='file:///Users/s02435/ghq/github.com/nnao45/jaist-my-jupyter/.venv/lib/python3.9/site-packages/apache_log_parser/__init__.py?line=252'>253</a>\u001b[0m     values \u001b[39m=\u001b[39m \u001b[39mself\u001b[39m\u001b[39m.\u001b[39mfunctions_to_parse[name](values)\n\u001b[1;32m    <a href='file:///Users/s02435/ghq/github.com/nnao45/jaist-my-jupyter/.venv/lib/python3.9/site-packages/apache_log_parser/__init__.py?line=253'>254</a>\u001b[0m     results\u001b[39m.\u001b[39mupdate(values)\n",
      "\u001b[0;31mKeyboardInterrupt\u001b[0m: "
     ]
    }
   ],
   "source": [
    "from typing import List\n",
    "\n",
    "log_line_data = None\n",
    "line_parser = apache_log_parser.make_parser(\"%h %l %u %t \\\"%r\\\" %>s %b\")\n",
    "with open(f\"{os.getcwd()}/NASA_access_log_Jul95.log\", mode='r') as f1:\n",
    "    with open(f\"{os.getcwd()}/NASA_access_log_Aug95.log\", mode='r') as f2:\n",
    "        log_line_data = [line_parser(line) for line in f1.readlines() + f2.readlines()]\n"
   ]
  },
  {
   "cell_type": "code",
   "execution_count": 5,
   "metadata": {},
   "outputs": [
    {
     "data": {
      "text/html": [
       "<div>\n",
       "<style scoped>\n",
       "    .dataframe tbody tr th:only-of-type {\n",
       "        vertical-align: middle;\n",
       "    }\n",
       "\n",
       "    .dataframe tbody tr th {\n",
       "        vertical-align: top;\n",
       "    }\n",
       "\n",
       "    .dataframe thead th {\n",
       "        text-align: right;\n",
       "    }\n",
       "</style>\n",
       "<table border=\"1\" class=\"dataframe\">\n",
       "  <thead>\n",
       "    <tr style=\"text-align: right;\">\n",
       "      <th></th>\n",
       "      <th>date</th>\n",
       "      <th>count</th>\n",
       "    </tr>\n",
       "  </thead>\n",
       "  <tbody>\n",
       "    <tr>\n",
       "      <th>0</th>\n",
       "      <td>1995-07-01 00:00:01</td>\n",
       "      <td>1</td>\n",
       "    </tr>\n",
       "    <tr>\n",
       "      <th>1</th>\n",
       "      <td>1995-07-01 00:00:06</td>\n",
       "      <td>1</td>\n",
       "    </tr>\n",
       "    <tr>\n",
       "      <th>2</th>\n",
       "      <td>1995-07-01 00:00:09</td>\n",
       "      <td>1</td>\n",
       "    </tr>\n",
       "    <tr>\n",
       "      <th>3</th>\n",
       "      <td>1995-07-01 00:00:11</td>\n",
       "      <td>1</td>\n",
       "    </tr>\n",
       "    <tr>\n",
       "      <th>4</th>\n",
       "      <td>1995-07-01 00:00:11</td>\n",
       "      <td>1</td>\n",
       "    </tr>\n",
       "    <tr>\n",
       "      <th>...</th>\n",
       "      <td>...</td>\n",
       "      <td>...</td>\n",
       "    </tr>\n",
       "    <tr>\n",
       "      <th>3461607</th>\n",
       "      <td>1995-08-31 23:59:49</td>\n",
       "      <td>1</td>\n",
       "    </tr>\n",
       "    <tr>\n",
       "      <th>3461608</th>\n",
       "      <td>1995-08-31 23:59:49</td>\n",
       "      <td>1</td>\n",
       "    </tr>\n",
       "    <tr>\n",
       "      <th>3461609</th>\n",
       "      <td>1995-08-31 23:59:52</td>\n",
       "      <td>1</td>\n",
       "    </tr>\n",
       "    <tr>\n",
       "      <th>3461610</th>\n",
       "      <td>1995-08-31 23:59:52</td>\n",
       "      <td>1</td>\n",
       "    </tr>\n",
       "    <tr>\n",
       "      <th>3461611</th>\n",
       "      <td>1995-08-31 23:59:53</td>\n",
       "      <td>1</td>\n",
       "    </tr>\n",
       "  </tbody>\n",
       "</table>\n",
       "<p>3461612 rows × 2 columns</p>\n",
       "</div>"
      ],
      "text/plain": [
       "                       date  count\n",
       "0       1995-07-01 00:00:01      1\n",
       "1       1995-07-01 00:00:06      1\n",
       "2       1995-07-01 00:00:09      1\n",
       "3       1995-07-01 00:00:11      1\n",
       "4       1995-07-01 00:00:11      1\n",
       "...                     ...    ...\n",
       "3461607 1995-08-31 23:59:49      1\n",
       "3461608 1995-08-31 23:59:49      1\n",
       "3461609 1995-08-31 23:59:52      1\n",
       "3461610 1995-08-31 23:59:52      1\n",
       "3461611 1995-08-31 23:59:53      1\n",
       "\n",
       "[3461612 rows x 2 columns]"
      ]
     },
     "execution_count": 5,
     "metadata": {},
     "output_type": "execute_result"
    }
   ],
   "source": [
    "df_log_line_data = pd.DataFrame([{\"date\": df_line[\"time_received_datetimeobj\"], \"count\": 1} for df_line in log_line_data])\n",
    "df_log_line_data"
   ]
  },
  {
   "cell_type": "code",
   "execution_count": 6,
   "metadata": {},
   "outputs": [
    {
     "data": {
      "text/plain": [
       "1785598"
      ]
     },
     "execution_count": 6,
     "metadata": {},
     "output_type": "execute_result"
    }
   ],
   "source": [
    "raw_df_S = df_log_line_data.groupby(pd.Grouper(key=\"date\", freq=\"6S\")).sum().reset_index()\n",
    "raw_df_S.size"
   ]
  },
  {
   "cell_type": "code",
   "execution_count": 14,
   "metadata": {},
   "outputs": [
    {
     "data": {
      "text/plain": [
       "50"
      ]
     },
     "execution_count": 14,
     "metadata": {},
     "output_type": "execute_result"
    }
   ],
   "source": [
    "df_S = raw_df_S[:25]\n",
    "df_S.size"
   ]
  },
  {
   "cell_type": "code",
   "execution_count": 43,
   "metadata": {},
   "outputs": [],
   "source": [
    "df_S_date = (pd.to_datetime(df_S[\"date\"]).astype(int) / 10**9).array.reshape(-1, 1)\n",
    "df_S_count = df_S[\"count\"].array.reshape(-1, 1)"
   ]
  },
  {
   "cell_type": "code",
   "execution_count": 15,
   "metadata": {},
   "outputs": [],
   "source": [
    "countSamp = EH.SampEn(df_S[\"count\"].to_numpy(), m = 4)"
   ]
  },
  {
   "cell_type": "code",
   "execution_count": 16,
   "metadata": {},
   "outputs": [
    {
     "data": {
      "text/plain": [
       "(array([2.52572864, 3.04452244,        inf,        nan,        nan]),\n",
       " array([24.,  1.,  0.,  0.,  0.]),\n",
       " array([300.,  21.,   1.,   0.,   0.]))"
      ]
     },
     "execution_count": 16,
     "metadata": {},
     "output_type": "execute_result"
    }
   ],
   "source": [
    "countSamp"
   ]
  },
  {
   "cell_type": "code",
   "execution_count": 17,
   "metadata": {},
   "outputs": [
    {
     "data": {
      "text/plain": [
       "[<matplotlib.lines.Line2D at 0x148af5b50>]"
      ]
     },
     "execution_count": 17,
     "metadata": {},
     "output_type": "execute_result"
    },
    {
     "data": {
      "image/png": "[encoded data removed]",
      "text/plain": [
       "<Figure size 432x288 with 1 Axes>"
      ]
     },
     "metadata": {
      "needs_background": "light"
     },
     "output_type": "display_data"
    }
   ],
   "source": [
    "plt.plot(df_S[\"count\"].to_numpy())"
   ]
  },
  {
   "cell_type": "code",
   "execution_count": 21,
   "metadata": {},
   "outputs": [
    {
     "data": {
      "text/plain": [
       "[<matplotlib.lines.Line2D at 0x148cbeaf0>]"
      ]
     },
     "execution_count": 21,
     "metadata": {},
     "output_type": "execute_result"
    },
    {
     "data": {
      "image/png": "[encoded data removed]",
      "text/plain": [
       "<Figure size 432x288 with 1 Axes>"
      ]
     },
     "metadata": {
      "needs_background": "light"
     },
     "output_type": "display_data"
    }
   ],
   "source": [
    "plt.plot(countSamp[0])\n",
    "plt.plot(countSamp[1])\n",
    "plt.plot(countSamp[2])\n"
   ]
  },
  {
   "cell_type": "code",
   "execution_count": 22,
   "metadata": {},
   "outputs": [],
   "source": [
    "ApSamp = EH.ApEn(df_S[\"count\"].to_numpy())"
   ]
  },
  {
   "cell_type": "code",
   "execution_count": 23,
   "metadata": {},
   "outputs": [
    {
     "data": {
      "text/plain": [
       "(array([2.34216092, 0.90688568, 0.01520265]),\n",
       " array([ 0.12875503, -2.21340588, -3.12029157, -3.13549422]))"
      ]
     },
     "execution_count": 23,
     "metadata": {},
     "output_type": "execute_result"
    }
   ],
   "source": [
    "ApSamp"
   ]
  },
  {
   "cell_type": "code",
   "execution_count": 8,
   "metadata": {},
   "outputs": [],
   "source": [
    "sample = [-0.5, -0.4, -0.3, -0.2, -0.1, 0, 0.1, 0.2, 0.3, 0.4, 0.5, 0.4, 0.3, 0.2, 0.1, 0, -0.1, -0.2, -0.3, -0.4, -0.5]\n",
    "ApSamp = EH.ApEn(sample, m=2, r=0.15)"
   ]
  },
  {
   "cell_type": "code",
   "execution_count": 27,
   "metadata": {},
   "outputs": [
    {
     "data": {
      "text/plain": [
       "(array([1.48672692, 0.32522467, 0.2215329 ]),\n",
       " array([ 0.14497726, -1.34174966, -1.66697433, -1.88850723]))"
      ]
     },
     "execution_count": 27,
     "metadata": {},
     "output_type": "execute_result"
    }
   ],
   "source": [
    "ApSamp"
   ]
  },
  {
   "cell_type": "code",
   "execution_count": 14,
   "metadata": {},
   "outputs": [],
   "source": [
    "def ApEn(U, m, r):\n",
    "\n",
    "    def _maxdist(x_i, x_j):\n",
    "        return max([abs(ua - va) for ua, va in zip(x_i, x_j)])\n",
    "\n",
    "    def _phi(m):\n",
    "        x = [[U[j] for j in range(i, i + m - 1 + 1)] for i in range(N - m + 1)]\n",
    "        C = [len([1 for x_j in x if _maxdist(x_i, x_j) <= r]) / (N - m + 1.0) for x_i in x]\n",
    "        return (N - m + 1.0)**(-1) * sum(np.log(C))\n",
    "\n",
    "    N = len(U)\n",
    "\n",
    "    return abs(_phi(m + 1) - _phi(m))"
   ]
  },
  {
   "cell_type": "code",
   "execution_count": 34,
   "metadata": {},
   "outputs": [
    {
     "data": {
      "text/plain": [
       "0.24831596141292178"
      ]
     },
     "execution_count": 34,
     "metadata": {},
     "output_type": "execute_result"
    }
   ],
   "source": [
    "ApEn(sample * 10, 2, 0.15)"
   ]
  },
  {
   "cell_type": "code",
   "execution_count": 5,
   "metadata": {},
   "outputs": [],
   "source": [
    "rand_sample = [np.random.uniform(low=-0.5, high=0.5) for _x in range(140)]"
   ]
  },
  {
   "cell_type": "code",
   "execution_count": 1,
   "metadata": {},
   "outputs": [
    {
     "ename": "NameError",
     "evalue": "name 'ApEn' is not defined",
     "output_type": "error",
     "traceback": [
      "\u001b[0;31m---------------------------------------------------------------------------\u001b[0m",
      "\u001b[0;31mNameError\u001b[0m                                 Traceback (most recent call last)",
      "\u001b[1;32m/Users/s02435/ghq/github.com/nnao45/jaist-my-jupyter/notebook/nasa_data/test04.ipynb Cell 18'\u001b[0m in \u001b[0;36m<cell line: 1>\u001b[0;34m()\u001b[0m\n\u001b[0;32m----> <a href='vscode-notebook-cell:/Users/s02435/ghq/github.com/nnao45/jaist-my-jupyter/notebook/nasa_data/test04.ipynb#ch0000017?line=0'>1</a>\u001b[0m ApEn(rand_sample, \u001b[39m2\u001b[39m, \u001b[39m0.15\u001b[39m)\n",
      "\u001b[0;31mNameError\u001b[0m: name 'ApEn' is not defined"
     ]
    }
   ],
   "source": [
    "ApEn(rand_sample, 2, 0.15)"
   ]
  },
  {
   "cell_type": "code",
   "execution_count": 13,
   "metadata": {},
   "outputs": [
    {
     "data": {
      "text/plain": [
       "(1.1335413484678138,\n",
       " {'Dimension': 2, 'Delay': 1, 'Corrected': False, 'Tolerance': 0.15})"
      ]
     },
     "execution_count": 13,
     "metadata": {},
     "output_type": "execute_result"
    }
   ],
   "source": [
    "\n",
    "import neurokit2 as nk\n",
    "nk.entropy_approximate(np.array(rand_sample), dimension=2, tolerance=0.15)"
   ]
  },
  {
   "cell_type": "code",
   "execution_count": 15,
   "metadata": {},
   "outputs": [
    {
     "data": {
      "text/plain": [
       "(0.24831596141292933,\n",
       " {'Dimension': 2, 'Delay': 1, 'Corrected': False, 'Tolerance': 0.15})"
      ]
     },
     "execution_count": 15,
     "metadata": {},
     "output_type": "execute_result"
    }
   ],
   "source": [
    "nk.entropy_approximate(np.array(sample * 10), dimension=2, tolerance=0.15)"
   ]
  },
  {
   "cell_type": "code",
   "execution_count": null,
   "metadata": {},
   "outputs": [],
   "source": []
  }
 ],
 "metadata": {
  "interpreter": {
   "hash": "ed3e3cd7eaae78a028302f8c60b23327bead7311331f61381685cdcdea648c8d"
  },
  "kernelspec": {
   "display_name": "Python 3.9.1 ('.venv': poetry)",
   "language": "python",
   "name": "python3"
  },
  "language_info": {
   "codemirror_mode": {
    "name": "ipython",
    "version": 3
   },
   "file_extension": ".py",
   "mimetype": "text/x-python",
   "name": "python",
   "nbconvert_exporter": "python",
   "pygments_lexer": "ipython3",
   "version": "3.9.1"
  },
  "orig_nbformat": 4
 },
 "nbformat": 4,
 "nbformat_minor": 2
}
