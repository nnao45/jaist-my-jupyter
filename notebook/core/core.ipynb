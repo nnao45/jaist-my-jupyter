{
 "cells": [
  {
   "cell_type": "code",
   "execution_count": 8,
   "metadata": {},
   "outputs": [],
   "source": [
    "%matplotlib inline\n",
    "import numpy as np\n",
    "import pandas as pd\n",
    "from sklearn.linear_model import Ridge, Lasso, ElasticNet\n",
    "from sklearn.metrics import mean_squared_error,r2_score\n",
    "from sklearn.model_selection import train_test_split, cross_val_score\n",
    "from sklearn import model_selection\n",
    "import matplotlib.pyplot as plt\n",
    "import matplotlib.cm as cm\n",
    "from sklearn.linear_model import LinearRegression, RidgeCV, LassoCV,ElasticNetCV\n",
    "from pyentrp import entropy as pyent\n",
    "import EntropyHub as EH\n",
    "import neurokit2 as nk\n",
    "import random\n",
    "import sampen\n",
    "import requests\n",
    "import io\n",
    "import apache_log_parser\n",
    "from pprint import pprint\n",
    "import os\n",
    "from sklearn import preprocessing\n",
    "import itertools\n",
    "import hurst\n",
    "import math\n",
    "from typing import List\n"
   ]
  },
  {
   "cell_type": "code",
   "execution_count": 18,
   "metadata": {},
   "outputs": [],
   "source": [
    "def compute_enet( x_train, y_train, alpha = 1.0, l1_ratio = 0.5) -> ElasticNet:\n",
    "    return ElasticNet(alpha=alpha, l1_ratio=l1_ratio).fit(x_train, y_train)"
   ]
  },
  {
   "cell_type": "code",
   "execution_count": 3,
   "metadata": {},
   "outputs": [],
   "source": [
    "def enet_loop(x, y, alpha = 1.0, l1_ratio = 0.5, batch_size = 9):\n",
    "    y_pred = pd.DataFrame([])\n",
    "    for index in range(int(x.size))[batch_size:]:\n",
    "        try:\n",
    "            x_train = x[index-batch_size:index]\n",
    "            y_train = y[index-batch_size:index]\n",
    "            x_test = x[index+1].reshape(-1, 1)\n",
    "            enet = compute_enet(x_train, y_train, alpha, l1_ratio)\n",
    "            target_y_pred = enet.predict(x_test)\n",
    "            y_pred = y_pred.append(pd.DataFrame(target_y_pred), ignore_index=True)\n",
    "        except Exception as e:\n",
    "            print(e)\n",
    "    return y_pred"
   ]
  },
  {
   "cell_type": "code",
   "execution_count": 7,
   "metadata": {},
   "outputs": [],
   "source": [
    "import numpy as np\n",
    "import pandas as pd\n",
    "from scipy.linalg import hankel\n",
    "from scipy.spatial.distance import pdist\n",
    "from typing import List\n",
    "import sys\n",
    "import math\n",
    "\n",
    "def disten(ser: List[float], m: int = 2, tau: int = 8 , B: int = 512) -> float:\n",
    "    \"\"\"\n",
    "    @param ser: time-series (vector in a column)\n",
    "    @param m: embedding dimension (scalar)\n",
    "    @param tau: time delay (scalar)\n",
    "    @param B: bin number for histogram (scalar)\n",
    "    \"\"\"\n",
    "\n",
    "    # rescaling\n",
    "    rescaled = [y / (max(ser) - min(ser) + sys.float_info.epsilon) for y in [x - min(ser) for x in ser]]\n",
    "\n",
    "    # distance matrix\n",
    "    N = len(rescaled) - (m - 1) * tau\n",
    "    if N < 0:\n",
    "        raise(f\"ser is too short: {len(ser)}\")\n",
    "    ind = hankel(np.arange(1, N+1), np.arange(N, len(rescaled)+1))\n",
    "    rnt = [[rescaled[z-1] for z in y] for y in [x[::tau] for x in ind]]\n",
    "    dv = pdist(rnt, 'chebychev')\n",
    "\n",
    "    # esimating probability density by histogram\n",
    "    num = pd.cut(dv, np.linspace(0, 1, B), include_lowest=True).value_counts().to_numpy()\n",
    "    freq = [x / num.sum() for x in num]\n",
    "\n",
    "    # disten calculation\n",
    "    prepared = [math.log2(y) for y in [x + sys.float_info.epsilon for x in freq]]\n",
    "    return -sum([x * y for (x, y) in zip(prepared, freq)]) / math.log2(B)"
   ]
  },
  {
   "cell_type": "code",
   "execution_count": 16,
   "metadata": {},
   "outputs": [],
   "source": [
    "def diffusen(ser: List[float], s: int) -> float:\n",
    "    '''\n",
    "    Diffusion Entropy\n",
    "    '''\n",
    "\n",
    "    window_lengths = np.arange(1, int(0.25*len(ser)), 1)\n",
    "    S = []\n",
    "    for L in tqdm(window_lengths):\n",
    "        window_starts = np.arange(0, len(ser)-L, 1)\n",
    "        window_ends = np.arange(L, len(ser), 1)\n",
    "        displacements = ser[window_starts] - ser[window_ends]\n",
    "        counts, bin_edge = np.histogram(displacements, bins='doane')\n",
    "        counts = np.array(counts[counts != 0])\n",
    "        binsize = bin_edge[1] - bin_edge[0]\n",
    "        P = counts / sum(counts)\n",
    "        S.append(-sum(P*np.log(P)) + np.log(binsize))\n",
    "    return S, window_lengths"
   ]
  },
  {
   "cell_type": "code",
   "execution_count": 10,
   "metadata": {},
   "outputs": [],
   "source": [
    "from tqdm import tqdm\n",
    "def no_stripe_entropy(trajectory):\n",
    "    \"\"\"\n",
    "    Calculates the Shannon Entropy of the diffusion trajectory.\n",
    "    Generates a range of window lengths L. Steps each one along \n",
    "    `trajectory` and computes the displacement of `trajectory` \n",
    "    over each window position. Bins these displacements, and divides \n",
    "    by the sum of all bins to make the probability distribution `p`. \n",
    "    Puts `p` into the equation for Shannon Entropy to get s(L).\n",
    "    Repeats for all L in range `WindowLengths`.\n",
    "    Parameters\n",
    "    ----------\n",
    "    trajectory : array_like\n",
    "        Diffusion trajectory. FOR NO STRIPES JUST PASS THE DATA SERIES.\n",
    "    Returns\n",
    "    ----------\n",
    "    S : ndarray\n",
    "        Shannon Entropy values, S(L).\n",
    "    window_lengths : ndarray\n",
    "        Window lengths, L.\n",
    "    Notes\n",
    "    ----------\n",
    "    `tqdm()` makes the progress bar appear.\n",
    "    \"\"\"\n",
    "    window_lengths = np.arange(1, int(0.25*len(trajectory)), 1)\n",
    "    S = []\n",
    "    for L in tqdm(window_lengths):\n",
    "        window_starts = np.arange(0, len(trajectory)-L, 1)\n",
    "        window_ends = np.arange(L, len(trajectory), 1)\n",
    "        displacements = trajectory[window_starts] - trajectory[window_ends]\n",
    "        counts, bin_edge = np.histogram(displacements, bins='doane')\n",
    "        counts = np.array(counts[counts != 0])\n",
    "        binsize = bin_edge[1] - bin_edge[0]\n",
    "        P = counts / sum(counts)\n",
    "        S.append(-sum(P*np.log(P)) + np.log(binsize))\n",
    "    return S, window_lengths"
   ]
  },
  {
   "cell_type": "code",
   "execution_count": 17,
   "metadata": {},
   "outputs": [],
   "source": [
    "### Range distance for RangeEn_B and RangeEn_A\n",
    "def dist_range(x, y):\n",
    "  return (np.max(np.abs(x - y), axis=1) - np.min(np.abs(x - y), axis=1)) / (np.max(np.abs(x - y), axis=1) + np.min(np.abs(x - y), axis=1))\n",
    "\n",
    "### RangeEn-A (mApEn)\n",
    "def RangeEn_A(x, emb_dim=2, tolerance=.2, dist=dist_range):\n",
    "\n",
    "    n = np.shape(x)\n",
    "    n = np.max(n)\n",
    "\n",
    "    tVecs = np.zeros((n - emb_dim, emb_dim + 1))\n",
    "    for i in range(tVecs.shape[0]):\n",
    "        tVecs[i, :] = x[i:i + tVecs.shape[1]]\n",
    "    counts = []\n",
    "    for m in [emb_dim, emb_dim + 1]:\n",
    "        # get the matrix that we need for the current m\n",
    "        tVecsM = tVecs[:n - m + 1, :m]\n",
    "        # successively calculate distances between each pair of template vectors\n",
    "        C = []\n",
    "        for i in range(len(tVecsM)):\n",
    "            dsts = dist(tVecsM, tVecsM[i])\n",
    "            # delete undefined distances coming from zero segments\n",
    "            # dsts = [x for i, x in enumerate(dsts) if not np.isnan(x) and not np.isinf(x)]\n",
    "            # count how many 'defined' distances are smaller than the tolerance\n",
    "            # if(dsts):\n",
    "            C.append((np.sum(dsts < tolerance)) / (n - m))\n",
    "        # compute sum of log probabilities\n",
    "        counts.append((np.sum(np.log(C))) / (n - m))\n",
    "\n",
    "    RangeEn_A = counts[0] - counts[1]\n",
    "\n",
    "    return RangeEn_A\n",
    "\n",
    "##### RangeEn-B (mSampEn)\n",
    "def RangeEn_B(x, emb_dim=2, tolerance=.2, dist=dist_range):\n",
    "\n",
    "    n = np.shape(x)\n",
    "    n = np.max(n)\n",
    "\n",
    "    tVecs = np.zeros((n - emb_dim, emb_dim + 1))\n",
    "    for i in range(tVecs.shape[0]):\n",
    "        tVecs[i, :] = x[i:i + tVecs.shape[1]]\n",
    "    counts = []\n",
    "    for m in [emb_dim, emb_dim + 1]:\n",
    "        counts.append(0)\n",
    "        # get the matrix that we need for the current m\n",
    "        tVecsM = tVecs[:n - m + 1, :m]\n",
    "        # successively calculate distances between each pair of template vectors\n",
    "        for i in range(len(tVecsM)):\n",
    "            dsts = dist(tVecsM, tVecsM[i])\n",
    "            # delete self-matching\n",
    "            dsts = np.delete(dsts, i, axis=0)\n",
    "            # delete undefined distances coming from zero segments\n",
    "            # dsts = [x for i, x in enumerate(dsts) if not np.isnan(x) and not np.isinf(x)]\n",
    "            # count how many 'defined' distances are smaller than the tolerance\n",
    "            # if (dsts):\n",
    "            counts[-1] += np.sum(dsts < tolerance)/(n - m - 1)\n",
    "\n",
    "    if counts[1] == 0:\n",
    "        # log would be infinite => cannot determine RangeEn_B\n",
    "        RangeEn_B = np.nan\n",
    "    else:\n",
    "        # compute log of summed probabilities\n",
    "        RangeEn_B = -np.log(1.0 * counts[1] / counts[0])\n",
    "\n",
    "    return RangeEn_B"
   ]
  },
  {
   "cell_type": "code",
   "execution_count": 15,
   "metadata": {},
   "outputs": [
    {
     "name": "stderr",
     "output_type": "stream",
     "text": [
      "100%|██████████| 249/249 [00:00<00:00, 3104.23it/s]\n"
     ]
    },
    {
     "data": {
      "text/plain": [
       "[<matplotlib.lines.Line2D at 0x13d0c0190>]"
      ]
     },
     "execution_count": 15,
     "metadata": {},
     "output_type": "execute_result"
    },
    {
     "data": {
      "image/png": "[encoded data removed]",
      "text/plain": [
       "<Figure size 432x288 with 1 Axes>"
      ]
     },
     "metadata": {
      "needs_background": "light"
     },
     "output_type": "display_data"
    }
   ],
   "source": [
    "data = np.random.rand(1000)\n",
    "result, length = no_stripe_entropy(data)\n",
    "plt.plot(data)\n",
    "plt.plot(result)"
   ]
  },
  {
   "cell_type": "code",
   "execution_count": 12,
   "metadata": {},
   "outputs": [],
   "source": [
    "def disten_loop(ser: List[float], batch_size = 300) -> List[float]:\n",
    "    return [disten(ser[index:index+batch_size]) for index in range(len(ser[batch_size:]))]"
   ]
  },
  {
   "cell_type": "code",
   "execution_count": 17,
   "metadata": {},
   "outputs": [],
   "source": [
    "def blocken(ser, trunk_size) -> List[float]:\n",
    "    past = 0.\n",
    "    results = []\n",
    "    for y in ser:\n",
    "        current_ceiled = math.ceil(y / trunk_size)\n",
    "        past_ceiled = math.ceil(past / trunk_size)\n",
    "        if current_ceiled == past_ceiled-1 | current_ceiled == past_ceiled+1:\n",
    "            current_ceiled = past_ceiled\n",
    "        current_result = current_ceiled * trunk_size\n",
    "        results = results + [current_result]\n",
    "        past = current_result\n",
    "    return results"
   ]
  },
  {
   "cell_type": "code",
   "execution_count": 9,
   "metadata": {},
   "outputs": [],
   "source": [
    "def sampen_loop(ser: List[float], batch_size = 300) -> List[float]:\n",
    "    return [nk.entropy_sample(np.array(ser[index-batch_size:index]))[0] for index in range(len(ser))[batch_size:]]"
   ]
  },
  {
   "cell_type": "code",
   "execution_count": 18,
   "metadata": {},
   "outputs": [],
   "source": [
    "def rangenb_loop(ser: List[float], batch_size = 300) -> List[float]:\n",
    "    return [RangeEn_B(np.array(ser[index-batch_size:index])) for index in range(len(ser))[batch_size:]]"
   ]
  },
  {
   "cell_type": "code",
   "execution_count": 6,
   "metadata": {},
   "outputs": [],
   "source": [
    "def df_to_list(df: pd.DataFrame)-> np.ndarray:\n",
    "    return np.array(list(itertools.chain.from_iterable(df.to_numpy())))"
   ]
  },
  {
   "cell_type": "code",
   "execution_count": 20,
   "metadata": {},
   "outputs": [
    {
     "data": {
      "text/plain": [
       "[<matplotlib.lines.Line2D at 0x13d1e1580>]"
      ]
     },
     "execution_count": 20,
     "metadata": {},
     "output_type": "execute_result"
    },
    {
     "data": {
      "image/png": "[encoded data removed]",
      "text/plain": [
       "<Figure size 432x288 with 1 Axes>"
      ]
     },
     "metadata": {
      "needs_background": "light"
     },
     "output_type": "display_data"
    }
   ],
   "source": [
    "plt.plot([100] * 60 + [90] * 60 + [300] * 60 + [2000] * 60 + [200] * 60)"
   ]
  },
  {
   "cell_type": "code",
   "execution_count": 21,
   "metadata": {},
   "outputs": [
    {
     "name": "stderr",
     "output_type": "stream",
     "text": [
      "/var/folders/qt/nt_r7qy14vj848kplz4kvgxmz_q9b0/T/ipykernel_92801/832245642.py:3: RuntimeWarning: invalid value encountered in true_divide\n",
      "  return (np.max(np.abs(x - y), axis=1) - np.min(np.abs(x - y), axis=1)) / (np.max(np.abs(x - y), axis=1) + np.min(np.abs(x - y), axis=1))\n"
     ]
    },
    {
     "data": {
      "text/plain": [
       "0.015328106560907374"
      ]
     },
     "execution_count": 21,
     "metadata": {},
     "output_type": "execute_result"
    }
   ],
   "source": [
    "RangeEn_B([100] * 60 + [90] * 60 + [300] * 60 + [2000] * 60 + [200] * 60)"
   ]
  },
  {
   "cell_type": "code",
   "execution_count": 22,
   "metadata": {},
   "outputs": [
    {
     "data": {
      "text/plain": [
       "[<matplotlib.lines.Line2D at 0x13d253040>]"
      ]
     },
     "execution_count": 22,
     "metadata": {},
     "output_type": "execute_result"
    },
    {
     "data": {
      "image/png": "[encoded data removed]",
      "text/plain": [
       "<Figure size 432x288 with 1 Axes>"
      ]
     },
     "metadata": {
      "needs_background": "light"
     },
     "output_type": "display_data"
    }
   ],
   "source": [
    "plt.plot([100] * 60 + [90] * 60 + [98] * 60 + [90] * 60 + [100] * 60)"
   ]
  },
  {
   "cell_type": "code",
   "execution_count": 23,
   "metadata": {},
   "outputs": [
    {
     "name": "stderr",
     "output_type": "stream",
     "text": [
      "/var/folders/qt/nt_r7qy14vj848kplz4kvgxmz_q9b0/T/ipykernel_92801/832245642.py:3: RuntimeWarning: invalid value encountered in true_divide\n",
      "  return (np.max(np.abs(x - y), axis=1) - np.min(np.abs(x - y), axis=1)) / (np.max(np.abs(x - y), axis=1) + np.min(np.abs(x - y), axis=1))\n"
     ]
    },
    {
     "data": {
      "text/plain": [
       "0.024287289339524787"
      ]
     },
     "execution_count": 23,
     "metadata": {},
     "output_type": "execute_result"
    }
   ],
   "source": [
    "RangeEn_B([100] * 60 + [90] * 60 + [98] * 60 + [90] * 60 + [100] * 60)"
   ]
  },
  {
   "cell_type": "code",
   "execution_count": null,
   "metadata": {},
   "outputs": [],
   "source": []
  }
 ],
 "metadata": {
  "interpreter": {
   "hash": "ed3e3cd7eaae78a028302f8c60b23327bead7311331f61381685cdcdea648c8d"
  },
  "kernelspec": {
   "display_name": "Python 3.9.1 ('.venv': poetry)",
   "language": "python",
   "name": "python3"
  },
  "language_info": {
   "codemirror_mode": {
    "name": "ipython",
    "version": 3
   },
   "file_extension": ".py",
   "mimetype": "text/x-python",
   "name": "python",
   "nbconvert_exporter": "python",
   "pygments_lexer": "ipython3",
   "version": "3.9.1"
  },
  "orig_nbformat": 4
 },
 "nbformat": 4,
 "nbformat_minor": 2
}
