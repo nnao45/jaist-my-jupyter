{
 "cells": [
  {
   "cell_type": "markdown",
   "metadata": {},
   "source": [
    "# Jaist実験環境構築"
   ]
  },
  {
   "cell_type": "markdown",
   "metadata": {},
   "source": [
    "## Gatling編\n",
    "```s\n",
    "$ yum update -y\n",
    "$ yum install -y java-11-openjdk \n",
    "$ wget https://repo1.maven.org/maven2/io/gatling/highcharts/gatling-charts-highcharts-bundle/3.3.0/gatling-charts-highcharts-bundle-3.3.0-bundle.zip\n",
    "```\n",
    "\n",
    "### シミュレーションファイル\n",
    "```s\n",
    "\n",
    "   \n",
    "package testing.ramp2const\n",
    "\n",
    "import java.util.UUID.randomUUID\n",
    "import io.gatling.core.Predef._\n",
    "import io.gatling.core.structure.ScenarioBuilder\n",
    "import io.gatling.http.Predef._\n",
    "\n",
    "class GetRampToConstSimulation extends Simulation {\n",
    "\n",
    "  private val USERS = java.lang.Double.valueOf(sys.env.getOrElse(\"USERS\", \"50\"))\n",
    "  private val RAMP_DURATION = java.lang.Integer.valueOf(sys.env.getOrElse(\"RAMP_DURATION\", \"10\"))\n",
    "  private val CONST_DURATION = java.lang.Integer.valueOf(sys.env.getOrElse(\"CONST_DURATION\", \"10\"))\n",
    "  private val ENDPOINT = sys.env.getOrElse(\"ENDPOINT\", \"\")\n",
    "  private val HTTP_PATH = sys.env.getOrElse(\"HTTP_PATH\", \"/\")\n",
    "\n",
    "  private val scn: ScenarioBuilder = scenario(\"Load Testing\")\n",
    "      .exec(\n",
    "        http(\"initiation\")\n",
    "          .get(ENDPOINT + HTTP_PATH)\n",
    "          .check(status.is(200))\n",
    "      )\n",
    "      .pause(1)\n",
    "\n",
    "  setUp(scn.inject(\n",
    "      rampUsersPerSec(1) to (USERS) during (RAMP_DURATION seconds),\n",
    "      constantUsersPerSec(USERS) during(CONST_DURATION seconds),\n",
    "      rampUsersPerSec(USERS) to (1) during (RAMP_DURATION seconds)\n",
    "  )\n",
    "    .protocols(http\n",
    "      .acceptHeader(\"text/html,application/json,application/xhtml+xml,application/xml;q=0.9,*/*;q=0.8\")\n",
    "    )\n",
    "  )\n",
    "}\n",
    "```"
   ]
  },
  {
   "cell_type": "markdown",
   "metadata": {},
   "source": [
    "## Nginx編\n",
    "```s\n",
    "$ yum update -y\n",
    "$ cat << 'EOT' >> /etc/yum.repos.d/nginx.repo\n",
    "[nginx-stable]\n",
    "name=nginx stable repo\n",
    "baseurl=http://nginx.org/packages/centos/$releasever/$basearch/\n",
    "gpgcheck=1\n",
    "enabled=1\n",
    "gpgkey=https://nginx.org/keys/nginx_signing.key\n",
    "module_hotfixes=true\n",
    "EOT\n",
    "$ yum install nginx -y\n",
    "\n",
    "```\n",
    "\n"
   ]
  }
 ],
 "metadata": {
  "language_info": {
   "name": "python"
  },
  "orig_nbformat": 4
 },
 "nbformat": 4,
 "nbformat_minor": 2
}
