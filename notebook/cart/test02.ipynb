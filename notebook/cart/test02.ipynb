{
 "cells": [
  {
   "cell_type": "code",
   "execution_count": 1,
   "outputs": [
    {
     "data": {
      "text/plain": "array([0.5])"
     },
     "execution_count": 1,
     "metadata": {},
     "output_type": "execute_result"
    }
   ],
   "source": [
    "from sklearn import tree\n",
    "X = [[0, 0], [2, 2]]\n",
    "y = [0.5, 2.5]\n",
    "clf = tree.DecisionTreeRegressor()\n",
    "clf = clf.fit(X, y)\n",
    "clf.predict([[1, 1]])"
   ],
   "metadata": {
    "collapsed": false,
    "pycharm": {
     "name": "#%%\n"
    }
   }
  },
  {
   "cell_type": "code",
   "execution_count": 33,
   "outputs": [
    {
     "data": {
      "text/plain": "array([5.])"
     },
     "execution_count": 33,
     "metadata": {},
     "output_type": "execute_result"
    }
   ],
   "source": [
    "from sklearn import tree\n",
    "CPU_THRESHOLD = 180\n",
    "X = ([  [60, CPU_THRESHOLD - 1], [60, CPU_THRESHOLD],\n",
    "        [100, CPU_THRESHOLD - 1], [100, CPU_THRESHOLD],\n",
    "        [140, CPU_THRESHOLD - 1], [140, CPU_THRESHOLD],\n",
    "        [175, CPU_THRESHOLD - 1], [175, CPU_THRESHOLD],\n",
    "        [210, CPU_THRESHOLD -1], [210, CPU_THRESHOLD],\n",
    "        [255, CPU_THRESHOLD -1], [255, CPU_THRESHOLD],\n",
    "        [300, CPU_THRESHOLD -1], [300, CPU_THRESHOLD],\n",
    "        [330, CPU_THRESHOLD -1], [330, CPU_THRESHOLD],\n",
    "        [360, CPU_THRESHOLD -1], [360, CPU_THRESHOLD],\n",
    "        [390, CPU_THRESHOLD -1], [390, CPU_THRESHOLD],\n",
    "        [420, CPU_THRESHOLD -1], [420, CPU_THRESHOLD],\n",
    "        [460, CPU_THRESHOLD -1], [460, CPU_THRESHOLD],\n",
    "        [500, CPU_THRESHOLD -1], [500, CPU_THRESHOLD],\n",
    "        [540, CPU_THRESHOLD -1], [540, CPU_THRESHOLD],\n",
    "        [580, CPU_THRESHOLD -1], [580, CPU_THRESHOLD],\n",
    "        [610, CPU_THRESHOLD -1], [610, CPU_THRESHOLD],\n",
    "        [640, CPU_THRESHOLD-1], [640, CPU_THRESHOLD],\n",
    "        [670, CPU_THRESHOLD-1], [670, CPU_THRESHOLD],\n",
    "        [700, CPU_THRESHOLD-1], [700, CPU_THRESHOLD],\n",
    "        [730, CPU_THRESHOLD-1], [730, CPU_THRESHOLD],\n",
    "        [760, CPU_THRESHOLD-1], [760, CPU_THRESHOLD],\n",
    "        [790, CPU_THRESHOLD-1], [790, CPU_THRESHOLD],\n",
    "        [820, CPU_THRESHOLD-1], [820, CPU_THRESHOLD],\n",
    "        [850, CPU_THRESHOLD-1], [850, CPU_THRESHOLD],\n",
    "        [880, CPU_THRESHOLD-1], [880, CPU_THRESHOLD]])\n",
    "y = ([  4, 5,\n",
    "        5, 6,\n",
    "        6, 7,\n",
    "        7, 8,\n",
    "        8, 9,\n",
    "        9, 10,\n",
    "        10, 11,\n",
    "        11, 12,\n",
    "        12, 13,\n",
    "        13, 14,\n",
    "        14, 15,\n",
    "        15, 16,\n",
    "        16, 17,\n",
    "        17, 18,\n",
    "        18, 19,\n",
    "        19, 20,\n",
    "        20, 21,\n",
    "        21, 22,\n",
    "        22, 23,\n",
    "        23, 24,\n",
    "        24, 25,\n",
    "        25, 26,\n",
    "        26, 27,\n",
    "        27, 28,\n",
    "        28, 29])\n",
    "clf = tree.DecisionTreeRegressor()\n",
    "clf = clf.fit(X, y)\n",
    "\n",
    "clf.predict([[110, 170]])"
   ],
   "metadata": {
    "collapsed": false,
    "pycharm": {
     "name": "#%%\n"
    }
   }
  },
  {
   "cell_type": "code",
   "execution_count": 34,
   "outputs": [
    {
     "data": {
      "text/plain": "5.0"
     },
     "execution_count": 34,
     "metadata": {},
     "output_type": "execute_result"
    }
   ],
   "source": [
    "clf.predict([[110, 170]])[0]"
   ],
   "metadata": {
    "collapsed": false,
    "pycharm": {
     "name": "#%%\n"
    }
   }
  },
  {
   "cell_type": "code",
   "execution_count": null,
   "outputs": [],
   "source": [],
   "metadata": {
    "collapsed": false,
    "pycharm": {
     "name": "#%%\n"
    }
   }
  }
 ],
 "metadata": {
  "kernelspec": {
   "display_name": "Python 3",
   "language": "python",
   "name": "python3"
  },
  "language_info": {
   "codemirror_mode": {
    "name": "ipython",
    "version": 2
   },
   "file_extension": ".py",
   "mimetype": "text/x-python",
   "name": "python",
   "nbconvert_exporter": "python",
   "pygments_lexer": "ipython2",
   "version": "2.7.6"
  }
 },
 "nbformat": 4,
 "nbformat_minor": 0
}