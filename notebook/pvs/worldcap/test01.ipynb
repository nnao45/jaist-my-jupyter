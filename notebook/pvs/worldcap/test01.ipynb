{
 "cells": [
  {
   "cell_type": "code",
   "execution_count": 1,
   "outputs": [],
   "source": [
    "%matplotlib inline\n",
    "import numpy as np\n",
    "import pandas as pd\n",
    "from sklearn.linear_model import Ridge, Lasso, ElasticNet\n",
    "from sklearn.metrics import mean_squared_error,r2_score\n",
    "from sklearn.model_selection import train_test_split, cross_val_score\n",
    "from sklearn import model_selection\n",
    "import matplotlib.pyplot as plt\n",
    "from sklearn.linear_model import LinearRegression, RidgeCV, LassoCV,ElasticNetCV\n",
    "from pyentrp import entropy as pyent\n",
    "import EntropyHub as EH\n",
    "import neurokit2 as nk\n",
    "import random\n",
    "import sampen\n",
    "import requests\n",
    "import io\n",
    "import apache_log_parser\n",
    "from pprint import pprint\n",
    "import os\n",
    "from sklearn import preprocessing\n",
    "from typing import List\n",
    "import itertools"
   ],
   "metadata": {
    "collapsed": false,
    "pycharm": {
     "name": "#%%\n"
    }
   }
  },
  {
   "cell_type": "code",
   "execution_count": 7,
   "outputs": [],
   "source": [
    "from datetime import datetime\n",
    "\n",
    "\n",
    "def log2csv(prefix: str):\n",
    "    log_line_data = []\n",
    "    with open(f\"{os.getcwd()}/{prefix}.log\", mode='r', encoding=\"utf8\", errors='ignore') as f1:\n",
    "        log_line_data = np.array([line for line in f1.readlines()])\n",
    "    replaced = pd.DataFrame([{\"date\": datetime.strptime(line.split()[3]+\" \"+line.split()[4],  \"[%d/%b/%Y:%H:%M:%S +0000]\"), \"count\": 1} for line in log_line_data])\n",
    "    replaced.groupby(pd.Grouper(key=\"date\", freq=\"S\")).sum().reset_index().to_csv(f\"{prefix}.csv\")"
   ],
   "metadata": {
    "collapsed": false,
    "pycharm": {
     "name": "#%%\n"
    }
   }
  },
  {
   "cell_type": "code",
   "execution_count": 8,
   "outputs": [],
   "source": [
    "log2csv(\"wc_day37_1\")"
   ],
   "metadata": {
    "collapsed": false,
    "pycharm": {
     "name": "#%%\n"
    }
   }
  },
  {
   "cell_type": "code",
   "execution_count": 9,
   "outputs": [],
   "source": [
    "log2csv(\"wc_day38_1\")\n",
    "log2csv(\"wc_day38_2\")\n",
    "log2csv(\"wc_day39_1\")\n",
    "log2csv(\"wc_day39_2\")\n",
    "log2csv(\"wc_day40_1\")\n",
    "log2csv(\"wc_day40_2\")\n",
    "log2csv(\"wc_day41_1\")\n",
    "log2csv(\"wc_day41_2\")"
   ],
   "metadata": {
    "collapsed": false,
    "pycharm": {
     "name": "#%%\n"
    }
   }
  },
  {
   "cell_type": "code",
   "execution_count": 11,
   "outputs": [],
   "source": [
    "df_wc_day37_1 = pd.read_csv(f\"wc_day37_1.csv\")\n",
    "df_wc_day38_1 = pd.read_csv(f\"wc_day38_1.csv\")\n",
    "df_wc_day38_2 = pd.read_csv(f\"wc_day38_2.csv\")\n",
    "df_wc_day39_1 = pd.read_csv(f\"wc_day39_1.csv\")\n",
    "df_wc_day39_2 = pd.read_csv(f\"wc_day39_2.csv\")\n",
    "df_wc_day40_1 = pd.read_csv(f\"wc_day40_1.csv\")\n",
    "df_wc_day40_2 = pd.read_csv(f\"wc_day40_2.csv\")\n",
    "df_wc_day41_1 = pd.read_csv(f\"wc_day41_1.csv\")\n",
    "df_wc_day41_2 = pd.read_csv(f\"wc_day41_2.csv\")"
   ],
   "metadata": {
    "collapsed": false,
    "pycharm": {
     "name": "#%%\n"
    }
   }
  },
  {
   "cell_type": "code",
   "execution_count": 12,
   "outputs": [],
   "source": [
    "df = pd.concat([\n",
    "    df_wc_day37_1,\n",
    "    df_wc_day38_1,\n",
    "    df_wc_day38_2,\n",
    "    df_wc_day39_1,\n",
    "    df_wc_day39_2,\n",
    "    df_wc_day40_1,\n",
    "    df_wc_day40_2,\n",
    "    df_wc_day41_1,\n",
    "    df_wc_day41_2\n",
    "    ])"
   ],
   "metadata": {
    "collapsed": false,
    "pycharm": {
     "name": "#%%\n"
    }
   }
  },
  {
   "cell_type": "code",
   "execution_count": 18,
   "outputs": [],
   "source": [
    "df['date'] = pd.to_datetime(df['date'])"
   ],
   "metadata": {
    "collapsed": false,
    "pycharm": {
     "name": "#%%\n"
    }
   }
  },
  {
   "cell_type": "code",
   "execution_count": 27,
   "outputs": [],
   "source": [
    "df_group_by = df.groupby(pd.Grouper(key=\"date\", freq=\"H\")).sum().reset_index()"
   ],
   "metadata": {
    "collapsed": false,
    "pycharm": {
     "name": "#%%\n"
    }
   }
  },
  {
   "cell_type": "code",
   "execution_count": 30,
   "outputs": [
    {
     "data": {
      "text/plain": "                   date  Unnamed: 0   count\n0   1998-05-31 22:00:00     6474601  143429\n1   1998-05-31 23:00:00    19434600  132025\n2   1998-06-01 00:00:00    32394600  138813\n3   1998-06-01 01:00:00    45354600  137930\n4   1998-06-01 02:00:00    58314600  157811\n..                  ...         ...     ...\n116 1998-06-05 18:00:00   257974008  388191\n117 1998-06-05 19:00:00     6849000  380351\n118 1998-06-05 20:00:00    19809000  373371\n119 1998-06-05 21:00:00    32769000  328183\n120 1998-06-05 22:00:00       10903      25\n\n[121 rows x 3 columns]",
      "text/html": "<div>\n<style scoped>\n    .dataframe tbody tr th:only-of-type {\n        vertical-align: middle;\n    }\n\n    .dataframe tbody tr th {\n        vertical-align: top;\n    }\n\n    .dataframe thead th {\n        text-align: right;\n    }\n</style>\n<table border=\"1\" class=\"dataframe\">\n  <thead>\n    <tr style=\"text-align: right;\">\n      <th></th>\n      <th>date</th>\n      <th>Unnamed: 0</th>\n      <th>count</th>\n    </tr>\n  </thead>\n  <tbody>\n    <tr>\n      <th>0</th>\n      <td>1998-05-31 22:00:00</td>\n      <td>6474601</td>\n      <td>143429</td>\n    </tr>\n    <tr>\n      <th>1</th>\n      <td>1998-05-31 23:00:00</td>\n      <td>19434600</td>\n      <td>132025</td>\n    </tr>\n    <tr>\n      <th>2</th>\n      <td>1998-06-01 00:00:00</td>\n      <td>32394600</td>\n      <td>138813</td>\n    </tr>\n    <tr>\n      <th>3</th>\n      <td>1998-06-01 01:00:00</td>\n      <td>45354600</td>\n      <td>137930</td>\n    </tr>\n    <tr>\n      <th>4</th>\n      <td>1998-06-01 02:00:00</td>\n      <td>58314600</td>\n      <td>157811</td>\n    </tr>\n    <tr>\n      <th>...</th>\n      <td>...</td>\n      <td>...</td>\n      <td>...</td>\n    </tr>\n    <tr>\n      <th>116</th>\n      <td>1998-06-05 18:00:00</td>\n      <td>257974008</td>\n      <td>388191</td>\n    </tr>\n    <tr>\n      <th>117</th>\n      <td>1998-06-05 19:00:00</td>\n      <td>6849000</td>\n      <td>380351</td>\n    </tr>\n    <tr>\n      <th>118</th>\n      <td>1998-06-05 20:00:00</td>\n      <td>19809000</td>\n      <td>373371</td>\n    </tr>\n    <tr>\n      <th>119</th>\n      <td>1998-06-05 21:00:00</td>\n      <td>32769000</td>\n      <td>328183</td>\n    </tr>\n    <tr>\n      <th>120</th>\n      <td>1998-06-05 22:00:00</td>\n      <td>10903</td>\n      <td>25</td>\n    </tr>\n  </tbody>\n</table>\n<p>121 rows × 3 columns</p>\n</div>"
     },
     "execution_count": 30,
     "metadata": {},
     "output_type": "execute_result"
    }
   ],
   "source": [
    "df_group_by"
   ],
   "metadata": {
    "collapsed": false,
    "pycharm": {
     "name": "#%%\n"
    }
   }
  },
  {
   "cell_type": "code",
   "execution_count": 28,
   "outputs": [
    {
     "data": {
      "text/plain": "[<matplotlib.lines.Line2D at 0x11f7174c0>]"
     },
     "execution_count": 28,
     "metadata": {},
     "output_type": "execute_result"
    },
    {
     "data": {
      "text/plain": "<Figure size 640x480 with 1 Axes>",
      "image/png": "[encoded data removed]"
     },
     "metadata": {},
     "output_type": "display_data"
    }
   ],
   "source": [
    "plt.plot(df_group_by[\"date\"], df_group_by[\"count\"])"
   ],
   "metadata": {
    "collapsed": false,
    "pycharm": {
     "name": "#%%\n"
    }
   }
  },
  {
   "cell_type": "code",
   "execution_count": null,
   "outputs": [],
   "source": [],
   "metadata": {
    "collapsed": false,
    "pycharm": {
     "name": "#%%\n"
    }
   }
  }
 ],
 "metadata": {
  "kernelspec": {
   "display_name": "Python 3",
   "language": "python",
   "name": "python3"
  },
  "language_info": {
   "codemirror_mode": {
    "name": "ipython",
    "version": 2
   },
   "file_extension": ".py",
   "mimetype": "text/x-python",
   "name": "python",
   "nbconvert_exporter": "python",
   "pygments_lexer": "ipython2",
   "version": "2.7.6"
  }
 },
 "nbformat": 4,
 "nbformat_minor": 0
}