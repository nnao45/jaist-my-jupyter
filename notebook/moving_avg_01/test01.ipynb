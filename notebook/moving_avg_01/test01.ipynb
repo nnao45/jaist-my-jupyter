{
 "cells": [
  {
   "cell_type": "code",
   "execution_count": 3,
   "metadata": {
    "pycharm": {
     "name": "#%%\n"
    }
   },
   "outputs": [
    {
     "data": {
      "text/html": [
       "<div>\n",
       "<style scoped>\n",
       "    .dataframe tbody tr th:only-of-type {\n",
       "        vertical-align: middle;\n",
       "    }\n",
       "\n",
       "    .dataframe tbody tr th {\n",
       "        vertical-align: top;\n",
       "    }\n",
       "\n",
       "    .dataframe thead th {\n",
       "        text-align: right;\n",
       "    }\n",
       "</style>\n",
       "<table border=\"1\" class=\"dataframe\">\n",
       "  <thead>\n",
       "    <tr style=\"text-align: right;\">\n",
       "      <th></th>\n",
       "      <th>Unnamed: 0</th>\n",
       "      <th>米ドル</th>\n",
       "      <th>英ポンド</th>\n",
       "      <th>ユーロ</th>\n",
       "      <th>カナダドル</th>\n",
       "      <th>スイスフラン</th>\n",
       "      <th>スウェーデンクローネ</th>\n",
       "      <th>デンマーククローネ</th>\n",
       "      <th>ノルウェークローネ</th>\n",
       "      <th>オーストラリアドル</th>\n",
       "      <th>...</th>\n",
       "      <th>チェココロナ</th>\n",
       "      <th>ポーランドズロチ</th>\n",
       "      <th>ロシアルーブル</th>\n",
       "      <th>トルコリラ</th>\n",
       "      <th>Unnamed: 32</th>\n",
       "      <th>インドネシアルピア.1</th>\n",
       "      <th>中国人民元.1</th>\n",
       "      <th>マレーシアリンギ.1</th>\n",
       "      <th>韓国ウォン.1</th>\n",
       "      <th>台湾ドル</th>\n",
       "    </tr>\n",
       "  </thead>\n",
       "  <tbody>\n",
       "    <tr>\n",
       "      <th>0</th>\n",
       "      <td>NaN</td>\n",
       "      <td>USD</td>\n",
       "      <td>GBP</td>\n",
       "      <td>EUR</td>\n",
       "      <td>CAD</td>\n",
       "      <td>CHF</td>\n",
       "      <td>SEK</td>\n",
       "      <td>DKK</td>\n",
       "      <td>NOK</td>\n",
       "      <td>AUD</td>\n",
       "      <td>...</td>\n",
       "      <td>CZK</td>\n",
       "      <td>PLN</td>\n",
       "      <td>RUB</td>\n",
       "      <td>TRY</td>\n",
       "      <td>NaN</td>\n",
       "      <td>IDR(100)</td>\n",
       "      <td>CNY</td>\n",
       "      <td>MYR</td>\n",
       "      <td>KRW(100)</td>\n",
       "      <td>TWD</td>\n",
       "    </tr>\n",
       "    <tr>\n",
       "      <th>1</th>\n",
       "      <td>2022/3/1</td>\n",
       "      <td>115.28</td>\n",
       "      <td>154.73</td>\n",
       "      <td>129.26</td>\n",
       "      <td>90.95</td>\n",
       "      <td>125.58</td>\n",
       "      <td>12.18</td>\n",
       "      <td>17.38</td>\n",
       "      <td>13.11</td>\n",
       "      <td>83.64</td>\n",
       "      <td>...</td>\n",
       "      <td>5.14</td>\n",
       "      <td>27.46</td>\n",
       "      <td>1.04</td>\n",
       "      <td>8.5</td>\n",
       "      <td>NaN</td>\n",
       "      <td>0.8</td>\n",
       "      <td>*****</td>\n",
       "      <td>27.5</td>\n",
       "      <td>9.6</td>\n",
       "      <td>4.12</td>\n",
       "    </tr>\n",
       "    <tr>\n",
       "      <th>2</th>\n",
       "      <td>2022/3/2</td>\n",
       "      <td>115.02</td>\n",
       "      <td>153.31</td>\n",
       "      <td>127.96</td>\n",
       "      <td>90.34</td>\n",
       "      <td>125.16</td>\n",
       "      <td>11.92</td>\n",
       "      <td>17.21</td>\n",
       "      <td>12.98</td>\n",
       "      <td>83.54</td>\n",
       "      <td>...</td>\n",
       "      <td>5.04</td>\n",
       "      <td>26.96</td>\n",
       "      <td>1.07</td>\n",
       "      <td>8.27</td>\n",
       "      <td>NaN</td>\n",
       "      <td>0.8</td>\n",
       "      <td>*****</td>\n",
       "      <td>27.42</td>\n",
       "      <td>9.54</td>\n",
       "      <td>4.1</td>\n",
       "    </tr>\n",
       "    <tr>\n",
       "      <th>3</th>\n",
       "      <td>2022/3/3</td>\n",
       "      <td>115.63</td>\n",
       "      <td>154.76</td>\n",
       "      <td>128.38</td>\n",
       "      <td>91.44</td>\n",
       "      <td>125.53</td>\n",
       "      <td>11.93</td>\n",
       "      <td>17.26</td>\n",
       "      <td>13.05</td>\n",
       "      <td>84.25</td>\n",
       "      <td>...</td>\n",
       "      <td>5.03</td>\n",
       "      <td>27.0</td>\n",
       "      <td>1.18</td>\n",
       "      <td>8.24</td>\n",
       "      <td>NaN</td>\n",
       "      <td>0.8</td>\n",
       "      <td>*****</td>\n",
       "      <td>27.6</td>\n",
       "      <td>9.61</td>\n",
       "      <td>4.13</td>\n",
       "    </tr>\n",
       "    <tr>\n",
       "      <th>4</th>\n",
       "      <td>2022/3/4</td>\n",
       "      <td>115.42</td>\n",
       "      <td>153.79</td>\n",
       "      <td>127.12</td>\n",
       "      <td>90.83</td>\n",
       "      <td>125.57</td>\n",
       "      <td>11.78</td>\n",
       "      <td>17.09</td>\n",
       "      <td>12.89</td>\n",
       "      <td>84.34</td>\n",
       "      <td>...</td>\n",
       "      <td>4.93</td>\n",
       "      <td>26.29</td>\n",
       "      <td>1.03</td>\n",
       "      <td>8.17</td>\n",
       "      <td>NaN</td>\n",
       "      <td>0.8</td>\n",
       "      <td>*****</td>\n",
       "      <td>27.56</td>\n",
       "      <td>9.52</td>\n",
       "      <td>4.11</td>\n",
       "    </tr>\n",
       "    <tr>\n",
       "      <th>5</th>\n",
       "      <td>2022/3/7</td>\n",
       "      <td>115.02</td>\n",
       "      <td>151.93</td>\n",
       "      <td>125.02</td>\n",
       "      <td>90.31</td>\n",
       "      <td>125.02</td>\n",
       "      <td>11.57</td>\n",
       "      <td>16.8</td>\n",
       "      <td>12.79</td>\n",
       "      <td>85.02</td>\n",
       "      <td>...</td>\n",
       "      <td>4.86</td>\n",
       "      <td>25.33</td>\n",
       "      <td>1.02</td>\n",
       "      <td>8.01</td>\n",
       "      <td>NaN</td>\n",
       "      <td>0.8</td>\n",
       "      <td>*****</td>\n",
       "      <td>27.54</td>\n",
       "      <td>9.4</td>\n",
       "      <td>4.09</td>\n",
       "    </tr>\n",
       "    <tr>\n",
       "      <th>6</th>\n",
       "      <td>2022/3/8</td>\n",
       "      <td>115.49</td>\n",
       "      <td>151.36</td>\n",
       "      <td>125.28</td>\n",
       "      <td>90.12</td>\n",
       "      <td>124.71</td>\n",
       "      <td>11.56</td>\n",
       "      <td>16.84</td>\n",
       "      <td>12.74</td>\n",
       "      <td>84.6</td>\n",
       "      <td>...</td>\n",
       "      <td>4.87</td>\n",
       "      <td>25.21</td>\n",
       "      <td>0.95</td>\n",
       "      <td>8.02</td>\n",
       "      <td>NaN</td>\n",
       "      <td>0.8</td>\n",
       "      <td>*****</td>\n",
       "      <td>27.62</td>\n",
       "      <td>9.35</td>\n",
       "      <td>4.08</td>\n",
       "    </tr>\n",
       "    <tr>\n",
       "      <th>7</th>\n",
       "      <td>2022/3/9</td>\n",
       "      <td>115.89</td>\n",
       "      <td>151.93</td>\n",
       "      <td>126.41</td>\n",
       "      <td>90.01</td>\n",
       "      <td>124.65</td>\n",
       "      <td>11.67</td>\n",
       "      <td>16.98</td>\n",
       "      <td>12.91</td>\n",
       "      <td>84.34</td>\n",
       "      <td>...</td>\n",
       "      <td>4.95</td>\n",
       "      <td>25.9</td>\n",
       "      <td>0.95</td>\n",
       "      <td>7.98</td>\n",
       "      <td>NaN</td>\n",
       "      <td>0.81</td>\n",
       "      <td>*****</td>\n",
       "      <td>27.7</td>\n",
       "      <td>9.39</td>\n",
       "      <td>4.09</td>\n",
       "    </tr>\n",
       "    <tr>\n",
       "      <th>8</th>\n",
       "      <td>2022/3/10</td>\n",
       "      <td>116.01</td>\n",
       "      <td>152.85</td>\n",
       "      <td>128.26</td>\n",
       "      <td>90.55</td>\n",
       "      <td>125.06</td>\n",
       "      <td>11.97</td>\n",
       "      <td>17.23</td>\n",
       "      <td>13.0</td>\n",
       "      <td>84.8</td>\n",
       "      <td>...</td>\n",
       "      <td>5.09</td>\n",
       "      <td>26.92</td>\n",
       "      <td>0.81</td>\n",
       "      <td>7.91</td>\n",
       "      <td>NaN</td>\n",
       "      <td>0.81</td>\n",
       "      <td>*****</td>\n",
       "      <td>27.73</td>\n",
       "      <td>9.45</td>\n",
       "      <td>4.09</td>\n",
       "    </tr>\n",
       "    <tr>\n",
       "      <th>9</th>\n",
       "      <td>2022/3/11</td>\n",
       "      <td>116.32</td>\n",
       "      <td>152.29</td>\n",
       "      <td>127.99</td>\n",
       "      <td>91.11</td>\n",
       "      <td>125.08</td>\n",
       "      <td>12.01</td>\n",
       "      <td>17.2</td>\n",
       "      <td>13.02</td>\n",
       "      <td>85.5</td>\n",
       "      <td>...</td>\n",
       "      <td>5.1</td>\n",
       "      <td>26.81</td>\n",
       "      <td>0.88</td>\n",
       "      <td>7.86</td>\n",
       "      <td>NaN</td>\n",
       "      <td>0.81</td>\n",
       "      <td>*****</td>\n",
       "      <td>27.78</td>\n",
       "      <td>9.45</td>\n",
       "      <td>4.1</td>\n",
       "    </tr>\n",
       "  </tbody>\n",
       "</table>\n",
       "<p>10 rows × 38 columns</p>\n",
       "</div>"
      ],
      "text/plain": [
       "  Unnamed: 0     米ドル    英ポンド     ユーロ  カナダドル  スイスフラン スウェーデンクローネ デンマーククローネ  \\\n",
       "0        NaN     USD     GBP     EUR    CAD     CHF        SEK       DKK   \n",
       "1   2022/3/1  115.28  154.73  129.26  90.95  125.58      12.18     17.38   \n",
       "2   2022/3/2  115.02  153.31  127.96  90.34  125.16      11.92     17.21   \n",
       "3   2022/3/3  115.63  154.76  128.38  91.44  125.53      11.93     17.26   \n",
       "4   2022/3/4  115.42  153.79  127.12  90.83  125.57      11.78     17.09   \n",
       "5   2022/3/7  115.02  151.93  125.02  90.31  125.02      11.57      16.8   \n",
       "6   2022/3/8  115.49  151.36  125.28  90.12  124.71      11.56     16.84   \n",
       "7   2022/3/9  115.89  151.93  126.41  90.01  124.65      11.67     16.98   \n",
       "8  2022/3/10  116.01  152.85  128.26  90.55  125.06      11.97     17.23   \n",
       "9  2022/3/11  116.32  152.29  127.99  91.11  125.08      12.01      17.2   \n",
       "\n",
       "  ノルウェークローネ オーストラリアドル  ... チェココロナ ポーランドズロチ ロシアルーブル トルコリラ Unnamed: 32  \\\n",
       "0       NOK       AUD  ...    CZK      PLN     RUB   TRY         NaN   \n",
       "1     13.11     83.64  ...   5.14    27.46    1.04   8.5         NaN   \n",
       "2     12.98     83.54  ...   5.04    26.96    1.07  8.27         NaN   \n",
       "3     13.05     84.25  ...   5.03     27.0    1.18  8.24         NaN   \n",
       "4     12.89     84.34  ...   4.93    26.29    1.03  8.17         NaN   \n",
       "5     12.79     85.02  ...   4.86    25.33    1.02  8.01         NaN   \n",
       "6     12.74      84.6  ...   4.87    25.21    0.95  8.02         NaN   \n",
       "7     12.91     84.34  ...   4.95     25.9    0.95  7.98         NaN   \n",
       "8      13.0      84.8  ...   5.09    26.92    0.81  7.91         NaN   \n",
       "9     13.02      85.5  ...    5.1    26.81    0.88  7.86         NaN   \n",
       "\n",
       "  インドネシアルピア.1 中国人民元.1 マレーシアリンギ.1   韓国ウォン.1  台湾ドル  \n",
       "0    IDR(100)     CNY        MYR  KRW(100)   TWD  \n",
       "1         0.8   *****       27.5       9.6  4.12  \n",
       "2         0.8   *****      27.42      9.54   4.1  \n",
       "3         0.8   *****       27.6      9.61  4.13  \n",
       "4         0.8   *****      27.56      9.52  4.11  \n",
       "5         0.8   *****      27.54       9.4  4.09  \n",
       "6         0.8   *****      27.62      9.35  4.08  \n",
       "7        0.81   *****       27.7      9.39  4.09  \n",
       "8        0.81   *****      27.73      9.45  4.09  \n",
       "9        0.81   *****      27.78      9.45   4.1  \n",
       "\n",
       "[10 rows x 38 columns]"
      ]
     },
     "execution_count": 3,
     "metadata": {},
     "output_type": "execute_result"
    }
   ],
   "source": [
    "import pandas as pd\n",
    "\n",
    "df_historical = pd.read_csv('./tm_quote_utf8.csv')\n",
    "df_historical"
   ]
  },
  {
   "cell_type": "code",
   "execution_count": 4,
   "metadata": {
    "pycharm": {
     "name": "#%%\n"
    }
   },
   "outputs": [],
   "source": [
    "df_all_historical = pd.read_csv('./quote_utf8.csv')\n"
   ]
  },
  {
   "cell_type": "code",
   "execution_count": 5,
   "metadata": {
    "pycharm": {
     "name": "#%%\n"
    }
   },
   "outputs": [
    {
     "data": {
      "text/plain": [
       "<AxesSubplot:>"
      ]
     },
     "execution_count": 5,
     "metadata": {},
     "output_type": "execute_result"
    },
    {
     "data": {
      "image/png": "[encoded data removed]",
      "text/plain": [
       "<Figure size 432x288 with 1 Axes>"
      ]
     },
     "metadata": {
      "needs_background": "light"
     },
     "output_type": "display_data"
    }
   ],
   "source": [
    "%matplotlib inline\n",
    "import matplotlib.pyplot as plt\n",
    "df_all_historical.USD.plot()"
   ]
  },
  {
   "cell_type": "code",
   "execution_count": 6,
   "metadata": {
    "pycharm": {
     "name": "#%%\n"
    }
   },
   "outputs": [
    {
     "data": {
      "text/plain": [
       "<AxesSubplot:>"
      ]
     },
     "execution_count": 6,
     "metadata": {},
     "output_type": "execute_result"
    },
    {
     "data": {
      "image/png": "[encoded data removed]",
      "text/plain": [
       "<Figure size 432x288 with 1 Axes>"
      ]
     },
     "metadata": {
      "needs_background": "light"
     },
     "output_type": "display_data"
    }
   ],
   "source": [
    "df_all_historical.USD.rolling(24).mean().plot()"
   ]
  },
  {
   "cell_type": "code",
   "execution_count": 14,
   "metadata": {
    "pycharm": {
     "name": "#%%\n"
    }
   },
   "outputs": [
    {
     "data": {
      "image/png": "[encoded data removed]",
      "text/plain": [
       "<Figure size 432x288 with 1 Axes>"
      ]
     },
     "metadata": {
      "needs_background": "light"
     },
     "output_type": "display_data"
    }
   ],
   "source": [
    "fig, ax = plt.subplots()\n",
    "ax.grid()\n",
    "\n",
    "df_all_historical = pd.read_csv('./quote_utf8.csv')\n",
    "\n",
    "\n",
    "ax.plot(df_all_historical.USD)\n",
    "ax.plot(df_all_historical.USD.rolling(24).mean())\n",
    "fig.tight_layout()"
   ]
  }
 ],
 "metadata": {
  "interpreter": {
   "hash": "17b1948767991edc6de737cb0442a5e60a91bead38350676a983563acaee0574"
  },
  "kernelspec": {
   "display_name": "Python 3.9.1 64-bit ('3.9.1')",
   "language": "python",
   "name": "python3"
  },
  "language_info": {
   "codemirror_mode": {
    "name": "ipython",
    "version": 3
   },
   "file_extension": ".py",
   "mimetype": "text/x-python",
   "name": "python",
   "nbconvert_exporter": "python",
   "pygments_lexer": "ipython3",
   "version": "3.9.1"
  },
  "orig_nbformat": 4
 },
 "nbformat": 4,
 "nbformat_minor": 2
}